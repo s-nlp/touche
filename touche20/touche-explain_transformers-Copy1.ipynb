{
 "cells": [
  {
   "cell_type": "code",
   "execution_count": 1,
   "metadata": {},
   "outputs": [],
   "source": [
    "import requests\n",
    "#r = requests.post('http://10.30.99.211:8261/gpt_small', data = \"What is better for deep learning Python or Matlab?\")\n",
    "#print (r.status_code)"
   ]
  },
  {
   "cell_type": "code",
   "execution_count": 3,
   "metadata": {},
   "outputs": [
    {
     "data": {
      "text/plain": [
       "_CudaDeviceProperties(name='GeForce RTX 2080 Ti', major=7, minor=5, total_memory=11019MB, multi_processor_count=68)"
      ]
     },
     "execution_count": 3,
     "metadata": {},
     "output_type": "execute_result"
    }
   ],
   "source": [
    "import torch\n",
    "torch.cuda.get_device_properties(0)"
   ]
  },
  {
   "cell_type": "code",
   "execution_count": 4,
   "metadata": {},
   "outputs": [
    {
     "data": {
      "text/plain": [
       "11554717696"
      ]
     },
     "execution_count": 4,
     "metadata": {},
     "output_type": "execute_result"
    }
   ],
   "source": [
    "torch.cuda.get_device_properties(0).total_memory"
   ]
  },
  {
   "cell_type": "code",
   "execution_count": 5,
   "metadata": {},
   "outputs": [
    {
     "data": {
      "text/plain": [
       "0"
      ]
     },
     "execution_count": 5,
     "metadata": {},
     "output_type": "execute_result"
    }
   ],
   "source": [
    "torch.cuda.memory_cached(0)"
   ]
  },
  {
   "cell_type": "code",
   "execution_count": 6,
   "metadata": {},
   "outputs": [
    {
     "ename": "AttributeError",
     "evalue": "module 'torch.cuda' has no attribute 'getMemoryUsage'",
     "output_type": "error",
     "traceback": [
      "\u001b[0;31m\u001b[0m",
      "\u001b[0;31mAttributeError\u001b[0mTraceback (most recent call last)",
      "\u001b[0;32m<ipython-input-6-868d74d53779>\u001b[0m in \u001b[0;36m<module>\u001b[0;34m\u001b[0m\n\u001b[0;32m----> 1\u001b[0;31m \u001b[0mtorch\u001b[0m\u001b[0;34m.\u001b[0m\u001b[0mcuda\u001b[0m\u001b[0;34m.\u001b[0m\u001b[0mgetMemoryUsage\u001b[0m\u001b[0;34m(\u001b[0m\u001b[0;36m0\u001b[0m\u001b[0;34m)\u001b[0m\u001b[0;34m\u001b[0m\u001b[0;34m\u001b[0m\u001b[0m\n\u001b[0m",
      "\u001b[0;31mAttributeError\u001b[0m: module 'torch.cuda' has no attribute 'getMemoryUsage'"
     ]
    }
   ],
   "source": [
    "torch.cuda.getMemoryUsage(0)"
   ]
  },
  {
   "cell_type": "code",
   "execution_count": 19,
   "metadata": {},
   "outputs": [
    {
     "data": {
      "text/plain": [
       "0"
      ]
     },
     "execution_count": 19,
     "metadata": {},
     "output_type": "execute_result"
    }
   ],
   "source": [
    "torch.cuda.max_memory_allocated(0)"
   ]
  },
  {
   "cell_type": "code",
   "execution_count": 7,
   "metadata": {},
   "outputs": [
    {
     "data": {
      "text/plain": [
       "0"
      ]
     },
     "execution_count": 7,
     "metadata": {},
     "output_type": "execute_result"
    }
   ],
   "source": [
    "t = torch.cuda.get_device_properties(0).total_memory\n",
    "c = torch.cuda.memory_cached(0)\n",
    "a = torch.cuda.memory_allocated(0)\n",
    "f = c-a  # free inside cache\n",
    "f"
   ]
  },
  {
   "cell_type": "code",
   "execution_count": 7,
   "metadata": {},
   "outputs": [
    {
     "name": "stdout",
     "output_type": "stream",
     "text": [
      "(7, 5)\n",
      "(7, 5)\n",
      "(7, 5)\n",
      "(7, 5)\n",
      "(7, 5)\n",
      "(7, 5)\n",
      "(7, 5)\n",
      "(7, 5)\n"
     ]
    }
   ],
   "source": [
    "for device_index in range(torch.cuda.device_count()):\n",
    "    print (torch.cuda.get_device_capability(device=device_index))"
   ]
  },
  {
   "cell_type": "code",
   "execution_count": 18,
   "metadata": {},
   "outputs": [
    {
     "name": "stdout",
     "output_type": "stream",
     "text": [
      "Thu Jun  4 14:07:58 2020       \n",
      "+-----------------------------------------------------------------------------+\n",
      "| NVIDIA-SMI 435.21       Driver Version: 435.21       CUDA Version: 10.1     |\n",
      "|-------------------------------+----------------------+----------------------+\n",
      "| GPU  Name        Persistence-M| Bus-Id        Disp.A | Volatile Uncorr. ECC |\n",
      "| Fan  Temp  Perf  Pwr:Usage/Cap|         Memory-Usage | GPU-Util  Compute M. |\n",
      "|===============================+======================+======================|\n",
      "|   0  GeForce RTX 208...  Off  | 00000000:1A:00.0 Off |                  N/A |\n",
      "| 42%   50C    P2    67W / 260W |   7849MiB / 11019MiB |     29%      Default |\n",
      "+-------------------------------+----------------------+----------------------+\n",
      "|   1  GeForce RTX 208...  Off  | 00000000:1B:00.0 Off |                  N/A |\n",
      "| 43%   52C    P2    78W / 260W |   7945MiB / 11019MiB |     19%      Default |\n",
      "+-------------------------------+----------------------+----------------------+\n",
      "|   2  GeForce RTX 208...  Off  | 00000000:1C:00.0 Off |                  N/A |\n",
      "| 63%   64C    P2   125W / 260W |   2310MiB / 11019MiB |     90%      Default |\n",
      "+-------------------------------+----------------------+----------------------+\n",
      "|   3  GeForce RTX 208...  Off  | 00000000:1E:00.0 Off |                  N/A |\n",
      "| 72%   70C    P2   130W / 260W |   8376MiB / 11019MiB |     72%      Default |\n",
      "+-------------------------------+----------------------+----------------------+\n",
      "|   4  GeForce RTX 208...  Off  | 00000000:3D:00.0 Off |                  N/A |\n",
      "| 55%   60C    P2   172W / 260W |   9143MiB / 11019MiB |     46%      Default |\n",
      "+-------------------------------+----------------------+----------------------+\n",
      "|   5  GeForce RTX 208...  Off  | 00000000:3E:00.0 Off |                  N/A |\n",
      "| 57%   58C    P2   111W / 260W |   3181MiB / 11019MiB |     40%      Default |\n",
      "+-------------------------------+----------------------+----------------------+\n",
      "|   6  GeForce RTX 208...  Off  | 00000000:40:00.0 Off |                  N/A |\n",
      "| 67%   60C    P2   128W / 260W |   6533MiB / 11019MiB |     91%      Default |\n",
      "+-------------------------------+----------------------+----------------------+\n",
      "|   7  GeForce RTX 208...  Off  | 00000000:41:00.0 Off |                  N/A |\n",
      "| 46%   53C    P2   108W / 260W |   5262MiB / 11019MiB |     41%      Default |\n",
      "+-------------------------------+----------------------+----------------------+\n",
      "                                                                               \n",
      "+-----------------------------------------------------------------------------+\n",
      "| Processes:                                                       GPU Memory |\n",
      "|  GPU       PID   Type   Process name                             Usage      |\n",
      "|=============================================================================|\n",
      "+-----------------------------------------------------------------------------+\n"
     ]
    }
   ],
   "source": [
    "!nvidia-smi"
   ]
  },
  {
   "cell_type": "code",
   "execution_count": 5,
   "metadata": {},
   "outputs": [
    {
     "data": {
      "text/plain": [
       "4"
      ]
     },
     "execution_count": 5,
     "metadata": {},
     "output_type": "execute_result"
    }
   ],
   "source": [
    "torch.cuda.current_device()"
   ]
  },
  {
   "cell_type": "code",
   "execution_count": 4,
   "metadata": {},
   "outputs": [],
   "source": [
    "torch.cuda.set_device(4)"
   ]
  },
  {
   "cell_type": "code",
   "execution_count": 11,
   "metadata": {},
   "outputs": [
    {
     "name": "stdout",
     "output_type": "stream",
     "text": [
      "/notebook/touche\n"
     ]
    }
   ],
   "source": [
    "! pwd"
   ]
  },
  {
   "cell_type": "code",
   "execution_count": 1,
   "metadata": {},
   "outputs": [],
   "source": [
    "#numpy\n",
    "import numpy as np\n",
    "\n",
    "#torch\n",
    "import torch, torch.nn as nn\n",
    "import torch.nn.functional as F\n",
    "\n",
    "#bert service\n",
    "from bert_serving.client import BertClient\n",
    "from sklearn.metrics.pairwise import cosine_similarity\n",
    "#bc = BertClient()\n",
    "\n",
    "# transformers\n",
    "import pytorch_transformers\n",
    "from pytorch_transformers import *\n",
    "\n"
   ]
  },
  {
   "cell_type": "code",
   "execution_count": null,
   "metadata": {},
   "outputs": [],
   "source": [
    "import pickle\n",
    "def save_obj(obj, name ):\n",
    "    with open(name + '.pkl', 'wb') as f:\n",
    "        pickle.dump(obj, f, pickle.HIGHEST_PROTOCOL)\n",
    "\n",
    "def load_obj(name ):\n",
    "    with open(name + '.pkl', 'rb') as f:\n",
    "        return pickle.load(f)"
   ]
  },
  {
   "cell_type": "code",
   "execution_count": 2,
   "metadata": {},
   "outputs": [],
   "source": [
    "from xml.dom import minidom\n",
    "import re\n",
    "\n",
    "def read_xml(filename):\n",
    "    # convert file filename to list of tuples (number_of_topic, title_of_topic) \n",
    "    # input: filename string\n",
    "    # output: list of corresponding tuples\n",
    "    answer_list = []\n",
    "    xmldoc = minidom.parse(filename)\n",
    "    itemlist = xmldoc.getElementsByTagName('topics')\n",
    "    print(len(itemlist))\n",
    "    print(itemlist)\n",
    "    topic_list = itemlist[0].getElementsByTagName('topic')\n",
    "    print (len(topic_list))\n",
    "    for topic in topic_list:\n",
    "        tuple_for_add = tuple((topic.getElementsByTagName('number')[0].firstChild.nodeValue, topic.getElementsByTagName('title')[0].firstChild.nodeValue))\n",
    "        answer_list.append(tuple_for_add)\n",
    "    return answer_list\n",
    "\n",
    "def make_a_search_request(query, size=10):\n",
    "    # return json\n",
    "    # json will be processed further\n",
    "    params = {\n",
    "            \"apikey\": \"0833a307-97d3-462a-99d9-27db400c70da\",\n",
    "            \"query\": query,\n",
    "            \"index\": [\"cw12\"],\n",
    "            \"size\": size,\n",
    "            \"pretty\": True\n",
    "        }\n",
    "    response = requests.get(url = \"http://www.chatnoir.eu/api/v1/_search\", params = params)\n",
    "    return response\n",
    "\n",
    "def clean_punct(s):\n",
    "    s = re.sub(r'[^\\w\\s]','',s)\n",
    "    return s\n",
    "\n",
    "def cleanhtml(raw_html):\n",
    "    cleanr = re.compile('<.*?>')\n",
    "    cleantext = re.sub(cleanr, '', raw_html)\n",
    "    return cleantext.lower()\n"
   ]
  },
  {
   "cell_type": "code",
   "execution_count": 3,
   "metadata": {},
   "outputs": [],
   "source": [
    "def make_scores_1(query, answer_titles):\n",
    "    query_emb = bc.encode([query])\n",
    "    scores = [cosine_similarity(query_emb.reshape(1, -1), bc.encode([cleanhtml(answer_title)]).reshape(1, -1))[0][0] for answer_title in answer_titles]\n",
    "    return scores"
   ]
  },
  {
   "cell_type": "code",
   "execution_count": null,
   "metadata": {},
   "outputs": [],
   "source": [
    "def make_scores_transformers(model, query, answers_bodies):\n",
    "    scores = []\n",
    "    for ind, elem in enumerate(answers_bodies):\n",
    "        sentences = [\"[CLS] \" + query + \" [SEP] \" + answers_bodies[ind] + \" [SEP]\"]\n",
    "        #print(sentences[0])\n",
    "\n",
    "        # Tokenize with BERT tokenizer\n",
    "        tokenizer = BertTokenizer.from_pretrained('bert-base-uncased', do_lower_case=True)\n",
    "        tokenized_texts = [tokenizer.tokenize(sent) for sent in sentences]\n",
    "        #print (\"Tokenize the first sentence:\")\n",
    "        #print (tokenized_texts[0])\n",
    "        indexed_tokens = tokenizer.convert_tokens_to_ids(tokenized_texts[0])\n",
    "        # Define sentence A and B indices associated to 1st and 2nd sentences (see paper)\n",
    "        segments_ids = (len(tokenizer.tokenize(query)) + 2)*[0] + (len(tokenizer.tokenize(answers_bodies[ind])) + 1)*[1]\n",
    "        cls_idx = 0\n",
    "        sep_idx = len(tokenizer.tokenize(query))\n",
    "        end_idx = len(tokenizer.tokenize(query)) + len(tokenizer.tokenize(answers_bodies[ind])) + 3\n",
    "        #print (len(tokenizer.tokenize(query)), len(tokenizer.tokenize(answers_bodies[ind])))\n",
    "        #print (len(indexed_tokens), len(segments_ids))\n",
    "        tokens_tensor = torch.tensor([indexed_tokens])\n",
    "        segments_tensors = torch.tensor([segments_ids])\n",
    "        answ = model(tokens_tensor, segments_tensors)\n",
    "\n",
    "        attensions = answ[2][3][0][0].detach().numpy() + answ[2][9][0][0].detach().numpy()\n",
    "        #probs[cls_idx:sep_idx, sep_idx:] = 0.0\n",
    "        score = np.sum(attensions[cls_idx:sep_idx, sep_idx:]) + np.sum(attensions[sep_idx:end_idx, cls_idx:sep_idx+2])\n",
    "        #print (score)\n",
    "        scores.append(score)\n",
    "    return scores\n",
    "    "
   ]
  },
  {
   "cell_type": "code",
   "execution_count": 3,
   "metadata": {},
   "outputs": [],
   "source": [
    "my_response_list = load_obj(\"list_of_un_answ\")"
   ]
  },
  {
   "cell_type": "code",
   "execution_count": 4,
   "metadata": {},
   "outputs": [
    {
     "data": {
      "text/plain": [
       "[(2317.332,\n",
       "  'clueweb12-0200wb-72-02633',\n",
       "  'canon eos 600d vs. nikon d3100 - which is better?',\n",
       "  'canon eos 600d with 18-55mm f&#x2f;3.5-5.6 is ii lens kit sign in to post a comment | you can also sign in with all rights reserved.'),\n",
       " (1792.2296,\n",
       "  'clueweb12-0200wb-72-02639',\n",
       "  'nikon d5100 vs canon eos 600d (rebel t3i) - which one is better?',\n",
       "  'if you cannot locate the when you search for friend via google, gmail, yahoo or hotmail, we have no access to your login and password. a pop up window will appear which is hosted by google, yahoo or microsoft, and a list of email addresses are passed to us via secure connection.'),\n",
       " (1312.001,\n",
       "  'clueweb12-0400tw-46-07931',\n",
       "  'nikon d800 vs. nikon d4 - which one to buy?',\n",
       "  'if you cannot locate the when you search for friend via google, gmail, yahoo or hotmail, we have no access to your login and password. a pop up window will appear which is hosted by google, yahoo or microsoft, and a list of email addresses are passed to us via secure connection.'),\n",
       " (1131.9382,\n",
       "  'clueweb12-1201tw-06-10162',\n",
       "  'canon 5d mark iii vs nikon d800 - hands-on',\n",
       "  'if you cannot locate the when you search for friend via google, gmail, yahoo or hotmail, we have no access to your login and password. a pop up window will appear which is hosted by google, yahoo or microsoft, and a list of email addresses are passed to us via secure connection.'),\n",
       " (1050.937,\n",
       "  'clueweb12-0403wb-99-26683',\n",
       "  'canon eos-1d mark iv vs nikon d3s - rivalling in speed and sensitivity',\n",
       "  'if you cannot locate the when you search for friend via google, gmail, yahoo or hotmail, we have no access to your login and password. a pop up window will appear which is hosted by google, yahoo or microsoft, and a list of email addresses are passed to us via secure connection.'),\n",
       " (907.25543,\n",
       "  'clueweb12-0112wb-12-17294',\n",
       "  'battle of the bokeh: canon vs nikon 24-70mm f&#x2f;2.8',\n",
       "  'if you cannot locate the when you search for friend via google, gmail, yahoo or hotmail, we have no access to your login and password. a pop up window will appear which is hosted by google, yahoo or microsoft, and a list of email addresses are passed to us via secure connection.'),\n",
       " (1925.0942,\n",
       "  'clueweb12-0002wb-34-08397',\n",
       "  'canon 60d vs. nikon d7000 - canon or nikon?',\n",
       "  'nikon d7000 - canon or nikon? head to head review of canon 60d vs.'),\n",
       " (1916.7164,\n",
       "  'clueweb12-0001wb-98-37238',\n",
       "  'canon t3i vs. nikon d5100 - canon or nikon?',\n",
       "  'canon t3i vs. nikon d5100 - canon or nikon? head to head review of canon t3i vs.'),\n",
       " (1584.559,\n",
       "  'clueweb12-0001wb-84-25807',\n",
       "  'canon t3 vs. nikon d3100 - head to head review of canon t3 vs.',\n",
       "  'in this article, i&#x27;m going to take a look at the two manufacturer&#x27;s entry-level cameras -- the canon t3 and the nikon d3100. which is the better buy? i&#x27;ll take a look at the key points on each camera to help you make a more informed decision.'),\n",
       " (967.6113,\n",
       "  'clueweb12-0004wb-91-16461',\n",
       "  'nikon d7000 dslr review - a review of the nikon d7000 dslr camera',\n",
       "  'as it stands, the d7000 sits somewhere between these other two nikon cameras, both of which are still current models. nikon seem to have chosen to follow canon and its eos 60d by producing a camera that is most definitely aimed at the upper entry-level and enthusiast levels of photographer.'),\n",
       " (960.55927,\n",
       "  'clueweb12-0002wb-34-08401',\n",
       "  'nikon d5000 dslr review - a review of the nikon d5000 dslr camera',\n",
       "  '. * nikon d3100 dslr review - a review of the nikon d3100 dslr * best new nikon cameras - find the latest on the best new nikon cameras * nikon d7000 dslr review - a review of the nikon d7000 dslr camera * canon eos 60d dslr review - a review of the canon eos 60d dslr camera nikon d5000 dslr review -'),\n",
       " (928.82184,\n",
       "  'clueweb12-0001wb-98-37239',\n",
       "  'nikon coolpix s80 review - a review of the nikon coolpix s80 camera',\n",
       "  '* nikon coolpix s50 review - a review of the nikon coolpix s50 camera * canon powershot s60 review - is the canon s60 the perfect compact travel ca... * nikon coolpix s1100pj review - a review of the nikon coolpix s1100pj camera * samsung st80 review - a review of the samsung st80 camera nikon coolpix'),\n",
       " (914.82306,\n",
       "  'clueweb12-0002wb-34-08400',\n",
       "  'nikon coolpix s9100 review - a review of the nikon coolpix s9100 camera',\n",
       "  'nikon placed sturdy latch doors on this compartment, as well as on the battery compartment. * nikon coolpix s50 review - a review of the nikon coolpix s50 camera * nikon coolpix s80 review - a review of the nikon coolpix s80 camera * canon powershot s60 review - is the canon s60 the perfect compact travel'),\n",
       " (888.21893,\n",
       "  'clueweb12-0005wb-51-26372',\n",
       "  'nikon speedlight sb-900 flash review - a review of the nikon speedlight',\n",
       "  'the sb-900 is an impressive flashgun, and its accessories (in the shape of the filter kit and a sto-fen-type diffuser) are much better than those of its rivals.'),\n",
       " (877.2002,\n",
       "  'clueweb12-0002wb-85-11531',\n",
       "  'canon camera reviews: powershot camera reviews',\n",
       "  'this head to head review looks at two of the most popular enthusiast cameras: the canon 60d and the nikon d7000. both these cameras will appeal to those who want to take their photography a step farther, but which is the better buy?'),\n",
       " (873.11646,\n",
       "  'clueweb12-0002wb-32-26341',\n",
       "  'nikon coolpix l20 review - a review of the nikon coolpix l20 camera',\n",
       "  'its overall battery life is below average, especially compared to cameras that run from proprietary batteries. nikon has created a good-looking camera in the l20, which is available only in deep red. it&#x27;s a little wider on the right-hand side, which makes it easy to hold and operate one-handed.'),\n",
       " (870.89575,\n",
       "  'clueweb12-0003wb-64-00542',\n",
       "  'nikon 35mm f1.8g dx lens review - a review of the nikon 35mm f1.8g dx lens',\n",
       "  'it&#x27;s an extremely cheap lens, coming in at under $200, which nikon says is because it&#x27;s a dx format. the lens also features a &quot;silent wave motor (swm),&quot; which allows for autofocus with all nikon dslrs. so is this lens an essential for dx format users?'),\n",
       " (863.64954,\n",
       "  'clueweb12-0004wb-00-21961',\n",
       "  'nikon coolpix p90 review - a review of the nikon coolpix p90 camera',\n",
       "  'the lcd can be tilted for odd-angle photos, which is handy. measuring 3 inches diagonally, the lcd is large and sharp. however, it could be a little easier to see in bright sunlight. the p90&#x27;s design is interesting.'),\n",
       " (860.075,\n",
       "  'clueweb12-0002wb-34-08386',\n",
       "  'canon speedlite 430ex ii review - a review of the canon speedlite 430ex',\n",
       "  '. * canon speedlite 580ex ii flash review - a review of the canon 580ex ii spee... * nikon speedlight sb-900 flash review - a review of the nikon speedlight sb-... * nikon sb700 flash review - a review of the nikon sb700 flash * basic features of point-and-shoot cameras - photography canon speedlite'),\n",
       " (855.6019,\n",
       "  'clueweb12-0003wb-78-09639',\n",
       "  'canon speedlite 580ex ii flash review - a review of the canon 580ex ii',\n",
       "  '. * canon speedlite 430ex ii review - a review of the canon speedlite 430ex ii ... * nikon speedlight sb-900 flash review - a review of the nikon speedlight sb-... * nikon sb700 flash review - a review of the nikon sb700 flash canon speedlite 580ex ii flash review - a review of the canon 580ex ii speedlite')]"
      ]
     },
     "execution_count": 4,
     "metadata": {},
     "output_type": "execute_result"
    }
   ],
   "source": [
    "my_response_list['3'][:20]"
   ]
  },
  {
   "cell_type": "code",
   "execution_count": 17,
   "metadata": {},
   "outputs": [],
   "source": [
    "def run_baseline(output_dir = '/notebook/touche/output/', input_dir = '/notebook/touche/', input_file = 'topics-task-2-only-titles.xml'):\n",
    "    \n",
    "    #transformer part\n",
    "    config_class, model_class, tokenizer_class = BertConfig, BertModel, BertTokenizer\n",
    "    config = config_class.from_pretrained('bert-base-uncased')\n",
    "    config.output_attentions=True\n",
    "    model = model_class.from_pretrained('bert-base-uncased', config=config)\n",
    "    tokenizer = BertTokenizer.from_pretrained('bert-base-uncased', do_lower_case=True)\n",
    "    \n",
    "    # load responses for all queries from file \n",
    "    my_response_list = load_obj(\"list_of_un_answ\")\n",
    "    \n",
    "    list_of_tuples = read_xml(input_dir + input_file)\n",
    "    common_list = []\n",
    "    \n",
    "        \n",
    "    print (\"attention\", flush = True)    \n",
    "    with open(output_dir + 'transformer.txt', 'w') as trnsfm:\n",
    "        for ind_q, elem in enumerate(list_of_tuples[:5]):\n",
    "            qid = elem[0]\n",
    "            Q0 = 'Q0'\n",
    "            query = elem[1]\n",
    "            tag = 'MethodAttentionFilterResponse'\n",
    "            responses = list(zip(*my_response_list[str(ind_q + 1)]))\n",
    "\n",
    "            scores0 = responses[0]\n",
    "            print (\"0\")\n",
    "            docs = responses[1]\n",
    "            print (\"1\")\n",
    "            titles = responses[2]\n",
    "            #print (\"2\")\n",
    "            answers_bodies = responses[3]\n",
    "            #print (\"3\")\n",
    "            # print (scores0, scores3, scores)\n",
    "            scores = make_scores_transformers(model, query, answers_bodies)\n",
    "            qids = qid*len(scores)\n",
    "            Q0s = [Q0 for elem in scores]\n",
    "            queries = query*len(scores)\n",
    "            tags = [tag for elem in scores]\n",
    "            \n",
    "            help_list = list(zip(qids, Q0s, queries, scores, titles, answers_bodies))\n",
    "            help_list = sorted(help_list, key = lambda x: x[3], reverse = True)\n",
    "            trnsfm.write('\\n'.join('%s %s %s %s %s %s' % x for x in help_list))\n",
    "            trnsfm.write('\\n')\n",
    "            \n",
    "            part_of_commom_list = list(zip(qids, Q0s, docs, scores, tags))\n",
    "            part_of_commom_list = sorted(part_of_commom_list, key = lambda x: x[3], reverse = True) \n",
    "            \n",
    "\n",
    "            qids, Q0s, docs, scores, tags = zip(*part_of_commom_list)\n",
    "\n",
    "            ranks = range(1, len(scores) + 1)\n",
    "            part_of_commom_list = list(zip(qids, Q0s, docs, ranks, scores, tags))\n",
    "            common_list = common_list + part_of_commom_list\n",
    "        \n",
    "    print (\"baseline\", flush = True)\n",
    "    with open(output_dir + 'baseline.txt', 'w') as bsln:\n",
    "        for ind_q, elem in enumerate(list_of_tuples[:3]):\n",
    "            qid = elem[0]\n",
    "            Q0 = 'Q0'\n",
    "            query = elem[1]\n",
    "            tag = 'MyBaselineFilterResponse'\n",
    "            responses = list(zip(*my_response_list[str(ind_q + 1)]))\n",
    "\n",
    "            scores0 = responses[0]\n",
    "            #print (\"0\")\n",
    "            docs = responses[1]\n",
    "            #print (\"1\")\n",
    "            titles = responses[2]\n",
    "            #print (\"2\")\n",
    "            answers_bodies = responses[3]\n",
    "            #print (\"3\")\n",
    "            # print (scores0, scores3, scores)\n",
    "            qids = qid*len(scores)\n",
    "            Q0s = [Q0 for elem in scores]\n",
    "            tags = [tag for elem in scores]\n",
    "            part_of_commom_list = list(zip(qids, Q0s, docs, scores0, tags))\n",
    "            part_of_commom_list = sorted(part_of_commom_list, key = lambda x: x[3], reverse = True) \n",
    "\n",
    "            qids, Q0s, docs, scores, tags = zip(*part_of_commom_list)\n",
    "            \n",
    "            help_list = list(zip(qids, Q0s, queries, scores, titles, answers_bodies))\n",
    "            help_list = sorted(help_list, key = lambda x: x[3], reverse = True)\n",
    "            bsln.write('\\n'.join('%s %s %s %s %s %s' % x for x in help_list))\n",
    "            bsln.write('\\n')\n",
    "\n",
    "            ranks = range(1, len(scores) + 1)\n",
    "            part_of_commom_list = list(zip(qids, Q0s, docs, ranks, scores, tags))\n",
    "            common_list = common_list + part_of_commom_list\n",
    "            part_of_commom_list = list(zip(qids, Q0s, docs, ranks, scores, tags))\n",
    "            common_list = common_list + part_of_commom_list\n",
    "        \n",
    "    print (\"bert embeddings\", flush = True)\n",
    "    with open(output_dir + 'bert_e.txt', 'w') as bert_e:\n",
    "        for ind_q, elem in enumerate(list_of_tuples[:5]):\n",
    "            qid = elem[0]\n",
    "            Q0 = 'Q0'\n",
    "            query = elem[1]\n",
    "            tag = 'myBertSimilarity'\n",
    "            responses = list(zip(*my_response_list[str(ind_q + 1)]))\n",
    "\n",
    "            scores0 = responses[0]\n",
    "            #print (\"0\")\n",
    "            docs = responses[1]\n",
    "            #print (\"1\")\n",
    "            titles = responses[2]\n",
    "            #print (\"2\")\n",
    "            answers_bodies = responses[3]\n",
    "            #print (\"3\")\n",
    "            # print (scores0, scores3, scores)\n",
    "            scores = make_scores_1(query, titles)\n",
    "            qids = qid*len(scores)\n",
    "            Q0s = [Q0 for elem in scores]\n",
    "            tags = [tag for elem in scores]\n",
    "            part_of_commom_list = list(zip(qids, Q0s, docs, scores0, tags))\n",
    "            part_of_commom_list = sorted(part_of_commom_list, key = lambda x: x[3], reverse = True) \n",
    "\n",
    "            qids, Q0s, docs, scores, tags = zip(*part_of_commom_list)\n",
    "\n",
    "            help_list = list(zip(qids, Q0s, queries, scores, titles, answers_bodies))\n",
    "            help_list = sorted(help_list, key = lambda x: x[3], reverse = True)\n",
    "            bert_e.write('\\n'.join('%s %s %s %s %s %s' % x for x in help_list))\n",
    "            bert_e.write('\\n')\n",
    "\n",
    "            ranks = range(1, len(scores) + 1)\n",
    "            part_of_commom_list = list(zip(qids, Q0s, docs, ranks, scores, tags))\n",
    "            common_list = common_list + part_of_commom_list\n",
    "            part_of_commom_list = list(zip(qids, Q0s, docs, ranks, scores, tags))\n",
    "            common_list = common_list + part_of_commom_list\n",
    "\n",
    "    with open(output_dir + 'run_example5_22_05.txt', 'w') as fp:\n",
    "        fp.write('\\n'.join('%s %s %s %s %s %s' % x for x in common_list))"
   ]
  },
  {
   "cell_type": "code",
   "execution_count": 9,
   "metadata": {},
   "outputs": [
    {
     "name": "stdout",
     "output_type": "stream",
     "text": [
      "1\n",
      "[<DOM Element: topics at 0x7f3913ccdd70>]\n",
      "50\n",
      "attention\n",
      "0\n",
      "1\n",
      "0\n",
      "1\n",
      "0\n",
      "1\n",
      "0\n",
      "1\n",
      "0\n",
      "1\n",
      "baseline\n",
      "bert embeddings\n"
     ]
    }
   ],
   "source": [
    "run_baseline()"
   ]
  },
  {
   "cell_type": "code",
   "execution_count": 4,
   "metadata": {},
   "outputs": [],
   "source": [
    "config_class, model_class, tokenizer_class = BertConfig, BertModel, BertTokenizer\n",
    "config = config_class.from_pretrained('bert-base-uncased')\n",
    "config.output_attentions=True\n",
    "model = model_class.from_pretrained('bert-base-uncased', config=config)\n",
    "tokenizer = BertTokenizer.from_pretrained('bert-base-uncased', do_lower_case=True)"
   ]
  },
  {
   "cell_type": "code",
   "execution_count": 10,
   "metadata": {},
   "outputs": [
    {
     "ename": "NameError",
     "evalue": "name 'answ' is not defined",
     "output_type": "error",
     "traceback": [
      "\u001b[0;31m\u001b[0m",
      "\u001b[0;31mNameError\u001b[0mTraceback (most recent call last)",
      "\u001b[0;32m<ipython-input-10-8fb26210c2ec>\u001b[0m in \u001b[0;36m<module>\u001b[0;34m\u001b[0m\n\u001b[0;32m----> 1\u001b[0;31m \u001b[0mansw\u001b[0m\u001b[0;34m[\u001b[0m\u001b[0;36m0\u001b[0m\u001b[0;34m]\u001b[0m\u001b[0;34m.\u001b[0m\u001b[0mshape\u001b[0m\u001b[0;34m\u001b[0m\u001b[0;34m\u001b[0m\u001b[0m\n\u001b[0m",
      "\u001b[0;31mNameError\u001b[0m: name 'answ' is not defined"
     ]
    }
   ],
   "source": [
    "answ[0].shape"
   ]
  },
  {
   "cell_type": "code",
   "execution_count": 11,
   "metadata": {},
   "outputs": [
    {
     "ename": "NameError",
     "evalue": "name 'answ' is not defined",
     "output_type": "error",
     "traceback": [
      "\u001b[0;31m\u001b[0m",
      "\u001b[0;31mNameError\u001b[0mTraceback (most recent call last)",
      "\u001b[0;32m<ipython-input-11-9efbd66ab994>\u001b[0m in \u001b[0;36m<module>\u001b[0;34m\u001b[0m\n\u001b[0;32m----> 1\u001b[0;31m \u001b[0mansw\u001b[0m\u001b[0;34m[\u001b[0m\u001b[0;36m1\u001b[0m\u001b[0;34m]\u001b[0m\u001b[0;34m.\u001b[0m\u001b[0mshape\u001b[0m\u001b[0;34m\u001b[0m\u001b[0;34m\u001b[0m\u001b[0m\n\u001b[0m",
      "\u001b[0;31mNameError\u001b[0m: name 'answ' is not defined"
     ]
    }
   ],
   "source": [
    "answ[1].shape"
   ]
  },
  {
   "cell_type": "code",
   "execution_count": 12,
   "metadata": {},
   "outputs": [
    {
     "ename": "NameError",
     "evalue": "name 'answ' is not defined",
     "output_type": "error",
     "traceback": [
      "\u001b[0;31m\u001b[0m",
      "\u001b[0;31mNameError\u001b[0mTraceback (most recent call last)",
      "\u001b[0;32m<ipython-input-12-edf71ce2600f>\u001b[0m in \u001b[0;36m<module>\u001b[0;34m\u001b[0m\n\u001b[0;32m----> 1\u001b[0;31m \u001b[0mansw\u001b[0m\u001b[0;34m[\u001b[0m\u001b[0;36m2\u001b[0m\u001b[0;34m]\u001b[0m\u001b[0;34m[\u001b[0m\u001b[0;36m3\u001b[0m\u001b[0;34m]\u001b[0m\u001b[0;34m.\u001b[0m\u001b[0mshape\u001b[0m\u001b[0;34m\u001b[0m\u001b[0;34m\u001b[0m\u001b[0m\n\u001b[0m",
      "\u001b[0;31mNameError\u001b[0m: name 'answ' is not defined"
     ]
    }
   ],
   "source": [
    "answ[2][3].shape"
   ]
  },
  {
   "cell_type": "code",
   "execution_count": 5,
   "metadata": {},
   "outputs": [
    {
     "data": {
      "text/html": [
       "\n",
       "    <div class=\"bk-root\">\n",
       "        <a href=\"https://bokeh.org\" target=\"_blank\" class=\"bk-logo bk-logo-small bk-logo-notebook\"></a>\n",
       "        <span id=\"1001\">Loading BokehJS ...</span>\n",
       "    </div>"
      ]
     },
     "metadata": {},
     "output_type": "display_data"
    },
    {
     "data": {
      "application/javascript": [
       "\n",
       "(function(root) {\n",
       "  function now() {\n",
       "    return new Date();\n",
       "  }\n",
       "\n",
       "  var force = true;\n",
       "\n",
       "  if (typeof root._bokeh_onload_callbacks === \"undefined\" || force === true) {\n",
       "    root._bokeh_onload_callbacks = [];\n",
       "    root._bokeh_is_loading = undefined;\n",
       "  }\n",
       "\n",
       "  var JS_MIME_TYPE = 'application/javascript';\n",
       "  var HTML_MIME_TYPE = 'text/html';\n",
       "  var EXEC_MIME_TYPE = 'application/vnd.bokehjs_exec.v0+json';\n",
       "  var CLASS_NAME = 'output_bokeh rendered_html';\n",
       "\n",
       "  /**\n",
       "   * Render data to the DOM node\n",
       "   */\n",
       "  function render(props, node) {\n",
       "    var script = document.createElement(\"script\");\n",
       "    node.appendChild(script);\n",
       "  }\n",
       "\n",
       "  /**\n",
       "   * Handle when an output is cleared or removed\n",
       "   */\n",
       "  function handleClearOutput(event, handle) {\n",
       "    var cell = handle.cell;\n",
       "\n",
       "    var id = cell.output_area._bokeh_element_id;\n",
       "    var server_id = cell.output_area._bokeh_server_id;\n",
       "    // Clean up Bokeh references\n",
       "    if (id != null && id in Bokeh.index) {\n",
       "      Bokeh.index[id].model.document.clear();\n",
       "      delete Bokeh.index[id];\n",
       "    }\n",
       "\n",
       "    if (server_id !== undefined) {\n",
       "      // Clean up Bokeh references\n",
       "      var cmd = \"from bokeh.io.state import curstate; print(curstate().uuid_to_server['\" + server_id + \"'].get_sessions()[0].document.roots[0]._id)\";\n",
       "      cell.notebook.kernel.execute(cmd, {\n",
       "        iopub: {\n",
       "          output: function(msg) {\n",
       "            var id = msg.content.text.trim();\n",
       "            if (id in Bokeh.index) {\n",
       "              Bokeh.index[id].model.document.clear();\n",
       "              delete Bokeh.index[id];\n",
       "            }\n",
       "          }\n",
       "        }\n",
       "      });\n",
       "      // Destroy server and session\n",
       "      var cmd = \"import bokeh.io.notebook as ion; ion.destroy_server('\" + server_id + \"')\";\n",
       "      cell.notebook.kernel.execute(cmd);\n",
       "    }\n",
       "  }\n",
       "\n",
       "  /**\n",
       "   * Handle when a new output is added\n",
       "   */\n",
       "  function handleAddOutput(event, handle) {\n",
       "    var output_area = handle.output_area;\n",
       "    var output = handle.output;\n",
       "\n",
       "    // limit handleAddOutput to display_data with EXEC_MIME_TYPE content only\n",
       "    if ((output.output_type != \"display_data\") || (!output.data.hasOwnProperty(EXEC_MIME_TYPE))) {\n",
       "      return\n",
       "    }\n",
       "\n",
       "    var toinsert = output_area.element.find(\".\" + CLASS_NAME.split(' ')[0]);\n",
       "\n",
       "    if (output.metadata[EXEC_MIME_TYPE][\"id\"] !== undefined) {\n",
       "      toinsert[toinsert.length - 1].firstChild.textContent = output.data[JS_MIME_TYPE];\n",
       "      // store reference to embed id on output_area\n",
       "      output_area._bokeh_element_id = output.metadata[EXEC_MIME_TYPE][\"id\"];\n",
       "    }\n",
       "    if (output.metadata[EXEC_MIME_TYPE][\"server_id\"] !== undefined) {\n",
       "      var bk_div = document.createElement(\"div\");\n",
       "      bk_div.innerHTML = output.data[HTML_MIME_TYPE];\n",
       "      var script_attrs = bk_div.children[0].attributes;\n",
       "      for (var i = 0; i < script_attrs.length; i++) {\n",
       "        toinsert[toinsert.length - 1].firstChild.setAttribute(script_attrs[i].name, script_attrs[i].value);\n",
       "      }\n",
       "      // store reference to server id on output_area\n",
       "      output_area._bokeh_server_id = output.metadata[EXEC_MIME_TYPE][\"server_id\"];\n",
       "    }\n",
       "  }\n",
       "\n",
       "  function register_renderer(events, OutputArea) {\n",
       "\n",
       "    function append_mime(data, metadata, element) {\n",
       "      // create a DOM node to render to\n",
       "      var toinsert = this.create_output_subarea(\n",
       "        metadata,\n",
       "        CLASS_NAME,\n",
       "        EXEC_MIME_TYPE\n",
       "      );\n",
       "      this.keyboard_manager.register_events(toinsert);\n",
       "      // Render to node\n",
       "      var props = {data: data, metadata: metadata[EXEC_MIME_TYPE]};\n",
       "      render(props, toinsert[toinsert.length - 1]);\n",
       "      element.append(toinsert);\n",
       "      return toinsert\n",
       "    }\n",
       "\n",
       "    /* Handle when an output is cleared or removed */\n",
       "    events.on('clear_output.CodeCell', handleClearOutput);\n",
       "    events.on('delete.Cell', handleClearOutput);\n",
       "\n",
       "    /* Handle when a new output is added */\n",
       "    events.on('output_added.OutputArea', handleAddOutput);\n",
       "\n",
       "    /**\n",
       "     * Register the mime type and append_mime function with output_area\n",
       "     */\n",
       "    OutputArea.prototype.register_mime_type(EXEC_MIME_TYPE, append_mime, {\n",
       "      /* Is output safe? */\n",
       "      safe: true,\n",
       "      /* Index of renderer in `output_area.display_order` */\n",
       "      index: 0\n",
       "    });\n",
       "  }\n",
       "\n",
       "  // register the mime type if in Jupyter Notebook environment and previously unregistered\n",
       "  if (root.Jupyter !== undefined) {\n",
       "    var events = require('base/js/events');\n",
       "    var OutputArea = require('notebook/js/outputarea').OutputArea;\n",
       "\n",
       "    if (OutputArea.prototype.mime_types().indexOf(EXEC_MIME_TYPE) == -1) {\n",
       "      register_renderer(events, OutputArea);\n",
       "    }\n",
       "  }\n",
       "\n",
       "  \n",
       "  if (typeof (root._bokeh_timeout) === \"undefined\" || force === true) {\n",
       "    root._bokeh_timeout = Date.now() + 5000;\n",
       "    root._bokeh_failed_load = false;\n",
       "  }\n",
       "\n",
       "  var NB_LOAD_WARNING = {'data': {'text/html':\n",
       "     \"<div style='background-color: #fdd'>\\n\"+\n",
       "     \"<p>\\n\"+\n",
       "     \"BokehJS does not appear to have successfully loaded. If loading BokehJS from CDN, this \\n\"+\n",
       "     \"may be due to a slow or bad network connection. Possible fixes:\\n\"+\n",
       "     \"</p>\\n\"+\n",
       "     \"<ul>\\n\"+\n",
       "     \"<li>re-rerun `output_notebook()` to attempt to load from CDN again, or</li>\\n\"+\n",
       "     \"<li>use INLINE resources instead, as so:</li>\\n\"+\n",
       "     \"</ul>\\n\"+\n",
       "     \"<code>\\n\"+\n",
       "     \"from bokeh.resources import INLINE\\n\"+\n",
       "     \"output_notebook(resources=INLINE)\\n\"+\n",
       "     \"</code>\\n\"+\n",
       "     \"</div>\"}};\n",
       "\n",
       "  function display_loaded() {\n",
       "    var el = document.getElementById(\"1001\");\n",
       "    if (el != null) {\n",
       "      el.textContent = \"BokehJS is loading...\";\n",
       "    }\n",
       "    if (root.Bokeh !== undefined) {\n",
       "      if (el != null) {\n",
       "        el.textContent = \"BokehJS \" + root.Bokeh.version + \" successfully loaded.\";\n",
       "      }\n",
       "    } else if (Date.now() < root._bokeh_timeout) {\n",
       "      setTimeout(display_loaded, 100)\n",
       "    }\n",
       "  }\n",
       "\n",
       "\n",
       "  function run_callbacks() {\n",
       "    try {\n",
       "      root._bokeh_onload_callbacks.forEach(function(callback) {\n",
       "        if (callback != null)\n",
       "          callback();\n",
       "      });\n",
       "    } finally {\n",
       "      delete root._bokeh_onload_callbacks\n",
       "    }\n",
       "    console.debug(\"Bokeh: all callbacks have finished\");\n",
       "  }\n",
       "\n",
       "  function load_libs(css_urls, js_urls, callback) {\n",
       "    if (css_urls == null) css_urls = [];\n",
       "    if (js_urls == null) js_urls = [];\n",
       "\n",
       "    root._bokeh_onload_callbacks.push(callback);\n",
       "    if (root._bokeh_is_loading > 0) {\n",
       "      console.debug(\"Bokeh: BokehJS is being loaded, scheduling callback at\", now());\n",
       "      return null;\n",
       "    }\n",
       "    if (js_urls == null || js_urls.length === 0) {\n",
       "      run_callbacks();\n",
       "      return null;\n",
       "    }\n",
       "    console.debug(\"Bokeh: BokehJS not loaded, scheduling load and callback at\", now());\n",
       "    root._bokeh_is_loading = css_urls.length + js_urls.length;\n",
       "\n",
       "    function on_load() {\n",
       "      root._bokeh_is_loading--;\n",
       "      if (root._bokeh_is_loading === 0) {\n",
       "        console.debug(\"Bokeh: all BokehJS libraries/stylesheets loaded\");\n",
       "        run_callbacks()\n",
       "      }\n",
       "    }\n",
       "\n",
       "    function on_error() {\n",
       "      console.error(\"failed to load \" + url);\n",
       "    }\n",
       "\n",
       "    for (var i = 0; i < css_urls.length; i++) {\n",
       "      var url = css_urls[i];\n",
       "      const element = document.createElement(\"link\");\n",
       "      element.onload = on_load;\n",
       "      element.onerror = on_error;\n",
       "      element.rel = \"stylesheet\";\n",
       "      element.type = \"text/css\";\n",
       "      element.href = url;\n",
       "      console.debug(\"Bokeh: injecting link tag for BokehJS stylesheet: \", url);\n",
       "      document.body.appendChild(element);\n",
       "    }\n",
       "\n",
       "    for (var i = 0; i < js_urls.length; i++) {\n",
       "      var url = js_urls[i];\n",
       "      var element = document.createElement('script');\n",
       "      element.onload = on_load;\n",
       "      element.onerror = on_error;\n",
       "      element.async = false;\n",
       "      element.src = url;\n",
       "      console.debug(\"Bokeh: injecting script tag for BokehJS library: \", url);\n",
       "      document.head.appendChild(element);\n",
       "    }\n",
       "  };var element = document.getElementById(\"1001\");\n",
       "  if (element == null) {\n",
       "    console.error(\"Bokeh: ERROR: autoload.js configured with elementid '1001' but no matching script tag was found. \")\n",
       "    return false;\n",
       "  }\n",
       "\n",
       "  function inject_raw_css(css) {\n",
       "    const element = document.createElement(\"style\");\n",
       "    element.appendChild(document.createTextNode(css));\n",
       "    document.body.appendChild(element);\n",
       "  }\n",
       "\n",
       "  \n",
       "  var js_urls = [\"https://cdn.pydata.org/bokeh/release/bokeh-1.4.0.min.js\", \"https://cdn.pydata.org/bokeh/release/bokeh-widgets-1.4.0.min.js\", \"https://cdn.pydata.org/bokeh/release/bokeh-tables-1.4.0.min.js\", \"https://cdn.pydata.org/bokeh/release/bokeh-gl-1.4.0.min.js\"];\n",
       "  var css_urls = [];\n",
       "  \n",
       "\n",
       "  var inline_js = [\n",
       "    function(Bokeh) {\n",
       "      Bokeh.set_log_level(\"info\");\n",
       "    },\n",
       "    function(Bokeh) {\n",
       "    \n",
       "    \n",
       "    }\n",
       "  ];\n",
       "\n",
       "  function run_inline_js() {\n",
       "    \n",
       "    if (root.Bokeh !== undefined || force === true) {\n",
       "      \n",
       "    for (var i = 0; i < inline_js.length; i++) {\n",
       "      inline_js[i].call(root, root.Bokeh);\n",
       "    }\n",
       "    if (force === true) {\n",
       "        display_loaded();\n",
       "      }} else if (Date.now() < root._bokeh_timeout) {\n",
       "      setTimeout(run_inline_js, 100);\n",
       "    } else if (!root._bokeh_failed_load) {\n",
       "      console.log(\"Bokeh: BokehJS failed to load within specified timeout.\");\n",
       "      root._bokeh_failed_load = true;\n",
       "    } else if (force !== true) {\n",
       "      var cell = $(document.getElementById(\"1001\")).parents('.cell').data().cell;\n",
       "      cell.output_area.append_execute_result(NB_LOAD_WARNING)\n",
       "    }\n",
       "\n",
       "  }\n",
       "\n",
       "  if (root._bokeh_is_loading === 0) {\n",
       "    console.debug(\"Bokeh: BokehJS loaded, going straight to plotting\");\n",
       "    run_inline_js();\n",
       "  } else {\n",
       "    load_libs(css_urls, js_urls, function() {\n",
       "      console.debug(\"Bokeh: BokehJS plotting callback run at\", now());\n",
       "      run_inline_js();\n",
       "    });\n",
       "  }\n",
       "}(window));"
      ],
      "application/vnd.bokehjs_load.v0+json": "\n(function(root) {\n  function now() {\n    return new Date();\n  }\n\n  var force = true;\n\n  if (typeof root._bokeh_onload_callbacks === \"undefined\" || force === true) {\n    root._bokeh_onload_callbacks = [];\n    root._bokeh_is_loading = undefined;\n  }\n\n  \n\n  \n  if (typeof (root._bokeh_timeout) === \"undefined\" || force === true) {\n    root._bokeh_timeout = Date.now() + 5000;\n    root._bokeh_failed_load = false;\n  }\n\n  var NB_LOAD_WARNING = {'data': {'text/html':\n     \"<div style='background-color: #fdd'>\\n\"+\n     \"<p>\\n\"+\n     \"BokehJS does not appear to have successfully loaded. If loading BokehJS from CDN, this \\n\"+\n     \"may be due to a slow or bad network connection. Possible fixes:\\n\"+\n     \"</p>\\n\"+\n     \"<ul>\\n\"+\n     \"<li>re-rerun `output_notebook()` to attempt to load from CDN again, or</li>\\n\"+\n     \"<li>use INLINE resources instead, as so:</li>\\n\"+\n     \"</ul>\\n\"+\n     \"<code>\\n\"+\n     \"from bokeh.resources import INLINE\\n\"+\n     \"output_notebook(resources=INLINE)\\n\"+\n     \"</code>\\n\"+\n     \"</div>\"}};\n\n  function display_loaded() {\n    var el = document.getElementById(\"1001\");\n    if (el != null) {\n      el.textContent = \"BokehJS is loading...\";\n    }\n    if (root.Bokeh !== undefined) {\n      if (el != null) {\n        el.textContent = \"BokehJS \" + root.Bokeh.version + \" successfully loaded.\";\n      }\n    } else if (Date.now() < root._bokeh_timeout) {\n      setTimeout(display_loaded, 100)\n    }\n  }\n\n\n  function run_callbacks() {\n    try {\n      root._bokeh_onload_callbacks.forEach(function(callback) {\n        if (callback != null)\n          callback();\n      });\n    } finally {\n      delete root._bokeh_onload_callbacks\n    }\n    console.debug(\"Bokeh: all callbacks have finished\");\n  }\n\n  function load_libs(css_urls, js_urls, callback) {\n    if (css_urls == null) css_urls = [];\n    if (js_urls == null) js_urls = [];\n\n    root._bokeh_onload_callbacks.push(callback);\n    if (root._bokeh_is_loading > 0) {\n      console.debug(\"Bokeh: BokehJS is being loaded, scheduling callback at\", now());\n      return null;\n    }\n    if (js_urls == null || js_urls.length === 0) {\n      run_callbacks();\n      return null;\n    }\n    console.debug(\"Bokeh: BokehJS not loaded, scheduling load and callback at\", now());\n    root._bokeh_is_loading = css_urls.length + js_urls.length;\n\n    function on_load() {\n      root._bokeh_is_loading--;\n      if (root._bokeh_is_loading === 0) {\n        console.debug(\"Bokeh: all BokehJS libraries/stylesheets loaded\");\n        run_callbacks()\n      }\n    }\n\n    function on_error() {\n      console.error(\"failed to load \" + url);\n    }\n\n    for (var i = 0; i < css_urls.length; i++) {\n      var url = css_urls[i];\n      const element = document.createElement(\"link\");\n      element.onload = on_load;\n      element.onerror = on_error;\n      element.rel = \"stylesheet\";\n      element.type = \"text/css\";\n      element.href = url;\n      console.debug(\"Bokeh: injecting link tag for BokehJS stylesheet: \", url);\n      document.body.appendChild(element);\n    }\n\n    for (var i = 0; i < js_urls.length; i++) {\n      var url = js_urls[i];\n      var element = document.createElement('script');\n      element.onload = on_load;\n      element.onerror = on_error;\n      element.async = false;\n      element.src = url;\n      console.debug(\"Bokeh: injecting script tag for BokehJS library: \", url);\n      document.head.appendChild(element);\n    }\n  };var element = document.getElementById(\"1001\");\n  if (element == null) {\n    console.error(\"Bokeh: ERROR: autoload.js configured with elementid '1001' but no matching script tag was found. \")\n    return false;\n  }\n\n  function inject_raw_css(css) {\n    const element = document.createElement(\"style\");\n    element.appendChild(document.createTextNode(css));\n    document.body.appendChild(element);\n  }\n\n  \n  var js_urls = [\"https://cdn.pydata.org/bokeh/release/bokeh-1.4.0.min.js\", \"https://cdn.pydata.org/bokeh/release/bokeh-widgets-1.4.0.min.js\", \"https://cdn.pydata.org/bokeh/release/bokeh-tables-1.4.0.min.js\", \"https://cdn.pydata.org/bokeh/release/bokeh-gl-1.4.0.min.js\"];\n  var css_urls = [];\n  \n\n  var inline_js = [\n    function(Bokeh) {\n      Bokeh.set_log_level(\"info\");\n    },\n    function(Bokeh) {\n    \n    \n    }\n  ];\n\n  function run_inline_js() {\n    \n    if (root.Bokeh !== undefined || force === true) {\n      \n    for (var i = 0; i < inline_js.length; i++) {\n      inline_js[i].call(root, root.Bokeh);\n    }\n    if (force === true) {\n        display_loaded();\n      }} else if (Date.now() < root._bokeh_timeout) {\n      setTimeout(run_inline_js, 100);\n    } else if (!root._bokeh_failed_load) {\n      console.log(\"Bokeh: BokehJS failed to load within specified timeout.\");\n      root._bokeh_failed_load = true;\n    } else if (force !== true) {\n      var cell = $(document.getElementById(\"1001\")).parents('.cell').data().cell;\n      cell.output_area.append_execute_result(NB_LOAD_WARNING)\n    }\n\n  }\n\n  if (root._bokeh_is_loading === 0) {\n    console.debug(\"Bokeh: BokehJS loaded, going straight to plotting\");\n    run_inline_js();\n  } else {\n    load_libs(css_urls, js_urls, function() {\n      console.debug(\"Bokeh: BokehJS plotting callback run at\", now());\n      run_inline_js();\n    });\n  }\n}(window));"
     },
     "metadata": {},
     "output_type": "display_data"
    }
   ],
   "source": [
    "import bokeh.plotting as pl\n",
    "import bokeh.models as bm\n",
    "from bokeh.io import output_notebook, show\n",
    "output_notebook()\n",
    "\n",
    "def draw_attention(inp_tokens, trans_tokens, probs):\n",
    "    \"\"\" An intentionally ambiguous function to visualize attention weights \"\"\"\n",
    "    probs = probs[:len(trans_tokens), :len(inp_tokens)]\n",
    "    \n",
    "    fig = pl.figure(x_range=(0, len(inp_tokens)), y_range=(0, len(trans_tokens)),\n",
    "                    x_axis_type=None, y_axis_type=None, tools=[])\n",
    "    fig.image([probs[::-1]], 0, 0, len(inp_tokens), len(trans_tokens))\n",
    "\n",
    "    fig.add_layout(bm.LinearAxis(axis_label='source tokens'), 'above')\n",
    "    fig.xaxis.ticker = np.arange(len(inp_tokens)) + 0.5\n",
    "    fig.xaxis.major_label_overrides = dict(zip(np.arange(len(inp_tokens)) + 0.5, inp_tokens))\n",
    "    fig.xaxis.major_label_orientation = 45\n",
    "\n",
    "    fig.add_layout(bm.LinearAxis(axis_label='translation tokens'), 'left')\n",
    "    fig.yaxis.ticker = np.arange(len(trans_tokens)) + 0.5\n",
    "    fig.yaxis.major_label_overrides = dict(zip(np.arange(len(trans_tokens)) + 0.5, trans_tokens[::-1]))\n",
    "\n",
    "    show(fig)"
   ]
  },
  {
   "cell_type": "code",
   "execution_count": 390,
   "metadata": {},
   "outputs": [
    {
     "data": {
      "text/plain": [
       "array([0.5])"
      ]
     },
     "execution_count": 390,
     "metadata": {},
     "output_type": "execute_result"
    }
   ],
   "source": [
    "np.arange(len(inp_tokens)) + 0.5"
   ]
  },
  {
   "cell_type": "markdown",
   "metadata": {},
   "source": [
    "Идея - из аттеншн слоев выбрать те, которые в левом вернем и правом нижнем углу (0 предложение на себя и  предложение на себя) не дают полностью черных квадратов. 3 слой - атеншн на аналогичные слова"
   ]
  },
  {
   "cell_type": "markdown",
   "metadata": {},
   "source": [
    "обнулить sep-tokena"
   ]
  },
  {
   "cell_type": "markdown",
   "metadata": {},
   "source": [
    "Просуммировать левый верхний и правый нижний квадрат - для каждого поискового ответа"
   ]
  },
  {
   "cell_type": "code",
   "execution_count": 391,
   "metadata": {},
   "outputs": [],
   "source": [
    "probs = answ[2][ii][0][0].detach().numpy()\n",
    "\n",
    "probs = probs[:len(trans_tokens[0]), :len(inp_tokens[0])]"
   ]
  },
  {
   "cell_type": "code",
   "execution_count": 392,
   "metadata": {},
   "outputs": [
    {
     "data": {
      "text/plain": [
       "array([[2.8974013e-02, 7.1487352e-03, 8.6870305e-03, ..., 1.4310145e-04,\n",
       "        3.3603467e-02, 2.2732976e-01],\n",
       "       [9.8076705e-03, 5.7020295e-02, 2.0104237e-02, ..., 3.5717709e-05,\n",
       "        4.3609999e-02, 1.9834188e-01],\n",
       "       [5.1948074e-03, 2.1921040e-02, 6.8340912e-02, ..., 7.3892690e-05,\n",
       "        1.0941007e-02, 8.5741229e-02],\n",
       "       ...,\n",
       "       [3.8002472e-04, 8.3944714e-04, 3.2824180e-05, ..., 1.9493585e-02,\n",
       "        9.4970554e-02, 1.5036830e-01],\n",
       "       [1.0896232e-03, 8.6444616e-04, 6.8232120e-04, ..., 3.3967728e-05,\n",
       "        7.4814504e-04, 1.7166950e-01],\n",
       "       [1.8940828e-03, 1.9991521e-03, 1.2598590e-03, ..., 8.3928338e-05,\n",
       "        7.1911293e-04, 1.7222546e-01]], dtype=float32)"
      ]
     },
     "execution_count": 392,
     "metadata": {},
     "output_type": "execute_result"
    }
   ],
   "source": [
    "probs"
   ]
  },
  {
   "cell_type": "code",
   "execution_count": 393,
   "metadata": {},
   "outputs": [],
   "source": [
    "cls_idx = 0\n",
    "sep_idx = len(tokenizer.tokenize(query))\n",
    "end_idx = len(tokenizer.tokenize(query)) + len(tokenizer.tokenize(answers_bodies[10])) + 3"
   ]
  },
  {
   "cell_type": "code",
   "execution_count": 394,
   "metadata": {},
   "outputs": [
    {
     "data": {
      "text/plain": [
       "(9, 43)"
      ]
     },
     "execution_count": 394,
     "metadata": {},
     "output_type": "execute_result"
    }
   ],
   "source": [
    "probs = answ[2][ii][0][0].detach().numpy()\n",
    "probs = probs[cls_idx:sep_idx, sep_idx:end_idx]\n",
    "probs.shape"
   ]
  },
  {
   "cell_type": "code",
   "execution_count": 395,
   "metadata": {},
   "outputs": [
    {
     "data": {
      "text/plain": [
       "9"
      ]
     },
     "execution_count": 395,
     "metadata": {},
     "output_type": "execute_result"
    }
   ],
   "source": [
    "len(trans_tokens[0][cls_idx:sep_idx])"
   ]
  },
  {
   "cell_type": "code",
   "execution_count": 6,
   "metadata": {},
   "outputs": [],
   "source": [
    "query = 'Which is better, a laptop or a desktop?'\n",
    "answer1 = 'Laptop is preferable than desktop because it is more portable.'\n",
    "answer2 = 'If you need portability, the laptop is the best option than desktop.'\n",
    "answer3 = 'The crew was complete: it included a boots, a maker of bonnets and hoods'\n",
    "answer4 = 'Just the pace for snark the Bellman cried'"
   ]
  },
  {
   "cell_type": "markdown",
   "metadata": {},
   "source": [
    "Expected results: answer1 and answer2 are better than answer3"
   ]
  },
  {
   "cell_type": "code",
   "execution_count": 28,
   "metadata": {},
   "outputs": [],
   "source": [
    "from bokeh.layouts import row, column\n",
    "from bokeh.io import export_png\n",
    "def show_importance_of_transformers_layer(query, answer):\n",
    "\n",
    "    # return scores - list of len = number_of_transformers_heads\n",
    "    # every element is sum of weight in left top and rinht bottom square - attention weights which correspond to tokens \n",
    "    # not in word's sentence. \n",
    "    # To estimate closeness between sentences A and B for every word in A we count all weight corresponding to word in B\n",
    "\n",
    "    sentences = [\"[CLS] \" + query + \" [SEP] \" + answer + \" [SEP]\"]\n",
    "    print(sentences[0])\n",
    "\n",
    "    # Tokenize with BERT tokenizer\n",
    "    tokenizer = BertTokenizer.from_pretrained('bert-base-uncased', do_lower_case=True)\n",
    "    tokenized_texts = [tokenizer.tokenize(sent) for sent in sentences]\n",
    "    print (\"Tokenize the first sentence:\")\n",
    "    print (tokenized_texts[0])\n",
    "    indexed_tokens = tokenizer.convert_tokens_to_ids(tokenized_texts[0])\n",
    "    # Define sentence A and B indices associated to 1st and 2nd sentences (see paper)\n",
    "    segments_ids = (len(tokenizer.tokenize(query)) + 2)*[0] + (len(tokenizer.tokenize(answer)) + 1)*[1]\n",
    "    tokens_tensor = torch.tensor([indexed_tokens])\n",
    "    segments_tensors = torch.tensor([segments_ids])\n",
    "    answ = model(tokens_tensor, segments_tensors)\n",
    "    trans_tokens = tokenized_texts\n",
    "    inp_tokens = tokenized_texts\n",
    "    cls_idx = 0\n",
    "    sep_idx = len(tokenizer.tokenize(query))\n",
    "    end_idx = len(tokenizer.tokenize(query)) + len(tokenizer.tokenize(answer)) + 3\n",
    "\n",
    "    print (cls_idx, sep_idx, end_idx)\n",
    "    scores = []\n",
    "    list_of_figures = []\n",
    "    for ii in range(12):\n",
    "        probs = answ[2][ii][0][0].detach().numpy()\n",
    "\n",
    "        probs = probs[:len(trans_tokens[0]), :len(inp_tokens[0])]\n",
    "        score = np.sum(probs[cls_idx+1:sep_idx-1, sep_idx+1:end_idx -1]) + np.sum(probs[sep_idx+1:end_idx-1, cls_idx+1:sep_idx-2])\n",
    "        fig = pl.figure(x_range=(0, len(inp_tokens[0])), y_range=(0, len(trans_tokens[0])),\n",
    "                        x_axis_type=None, y_axis_type=None, tools=[], plot_width=240, plot_height=240, title = 'head ' + str(ii))\n",
    "        fig.image([probs], 0, 0, len(inp_tokens[0]), len(trans_tokens[0]))\n",
    "        #export_png(fig, filename=\"trans_picturs\\plot\" + str(ii) +\".png\")\n",
    "        scores.append(score)\n",
    "        list_of_figures.append(fig)\n",
    "        #fig.add_layout(bm.LinearAxis(axis_label='source tokens'), 'above')\n",
    "        #fig.xaxis.ticker = np.arange(len(inp_tokens[0])) + 0.5\n",
    "        #fig.xaxis.major_label_overrides = dict(zip(np.arange(len(inp_tokens[0])) + 0.5, inp_tokens[0]))\n",
    "        #fig.xaxis.major_label_orientation = 45\n",
    "\n",
    "        #fig.add_layout(bm.LinearAxis(axis_label='translation tokens'), 'left')\n",
    "        #fig.yaxis.ticker = np.arange(len(trans_tokens[0])) + 0.5\n",
    "        #fig.yaxis.major_label_overrides = dict(zip(np.arange(len(trans_tokens[0])) + 0.5, trans_tokens[0]))\n",
    "\n",
    "    show(row(list_of_figures[:4]))\n",
    "    show(row(list_of_figures[4:8]))\n",
    "    show(row(list_of_figures[8:12]))\n",
    "    return scores"
   ]
  },
  {
   "cell_type": "markdown",
   "metadata": {},
   "source": [
    "**Что берем?**\n",
    "\n",
    "**3 слой** - я ищет похожие слова, \n",
    "\n",
    "**4, 10, 11** - наибольший divergence (см. scores)"
   ]
  },
  {
   "cell_type": "code",
   "execution_count": 27,
   "metadata": {},
   "outputs": [
    {
     "name": "stdout",
     "output_type": "stream",
     "text": [
      "[1.6208771, 3.7034912, 0.0006053873, 5.5407987, 6.797483, 2.0428846, 4.585038, 1.3815542, 3.465903, 6.005816, 6.0510125, 4.3819027]\n",
      "[1.7041466, 4.2792974, 0.0007035341, 5.0892878, 7.537561, 1.9327469, 4.6909723, 1.2563944, 3.6153867, 6.3739057, 6.816018, 5.550683]\n",
      "[1.7991419, 4.191726, 0.0011484785, 4.8690877, 4.970048, 1.7203952, 3.3389707, 1.351007, 3.0996885, 4.975832, 3.7327018, 1.107487]\n",
      "[1.6725659, 3.4933279, 0.00052020757, 2.8354619, 4.331377, 1.9027277, 3.3027313, 1.4085783, 3.4222302, 4.476509, 3.9202418, 3.0011702]\n"
     ]
    }
   ],
   "source": [
    "print (scores_1)\n",
    "print (scores_2)\n",
    "print (scores_3)\n",
    "print (scores_4)"
   ]
  },
  {
   "cell_type": "code",
   "execution_count": 29,
   "metadata": {},
   "outputs": [
    {
     "name": "stdout",
     "output_type": "stream",
     "text": [
      "[CLS] Which is better, a laptop or a desktop? [SEP] Laptop is preferable than desktop because it is more portable. [SEP]\n",
      "Tokenize the first sentence:\n",
      "['[CLS]', 'which', 'is', 'better', ',', 'a', 'laptop', 'or', 'a', 'desktop', '?', '[SEP]', 'laptop', 'is', 'prefer', '##able', 'than', 'desktop', 'because', 'it', 'is', 'more', 'portable', '.', '[SEP]']\n",
      "0 10 25\n"
     ]
    },
    {
     "data": {
      "text/html": [
       "\n",
       "\n",
       "\n",
       "\n",
       "\n",
       "\n",
       "  <div class=\"bk-root\" id=\"870d6cb0-f73d-413b-a50e-ab35eb77e93b\" data-root-id=\"11358\"></div>\n"
      ]
     },
     "metadata": {},
     "output_type": "display_data"
    },
    {
     "data": {
      "application/javascript": [
       "(function(root) {\n",
       "  function embed_document(root) {\n",
       "    \n",
       "  var docs_json = {\"a9565ba2-eb61-4cd4-89f5-cafccd38d448\":{\"roots\":{\"references\":[{\"attributes\":{\"children\":[{\"id\":\"11130\",\"subtype\":\"Figure\",\"type\":\"Plot\"},{\"id\":\"11149\",\"subtype\":\"Figure\",\"type\":\"Plot\"},{\"id\":\"11168\",\"subtype\":\"Figure\",\"type\":\"Plot\"},{\"id\":\"11187\",\"subtype\":\"Figure\",\"type\":\"Plot\"}]},\"id\":\"11358\",\"type\":\"Row\"},{\"attributes\":{\"callback\":null,\"end\":25},\"id\":\"11135\",\"type\":\"Range1d\"},{\"attributes\":{\"color_mapper\":{\"id\":\"11201\",\"type\":\"LinearColorMapper\"},\"dh\":{\"units\":\"data\",\"value\":25},\"dw\":{\"units\":\"data\",\"value\":25},\"image\":{\"field\":\"image\"},\"x\":{\"value\":0},\"y\":{\"value\":0}},\"id\":\"11200\",\"type\":\"Image\"},{\"attributes\":{\"palette\":[\"#000000\",\"#252525\",\"#525252\",\"#737373\",\"#969696\",\"#bdbdbd\",\"#d9d9d9\",\"#f0f0f0\",\"#ffffff\"]},\"id\":\"11146\",\"type\":\"LinearColorMapper\"},{\"attributes\":{},\"id\":\"11725\",\"type\":\"UnionRenderers\"},{\"attributes\":{\"palette\":[\"#000000\",\"#252525\",\"#525252\",\"#737373\",\"#969696\",\"#bdbdbd\",\"#d9d9d9\",\"#f0f0f0\",\"#ffffff\"]},\"id\":\"11203\",\"type\":\"LinearColorMapper\"},{\"attributes\":{\"callback\":null,\"end\":25},\"id\":\"11154\",\"type\":\"Range1d\"},{\"attributes\":{\"data_source\":{\"id\":\"11180\",\"type\":\"ColumnDataSource\"},\"glyph\":{\"id\":\"11181\",\"type\":\"Image\"},\"hover_glyph\":null,\"muted_glyph\":null,\"nonselection_glyph\":{\"id\":\"11183\",\"type\":\"Image\"},\"selection_glyph\":null,\"view\":{\"id\":\"11186\",\"type\":\"CDSView\"}},\"id\":\"11185\",\"type\":\"GlyphRenderer\"},{\"attributes\":{},\"id\":\"11139\",\"type\":\"LinearScale\"},{\"attributes\":{},\"id\":\"11724\",\"type\":\"Selection\"},{\"attributes\":{\"source\":{\"id\":\"11142\",\"type\":\"ColumnDataSource\"}},\"id\":\"11148\",\"type\":\"CDSView\"},{\"attributes\":{},\"id\":\"11726\",\"type\":\"Selection\"},{\"attributes\":{\"plot_height\":240,\"plot_width\":240,\"renderers\":[{\"id\":\"11204\",\"type\":\"GlyphRenderer\"}],\"title\":{\"id\":\"11188\",\"type\":\"Title\"},\"toolbar\":{\"id\":\"11198\",\"type\":\"Toolbar\"},\"x_range\":{\"id\":\"11190\",\"type\":\"Range1d\"},\"x_scale\":{\"id\":\"11194\",\"type\":\"LinearScale\"},\"y_range\":{\"id\":\"11192\",\"type\":\"Range1d\"},\"y_scale\":{\"id\":\"11196\",\"type\":\"LinearScale\"}},\"id\":\"11187\",\"subtype\":\"Figure\",\"type\":\"Plot\"},{\"attributes\":{},\"id\":\"11137\",\"type\":\"LinearScale\"},{\"attributes\":{\"source\":{\"id\":\"11161\",\"type\":\"ColumnDataSource\"}},\"id\":\"11167\",\"type\":\"CDSView\"},{\"attributes\":{\"source\":{\"id\":\"11199\",\"type\":\"ColumnDataSource\"}},\"id\":\"11205\",\"type\":\"CDSView\"},{\"attributes\":{},\"id\":\"11156\",\"type\":\"LinearScale\"},{\"attributes\":{\"color_mapper\":{\"id\":\"11165\",\"type\":\"LinearColorMapper\"},\"dh\":{\"units\":\"data\",\"value\":25},\"dw\":{\"units\":\"data\",\"value\":25},\"image\":{\"field\":\"image\"},\"x\":{\"value\":0},\"y\":{\"value\":0}},\"id\":\"11164\",\"type\":\"Image\"},{\"attributes\":{\"source\":{\"id\":\"11180\",\"type\":\"ColumnDataSource\"}},\"id\":\"11186\",\"type\":\"CDSView\"},{\"attributes\":{\"active_drag\":\"auto\",\"active_inspect\":\"auto\",\"active_multi\":null,\"active_scroll\":\"auto\",\"active_tap\":\"auto\"},\"id\":\"11160\",\"type\":\"Toolbar\"},{\"attributes\":{},\"id\":\"11727\",\"type\":\"UnionRenderers\"},{\"attributes\":{\"text\":\"head 0\"},\"id\":\"11131\",\"type\":\"Title\"},{\"attributes\":{\"color_mapper\":{\"id\":\"11163\",\"type\":\"LinearColorMapper\"},\"dh\":{\"units\":\"data\",\"value\":25},\"dw\":{\"units\":\"data\",\"value\":25},\"image\":{\"field\":\"image\"},\"x\":{\"value\":0},\"y\":{\"value\":0}},\"id\":\"11162\",\"type\":\"Image\"},{\"attributes\":{\"callback\":null,\"end\":25},\"id\":\"11152\",\"type\":\"Range1d\"},{\"attributes\":{},\"id\":\"11158\",\"type\":\"LinearScale\"},{\"attributes\":{\"callback\":null,\"end\":25},\"id\":\"11171\",\"type\":\"Range1d\"},{\"attributes\":{\"callback\":null,\"end\":25},\"id\":\"11190\",\"type\":\"Range1d\"},{\"attributes\":{},\"id\":\"11728\",\"type\":\"Selection\"},{\"attributes\":{\"data_source\":{\"id\":\"11161\",\"type\":\"ColumnDataSource\"},\"glyph\":{\"id\":\"11162\",\"type\":\"Image\"},\"hover_glyph\":null,\"muted_glyph\":null,\"nonselection_glyph\":{\"id\":\"11164\",\"type\":\"Image\"},\"selection_glyph\":null,\"view\":{\"id\":\"11167\",\"type\":\"CDSView\"}},\"id\":\"11166\",\"type\":\"GlyphRenderer\"},{\"attributes\":{\"text\":\"head 3\"},\"id\":\"11188\",\"type\":\"Title\"},{\"attributes\":{\"color_mapper\":{\"id\":\"11182\",\"type\":\"LinearColorMapper\"},\"dh\":{\"units\":\"data\",\"value\":25},\"dw\":{\"units\":\"data\",\"value\":25},\"image\":{\"field\":\"image\"},\"x\":{\"value\":0},\"y\":{\"value\":0}},\"id\":\"11181\",\"type\":\"Image\"},{\"attributes\":{\"palette\":[\"#000000\",\"#252525\",\"#525252\",\"#737373\",\"#969696\",\"#bdbdbd\",\"#d9d9d9\",\"#f0f0f0\",\"#ffffff\"]},\"id\":\"11144\",\"type\":\"LinearColorMapper\"},{\"attributes\":{\"callback\":null,\"data\":{\"image\":[{\"__ndarray__\":\"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\",\"dtype\":\"float32\",\"shape\":[25,25]}]},\"selected\":{\"id\":\"11726\",\"type\":\"Selection\"},\"selection_policy\":{\"id\":\"11725\",\"type\":\"UnionRenderers\"}},\"id\":\"11161\",\"type\":\"ColumnDataSource\"},{\"attributes\":{},\"id\":\"11729\",\"type\":\"UnionRenderers\"},{\"attributes\":{\"palette\":[\"#000000\",\"#252525\",\"#525252\",\"#737373\",\"#969696\",\"#bdbdbd\",\"#d9d9d9\",\"#f0f0f0\",\"#ffffff\"]},\"id\":\"11184\",\"type\":\"LinearColorMapper\"},{\"attributes\":{},\"id\":\"11730\",\"type\":\"Selection\"},{\"attributes\":{\"callback\":null,\"end\":25},\"id\":\"11192\",\"type\":\"Range1d\"},{\"attributes\":{\"active_drag\":\"auto\",\"active_inspect\":\"auto\",\"active_multi\":null,\"active_scroll\":\"auto\",\"active_tap\":\"auto\"},\"id\":\"11179\",\"type\":\"Toolbar\"},{\"attributes\":{},\"id\":\"11194\",\"type\":\"LinearScale\"},{\"attributes\":{\"color_mapper\":{\"id\":\"11146\",\"type\":\"LinearColorMapper\"},\"dh\":{\"units\":\"data\",\"value\":25},\"dw\":{\"units\":\"data\",\"value\":25},\"image\":{\"field\":\"image\"},\"x\":{\"value\":0},\"y\":{\"value\":0}},\"id\":\"11145\",\"type\":\"Image\"},{\"attributes\":{},\"id\":\"11196\",\"type\":\"LinearScale\"},{\"attributes\":{\"palette\":[\"#000000\",\"#252525\",\"#525252\",\"#737373\",\"#969696\",\"#bdbdbd\",\"#d9d9d9\",\"#f0f0f0\",\"#ffffff\"]},\"id\":\"11165\",\"type\":\"LinearColorMapper\"},{\"attributes\":{\"callback\":null,\"end\":25},\"id\":\"11173\",\"type\":\"Range1d\"},{\"attributes\":{\"callback\":null,\"data\":{\"image\":[{\"__ndarray__\":\"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\",\"dtype\":\"float32\",\"shape\":[25,25]}]},\"selected\":{\"id\":\"11724\",\"type\":\"Selection\"},\"selection_policy\":{\"id\":\"11723\",\"type\":\"UnionRenderers\"}},\"id\":\"11142\",\"type\":\"ColumnDataSource\"},{\"attributes\":{\"color_mapper\":{\"id\":\"11184\",\"type\":\"LinearColorMapper\"},\"dh\":{\"units\":\"data\",\"value\":25},\"dw\":{\"units\":\"data\",\"value\":25},\"image\":{\"field\":\"image\"},\"x\":{\"value\":0},\"y\":{\"value\":0}},\"id\":\"11183\",\"type\":\"Image\"},{\"attributes\":{\"plot_height\":240,\"plot_width\":240,\"renderers\":[{\"id\":\"11185\",\"type\":\"GlyphRenderer\"}],\"title\":{\"id\":\"11169\",\"type\":\"Title\"},\"toolbar\":{\"id\":\"11179\",\"type\":\"Toolbar\"},\"x_range\":{\"id\":\"11171\",\"type\":\"Range1d\"},\"x_scale\":{\"id\":\"11175\",\"type\":\"LinearScale\"},\"y_range\":{\"id\":\"11173\",\"type\":\"Range1d\"},\"y_scale\":{\"id\":\"11177\",\"type\":\"LinearScale\"}},\"id\":\"11168\",\"subtype\":\"Figure\",\"type\":\"Plot\"},{\"attributes\":{\"data_source\":{\"id\":\"11199\",\"type\":\"ColumnDataSource\"},\"glyph\":{\"id\":\"11200\",\"type\":\"Image\"},\"hover_glyph\":null,\"muted_glyph\":null,\"nonselection_glyph\":{\"id\":\"11202\",\"type\":\"Image\"},\"selection_glyph\":null,\"view\":{\"id\":\"11205\",\"type\":\"CDSView\"}},\"id\":\"11204\",\"type\":\"GlyphRenderer\"},{\"attributes\":{\"active_drag\":\"auto\",\"active_inspect\":\"auto\",\"active_multi\":null,\"active_scroll\":\"auto\",\"active_tap\":\"auto\"},\"id\":\"11141\",\"type\":\"Toolbar\"},{\"attributes\":{\"active_drag\":\"auto\",\"active_inspect\":\"auto\",\"active_multi\":null,\"active_scroll\":\"auto\",\"active_tap\":\"auto\"},\"id\":\"11198\",\"type\":\"Toolbar\"},{\"attributes\":{\"callback\":null,\"data\":{\"image\":[{\"__ndarray__\":\"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\",\"dtype\":\"float32\",\"shape\":[25,25]}]},\"selected\":{\"id\":\"11728\",\"type\":\"Selection\"},\"selection_policy\":{\"id\":\"11727\",\"type\":\"UnionRenderers\"}},\"id\":\"11180\",\"type\":\"ColumnDataSource\"},{\"attributes\":{\"palette\":[\"#000000\",\"#252525\",\"#525252\",\"#737373\",\"#969696\",\"#bdbdbd\",\"#d9d9d9\",\"#f0f0f0\",\"#ffffff\"]},\"id\":\"11182\",\"type\":\"LinearColorMapper\"},{\"attributes\":{\"plot_height\":240,\"plot_width\":240,\"renderers\":[{\"id\":\"11166\",\"type\":\"GlyphRenderer\"}],\"title\":{\"id\":\"11150\",\"type\":\"Title\"},\"toolbar\":{\"id\":\"11160\",\"type\":\"Toolbar\"},\"x_range\":{\"id\":\"11152\",\"type\":\"Range1d\"},\"x_scale\":{\"id\":\"11156\",\"type\":\"LinearScale\"},\"y_range\":{\"id\":\"11154\",\"type\":\"Range1d\"},\"y_scale\":{\"id\":\"11158\",\"type\":\"LinearScale\"}},\"id\":\"11149\",\"subtype\":\"Figure\",\"type\":\"Plot\"},{\"attributes\":{},\"id\":\"11175\",\"type\":\"LinearScale\"},{\"attributes\":{\"color_mapper\":{\"id\":\"11144\",\"type\":\"LinearColorMapper\"},\"dh\":{\"units\":\"data\",\"value\":25},\"dw\":{\"units\":\"data\",\"value\":25},\"image\":{\"field\":\"image\"},\"x\":{\"value\":0},\"y\":{\"value\":0}},\"id\":\"11143\",\"type\":\"Image\"},{\"attributes\":{\"callback\":null,\"data\":{\"image\":[{\"__ndarray__\":\"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\",\"dtype\":\"float32\",\"shape\":[25,25]}]},\"selected\":{\"id\":\"11730\",\"type\":\"Selection\"},\"selection_policy\":{\"id\":\"11729\",\"type\":\"UnionRenderers\"}},\"id\":\"11199\",\"type\":\"ColumnDataSource\"},{\"attributes\":{\"plot_height\":240,\"plot_width\":240,\"renderers\":[{\"id\":\"11147\",\"type\":\"GlyphRenderer\"}],\"title\":{\"id\":\"11131\",\"type\":\"Title\"},\"toolbar\":{\"id\":\"11141\",\"type\":\"Toolbar\"},\"x_range\":{\"id\":\"11133\",\"type\":\"Range1d\"},\"x_scale\":{\"id\":\"11137\",\"type\":\"LinearScale\"},\"y_range\":{\"id\":\"11135\",\"type\":\"Range1d\"},\"y_scale\":{\"id\":\"11139\",\"type\":\"LinearScale\"}},\"id\":\"11130\",\"subtype\":\"Figure\",\"type\":\"Plot\"},{\"attributes\":{\"text\":\"head 2\"},\"id\":\"11169\",\"type\":\"Title\"},{\"attributes\":{},\"id\":\"11723\",\"type\":\"UnionRenderers\"},{\"attributes\":{\"callback\":null,\"end\":25},\"id\":\"11133\",\"type\":\"Range1d\"},{\"attributes\":{\"data_source\":{\"id\":\"11142\",\"type\":\"ColumnDataSource\"},\"glyph\":{\"id\":\"11143\",\"type\":\"Image\"},\"hover_glyph\":null,\"muted_glyph\":null,\"nonselection_glyph\":{\"id\":\"11145\",\"type\":\"Image\"},\"selection_glyph\":null,\"view\":{\"id\":\"11148\",\"type\":\"CDSView\"}},\"id\":\"11147\",\"type\":\"GlyphRenderer\"},{\"attributes\":{},\"id\":\"11177\",\"type\":\"LinearScale\"},{\"attributes\":{\"palette\":[\"#000000\",\"#252525\",\"#525252\",\"#737373\",\"#969696\",\"#bdbdbd\",\"#d9d9d9\",\"#f0f0f0\",\"#ffffff\"]},\"id\":\"11163\",\"type\":\"LinearColorMapper\"},{\"attributes\":{\"palette\":[\"#000000\",\"#252525\",\"#525252\",\"#737373\",\"#969696\",\"#bdbdbd\",\"#d9d9d9\",\"#f0f0f0\",\"#ffffff\"]},\"id\":\"11201\",\"type\":\"LinearColorMapper\"},{\"attributes\":{\"text\":\"head 1\"},\"id\":\"11150\",\"type\":\"Title\"},{\"attributes\":{\"color_mapper\":{\"id\":\"11203\",\"type\":\"LinearColorMapper\"},\"dh\":{\"units\":\"data\",\"value\":25},\"dw\":{\"units\":\"data\",\"value\":25},\"image\":{\"field\":\"image\"},\"x\":{\"value\":0},\"y\":{\"value\":0}},\"id\":\"11202\",\"type\":\"Image\"}],\"root_ids\":[\"11358\"]},\"title\":\"Bokeh Application\",\"version\":\"1.4.0\"}};\n",
       "  var render_items = [{\"docid\":\"a9565ba2-eb61-4cd4-89f5-cafccd38d448\",\"roots\":{\"11358\":\"870d6cb0-f73d-413b-a50e-ab35eb77e93b\"}}];\n",
       "  root.Bokeh.embed.embed_items_notebook(docs_json, render_items);\n",
       "\n",
       "  }\n",
       "  if (root.Bokeh !== undefined) {\n",
       "    embed_document(root);\n",
       "  } else {\n",
       "    var attempts = 0;\n",
       "    var timer = setInterval(function(root) {\n",
       "      if (root.Bokeh !== undefined) {\n",
       "        clearInterval(timer);\n",
       "        embed_document(root);\n",
       "      } else {\n",
       "        attempts++;\n",
       "        if (attempts > 100) {\n",
       "          clearInterval(timer);\n",
       "          console.log(\"Bokeh: ERROR: Unable to run BokehJS code because BokehJS library is missing\");\n",
       "        }\n",
       "      }\n",
       "    }, 10, root)\n",
       "  }\n",
       "})(window);"
      ],
      "application/vnd.bokehjs_exec.v0+json": ""
     },
     "metadata": {
      "application/vnd.bokehjs_exec.v0+json": {
       "id": "11358"
      }
     },
     "output_type": "display_data"
    },
    {
     "data": {
      "text/html": [
       "\n",
       "\n",
       "\n",
       "\n",
       "\n",
       "\n",
       "  <div class=\"bk-root\" id=\"1c26b44e-4c60-46ef-aa71-442099e9b787\" data-root-id=\"11803\"></div>\n"
      ]
     },
     "metadata": {},
     "output_type": "display_data"
    },
    {
     "data": {
      "application/javascript": [
       "(function(root) {\n",
       "  function embed_document(root) {\n",
       "    \n",
       "  var docs_json = {\"3e053237-da32-4ade-8431-2fc0f498b105\":{\"roots\":{\"references\":[{\"attributes\":{\"children\":[{\"id\":\"11206\",\"subtype\":\"Figure\",\"type\":\"Plot\"},{\"id\":\"11225\",\"subtype\":\"Figure\",\"type\":\"Plot\"},{\"id\":\"11244\",\"subtype\":\"Figure\",\"type\":\"Plot\"},{\"id\":\"11263\",\"subtype\":\"Figure\",\"type\":\"Plot\"}]},\"id\":\"11803\",\"type\":\"Row\"},{\"attributes\":{\"color_mapper\":{\"id\":\"11260\",\"type\":\"LinearColorMapper\"},\"dh\":{\"units\":\"data\",\"value\":25},\"dw\":{\"units\":\"data\",\"value\":25},\"image\":{\"field\":\"image\"},\"x\":{\"value\":0},\"y\":{\"value\":0}},\"id\":\"11259\",\"type\":\"Image\"},{\"attributes\":{\"data_source\":{\"id\":\"11275\",\"type\":\"ColumnDataSource\"},\"glyph\":{\"id\":\"11276\",\"type\":\"Image\"},\"hover_glyph\":null,\"muted_glyph\":null,\"nonselection_glyph\":{\"id\":\"11278\",\"type\":\"Image\"},\"selection_glyph\":null,\"view\":{\"id\":\"11281\",\"type\":\"CDSView\"}},\"id\":\"11280\",\"type\":\"GlyphRenderer\"},{\"attributes\":{\"callback\":null,\"data\":{\"image\":[{\"__ndarray__\":\"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\",\"dtype\":\"float32\",\"shape\":[25,25]}]},\"selected\":{\"id\":\"12185\",\"type\":\"Selection\"},\"selection_policy\":{\"id\":\"12184\",\"type\":\"UnionRenderers\"}},\"id\":\"11256\",\"type\":\"ColumnDataSource\"},{\"attributes\":{\"color_mapper\":{\"id\":\"11239\",\"type\":\"LinearColorMapper\"},\"dh\":{\"units\":\"data\",\"value\":25},\"dw\":{\"units\":\"data\",\"value\":25},\"image\":{\"field\":\"image\"},\"x\":{\"value\":0},\"y\":{\"value\":0}},\"id\":\"11238\",\"type\":\"Image\"},{\"attributes\":{},\"id\":\"12181\",\"type\":\"Selection\"},{\"attributes\":{\"palette\":[\"#000000\",\"#252525\",\"#525252\",\"#737373\",\"#969696\",\"#bdbdbd\",\"#d9d9d9\",\"#f0f0f0\",\"#ffffff\"]},\"id\":\"11279\",\"type\":\"LinearColorMapper\"},{\"attributes\":{\"text\":\"head 5\"},\"id\":\"11226\",\"type\":\"Title\"},{\"attributes\":{},\"id\":\"12180\",\"type\":\"UnionRenderers\"},{\"attributes\":{\"plot_height\":240,\"plot_width\":240,\"renderers\":[{\"id\":\"11223\",\"type\":\"GlyphRenderer\"}],\"title\":{\"id\":\"11207\",\"type\":\"Title\"},\"toolbar\":{\"id\":\"11217\",\"type\":\"Toolbar\"},\"x_range\":{\"id\":\"11209\",\"type\":\"Range1d\"},\"x_scale\":{\"id\":\"11213\",\"type\":\"LinearScale\"},\"y_range\":{\"id\":\"11211\",\"type\":\"Range1d\"},\"y_scale\":{\"id\":\"11215\",\"type\":\"LinearScale\"}},\"id\":\"11206\",\"subtype\":\"Figure\",\"type\":\"Plot\"},{\"attributes\":{\"palette\":[\"#000000\",\"#252525\",\"#525252\",\"#737373\",\"#969696\",\"#bdbdbd\",\"#d9d9d9\",\"#f0f0f0\",\"#ffffff\"]},\"id\":\"11260\",\"type\":\"LinearColorMapper\"},{\"attributes\":{\"callback\":null,\"end\":25},\"id\":\"11228\",\"type\":\"Range1d\"},{\"attributes\":{},\"id\":\"12184\",\"type\":\"UnionRenderers\"},{\"attributes\":{\"callback\":null,\"end\":25},\"id\":\"11209\",\"type\":\"Range1d\"},{\"attributes\":{\"callback\":null,\"end\":25},\"id\":\"11249\",\"type\":\"Range1d\"},{\"attributes\":{\"plot_height\":240,\"plot_width\":240,\"renderers\":[{\"id\":\"11280\",\"type\":\"GlyphRenderer\"}],\"title\":{\"id\":\"11264\",\"type\":\"Title\"},\"toolbar\":{\"id\":\"11274\",\"type\":\"Toolbar\"},\"x_range\":{\"id\":\"11266\",\"type\":\"Range1d\"},\"x_scale\":{\"id\":\"11270\",\"type\":\"LinearScale\"},\"y_range\":{\"id\":\"11268\",\"type\":\"Range1d\"},\"y_scale\":{\"id\":\"11272\",\"type\":\"LinearScale\"}},\"id\":\"11263\",\"subtype\":\"Figure\",\"type\":\"Plot\"},{\"attributes\":{\"source\":{\"id\":\"11275\",\"type\":\"ColumnDataSource\"}},\"id\":\"11281\",\"type\":\"CDSView\"},{\"attributes\":{},\"id\":\"12183\",\"type\":\"Selection\"},{\"attributes\":{\"source\":{\"id\":\"11256\",\"type\":\"ColumnDataSource\"}},\"id\":\"11262\",\"type\":\"CDSView\"},{\"attributes\":{},\"id\":\"12185\",\"type\":\"Selection\"},{\"attributes\":{\"text\":\"head 4\"},\"id\":\"11207\",\"type\":\"Title\"},{\"attributes\":{\"callback\":null,\"end\":25},\"id\":\"11230\",\"type\":\"Range1d\"},{\"attributes\":{},\"id\":\"11251\",\"type\":\"LinearScale\"},{\"attributes\":{},\"id\":\"11232\",\"type\":\"LinearScale\"},{\"attributes\":{\"text\":\"head 7\"},\"id\":\"11264\",\"type\":\"Title\"},{\"attributes\":{},\"id\":\"11234\",\"type\":\"LinearScale\"},{\"attributes\":{\"callback\":null,\"end\":25},\"id\":\"11266\",\"type\":\"Range1d\"},{\"attributes\":{\"callback\":null,\"end\":25},\"id\":\"11211\",\"type\":\"Range1d\"},{\"attributes\":{},\"id\":\"11213\",\"type\":\"LinearScale\"},{\"attributes\":{},\"id\":\"11215\",\"type\":\"LinearScale\"},{\"attributes\":{\"active_drag\":\"auto\",\"active_inspect\":\"auto\",\"active_multi\":null,\"active_scroll\":\"auto\",\"active_tap\":\"auto\"},\"id\":\"11236\",\"type\":\"Toolbar\"},{\"attributes\":{},\"id\":\"12187\",\"type\":\"Selection\"},{\"attributes\":{\"plot_height\":240,\"plot_width\":240,\"renderers\":[{\"id\":\"11242\",\"type\":\"GlyphRenderer\"}],\"title\":{\"id\":\"11226\",\"type\":\"Title\"},\"toolbar\":{\"id\":\"11236\",\"type\":\"Toolbar\"},\"x_range\":{\"id\":\"11228\",\"type\":\"Range1d\"},\"x_scale\":{\"id\":\"11232\",\"type\":\"LinearScale\"},\"y_range\":{\"id\":\"11230\",\"type\":\"Range1d\"},\"y_scale\":{\"id\":\"11234\",\"type\":\"LinearScale\"}},\"id\":\"11225\",\"subtype\":\"Figure\",\"type\":\"Plot\"},{\"attributes\":{\"active_drag\":\"auto\",\"active_inspect\":\"auto\",\"active_multi\":null,\"active_scroll\":\"auto\",\"active_tap\":\"auto\"},\"id\":\"11255\",\"type\":\"Toolbar\"},{\"attributes\":{\"callback\":null,\"end\":25},\"id\":\"11247\",\"type\":\"Range1d\"},{\"attributes\":{},\"id\":\"11253\",\"type\":\"LinearScale\"},{\"attributes\":{\"callback\":null,\"end\":25},\"id\":\"11268\",\"type\":\"Range1d\"},{\"attributes\":{\"callback\":null,\"data\":{\"image\":[{\"__ndarray__\":\"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\",\"dtype\":\"float32\",\"shape\":[25,25]}]},\"selected\":{\"id\":\"12183\",\"type\":\"Selection\"},\"selection_policy\":{\"id\":\"12182\",\"type\":\"UnionRenderers\"}},\"id\":\"11237\",\"type\":\"ColumnDataSource\"},{\"attributes\":{\"data_source\":{\"id\":\"11218\",\"type\":\"ColumnDataSource\"},\"glyph\":{\"id\":\"11219\",\"type\":\"Image\"},\"hover_glyph\":null,\"muted_glyph\":null,\"nonselection_glyph\":{\"id\":\"11221\",\"type\":\"Image\"},\"selection_glyph\":null,\"view\":{\"id\":\"11224\",\"type\":\"CDSView\"}},\"id\":\"11223\",\"type\":\"GlyphRenderer\"},{\"attributes\":{},\"id\":\"11270\",\"type\":\"LinearScale\"},{\"attributes\":{\"palette\":[\"#000000\",\"#252525\",\"#525252\",\"#737373\",\"#969696\",\"#bdbdbd\",\"#d9d9d9\",\"#f0f0f0\",\"#ffffff\"]},\"id\":\"11239\",\"type\":\"LinearColorMapper\"},{\"attributes\":{\"active_drag\":\"auto\",\"active_inspect\":\"auto\",\"active_multi\":null,\"active_scroll\":\"auto\",\"active_tap\":\"auto\"},\"id\":\"11217\",\"type\":\"Toolbar\"},{\"attributes\":{},\"id\":\"11272\",\"type\":\"LinearScale\"},{\"attributes\":{\"color_mapper\":{\"id\":\"11241\",\"type\":\"LinearColorMapper\"},\"dh\":{\"units\":\"data\",\"value\":25},\"dw\":{\"units\":\"data\",\"value\":25},\"image\":{\"field\":\"image\"},\"x\":{\"value\":0},\"y\":{\"value\":0}},\"id\":\"11240\",\"type\":\"Image\"},{\"attributes\":{\"color_mapper\":{\"id\":\"11258\",\"type\":\"LinearColorMapper\"},\"dh\":{\"units\":\"data\",\"value\":25},\"dw\":{\"units\":\"data\",\"value\":25},\"image\":{\"field\":\"image\"},\"x\":{\"value\":0},\"y\":{\"value\":0}},\"id\":\"11257\",\"type\":\"Image\"},{\"attributes\":{\"source\":{\"id\":\"11218\",\"type\":\"ColumnDataSource\"}},\"id\":\"11224\",\"type\":\"CDSView\"},{\"attributes\":{\"source\":{\"id\":\"11237\",\"type\":\"ColumnDataSource\"}},\"id\":\"11243\",\"type\":\"CDSView\"},{\"attributes\":{\"callback\":null,\"data\":{\"image\":[{\"__ndarray__\":\"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\",\"dtype\":\"float32\",\"shape\":[25,25]}]},\"selected\":{\"id\":\"12181\",\"type\":\"Selection\"},\"selection_policy\":{\"id\":\"12180\",\"type\":\"UnionRenderers\"}},\"id\":\"11218\",\"type\":\"ColumnDataSource\"},{\"attributes\":{\"color_mapper\":{\"id\":\"11220\",\"type\":\"LinearColorMapper\"},\"dh\":{\"units\":\"data\",\"value\":25},\"dw\":{\"units\":\"data\",\"value\":25},\"image\":{\"field\":\"image\"},\"x\":{\"value\":0},\"y\":{\"value\":0}},\"id\":\"11219\",\"type\":\"Image\"},{\"attributes\":{\"palette\":[\"#000000\",\"#252525\",\"#525252\",\"#737373\",\"#969696\",\"#bdbdbd\",\"#d9d9d9\",\"#f0f0f0\",\"#ffffff\"]},\"id\":\"11220\",\"type\":\"LinearColorMapper\"},{\"attributes\":{\"active_drag\":\"auto\",\"active_inspect\":\"auto\",\"active_multi\":null,\"active_scroll\":\"auto\",\"active_tap\":\"auto\"},\"id\":\"11274\",\"type\":\"Toolbar\"},{\"attributes\":{\"color_mapper\":{\"id\":\"11222\",\"type\":\"LinearColorMapper\"},\"dh\":{\"units\":\"data\",\"value\":25},\"dw\":{\"units\":\"data\",\"value\":25},\"image\":{\"field\":\"image\"},\"x\":{\"value\":0},\"y\":{\"value\":0}},\"id\":\"11221\",\"type\":\"Image\"},{\"attributes\":{},\"id\":\"12186\",\"type\":\"UnionRenderers\"},{\"attributes\":{\"palette\":[\"#000000\",\"#252525\",\"#525252\",\"#737373\",\"#969696\",\"#bdbdbd\",\"#d9d9d9\",\"#f0f0f0\",\"#ffffff\"]},\"id\":\"11241\",\"type\":\"LinearColorMapper\"},{\"attributes\":{\"palette\":[\"#000000\",\"#252525\",\"#525252\",\"#737373\",\"#969696\",\"#bdbdbd\",\"#d9d9d9\",\"#f0f0f0\",\"#ffffff\"]},\"id\":\"11277\",\"type\":\"LinearColorMapper\"},{\"attributes\":{\"data_source\":{\"id\":\"11256\",\"type\":\"ColumnDataSource\"},\"glyph\":{\"id\":\"11257\",\"type\":\"Image\"},\"hover_glyph\":null,\"muted_glyph\":null,\"nonselection_glyph\":{\"id\":\"11259\",\"type\":\"Image\"},\"selection_glyph\":null,\"view\":{\"id\":\"11262\",\"type\":\"CDSView\"}},\"id\":\"11261\",\"type\":\"GlyphRenderer\"},{\"attributes\":{\"callback\":null,\"data\":{\"image\":[{\"__ndarray__\":\"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\",\"dtype\":\"float32\",\"shape\":[25,25]}]},\"selected\":{\"id\":\"12187\",\"type\":\"Selection\"},\"selection_policy\":{\"id\":\"12186\",\"type\":\"UnionRenderers\"}},\"id\":\"11275\",\"type\":\"ColumnDataSource\"},{\"attributes\":{},\"id\":\"12182\",\"type\":\"UnionRenderers\"},{\"attributes\":{\"data_source\":{\"id\":\"11237\",\"type\":\"ColumnDataSource\"},\"glyph\":{\"id\":\"11238\",\"type\":\"Image\"},\"hover_glyph\":null,\"muted_glyph\":null,\"nonselection_glyph\":{\"id\":\"11240\",\"type\":\"Image\"},\"selection_glyph\":null,\"view\":{\"id\":\"11243\",\"type\":\"CDSView\"}},\"id\":\"11242\",\"type\":\"GlyphRenderer\"},{\"attributes\":{\"color_mapper\":{\"id\":\"11277\",\"type\":\"LinearColorMapper\"},\"dh\":{\"units\":\"data\",\"value\":25},\"dw\":{\"units\":\"data\",\"value\":25},\"image\":{\"field\":\"image\"},\"x\":{\"value\":0},\"y\":{\"value\":0}},\"id\":\"11276\",\"type\":\"Image\"},{\"attributes\":{\"plot_height\":240,\"plot_width\":240,\"renderers\":[{\"id\":\"11261\",\"type\":\"GlyphRenderer\"}],\"title\":{\"id\":\"11245\",\"type\":\"Title\"},\"toolbar\":{\"id\":\"11255\",\"type\":\"Toolbar\"},\"x_range\":{\"id\":\"11247\",\"type\":\"Range1d\"},\"x_scale\":{\"id\":\"11251\",\"type\":\"LinearScale\"},\"y_range\":{\"id\":\"11249\",\"type\":\"Range1d\"},\"y_scale\":{\"id\":\"11253\",\"type\":\"LinearScale\"}},\"id\":\"11244\",\"subtype\":\"Figure\",\"type\":\"Plot\"},{\"attributes\":{\"text\":\"head 6\"},\"id\":\"11245\",\"type\":\"Title\"},{\"attributes\":{\"color_mapper\":{\"id\":\"11279\",\"type\":\"LinearColorMapper\"},\"dh\":{\"units\":\"data\",\"value\":25},\"dw\":{\"units\":\"data\",\"value\":25},\"image\":{\"field\":\"image\"},\"x\":{\"value\":0},\"y\":{\"value\":0}},\"id\":\"11278\",\"type\":\"Image\"},{\"attributes\":{\"palette\":[\"#000000\",\"#252525\",\"#525252\",\"#737373\",\"#969696\",\"#bdbdbd\",\"#d9d9d9\",\"#f0f0f0\",\"#ffffff\"]},\"id\":\"11222\",\"type\":\"LinearColorMapper\"},{\"attributes\":{\"palette\":[\"#000000\",\"#252525\",\"#525252\",\"#737373\",\"#969696\",\"#bdbdbd\",\"#d9d9d9\",\"#f0f0f0\",\"#ffffff\"]},\"id\":\"11258\",\"type\":\"LinearColorMapper\"}],\"root_ids\":[\"11803\"]},\"title\":\"Bokeh Application\",\"version\":\"1.4.0\"}};\n",
       "  var render_items = [{\"docid\":\"3e053237-da32-4ade-8431-2fc0f498b105\",\"roots\":{\"11803\":\"1c26b44e-4c60-46ef-aa71-442099e9b787\"}}];\n",
       "  root.Bokeh.embed.embed_items_notebook(docs_json, render_items);\n",
       "\n",
       "  }\n",
       "  if (root.Bokeh !== undefined) {\n",
       "    embed_document(root);\n",
       "  } else {\n",
       "    var attempts = 0;\n",
       "    var timer = setInterval(function(root) {\n",
       "      if (root.Bokeh !== undefined) {\n",
       "        clearInterval(timer);\n",
       "        embed_document(root);\n",
       "      } else {\n",
       "        attempts++;\n",
       "        if (attempts > 100) {\n",
       "          clearInterval(timer);\n",
       "          console.log(\"Bokeh: ERROR: Unable to run BokehJS code because BokehJS library is missing\");\n",
       "        }\n",
       "      }\n",
       "    }, 10, root)\n",
       "  }\n",
       "})(window);"
      ],
      "application/vnd.bokehjs_exec.v0+json": ""
     },
     "metadata": {
      "application/vnd.bokehjs_exec.v0+json": {
       "id": "11803"
      }
     },
     "output_type": "display_data"
    },
    {
     "data": {
      "text/html": [
       "\n",
       "\n",
       "\n",
       "\n",
       "\n",
       "\n",
       "  <div class=\"bk-root\" id=\"61213ad5-64ce-411b-a2dc-3717a5bcb35e\" data-root-id=\"12260\"></div>\n"
      ]
     },
     "metadata": {},
     "output_type": "display_data"
    },
    {
     "data": {
      "application/javascript": [
       "(function(root) {\n",
       "  function embed_document(root) {\n",
       "    \n",
       "  var docs_json = {\"56fe49c0-1514-494d-817d-e87efb6615fd\":{\"roots\":{\"references\":[{\"attributes\":{\"children\":[{\"id\":\"11282\",\"subtype\":\"Figure\",\"type\":\"Plot\"},{\"id\":\"11301\",\"subtype\":\"Figure\",\"type\":\"Plot\"},{\"id\":\"11320\",\"subtype\":\"Figure\",\"type\":\"Plot\"},{\"id\":\"11339\",\"subtype\":\"Figure\",\"type\":\"Plot\"}]},\"id\":\"12260\",\"type\":\"Row\"},{\"attributes\":{},\"id\":\"12655\",\"type\":\"UnionRenderers\"},{\"attributes\":{\"text\":\"head 11\"},\"id\":\"11340\",\"type\":\"Title\"},{\"attributes\":{\"color_mapper\":{\"id\":\"11296\",\"type\":\"LinearColorMapper\"},\"dh\":{\"units\":\"data\",\"value\":25},\"dw\":{\"units\":\"data\",\"value\":25},\"image\":{\"field\":\"image\"},\"x\":{\"value\":0},\"y\":{\"value\":0}},\"id\":\"11295\",\"type\":\"Image\"},{\"attributes\":{\"palette\":[\"#000000\",\"#252525\",\"#525252\",\"#737373\",\"#969696\",\"#bdbdbd\",\"#d9d9d9\",\"#f0f0f0\",\"#ffffff\"]},\"id\":\"11298\",\"type\":\"LinearColorMapper\"},{\"attributes\":{\"text\":\"head 10\"},\"id\":\"11321\",\"type\":\"Title\"},{\"attributes\":{\"callback\":null,\"end\":25},\"id\":\"11342\",\"type\":\"Range1d\"},{\"attributes\":{\"color_mapper\":{\"id\":\"11334\",\"type\":\"LinearColorMapper\"},\"dh\":{\"units\":\"data\",\"value\":25},\"dw\":{\"units\":\"data\",\"value\":25},\"image\":{\"field\":\"image\"},\"x\":{\"value\":0},\"y\":{\"value\":0}},\"id\":\"11333\",\"type\":\"Image\"},{\"attributes\":{\"source\":{\"id\":\"11294\",\"type\":\"ColumnDataSource\"}},\"id\":\"11300\",\"type\":\"CDSView\"},{\"attributes\":{\"text\":\"head 9\"},\"id\":\"11302\",\"type\":\"Title\"},{\"attributes\":{\"callback\":null,\"end\":25},\"id\":\"11323\",\"type\":\"Range1d\"},{\"attributes\":{\"plot_height\":240,\"plot_width\":240,\"renderers\":[{\"id\":\"11299\",\"type\":\"GlyphRenderer\"}],\"title\":{\"id\":\"11283\",\"type\":\"Title\"},\"toolbar\":{\"id\":\"11293\",\"type\":\"Toolbar\"},\"x_range\":{\"id\":\"11285\",\"type\":\"Range1d\"},\"x_scale\":{\"id\":\"11289\",\"type\":\"LinearScale\"},\"y_range\":{\"id\":\"11287\",\"type\":\"Range1d\"},\"y_scale\":{\"id\":\"11291\",\"type\":\"LinearScale\"}},\"id\":\"11282\",\"subtype\":\"Figure\",\"type\":\"Plot\"},{\"attributes\":{\"color_mapper\":{\"id\":\"11315\",\"type\":\"LinearColorMapper\"},\"dh\":{\"units\":\"data\",\"value\":25},\"dw\":{\"units\":\"data\",\"value\":25},\"image\":{\"field\":\"image\"},\"x\":{\"value\":0},\"y\":{\"value\":0}},\"id\":\"11314\",\"type\":\"Image\"},{\"attributes\":{\"callback\":null,\"end\":25},\"id\":\"11304\",\"type\":\"Range1d\"},{\"attributes\":{\"callback\":null,\"end\":25},\"id\":\"11344\",\"type\":\"Range1d\"},{\"attributes\":{},\"id\":\"11346\",\"type\":\"LinearScale\"},{\"attributes\":{},\"id\":\"11348\",\"type\":\"LinearScale\"},{\"attributes\":{\"text\":\"head 8\"},\"id\":\"11283\",\"type\":\"Title\"},{\"attributes\":{\"callback\":null,\"end\":25},\"id\":\"11325\",\"type\":\"Range1d\"},{\"attributes\":{},\"id\":\"11327\",\"type\":\"LinearScale\"},{\"attributes\":{\"callback\":null,\"end\":25},\"id\":\"11285\",\"type\":\"Range1d\"},{\"attributes\":{\"callback\":null,\"end\":25},\"id\":\"11306\",\"type\":\"Range1d\"},{\"attributes\":{},\"id\":\"11329\",\"type\":\"LinearScale\"},{\"attributes\":{},\"id\":\"11308\",\"type\":\"LinearScale\"},{\"attributes\":{\"active_drag\":\"auto\",\"active_inspect\":\"auto\",\"active_multi\":null,\"active_scroll\":\"auto\",\"active_tap\":\"auto\"},\"id\":\"11350\",\"type\":\"Toolbar\"},{\"attributes\":{\"data_source\":{\"id\":\"11351\",\"type\":\"ColumnDataSource\"},\"glyph\":{\"id\":\"11352\",\"type\":\"Image\"},\"hover_glyph\":null,\"muted_glyph\":null,\"nonselection_glyph\":{\"id\":\"11354\",\"type\":\"Image\"},\"selection_glyph\":null,\"view\":{\"id\":\"11357\",\"type\":\"CDSView\"}},\"id\":\"11356\",\"type\":\"GlyphRenderer\"},{\"attributes\":{},\"id\":\"11310\",\"type\":\"LinearScale\"},{\"attributes\":{\"data_source\":{\"id\":\"11332\",\"type\":\"ColumnDataSource\"},\"glyph\":{\"id\":\"11333\",\"type\":\"Image\"},\"hover_glyph\":null,\"muted_glyph\":null,\"nonselection_glyph\":{\"id\":\"11335\",\"type\":\"Image\"},\"selection_glyph\":null,\"view\":{\"id\":\"11338\",\"type\":\"CDSView\"}},\"id\":\"11337\",\"type\":\"GlyphRenderer\"},{\"attributes\":{\"callback\":null,\"data\":{\"image\":[{\"__ndarray__\":\"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\",\"dtype\":\"float32\",\"shape\":[25,25]}]},\"selected\":{\"id\":\"12656\",\"type\":\"Selection\"},\"selection_policy\":{\"id\":\"12655\",\"type\":\"UnionRenderers\"}},\"id\":\"11351\",\"type\":\"ColumnDataSource\"},{\"attributes\":{\"active_drag\":\"auto\",\"active_inspect\":\"auto\",\"active_multi\":null,\"active_scroll\":\"auto\",\"active_tap\":\"auto\"},\"id\":\"11331\",\"type\":\"Toolbar\"},{\"attributes\":{},\"id\":\"12653\",\"type\":\"UnionRenderers\"},{\"attributes\":{\"palette\":[\"#000000\",\"#252525\",\"#525252\",\"#737373\",\"#969696\",\"#bdbdbd\",\"#d9d9d9\",\"#f0f0f0\",\"#ffffff\"]},\"id\":\"11353\",\"type\":\"LinearColorMapper\"},{\"attributes\":{\"callback\":null,\"end\":25},\"id\":\"11287\",\"type\":\"Range1d\"},{\"attributes\":{\"data_source\":{\"id\":\"11313\",\"type\":\"ColumnDataSource\"},\"glyph\":{\"id\":\"11314\",\"type\":\"Image\"},\"hover_glyph\":null,\"muted_glyph\":null,\"nonselection_glyph\":{\"id\":\"11316\",\"type\":\"Image\"},\"selection_glyph\":null,\"view\":{\"id\":\"11319\",\"type\":\"CDSView\"}},\"id\":\"11318\",\"type\":\"GlyphRenderer\"},{\"attributes\":{\"color_mapper\":{\"id\":\"11355\",\"type\":\"LinearColorMapper\"},\"dh\":{\"units\":\"data\",\"value\":25},\"dw\":{\"units\":\"data\",\"value\":25},\"image\":{\"field\":\"image\"},\"x\":{\"value\":0},\"y\":{\"value\":0}},\"id\":\"11354\",\"type\":\"Image\"},{\"attributes\":{\"color_mapper\":{\"id\":\"11353\",\"type\":\"LinearColorMapper\"},\"dh\":{\"units\":\"data\",\"value\":25},\"dw\":{\"units\":\"data\",\"value\":25},\"image\":{\"field\":\"image\"},\"x\":{\"value\":0},\"y\":{\"value\":0}},\"id\":\"11352\",\"type\":\"Image\"},{\"attributes\":{},\"id\":\"11289\",\"type\":\"LinearScale\"},{\"attributes\":{\"active_drag\":\"auto\",\"active_inspect\":\"auto\",\"active_multi\":null,\"active_scroll\":\"auto\",\"active_tap\":\"auto\"},\"id\":\"11312\",\"type\":\"Toolbar\"},{\"attributes\":{\"callback\":null,\"data\":{\"image\":[{\"__ndarray__\":\"KGvHPZDPYzxgx4098EwUPWAtvTy3pw48I8LMOwKTVDt3Sdc7U2qhO/mF3D3brR0+FqSTOzag3T2ID1s8C2MgPT4wnD1laLE7ETL3PPkn3jx+SEQ9Tl/vPGzIsTy9ofY8hBoSPQnlJj106Rg89/VHPAyktDyC02E8eSMWO9YGsjpYsYY72l+dOqi9ZzrySXA9xB5dPWvvpDrYLo88tC8JPVX+yDzPntE8Npi+OrSGZDx9efg6mSOOO3JMEzw/Fqs75sukPv59oz5J6LM9SJYIPHPEtj0/kMQ81pfkPLBdRTsMpYc6Ne+IOzMdEzu84sg6yFqNPgjKPT4WBI4666rrPJ+hAzymzUA8xJGSPA+TKjvb68w8qfLiO3hlkDxYOpc88MUcO5DTjD3KrKM9AcETPXn4Zzw8Et08lEoHPdXW9jvGWys7QO8kOy/nzzvO/bM6/hOZOgEjMT2LsI09+SuNOpLwNzxw/gA9eV2oPDZxhzwrIUU6r1noOylPmjqPap47TQT1PCaNdzufbJ8+K8ehPj/8TT0ZAwY9ksIYPcbU9DzuKOE8WfspO/5WATyQMdc84ji2OtszjTv42/094tCrPVRoNzyJQp081dYHPSDyAT3Da1Y8a8u4OzPRITwjWMc7Pi5UPBiZzTyTM7Q743lKPjeYTT7KMuo8fmTlPCb4XD0QJ849meJ0PNYPyDzWbJE7ZUShPKYVVjzr9FE7hXwYPXGiPj1Y7dI6InqQPWOq1T2FnsM9H1SHPewu1TpmsKI7vaEwPC3cnTy4JYI958ZgO+IguD1O0r89UbFmPP2M3zstCto7j+sbPJnDXjtSYBA8f8UtPLGwXDzhXag7kYPJO5+eLTwV93I9qSxmO39sHjy3t/g7vjiXPKrJJDxZ3hY7eUGPOi4y7TvI2ZY70OcGPaNeUTxCNLs+Tje9Pj24rjsE8eQ8w4iFPCyFtzwFUL08oSCxOy8yjzsYKkQ8ljlIO85LJDvTlRI95prnPBABFTup68k7SGOrPCA0PDx3gyI87W0cOw7bajrINw47ZU8TO/uUyjsjcGA7QBvEPrKSuT5CHtA8Ba+0PMuiej0nE+09669tPGEX/DzxPKc70CiYPLUQiDwuM3A7cKfaPPpATz19yAk7qSKPPbl71j0kcc89XR1HPfVVLzsLvZY7tolGPOScmzwmR3I9hiiWO21FtD0yB709YkO8PCVzGzxe7wQ8v9HiPMHIajsIXoU8y1hHPMh/Lzyclg08mYnOO8+ruzsPNZY9Ml6QOxVwOjzBEp08eC0fPTJqOTxLM087IRWfOm1dZzx6R7s73CcGPSTYbzykhJ8+h0GnPpBFyDxh+cs8oWP9PG3MOjyr8e48gR2fO1THnzr0SSs8GugbO7ylADpVgL0+glppPdxZ1zrB9YQ8UZUePImUeDxHACI8VlC1OliCGTujj4Y7xf/XO2TPkzuUfTc7ANc1PlwTOT5rPK49r+WUPJnYBz28ifM8p0q2PLRHpTzmNVY8niQCPCWRQjwt5008ar6FPfYSBT5eB2A85beAPVliqjwJRjE9VAvhPI4dYjxfgcQ8kOmkPOcYDD2gjKI8BYagPHZV9T3wbQY+1mbLPJ8RbDt9t4E7LMMIPOppLzucQvI7PoBLO54clzrGFWE7LTALO7lPkTqxBw09lMIsO4MHejwwRF88O0/QPE0vrTyAgaY6+swsO0w+LzwoOrw7ijykPCbD5zt608c+mqbGPsWQNz4h8l08E4h5PQ0HPT0mU5Y8wMsaPODm/zrwXZs6iKjEO/evSTt8C1U9ZWNEPpZEwzoZl8498+IbPPQoFD0zIoc9E58ZOzAaZj2G3KA88MgiPUEu/Dz67oM7IzS1PFvR4Dy0w/s8l1fxPMi6mDzE7E49pOQmPFZ+YTs69546HuahOh5A5TpCWLg6zvSHPNTAWT3shDA6bkFmPER2vzy+Q0w8aek9PWBvVzodMQI8uiFAO/95oTvWQYY8wHAhOw+mpT6Nw6Y+igwHPpEPoTz+jjs9gWtlPXNYGTzWL5U8RExqO3496Dq/ihU8ZslCO9eeDT0Q+CA+rSC0Oifkrz2jq948l3CKPRvSeD2VrwU7ZQ6OPBSFKjxjs8c8adZOPTDgezsSHpY9L6SuPcQnGj2NXec8RjO2PGdPKD2pDnE8CZWzO06UXjtA+eI6wrc0OxxjcTv+Y4c8po6MPdksTDsIR+k88RwEPYD9tzwP/q09ZBVcO4lYZzwYL6Q7W9cUPEp/tTxHBHk7a3qDPnFciT4smwY9ALrEO6LiDjy87ss8rwHCO/PkjTzbnqI7V8I4OwJOCDwoPHY7pjAiO8RdpT21W1M7OeyKPEAktTw6sCM9iN25PE8dJTs1uDA7ki+kPCqN9Dv8i8Y8pM4LPA3xmz7oAac+iDn7PQPddz2K4HE97kKEPVgw9jws3GQ778sCOz9lDjtmRPk6lhtZO3lFXj2hhh8+rooNOxFfPT3Lyhg9lvjCPLucMz31dms7pRqCPNhzFDyX5KE83UeYPAaTWDtSLs49uo3tPROAYz10ok882ydQPRwC4j0cBUY8spm1PCRDGTthlzk7zb1gPGl1AztSsJA8ToGAPTe70DpzuM89RODhPP/Lyz2vWuc9JUmlOs/zuTwFA/k8NyilPFnO+T27bJ47GyEuPWQ0RT2Ibxo+t4SaPP53yz2VhHE9w5WuPDfcUDxUnNk6TTLQOr7DHjzFGWI7ct0+Pcrt5j1EwQU7vse8PYJmOzygsBY9LV6JPba4kjvGyXw984EWPRuWHj2WnH494vpJO0xGrDzJyMo8q/GTPHRB4D0VH4Y91a8IPgZkxjyK5p08TQ5mO6OqcDsHlCQ8IwelOyBlczwqVB89iMUxO362tjyFRfA8ZXBoPD561TzDTi07ch9NPGP3JzyRPxM8ObFlPbs1FTs/wzo+v6Q8PudeQT1lUZU8yKaGPOhe5jyBzME7YvGHPL3vgzsG5ks7bmkgPOc+NTt1Sf07CwSHPZEKlDuO7AQ9/N22PFeAHT2lW+485tclO//VpTtTs408O1gXPBhXUj3Fryc8pYOKPojmjz4x1Gs8qbq7PLFLWDy2VbA87mhGPKnQYzwQyCo9iVANPBtzMTxtJA09FqkPPKXWWj0wPd08spw3PLCzRTzTMUU8Q90LPJDCvjxNfqQ7dnoaPE2XCTyU6bc8vDOcPMtUlj5EhJU+SC1nPJWJqDz5o0g8BK6hPFK0NDyw50g8Mv8RPXUb+TvVFhY8hbDwPBADCzwnUFs9c/+8PF+FLzzFLzk8Wh06PCM+ATwP5KE8/4iYOxBQBzyUGAA8A2OlPEYGjDx+DKA+s3+fPg==\",\"dtype\":\"float32\",\"shape\":[25,25]}]},\"selected\":{\"id\":\"12654\",\"type\":\"Selection\"},\"selection_policy\":{\"id\":\"12653\",\"type\":\"UnionRenderers\"}},\"id\":\"11332\",\"type\":\"ColumnDataSource\"},{\"attributes\":{},\"id\":\"11291\",\"type\":\"LinearScale\"},{\"attributes\":{\"palette\":[\"#000000\",\"#252525\",\"#525252\",\"#737373\",\"#969696\",\"#bdbdbd\",\"#d9d9d9\",\"#f0f0f0\",\"#ffffff\"]},\"id\":\"11334\",\"type\":\"LinearColorMapper\"},{\"attributes\":{\"callback\":null,\"data\":{\"image\":[{\"__ndarray__\":\"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\",\"dtype\":\"float32\",\"shape\":[25,25]}]},\"selected\":{\"id\":\"12652\",\"type\":\"Selection\"},\"selection_policy\":{\"id\":\"12651\",\"type\":\"UnionRenderers\"}},\"id\":\"11313\",\"type\":\"ColumnDataSource\"},{\"attributes\":{\"color_mapper\":{\"id\":\"11336\",\"type\":\"LinearColorMapper\"},\"dh\":{\"units\":\"data\",\"value\":25},\"dw\":{\"units\":\"data\",\"value\":25},\"image\":{\"field\":\"image\"},\"x\":{\"value\":0},\"y\":{\"value\":0}},\"id\":\"11335\",\"type\":\"Image\"},{\"attributes\":{},\"id\":\"12656\",\"type\":\"Selection\"},{\"attributes\":{},\"id\":\"12650\",\"type\":\"Selection\"},{\"attributes\":{\"palette\":[\"#000000\",\"#252525\",\"#525252\",\"#737373\",\"#969696\",\"#bdbdbd\",\"#d9d9d9\",\"#f0f0f0\",\"#ffffff\"]},\"id\":\"11315\",\"type\":\"LinearColorMapper\"},{\"attributes\":{\"data_source\":{\"id\":\"11294\",\"type\":\"ColumnDataSource\"},\"glyph\":{\"id\":\"11295\",\"type\":\"Image\"},\"hover_glyph\":null,\"muted_glyph\":null,\"nonselection_glyph\":{\"id\":\"11297\",\"type\":\"Image\"},\"selection_glyph\":null,\"view\":{\"id\":\"11300\",\"type\":\"CDSView\"}},\"id\":\"11299\",\"type\":\"GlyphRenderer\"},{\"attributes\":{\"color_mapper\":{\"id\":\"11317\",\"type\":\"LinearColorMapper\"},\"dh\":{\"units\":\"data\",\"value\":25},\"dw\":{\"units\":\"data\",\"value\":25},\"image\":{\"field\":\"image\"},\"x\":{\"value\":0},\"y\":{\"value\":0}},\"id\":\"11316\",\"type\":\"Image\"},{\"attributes\":{},\"id\":\"12654\",\"type\":\"Selection\"},{\"attributes\":{\"palette\":[\"#000000\",\"#252525\",\"#525252\",\"#737373\",\"#969696\",\"#bdbdbd\",\"#d9d9d9\",\"#f0f0f0\",\"#ffffff\"]},\"id\":\"11355\",\"type\":\"LinearColorMapper\"},{\"attributes\":{\"active_drag\":\"auto\",\"active_inspect\":\"auto\",\"active_multi\":null,\"active_scroll\":\"auto\",\"active_tap\":\"auto\"},\"id\":\"11293\",\"type\":\"Toolbar\"},{\"attributes\":{\"callback\":null,\"data\":{\"image\":[{\"__ndarray__\":\"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\",\"dtype\":\"float32\",\"shape\":[25,25]}]},\"selected\":{\"id\":\"12650\",\"type\":\"Selection\"},\"selection_policy\":{\"id\":\"12649\",\"type\":\"UnionRenderers\"}},\"id\":\"11294\",\"type\":\"ColumnDataSource\"},{\"attributes\":{},\"id\":\"12652\",\"type\":\"Selection\"},{\"attributes\":{\"palette\":[\"#000000\",\"#252525\",\"#525252\",\"#737373\",\"#969696\",\"#bdbdbd\",\"#d9d9d9\",\"#f0f0f0\",\"#ffffff\"]},\"id\":\"11336\",\"type\":\"LinearColorMapper\"},{\"attributes\":{\"plot_height\":240,\"plot_width\":240,\"renderers\":[{\"id\":\"11318\",\"type\":\"GlyphRenderer\"}],\"title\":{\"id\":\"11302\",\"type\":\"Title\"},\"toolbar\":{\"id\":\"11312\",\"type\":\"Toolbar\"},\"x_range\":{\"id\":\"11304\",\"type\":\"Range1d\"},\"x_scale\":{\"id\":\"11308\",\"type\":\"LinearScale\"},\"y_range\":{\"id\":\"11306\",\"type\":\"Range1d\"},\"y_scale\":{\"id\":\"11310\",\"type\":\"LinearScale\"}},\"id\":\"11301\",\"subtype\":\"Figure\",\"type\":\"Plot\"},{\"attributes\":{\"source\":{\"id\":\"11351\",\"type\":\"ColumnDataSource\"}},\"id\":\"11357\",\"type\":\"CDSView\"},{\"attributes\":{\"palette\":[\"#000000\",\"#252525\",\"#525252\",\"#737373\",\"#969696\",\"#bdbdbd\",\"#d9d9d9\",\"#f0f0f0\",\"#ffffff\"]},\"id\":\"11296\",\"type\":\"LinearColorMapper\"},{\"attributes\":{},\"id\":\"12651\",\"type\":\"UnionRenderers\"},{\"attributes\":{\"color_mapper\":{\"id\":\"11298\",\"type\":\"LinearColorMapper\"},\"dh\":{\"units\":\"data\",\"value\":25},\"dw\":{\"units\":\"data\",\"value\":25},\"image\":{\"field\":\"image\"},\"x\":{\"value\":0},\"y\":{\"value\":0}},\"id\":\"11297\",\"type\":\"Image\"},{\"attributes\":{},\"id\":\"12649\",\"type\":\"UnionRenderers\"},{\"attributes\":{\"palette\":[\"#000000\",\"#252525\",\"#525252\",\"#737373\",\"#969696\",\"#bdbdbd\",\"#d9d9d9\",\"#f0f0f0\",\"#ffffff\"]},\"id\":\"11317\",\"type\":\"LinearColorMapper\"},{\"attributes\":{\"plot_height\":240,\"plot_width\":240,\"renderers\":[{\"id\":\"11337\",\"type\":\"GlyphRenderer\"}],\"title\":{\"id\":\"11321\",\"type\":\"Title\"},\"toolbar\":{\"id\":\"11331\",\"type\":\"Toolbar\"},\"x_range\":{\"id\":\"11323\",\"type\":\"Range1d\"},\"x_scale\":{\"id\":\"11327\",\"type\":\"LinearScale\"},\"y_range\":{\"id\":\"11325\",\"type\":\"Range1d\"},\"y_scale\":{\"id\":\"11329\",\"type\":\"LinearScale\"}},\"id\":\"11320\",\"subtype\":\"Figure\",\"type\":\"Plot\"},{\"attributes\":{\"plot_height\":240,\"plot_width\":240,\"renderers\":[{\"id\":\"11356\",\"type\":\"GlyphRenderer\"}],\"title\":{\"id\":\"11340\",\"type\":\"Title\"},\"toolbar\":{\"id\":\"11350\",\"type\":\"Toolbar\"},\"x_range\":{\"id\":\"11342\",\"type\":\"Range1d\"},\"x_scale\":{\"id\":\"11346\",\"type\":\"LinearScale\"},\"y_range\":{\"id\":\"11344\",\"type\":\"Range1d\"},\"y_scale\":{\"id\":\"11348\",\"type\":\"LinearScale\"}},\"id\":\"11339\",\"subtype\":\"Figure\",\"type\":\"Plot\"},{\"attributes\":{\"source\":{\"id\":\"11332\",\"type\":\"ColumnDataSource\"}},\"id\":\"11338\",\"type\":\"CDSView\"},{\"attributes\":{\"source\":{\"id\":\"11313\",\"type\":\"ColumnDataSource\"}},\"id\":\"11319\",\"type\":\"CDSView\"}],\"root_ids\":[\"12260\"]},\"title\":\"Bokeh Application\",\"version\":\"1.4.0\"}};\n",
       "  var render_items = [{\"docid\":\"56fe49c0-1514-494d-817d-e87efb6615fd\",\"roots\":{\"12260\":\"61213ad5-64ce-411b-a2dc-3717a5bcb35e\"}}];\n",
       "  root.Bokeh.embed.embed_items_notebook(docs_json, render_items);\n",
       "\n",
       "  }\n",
       "  if (root.Bokeh !== undefined) {\n",
       "    embed_document(root);\n",
       "  } else {\n",
       "    var attempts = 0;\n",
       "    var timer = setInterval(function(root) {\n",
       "      if (root.Bokeh !== undefined) {\n",
       "        clearInterval(timer);\n",
       "        embed_document(root);\n",
       "      } else {\n",
       "        attempts++;\n",
       "        if (attempts > 100) {\n",
       "          clearInterval(timer);\n",
       "          console.log(\"Bokeh: ERROR: Unable to run BokehJS code because BokehJS library is missing\");\n",
       "        }\n",
       "      }\n",
       "    }, 10, root)\n",
       "  }\n",
       "})(window);"
      ],
      "application/vnd.bokehjs_exec.v0+json": ""
     },
     "metadata": {
      "application/vnd.bokehjs_exec.v0+json": {
       "id": "12260"
      }
     },
     "output_type": "display_data"
    }
   ],
   "source": [
    "scores_1 = show_importance_of_transformers_layer(query, answer1)"
   ]
  },
  {
   "cell_type": "code",
   "execution_count": 30,
   "metadata": {},
   "outputs": [
    {
     "name": "stdout",
     "output_type": "stream",
     "text": [
      "[CLS] Which is better, a laptop or a desktop? [SEP] If you need portability, the laptop is the best option than desktop. [SEP]\n",
      "Tokenize the first sentence:\n",
      "['[CLS]', 'which', 'is', 'better', ',', 'a', 'laptop', 'or', 'a', 'desktop', '?', '[SEP]', 'if', 'you', 'need', 'port', '##ability', ',', 'the', 'laptop', 'is', 'the', 'best', 'option', 'than', 'desktop', '.', '[SEP]']\n",
      "0 10 28\n"
     ]
    },
    {
     "data": {
      "text/html": [
       "\n",
       "\n",
       "\n",
       "\n",
       "\n",
       "\n",
       "  <div class=\"bk-root\" id=\"e5a2eb7d-edec-477f-9d1b-5f37ae2201bf\" data-root-id=\"12957\"></div>\n"
      ]
     },
     "metadata": {},
     "output_type": "display_data"
    },
    {
     "data": {
      "application/javascript": [
       "(function(root) {\n",
       "  function embed_document(root) {\n",
       "    \n",
       "  var docs_json = {\"91756490-2676-4f61-a074-379d7b1825ff\":{\"roots\":{\"references\":[{\"attributes\":{\"children\":[{\"id\":\"12729\",\"subtype\":\"Figure\",\"type\":\"Plot\"},{\"id\":\"12748\",\"subtype\":\"Figure\",\"type\":\"Plot\"},{\"id\":\"12767\",\"subtype\":\"Figure\",\"type\":\"Plot\"},{\"id\":\"12786\",\"subtype\":\"Figure\",\"type\":\"Plot\"}]},\"id\":\"12957\",\"type\":\"Row\"},{\"attributes\":{\"color_mapper\":{\"id\":\"12781\",\"type\":\"LinearColorMapper\"},\"dh\":{\"units\":\"data\",\"value\":28},\"dw\":{\"units\":\"data\",\"value\":28},\"image\":{\"field\":\"image\"},\"x\":{\"value\":0},\"y\":{\"value\":0}},\"id\":\"12780\",\"type\":\"Image\"},{\"attributes\":{},\"id\":\"13362\",\"type\":\"UnionRenderers\"},{\"attributes\":{\"plot_height\":240,\"plot_width\":240,\"renderers\":[{\"id\":\"12803\",\"type\":\"GlyphRenderer\"}],\"title\":{\"id\":\"12787\",\"type\":\"Title\"},\"toolbar\":{\"id\":\"12797\",\"type\":\"Toolbar\"},\"x_range\":{\"id\":\"12789\",\"type\":\"Range1d\"},\"x_scale\":{\"id\":\"12793\",\"type\":\"LinearScale\"},\"y_range\":{\"id\":\"12791\",\"type\":\"Range1d\"},\"y_scale\":{\"id\":\"12795\",\"type\":\"LinearScale\"}},\"id\":\"12786\",\"subtype\":\"Figure\",\"type\":\"Plot\"},{\"attributes\":{},\"id\":\"12755\",\"type\":\"LinearScale\"},{\"attributes\":{\"source\":{\"id\":\"12779\",\"type\":\"ColumnDataSource\"}},\"id\":\"12785\",\"type\":\"CDSView\"},{\"attributes\":{},\"id\":\"13359\",\"type\":\"Selection\"},{\"attributes\":{\"plot_height\":240,\"plot_width\":240,\"renderers\":[{\"id\":\"12784\",\"type\":\"GlyphRenderer\"}],\"title\":{\"id\":\"12768\",\"type\":\"Title\"},\"toolbar\":{\"id\":\"12778\",\"type\":\"Toolbar\"},\"x_range\":{\"id\":\"12770\",\"type\":\"Range1d\"},\"x_scale\":{\"id\":\"12774\",\"type\":\"LinearScale\"},\"y_range\":{\"id\":\"12772\",\"type\":\"Range1d\"},\"y_scale\":{\"id\":\"12776\",\"type\":\"LinearScale\"}},\"id\":\"12767\",\"subtype\":\"Figure\",\"type\":\"Plot\"},{\"attributes\":{\"callback\":null,\"end\":28},\"id\":\"12732\",\"type\":\"Range1d\"},{\"attributes\":{},\"id\":\"13360\",\"type\":\"UnionRenderers\"},{\"attributes\":{\"source\":{\"id\":\"12760\",\"type\":\"ColumnDataSource\"}},\"id\":\"12766\",\"type\":\"CDSView\"},{\"attributes\":{},\"id\":\"12757\",\"type\":\"LinearScale\"},{\"attributes\":{\"text\":\"head 3\"},\"id\":\"12787\",\"type\":\"Title\"},{\"attributes\":{\"callback\":null,\"data\":{\"image\":[{\"__ndarray__\":\"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\",\"dtype\":\"float32\",\"shape\":[28,28]}]},\"selected\":{\"id\":\"13359\",\"type\":\"Selection\"},\"selection_policy\":{\"id\":\"13358\",\"type\":\"UnionRenderers\"}},\"id\":\"12741\",\"type\":\"ColumnDataSource\"},{\"attributes\":{},\"id\":\"13361\",\"type\":\"Selection\"},{\"attributes\":{\"text\":\"head 0\"},\"id\":\"12730\",\"type\":\"Title\"},{\"attributes\":{\"text\":\"head 2\"},\"id\":\"12768\",\"type\":\"Title\"},{\"attributes\":{\"callback\":null,\"end\":28},\"id\":\"12789\",\"type\":\"Range1d\"},{\"attributes\":{\"palette\":[\"#000000\",\"#252525\",\"#525252\",\"#737373\",\"#969696\",\"#bdbdbd\",\"#d9d9d9\",\"#f0f0f0\",\"#ffffff\"]},\"id\":\"12762\",\"type\":\"LinearColorMapper\"},{\"attributes\":{\"palette\":[\"#000000\",\"#252525\",\"#525252\",\"#737373\",\"#969696\",\"#bdbdbd\",\"#d9d9d9\",\"#f0f0f0\",\"#ffffff\"]},\"id\":\"12764\",\"type\":\"LinearColorMapper\"},{\"attributes\":{},\"id\":\"13363\",\"type\":\"Selection\"},{\"attributes\":{\"callback\":null,\"end\":28},\"id\":\"12770\",\"type\":\"Range1d\"},{\"attributes\":{\"source\":{\"id\":\"12741\",\"type\":\"ColumnDataSource\"}},\"id\":\"12747\",\"type\":\"CDSView\"},{\"attributes\":{\"color_mapper\":{\"id\":\"12764\",\"type\":\"LinearColorMapper\"},\"dh\":{\"units\":\"data\",\"value\":28},\"dw\":{\"units\":\"data\",\"value\":28},\"image\":{\"field\":\"image\"},\"x\":{\"value\":0},\"y\":{\"value\":0}},\"id\":\"12763\",\"type\":\"Image\"},{\"attributes\":{},\"id\":\"13364\",\"type\":\"UnionRenderers\"},{\"attributes\":{},\"id\":\"12736\",\"type\":\"LinearScale\"},{\"attributes\":{\"callback\":null,\"end\":28},\"id\":\"12791\",\"type\":\"Range1d\"},{\"attributes\":{},\"id\":\"13365\",\"type\":\"Selection\"},{\"attributes\":{},\"id\":\"12793\",\"type\":\"LinearScale\"},{\"attributes\":{\"callback\":null,\"end\":28},\"id\":\"12772\",\"type\":\"Range1d\"},{\"attributes\":{},\"id\":\"12795\",\"type\":\"LinearScale\"},{\"attributes\":{\"palette\":[\"#000000\",\"#252525\",\"#525252\",\"#737373\",\"#969696\",\"#bdbdbd\",\"#d9d9d9\",\"#f0f0f0\",\"#ffffff\"]},\"id\":\"12743\",\"type\":\"LinearColorMapper\"},{\"attributes\":{\"plot_height\":240,\"plot_width\":240,\"renderers\":[{\"id\":\"12746\",\"type\":\"GlyphRenderer\"}],\"title\":{\"id\":\"12730\",\"type\":\"Title\"},\"toolbar\":{\"id\":\"12740\",\"type\":\"Toolbar\"},\"x_range\":{\"id\":\"12732\",\"type\":\"Range1d\"},\"x_scale\":{\"id\":\"12736\",\"type\":\"LinearScale\"},\"y_range\":{\"id\":\"12734\",\"type\":\"Range1d\"},\"y_scale\":{\"id\":\"12738\",\"type\":\"LinearScale\"}},\"id\":\"12729\",\"subtype\":\"Figure\",\"type\":\"Plot\"},{\"attributes\":{},\"id\":\"12738\",\"type\":\"LinearScale\"},{\"attributes\":{},\"id\":\"12774\",\"type\":\"LinearScale\"},{\"attributes\":{\"callback\":null,\"data\":{\"image\":[{\"__ndarray__\":\"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\",\"dtype\":\"float32\",\"shape\":[28,28]}]},\"selected\":{\"id\":\"13361\",\"type\":\"Selection\"},\"selection_policy\":{\"id\":\"13360\",\"type\":\"UnionRenderers\"}},\"id\":\"12760\",\"type\":\"ColumnDataSource\"},{\"attributes\":{\"plot_height\":240,\"plot_width\":240,\"renderers\":[{\"id\":\"12765\",\"type\":\"GlyphRenderer\"}],\"title\":{\"id\":\"12749\",\"type\":\"Title\"},\"toolbar\":{\"id\":\"12759\",\"type\":\"Toolbar\"},\"x_range\":{\"id\":\"12751\",\"type\":\"Range1d\"},\"x_scale\":{\"id\":\"12755\",\"type\":\"LinearScale\"},\"y_range\":{\"id\":\"12753\",\"type\":\"Range1d\"},\"y_scale\":{\"id\":\"12757\",\"type\":\"LinearScale\"}},\"id\":\"12748\",\"subtype\":\"Figure\",\"type\":\"Plot\"},{\"attributes\":{\"data_source\":{\"id\":\"12760\",\"type\":\"ColumnDataSource\"},\"glyph\":{\"id\":\"12761\",\"type\":\"Image\"},\"hover_glyph\":null,\"muted_glyph\":null,\"nonselection_glyph\":{\"id\":\"12763\",\"type\":\"Image\"},\"selection_glyph\":null,\"view\":{\"id\":\"12766\",\"type\":\"CDSView\"}},\"id\":\"12765\",\"type\":\"GlyphRenderer\"},{\"attributes\":{},\"id\":\"12776\",\"type\":\"LinearScale\"},{\"attributes\":{\"data_source\":{\"id\":\"12798\",\"type\":\"ColumnDataSource\"},\"glyph\":{\"id\":\"12799\",\"type\":\"Image\"},\"hover_glyph\":null,\"muted_glyph\":null,\"nonselection_glyph\":{\"id\":\"12801\",\"type\":\"Image\"},\"selection_glyph\":null,\"view\":{\"id\":\"12804\",\"type\":\"CDSView\"}},\"id\":\"12803\",\"type\":\"GlyphRenderer\"},{\"attributes\":{\"active_drag\":\"auto\",\"active_inspect\":\"auto\",\"active_multi\":null,\"active_scroll\":\"auto\",\"active_tap\":\"auto\"},\"id\":\"12797\",\"type\":\"Toolbar\"},{\"attributes\":{\"color_mapper\":{\"id\":\"12743\",\"type\":\"LinearColorMapper\"},\"dh\":{\"units\":\"data\",\"value\":28},\"dw\":{\"units\":\"data\",\"value\":28},\"image\":{\"field\":\"image\"},\"x\":{\"value\":0},\"y\":{\"value\":0}},\"id\":\"12742\",\"type\":\"Image\"},{\"attributes\":{\"palette\":[\"#000000\",\"#252525\",\"#525252\",\"#737373\",\"#969696\",\"#bdbdbd\",\"#d9d9d9\",\"#f0f0f0\",\"#ffffff\"]},\"id\":\"12745\",\"type\":\"LinearColorMapper\"},{\"attributes\":{\"color_mapper\":{\"id\":\"12762\",\"type\":\"LinearColorMapper\"},\"dh\":{\"units\":\"data\",\"value\":28},\"dw\":{\"units\":\"data\",\"value\":28},\"image\":{\"field\":\"image\"},\"x\":{\"value\":0},\"y\":{\"value\":0}},\"id\":\"12761\",\"type\":\"Image\"},{\"attributes\":{\"palette\":[\"#000000\",\"#252525\",\"#525252\",\"#737373\",\"#969696\",\"#bdbdbd\",\"#d9d9d9\",\"#f0f0f0\",\"#ffffff\"]},\"id\":\"12783\",\"type\":\"LinearColorMapper\"},{\"attributes\":{\"data_source\":{\"id\":\"12741\",\"type\":\"ColumnDataSource\"},\"glyph\":{\"id\":\"12742\",\"type\":\"Image\"},\"hover_glyph\":null,\"muted_glyph\":null,\"nonselection_glyph\":{\"id\":\"12744\",\"type\":\"Image\"},\"selection_glyph\":null,\"view\":{\"id\":\"12747\",\"type\":\"CDSView\"}},\"id\":\"12746\",\"type\":\"GlyphRenderer\"},{\"attributes\":{\"active_drag\":\"auto\",\"active_inspect\":\"auto\",\"active_multi\":null,\"active_scroll\":\"auto\",\"active_tap\":\"auto\"},\"id\":\"12778\",\"type\":\"Toolbar\"},{\"attributes\":{\"callback\":null,\"data\":{\"image\":[{\"__ndarray__\":\"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\",\"dtype\":\"float32\",\"shape\":[28,28]}]},\"selected\":{\"id\":\"13365\",\"type\":\"Selection\"},\"selection_policy\":{\"id\":\"13364\",\"type\":\"UnionRenderers\"}},\"id\":\"12798\",\"type\":\"ColumnDataSource\"},{\"attributes\":{\"active_drag\":\"auto\",\"active_inspect\":\"auto\",\"active_multi\":null,\"active_scroll\":\"auto\",\"active_tap\":\"auto\"},\"id\":\"12740\",\"type\":\"Toolbar\"},{\"attributes\":{\"data_source\":{\"id\":\"12779\",\"type\":\"ColumnDataSource\"},\"glyph\":{\"id\":\"12780\",\"type\":\"Image\"},\"hover_glyph\":null,\"muted_glyph\":null,\"nonselection_glyph\":{\"id\":\"12782\",\"type\":\"Image\"},\"selection_glyph\":null,\"view\":{\"id\":\"12785\",\"type\":\"CDSView\"}},\"id\":\"12784\",\"type\":\"GlyphRenderer\"},{\"attributes\":{\"palette\":[\"#000000\",\"#252525\",\"#525252\",\"#737373\",\"#969696\",\"#bdbdbd\",\"#d9d9d9\",\"#f0f0f0\",\"#ffffff\"]},\"id\":\"12800\",\"type\":\"LinearColorMapper\"},{\"attributes\":{\"callback\":null,\"data\":{\"image\":[{\"__ndarray__\":\"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\",\"dtype\":\"float32\",\"shape\":[28,28]}]},\"selected\":{\"id\":\"13363\",\"type\":\"Selection\"},\"selection_policy\":{\"id\":\"13362\",\"type\":\"UnionRenderers\"}},\"id\":\"12779\",\"type\":\"ColumnDataSource\"},{\"attributes\":{\"color_mapper\":{\"id\":\"12802\",\"type\":\"LinearColorMapper\"},\"dh\":{\"units\":\"data\",\"value\":28},\"dw\":{\"units\":\"data\",\"value\":28},\"image\":{\"field\":\"image\"},\"x\":{\"value\":0},\"y\":{\"value\":0}},\"id\":\"12801\",\"type\":\"Image\"},{\"attributes\":{},\"id\":\"13358\",\"type\":\"UnionRenderers\"},{\"attributes\":{\"callback\":null,\"end\":28},\"id\":\"12751\",\"type\":\"Range1d\"},{\"attributes\":{\"text\":\"head 1\"},\"id\":\"12749\",\"type\":\"Title\"},{\"attributes\":{\"color_mapper\":{\"id\":\"12745\",\"type\":\"LinearColorMapper\"},\"dh\":{\"units\":\"data\",\"value\":28},\"dw\":{\"units\":\"data\",\"value\":28},\"image\":{\"field\":\"image\"},\"x\":{\"value\":0},\"y\":{\"value\":0}},\"id\":\"12744\",\"type\":\"Image\"},{\"attributes\":{\"palette\":[\"#000000\",\"#252525\",\"#525252\",\"#737373\",\"#969696\",\"#bdbdbd\",\"#d9d9d9\",\"#f0f0f0\",\"#ffffff\"]},\"id\":\"12781\",\"type\":\"LinearColorMapper\"},{\"attributes\":{\"active_drag\":\"auto\",\"active_inspect\":\"auto\",\"active_multi\":null,\"active_scroll\":\"auto\",\"active_tap\":\"auto\"},\"id\":\"12759\",\"type\":\"Toolbar\"},{\"attributes\":{\"color_mapper\":{\"id\":\"12783\",\"type\":\"LinearColorMapper\"},\"dh\":{\"units\":\"data\",\"value\":28},\"dw\":{\"units\":\"data\",\"value\":28},\"image\":{\"field\":\"image\"},\"x\":{\"value\":0},\"y\":{\"value\":0}},\"id\":\"12782\",\"type\":\"Image\"},{\"attributes\":{\"callback\":null,\"end\":28},\"id\":\"12734\",\"type\":\"Range1d\"},{\"attributes\":{\"palette\":[\"#000000\",\"#252525\",\"#525252\",\"#737373\",\"#969696\",\"#bdbdbd\",\"#d9d9d9\",\"#f0f0f0\",\"#ffffff\"]},\"id\":\"12802\",\"type\":\"LinearColorMapper\"},{\"attributes\":{\"color_mapper\":{\"id\":\"12800\",\"type\":\"LinearColorMapper\"},\"dh\":{\"units\":\"data\",\"value\":28},\"dw\":{\"units\":\"data\",\"value\":28},\"image\":{\"field\":\"image\"},\"x\":{\"value\":0},\"y\":{\"value\":0}},\"id\":\"12799\",\"type\":\"Image\"},{\"attributes\":{\"callback\":null,\"end\":28},\"id\":\"12753\",\"type\":\"Range1d\"},{\"attributes\":{\"source\":{\"id\":\"12798\",\"type\":\"ColumnDataSource\"}},\"id\":\"12804\",\"type\":\"CDSView\"}],\"root_ids\":[\"12957\"]},\"title\":\"Bokeh Application\",\"version\":\"1.4.0\"}};\n",
       "  var render_items = [{\"docid\":\"91756490-2676-4f61-a074-379d7b1825ff\",\"roots\":{\"12957\":\"e5a2eb7d-edec-477f-9d1b-5f37ae2201bf\"}}];\n",
       "  root.Bokeh.embed.embed_items_notebook(docs_json, render_items);\n",
       "\n",
       "  }\n",
       "  if (root.Bokeh !== undefined) {\n",
       "    embed_document(root);\n",
       "  } else {\n",
       "    var attempts = 0;\n",
       "    var timer = setInterval(function(root) {\n",
       "      if (root.Bokeh !== undefined) {\n",
       "        clearInterval(timer);\n",
       "        embed_document(root);\n",
       "      } else {\n",
       "        attempts++;\n",
       "        if (attempts > 100) {\n",
       "          clearInterval(timer);\n",
       "          console.log(\"Bokeh: ERROR: Unable to run BokehJS code because BokehJS library is missing\");\n",
       "        }\n",
       "      }\n",
       "    }, 10, root)\n",
       "  }\n",
       "})(window);"
      ],
      "application/vnd.bokehjs_exec.v0+json": ""
     },
     "metadata": {
      "application/vnd.bokehjs_exec.v0+json": {
       "id": "12957"
      }
     },
     "output_type": "display_data"
    },
    {
     "data": {
      "text/html": [
       "\n",
       "\n",
       "\n",
       "\n",
       "\n",
       "\n",
       "  <div class=\"bk-root\" id=\"61ed23dd-396d-412c-8a0c-84d9c4ceeea9\" data-root-id=\"13438\"></div>\n"
      ]
     },
     "metadata": {},
     "output_type": "display_data"
    },
    {
     "data": {
      "application/javascript": [
       "(function(root) {\n",
       "  function embed_document(root) {\n",
       "    \n",
       "  var docs_json = {\"2ec7cf00-3b0f-415f-b3ff-cffc180357bb\":{\"roots\":{\"references\":[{\"attributes\":{\"children\":[{\"id\":\"12805\",\"subtype\":\"Figure\",\"type\":\"Plot\"},{\"id\":\"12824\",\"subtype\":\"Figure\",\"type\":\"Plot\"},{\"id\":\"12843\",\"subtype\":\"Figure\",\"type\":\"Plot\"},{\"id\":\"12862\",\"subtype\":\"Figure\",\"type\":\"Plot\"}]},\"id\":\"13438\",\"type\":\"Row\"},{\"attributes\":{\"color_mapper\":{\"id\":\"12876\",\"type\":\"LinearColorMapper\"},\"dh\":{\"units\":\"data\",\"value\":28},\"dw\":{\"units\":\"data\",\"value\":28},\"image\":{\"field\":\"image\"},\"x\":{\"value\":0},\"y\":{\"value\":0}},\"id\":\"12875\",\"type\":\"Image\"},{\"attributes\":{\"text\":\"head 4\"},\"id\":\"12806\",\"type\":\"Title\"},{\"attributes\":{\"data_source\":{\"id\":\"12855\",\"type\":\"ColumnDataSource\"},\"glyph\":{\"id\":\"12856\",\"type\":\"Image\"},\"hover_glyph\":null,\"muted_glyph\":null,\"nonselection_glyph\":{\"id\":\"12858\",\"type\":\"Image\"},\"selection_glyph\":null,\"view\":{\"id\":\"12861\",\"type\":\"CDSView\"}},\"id\":\"12860\",\"type\":\"GlyphRenderer\"},{\"attributes\":{\"color_mapper\":{\"id\":\"12838\",\"type\":\"LinearColorMapper\"},\"dh\":{\"units\":\"data\",\"value\":28},\"dw\":{\"units\":\"data\",\"value\":28},\"image\":{\"field\":\"image\"},\"x\":{\"value\":0},\"y\":{\"value\":0}},\"id\":\"12837\",\"type\":\"Image\"},{\"attributes\":{\"palette\":[\"#000000\",\"#252525\",\"#525252\",\"#737373\",\"#969696\",\"#bdbdbd\",\"#d9d9d9\",\"#f0f0f0\",\"#ffffff\"]},\"id\":\"12878\",\"type\":\"LinearColorMapper\"},{\"attributes\":{\"text\":\"head 5\"},\"id\":\"12825\",\"type\":\"Title\"},{\"attributes\":{},\"id\":\"13858\",\"type\":\"Selection\"},{\"attributes\":{\"color_mapper\":{\"id\":\"12819\",\"type\":\"LinearColorMapper\"},\"dh\":{\"units\":\"data\",\"value\":28},\"dw\":{\"units\":\"data\",\"value\":28},\"image\":{\"field\":\"image\"},\"x\":{\"value\":0},\"y\":{\"value\":0}},\"id\":\"12818\",\"type\":\"Image\"},{\"attributes\":{\"callback\":null,\"end\":28},\"id\":\"12827\",\"type\":\"Range1d\"},{\"attributes\":{\"callback\":null,\"end\":28},\"id\":\"12848\",\"type\":\"Range1d\"},{\"attributes\":{\"color_mapper\":{\"id\":\"12857\",\"type\":\"LinearColorMapper\"},\"dh\":{\"units\":\"data\",\"value\":28},\"dw\":{\"units\":\"data\",\"value\":28},\"image\":{\"field\":\"image\"},\"x\":{\"value\":0},\"y\":{\"value\":0}},\"id\":\"12856\",\"type\":\"Image\"},{\"attributes\":{\"palette\":[\"#000000\",\"#252525\",\"#525252\",\"#737373\",\"#969696\",\"#bdbdbd\",\"#d9d9d9\",\"#f0f0f0\",\"#ffffff\"]},\"id\":\"12859\",\"type\":\"LinearColorMapper\"},{\"attributes\":{\"callback\":null,\"end\":28},\"id\":\"12808\",\"type\":\"Range1d\"},{\"attributes\":{\"callback\":null,\"end\":28},\"id\":\"12846\",\"type\":\"Range1d\"},{\"attributes\":{\"source\":{\"id\":\"12874\",\"type\":\"ColumnDataSource\"}},\"id\":\"12880\",\"type\":\"CDSView\"},{\"attributes\":{},\"id\":\"13857\",\"type\":\"UnionRenderers\"},{\"attributes\":{\"plot_height\":240,\"plot_width\":240,\"renderers\":[{\"id\":\"12879\",\"type\":\"GlyphRenderer\"}],\"title\":{\"id\":\"12863\",\"type\":\"Title\"},\"toolbar\":{\"id\":\"12873\",\"type\":\"Toolbar\"},\"x_range\":{\"id\":\"12865\",\"type\":\"Range1d\"},\"x_scale\":{\"id\":\"12869\",\"type\":\"LinearScale\"},\"y_range\":{\"id\":\"12867\",\"type\":\"Range1d\"},\"y_scale\":{\"id\":\"12871\",\"type\":\"LinearScale\"}},\"id\":\"12862\",\"subtype\":\"Figure\",\"type\":\"Plot\"},{\"attributes\":{\"active_drag\":\"auto\",\"active_inspect\":\"auto\",\"active_multi\":null,\"active_scroll\":\"auto\",\"active_tap\":\"auto\"},\"id\":\"12854\",\"type\":\"Toolbar\"},{\"attributes\":{\"source\":{\"id\":\"12855\",\"type\":\"ColumnDataSource\"}},\"id\":\"12861\",\"type\":\"CDSView\"},{\"attributes\":{\"callback\":null,\"end\":28},\"id\":\"12829\",\"type\":\"Range1d\"},{\"attributes\":{\"callback\":null,\"end\":28},\"id\":\"12810\",\"type\":\"Range1d\"},{\"attributes\":{},\"id\":\"12831\",\"type\":\"LinearScale\"},{\"attributes\":{},\"id\":\"12812\",\"type\":\"LinearScale\"},{\"attributes\":{},\"id\":\"12833\",\"type\":\"LinearScale\"},{\"attributes\":{\"text\":\"head 7\"},\"id\":\"12863\",\"type\":\"Title\"},{\"attributes\":{},\"id\":\"13851\",\"type\":\"UnionRenderers\"},{\"attributes\":{},\"id\":\"12814\",\"type\":\"LinearScale\"},{\"attributes\":{\"callback\":null,\"end\":28},\"id\":\"12865\",\"type\":\"Range1d\"},{\"attributes\":{\"data_source\":{\"id\":\"12836\",\"type\":\"ColumnDataSource\"},\"glyph\":{\"id\":\"12837\",\"type\":\"Image\"},\"hover_glyph\":null,\"muted_glyph\":null,\"nonselection_glyph\":{\"id\":\"12839\",\"type\":\"Image\"},\"selection_glyph\":null,\"view\":{\"id\":\"12842\",\"type\":\"CDSView\"}},\"id\":\"12841\",\"type\":\"GlyphRenderer\"},{\"attributes\":{},\"id\":\"12850\",\"type\":\"LinearScale\"},{\"attributes\":{\"text\":\"head 6\"},\"id\":\"12844\",\"type\":\"Title\"},{\"attributes\":{\"data_source\":{\"id\":\"12817\",\"type\":\"ColumnDataSource\"},\"glyph\":{\"id\":\"12818\",\"type\":\"Image\"},\"hover_glyph\":null,\"muted_glyph\":null,\"nonselection_glyph\":{\"id\":\"12820\",\"type\":\"Image\"},\"selection_glyph\":null,\"view\":{\"id\":\"12823\",\"type\":\"CDSView\"}},\"id\":\"12822\",\"type\":\"GlyphRenderer\"},{\"attributes\":{\"active_drag\":\"auto\",\"active_inspect\":\"auto\",\"active_multi\":null,\"active_scroll\":\"auto\",\"active_tap\":\"auto\"},\"id\":\"12835\",\"type\":\"Toolbar\"},{\"attributes\":{\"active_drag\":\"auto\",\"active_inspect\":\"auto\",\"active_multi\":null,\"active_scroll\":\"auto\",\"active_tap\":\"auto\"},\"id\":\"12816\",\"type\":\"Toolbar\"},{\"attributes\":{\"color_mapper\":{\"id\":\"12859\",\"type\":\"LinearColorMapper\"},\"dh\":{\"units\":\"data\",\"value\":28},\"dw\":{\"units\":\"data\",\"value\":28},\"image\":{\"field\":\"image\"},\"x\":{\"value\":0},\"y\":{\"value\":0}},\"id\":\"12858\",\"type\":\"Image\"},{\"attributes\":{\"callback\":null,\"data\":{\"image\":[{\"__ndarray__\":\"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\",\"dtype\":\"float32\",\"shape\":[28,28]}]},\"selected\":{\"id\":\"13854\",\"type\":\"Selection\"},\"selection_policy\":{\"id\":\"13853\",\"type\":\"UnionRenderers\"}},\"id\":\"12836\",\"type\":\"ColumnDataSource\"},{\"attributes\":{\"callback\":null,\"end\":28},\"id\":\"12867\",\"type\":\"Range1d\"},{\"attributes\":{\"callback\":null,\"data\":{\"image\":[{\"__ndarray__\":\"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\",\"dtype\":\"float32\",\"shape\":[28,28]}]},\"selected\":{\"id\":\"13852\",\"type\":\"Selection\"},\"selection_policy\":{\"id\":\"13851\",\"type\":\"UnionRenderers\"}},\"id\":\"12817\",\"type\":\"ColumnDataSource\"},{\"attributes\":{\"palette\":[\"#000000\",\"#252525\",\"#525252\",\"#737373\",\"#969696\",\"#bdbdbd\",\"#d9d9d9\",\"#f0f0f0\",\"#ffffff\"]},\"id\":\"12838\",\"type\":\"LinearColorMapper\"},{\"attributes\":{},\"id\":\"12869\",\"type\":\"LinearScale\"},{\"attributes\":{\"color_mapper\":{\"id\":\"12840\",\"type\":\"LinearColorMapper\"},\"dh\":{\"units\":\"data\",\"value\":28},\"dw\":{\"units\":\"data\",\"value\":28},\"image\":{\"field\":\"image\"},\"x\":{\"value\":0},\"y\":{\"value\":0}},\"id\":\"12839\",\"type\":\"Image\"},{\"attributes\":{\"palette\":[\"#000000\",\"#252525\",\"#525252\",\"#737373\",\"#969696\",\"#bdbdbd\",\"#d9d9d9\",\"#f0f0f0\",\"#ffffff\"]},\"id\":\"12819\",\"type\":\"LinearColorMapper\"},{\"attributes\":{},\"id\":\"13855\",\"type\":\"UnionRenderers\"},{\"attributes\":{},\"id\":\"12871\",\"type\":\"LinearScale\"},{\"attributes\":{\"color_mapper\":{\"id\":\"12821\",\"type\":\"LinearColorMapper\"},\"dh\":{\"units\":\"data\",\"value\":28},\"dw\":{\"units\":\"data\",\"value\":28},\"image\":{\"field\":\"image\"},\"x\":{\"value\":0},\"y\":{\"value\":0}},\"id\":\"12820\",\"type\":\"Image\"},{\"attributes\":{\"source\":{\"id\":\"12836\",\"type\":\"ColumnDataSource\"}},\"id\":\"12842\",\"type\":\"CDSView\"},{\"attributes\":{},\"id\":\"12852\",\"type\":\"LinearScale\"},{\"attributes\":{},\"id\":\"13854\",\"type\":\"Selection\"},{\"attributes\":{},\"id\":\"13852\",\"type\":\"Selection\"},{\"attributes\":{\"data_source\":{\"id\":\"12874\",\"type\":\"ColumnDataSource\"},\"glyph\":{\"id\":\"12875\",\"type\":\"Image\"},\"hover_glyph\":null,\"muted_glyph\":null,\"nonselection_glyph\":{\"id\":\"12877\",\"type\":\"Image\"},\"selection_glyph\":null,\"view\":{\"id\":\"12880\",\"type\":\"CDSView\"}},\"id\":\"12879\",\"type\":\"GlyphRenderer\"},{\"attributes\":{\"active_drag\":\"auto\",\"active_inspect\":\"auto\",\"active_multi\":null,\"active_scroll\":\"auto\",\"active_tap\":\"auto\"},\"id\":\"12873\",\"type\":\"Toolbar\"},{\"attributes\":{\"palette\":[\"#000000\",\"#252525\",\"#525252\",\"#737373\",\"#969696\",\"#bdbdbd\",\"#d9d9d9\",\"#f0f0f0\",\"#ffffff\"]},\"id\":\"12840\",\"type\":\"LinearColorMapper\"},{\"attributes\":{\"callback\":null,\"data\":{\"image\":[{\"__ndarray__\":\"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\",\"dtype\":\"float32\",\"shape\":[28,28]}]},\"selected\":{\"id\":\"13856\",\"type\":\"Selection\"},\"selection_policy\":{\"id\":\"13855\",\"type\":\"UnionRenderers\"}},\"id\":\"12855\",\"type\":\"ColumnDataSource\"},{\"attributes\":{\"palette\":[\"#000000\",\"#252525\",\"#525252\",\"#737373\",\"#969696\",\"#bdbdbd\",\"#d9d9d9\",\"#f0f0f0\",\"#ffffff\"]},\"id\":\"12821\",\"type\":\"LinearColorMapper\"},{\"attributes\":{\"callback\":null,\"data\":{\"image\":[{\"__ndarray__\":\"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\",\"dtype\":\"float32\",\"shape\":[28,28]}]},\"selected\":{\"id\":\"13858\",\"type\":\"Selection\"},\"selection_policy\":{\"id\":\"13857\",\"type\":\"UnionRenderers\"}},\"id\":\"12874\",\"type\":\"ColumnDataSource\"},{\"attributes\":{},\"id\":\"13853\",\"type\":\"UnionRenderers\"},{\"attributes\":{\"plot_height\":240,\"plot_width\":240,\"renderers\":[{\"id\":\"12860\",\"type\":\"GlyphRenderer\"}],\"title\":{\"id\":\"12844\",\"type\":\"Title\"},\"toolbar\":{\"id\":\"12854\",\"type\":\"Toolbar\"},\"x_range\":{\"id\":\"12846\",\"type\":\"Range1d\"},\"x_scale\":{\"id\":\"12850\",\"type\":\"LinearScale\"},\"y_range\":{\"id\":\"12848\",\"type\":\"Range1d\"},\"y_scale\":{\"id\":\"12852\",\"type\":\"LinearScale\"}},\"id\":\"12843\",\"subtype\":\"Figure\",\"type\":\"Plot\"},{\"attributes\":{\"palette\":[\"#000000\",\"#252525\",\"#525252\",\"#737373\",\"#969696\",\"#bdbdbd\",\"#d9d9d9\",\"#f0f0f0\",\"#ffffff\"]},\"id\":\"12857\",\"type\":\"LinearColorMapper\"},{\"attributes\":{\"palette\":[\"#000000\",\"#252525\",\"#525252\",\"#737373\",\"#969696\",\"#bdbdbd\",\"#d9d9d9\",\"#f0f0f0\",\"#ffffff\"]},\"id\":\"12876\",\"type\":\"LinearColorMapper\"},{\"attributes\":{\"plot_height\":240,\"plot_width\":240,\"renderers\":[{\"id\":\"12822\",\"type\":\"GlyphRenderer\"}],\"title\":{\"id\":\"12806\",\"type\":\"Title\"},\"toolbar\":{\"id\":\"12816\",\"type\":\"Toolbar\"},\"x_range\":{\"id\":\"12808\",\"type\":\"Range1d\"},\"x_scale\":{\"id\":\"12812\",\"type\":\"LinearScale\"},\"y_range\":{\"id\":\"12810\",\"type\":\"Range1d\"},\"y_scale\":{\"id\":\"12814\",\"type\":\"LinearScale\"}},\"id\":\"12805\",\"subtype\":\"Figure\",\"type\":\"Plot\"},{\"attributes\":{\"color_mapper\":{\"id\":\"12878\",\"type\":\"LinearColorMapper\"},\"dh\":{\"units\":\"data\",\"value\":28},\"dw\":{\"units\":\"data\",\"value\":28},\"image\":{\"field\":\"image\"},\"x\":{\"value\":0},\"y\":{\"value\":0}},\"id\":\"12877\",\"type\":\"Image\"},{\"attributes\":{},\"id\":\"13856\",\"type\":\"Selection\"},{\"attributes\":{\"source\":{\"id\":\"12817\",\"type\":\"ColumnDataSource\"}},\"id\":\"12823\",\"type\":\"CDSView\"},{\"attributes\":{\"plot_height\":240,\"plot_width\":240,\"renderers\":[{\"id\":\"12841\",\"type\":\"GlyphRenderer\"}],\"title\":{\"id\":\"12825\",\"type\":\"Title\"},\"toolbar\":{\"id\":\"12835\",\"type\":\"Toolbar\"},\"x_range\":{\"id\":\"12827\",\"type\":\"Range1d\"},\"x_scale\":{\"id\":\"12831\",\"type\":\"LinearScale\"},\"y_range\":{\"id\":\"12829\",\"type\":\"Range1d\"},\"y_scale\":{\"id\":\"12833\",\"type\":\"LinearScale\"}},\"id\":\"12824\",\"subtype\":\"Figure\",\"type\":\"Plot\"}],\"root_ids\":[\"13438\"]},\"title\":\"Bokeh Application\",\"version\":\"1.4.0\"}};\n",
       "  var render_items = [{\"docid\":\"2ec7cf00-3b0f-415f-b3ff-cffc180357bb\",\"roots\":{\"13438\":\"61ed23dd-396d-412c-8a0c-84d9c4ceeea9\"}}];\n",
       "  root.Bokeh.embed.embed_items_notebook(docs_json, render_items);\n",
       "\n",
       "  }\n",
       "  if (root.Bokeh !== undefined) {\n",
       "    embed_document(root);\n",
       "  } else {\n",
       "    var attempts = 0;\n",
       "    var timer = setInterval(function(root) {\n",
       "      if (root.Bokeh !== undefined) {\n",
       "        clearInterval(timer);\n",
       "        embed_document(root);\n",
       "      } else {\n",
       "        attempts++;\n",
       "        if (attempts > 100) {\n",
       "          clearInterval(timer);\n",
       "          console.log(\"Bokeh: ERROR: Unable to run BokehJS code because BokehJS library is missing\");\n",
       "        }\n",
       "      }\n",
       "    }, 10, root)\n",
       "  }\n",
       "})(window);"
      ],
      "application/vnd.bokehjs_exec.v0+json": ""
     },
     "metadata": {
      "application/vnd.bokehjs_exec.v0+json": {
       "id": "13438"
      }
     },
     "output_type": "display_data"
    },
    {
     "data": {
      "text/html": [
       "\n",
       "\n",
       "\n",
       "\n",
       "\n",
       "\n",
       "  <div class=\"bk-root\" id=\"76f058e3-d924-4f17-af6a-375f70dec0e2\" data-root-id=\"13931\"></div>\n"
      ]
     },
     "metadata": {},
     "output_type": "display_data"
    },
    {
     "data": {
      "application/javascript": [
       "(function(root) {\n",
       "  function embed_document(root) {\n",
       "    \n",
       "  var docs_json = {\"4a59989c-fe36-481c-bc4d-a6ef502024d3\":{\"roots\":{\"references\":[{\"attributes\":{\"children\":[{\"id\":\"12881\",\"subtype\":\"Figure\",\"type\":\"Plot\"},{\"id\":\"12900\",\"subtype\":\"Figure\",\"type\":\"Plot\"},{\"id\":\"12919\",\"subtype\":\"Figure\",\"type\":\"Plot\"},{\"id\":\"12938\",\"subtype\":\"Figure\",\"type\":\"Plot\"}]},\"id\":\"13931\",\"type\":\"Row\"},{\"attributes\":{\"plot_height\":240,\"plot_width\":240,\"renderers\":[{\"id\":\"12917\",\"type\":\"GlyphRenderer\"}],\"title\":{\"id\":\"12901\",\"type\":\"Title\"},\"toolbar\":{\"id\":\"12911\",\"type\":\"Toolbar\"},\"x_range\":{\"id\":\"12903\",\"type\":\"Range1d\"},\"x_scale\":{\"id\":\"12907\",\"type\":\"LinearScale\"},\"y_range\":{\"id\":\"12905\",\"type\":\"Range1d\"},\"y_scale\":{\"id\":\"12909\",\"type\":\"LinearScale\"}},\"id\":\"12900\",\"subtype\":\"Figure\",\"type\":\"Plot\"},{\"attributes\":{\"text\":\"head 10\"},\"id\":\"12920\",\"type\":\"Title\"},{\"attributes\":{\"callback\":null,\"end\":28},\"id\":\"12941\",\"type\":\"Range1d\"},{\"attributes\":{},\"id\":\"14359\",\"type\":\"Selection\"},{\"attributes\":{\"callback\":null,\"end\":28},\"id\":\"12922\",\"type\":\"Range1d\"},{\"attributes\":{\"source\":{\"id\":\"12893\",\"type\":\"ColumnDataSource\"}},\"id\":\"12899\",\"type\":\"CDSView\"},{\"attributes\":{\"plot_height\":240,\"plot_width\":240,\"renderers\":[{\"id\":\"12898\",\"type\":\"GlyphRenderer\"}],\"title\":{\"id\":\"12882\",\"type\":\"Title\"},\"toolbar\":{\"id\":\"12892\",\"type\":\"Toolbar\"},\"x_range\":{\"id\":\"12884\",\"type\":\"Range1d\"},\"x_scale\":{\"id\":\"12888\",\"type\":\"LinearScale\"},\"y_range\":{\"id\":\"12886\",\"type\":\"Range1d\"},\"y_scale\":{\"id\":\"12890\",\"type\":\"LinearScale\"}},\"id\":\"12881\",\"subtype\":\"Figure\",\"type\":\"Plot\"},{\"attributes\":{\"text\":\"head 9\"},\"id\":\"12901\",\"type\":\"Title\"},{\"attributes\":{\"color_mapper\":{\"id\":\"12914\",\"type\":\"LinearColorMapper\"},\"dh\":{\"units\":\"data\",\"value\":28},\"dw\":{\"units\":\"data\",\"value\":28},\"image\":{\"field\":\"image\"},\"x\":{\"value\":0},\"y\":{\"value\":0}},\"id\":\"12913\",\"type\":\"Image\"},{\"attributes\":{\"callback\":null,\"end\":28},\"id\":\"12903\",\"type\":\"Range1d\"},{\"attributes\":{\"callback\":null,\"end\":28},\"id\":\"12943\",\"type\":\"Range1d\"},{\"attributes\":{},\"id\":\"12945\",\"type\":\"LinearScale\"},{\"attributes\":{},\"id\":\"14357\",\"type\":\"Selection\"},{\"attributes\":{},\"id\":\"14362\",\"type\":\"UnionRenderers\"},{\"attributes\":{\"text\":\"head 8\"},\"id\":\"12882\",\"type\":\"Title\"},{\"attributes\":{\"callback\":null,\"end\":28},\"id\":\"12924\",\"type\":\"Range1d\"},{\"attributes\":{},\"id\":\"12947\",\"type\":\"LinearScale\"},{\"attributes\":{},\"id\":\"12926\",\"type\":\"LinearScale\"},{\"attributes\":{\"callback\":null,\"end\":28},\"id\":\"12884\",\"type\":\"Range1d\"},{\"attributes\":{},\"id\":\"12928\",\"type\":\"LinearScale\"},{\"attributes\":{\"callback\":null,\"end\":28},\"id\":\"12905\",\"type\":\"Range1d\"},{\"attributes\":{\"data_source\":{\"id\":\"12950\",\"type\":\"ColumnDataSource\"},\"glyph\":{\"id\":\"12951\",\"type\":\"Image\"},\"hover_glyph\":null,\"muted_glyph\":null,\"nonselection_glyph\":{\"id\":\"12953\",\"type\":\"Image\"},\"selection_glyph\":null,\"view\":{\"id\":\"12956\",\"type\":\"CDSView\"}},\"id\":\"12955\",\"type\":\"GlyphRenderer\"},{\"attributes\":{},\"id\":\"14363\",\"type\":\"Selection\"},{\"attributes\":{},\"id\":\"12907\",\"type\":\"LinearScale\"},{\"attributes\":{\"active_drag\":\"auto\",\"active_inspect\":\"auto\",\"active_multi\":null,\"active_scroll\":\"auto\",\"active_tap\":\"auto\"},\"id\":\"12949\",\"type\":\"Toolbar\"},{\"attributes\":{},\"id\":\"14358\",\"type\":\"UnionRenderers\"},{\"attributes\":{},\"id\":\"12909\",\"type\":\"LinearScale\"},{\"attributes\":{\"data_source\":{\"id\":\"12931\",\"type\":\"ColumnDataSource\"},\"glyph\":{\"id\":\"12932\",\"type\":\"Image\"},\"hover_glyph\":null,\"muted_glyph\":null,\"nonselection_glyph\":{\"id\":\"12934\",\"type\":\"Image\"},\"selection_glyph\":null,\"view\":{\"id\":\"12937\",\"type\":\"CDSView\"}},\"id\":\"12936\",\"type\":\"GlyphRenderer\"},{\"attributes\":{\"palette\":[\"#000000\",\"#252525\",\"#525252\",\"#737373\",\"#969696\",\"#bdbdbd\",\"#d9d9d9\",\"#f0f0f0\",\"#ffffff\"]},\"id\":\"12897\",\"type\":\"LinearColorMapper\"},{\"attributes\":{},\"id\":\"14360\",\"type\":\"UnionRenderers\"},{\"attributes\":{\"active_drag\":\"auto\",\"active_inspect\":\"auto\",\"active_multi\":null,\"active_scroll\":\"auto\",\"active_tap\":\"auto\"},\"id\":\"12930\",\"type\":\"Toolbar\"},{\"attributes\":{\"callback\":null,\"data\":{\"image\":[{\"__ndarray__\":\"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\",\"dtype\":\"float32\",\"shape\":[28,28]}]},\"selected\":{\"id\":\"14363\",\"type\":\"Selection\"},\"selection_policy\":{\"id\":\"14362\",\"type\":\"UnionRenderers\"}},\"id\":\"12950\",\"type\":\"ColumnDataSource\"},{\"attributes\":{\"callback\":null,\"end\":28},\"id\":\"12886\",\"type\":\"Range1d\"},{\"attributes\":{\"color_mapper\":{\"id\":\"12952\",\"type\":\"LinearColorMapper\"},\"dh\":{\"units\":\"data\",\"value\":28},\"dw\":{\"units\":\"data\",\"value\":28},\"image\":{\"field\":\"image\"},\"x\":{\"value\":0},\"y\":{\"value\":0}},\"id\":\"12951\",\"type\":\"Image\"},{\"attributes\":{\"palette\":[\"#000000\",\"#252525\",\"#525252\",\"#737373\",\"#969696\",\"#bdbdbd\",\"#d9d9d9\",\"#f0f0f0\",\"#ffffff\"]},\"id\":\"12952\",\"type\":\"LinearColorMapper\"},{\"attributes\":{},\"id\":\"12888\",\"type\":\"LinearScale\"},{\"attributes\":{\"data_source\":{\"id\":\"12912\",\"type\":\"ColumnDataSource\"},\"glyph\":{\"id\":\"12913\",\"type\":\"Image\"},\"hover_glyph\":null,\"muted_glyph\":null,\"nonselection_glyph\":{\"id\":\"12915\",\"type\":\"Image\"},\"selection_glyph\":null,\"view\":{\"id\":\"12918\",\"type\":\"CDSView\"}},\"id\":\"12917\",\"type\":\"GlyphRenderer\"},{\"attributes\":{\"callback\":null,\"data\":{\"image\":[{\"__ndarray__\":\"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\",\"dtype\":\"float32\",\"shape\":[28,28]}]},\"selected\":{\"id\":\"14361\",\"type\":\"Selection\"},\"selection_policy\":{\"id\":\"14360\",\"type\":\"UnionRenderers\"}},\"id\":\"12931\",\"type\":\"ColumnDataSource\"},{\"attributes\":{\"color_mapper\":{\"id\":\"12954\",\"type\":\"LinearColorMapper\"},\"dh\":{\"units\":\"data\",\"value\":28},\"dw\":{\"units\":\"data\",\"value\":28},\"image\":{\"field\":\"image\"},\"x\":{\"value\":0},\"y\":{\"value\":0}},\"id\":\"12953\",\"type\":\"Image\"},{\"attributes\":{},\"id\":\"12890\",\"type\":\"LinearScale\"},{\"attributes\":{\"active_drag\":\"auto\",\"active_inspect\":\"auto\",\"active_multi\":null,\"active_scroll\":\"auto\",\"active_tap\":\"auto\"},\"id\":\"12911\",\"type\":\"Toolbar\"},{\"attributes\":{\"palette\":[\"#000000\",\"#252525\",\"#525252\",\"#737373\",\"#969696\",\"#bdbdbd\",\"#d9d9d9\",\"#f0f0f0\",\"#ffffff\"]},\"id\":\"12933\",\"type\":\"LinearColorMapper\"},{\"attributes\":{\"color_mapper\":{\"id\":\"12935\",\"type\":\"LinearColorMapper\"},\"dh\":{\"units\":\"data\",\"value\":28},\"dw\":{\"units\":\"data\",\"value\":28},\"image\":{\"field\":\"image\"},\"x\":{\"value\":0},\"y\":{\"value\":0}},\"id\":\"12934\",\"type\":\"Image\"},{\"attributes\":{\"color_mapper\":{\"id\":\"12933\",\"type\":\"LinearColorMapper\"},\"dh\":{\"units\":\"data\",\"value\":28},\"dw\":{\"units\":\"data\",\"value\":28},\"image\":{\"field\":\"image\"},\"x\":{\"value\":0},\"y\":{\"value\":0}},\"id\":\"12932\",\"type\":\"Image\"},{\"attributes\":{\"callback\":null,\"data\":{\"image\":[{\"__ndarray__\":\"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\",\"dtype\":\"float32\",\"shape\":[28,28]}]},\"selected\":{\"id\":\"14359\",\"type\":\"Selection\"},\"selection_policy\":{\"id\":\"14358\",\"type\":\"UnionRenderers\"}},\"id\":\"12912\",\"type\":\"ColumnDataSource\"},{\"attributes\":{},\"id\":\"14361\",\"type\":\"Selection\"},{\"attributes\":{\"data_source\":{\"id\":\"12893\",\"type\":\"ColumnDataSource\"},\"glyph\":{\"id\":\"12894\",\"type\":\"Image\"},\"hover_glyph\":null,\"muted_glyph\":null,\"nonselection_glyph\":{\"id\":\"12896\",\"type\":\"Image\"},\"selection_glyph\":null,\"view\":{\"id\":\"12899\",\"type\":\"CDSView\"}},\"id\":\"12898\",\"type\":\"GlyphRenderer\"},{\"attributes\":{\"palette\":[\"#000000\",\"#252525\",\"#525252\",\"#737373\",\"#969696\",\"#bdbdbd\",\"#d9d9d9\",\"#f0f0f0\",\"#ffffff\"]},\"id\":\"12914\",\"type\":\"LinearColorMapper\"},{\"attributes\":{\"active_drag\":\"auto\",\"active_inspect\":\"auto\",\"active_multi\":null,\"active_scroll\":\"auto\",\"active_tap\":\"auto\"},\"id\":\"12892\",\"type\":\"Toolbar\"},{\"attributes\":{\"color_mapper\":{\"id\":\"12916\",\"type\":\"LinearColorMapper\"},\"dh\":{\"units\":\"data\",\"value\":28},\"dw\":{\"units\":\"data\",\"value\":28},\"image\":{\"field\":\"image\"},\"x\":{\"value\":0},\"y\":{\"value\":0}},\"id\":\"12915\",\"type\":\"Image\"},{\"attributes\":{\"palette\":[\"#000000\",\"#252525\",\"#525252\",\"#737373\",\"#969696\",\"#bdbdbd\",\"#d9d9d9\",\"#f0f0f0\",\"#ffffff\"]},\"id\":\"12954\",\"type\":\"LinearColorMapper\"},{\"attributes\":{\"callback\":null,\"data\":{\"image\":[{\"__ndarray__\":\"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\",\"dtype\":\"float32\",\"shape\":[28,28]}]},\"selected\":{\"id\":\"14357\",\"type\":\"Selection\"},\"selection_policy\":{\"id\":\"14356\",\"type\":\"UnionRenderers\"}},\"id\":\"12893\",\"type\":\"ColumnDataSource\"},{\"attributes\":{\"palette\":[\"#000000\",\"#252525\",\"#525252\",\"#737373\",\"#969696\",\"#bdbdbd\",\"#d9d9d9\",\"#f0f0f0\",\"#ffffff\"]},\"id\":\"12935\",\"type\":\"LinearColorMapper\"},{\"attributes\":{\"palette\":[\"#000000\",\"#252525\",\"#525252\",\"#737373\",\"#969696\",\"#bdbdbd\",\"#d9d9d9\",\"#f0f0f0\",\"#ffffff\"]},\"id\":\"12895\",\"type\":\"LinearColorMapper\"},{\"attributes\":{\"color_mapper\":{\"id\":\"12897\",\"type\":\"LinearColorMapper\"},\"dh\":{\"units\":\"data\",\"value\":28},\"dw\":{\"units\":\"data\",\"value\":28},\"image\":{\"field\":\"image\"},\"x\":{\"value\":0},\"y\":{\"value\":0}},\"id\":\"12896\",\"type\":\"Image\"},{\"attributes\":{\"color_mapper\":{\"id\":\"12895\",\"type\":\"LinearColorMapper\"},\"dh\":{\"units\":\"data\",\"value\":28},\"dw\":{\"units\":\"data\",\"value\":28},\"image\":{\"field\":\"image\"},\"x\":{\"value\":0},\"y\":{\"value\":0}},\"id\":\"12894\",\"type\":\"Image\"},{\"attributes\":{\"source\":{\"id\":\"12950\",\"type\":\"ColumnDataSource\"}},\"id\":\"12956\",\"type\":\"CDSView\"},{\"attributes\":{\"plot_height\":240,\"plot_width\":240,\"renderers\":[{\"id\":\"12955\",\"type\":\"GlyphRenderer\"}],\"title\":{\"id\":\"12939\",\"type\":\"Title\"},\"toolbar\":{\"id\":\"12949\",\"type\":\"Toolbar\"},\"x_range\":{\"id\":\"12941\",\"type\":\"Range1d\"},\"x_scale\":{\"id\":\"12945\",\"type\":\"LinearScale\"},\"y_range\":{\"id\":\"12943\",\"type\":\"Range1d\"},\"y_scale\":{\"id\":\"12947\",\"type\":\"LinearScale\"}},\"id\":\"12938\",\"subtype\":\"Figure\",\"type\":\"Plot\"},{\"attributes\":{},\"id\":\"14356\",\"type\":\"UnionRenderers\"},{\"attributes\":{\"palette\":[\"#000000\",\"#252525\",\"#525252\",\"#737373\",\"#969696\",\"#bdbdbd\",\"#d9d9d9\",\"#f0f0f0\",\"#ffffff\"]},\"id\":\"12916\",\"type\":\"LinearColorMapper\"},{\"attributes\":{\"source\":{\"id\":\"12931\",\"type\":\"ColumnDataSource\"}},\"id\":\"12937\",\"type\":\"CDSView\"},{\"attributes\":{\"text\":\"head 11\"},\"id\":\"12939\",\"type\":\"Title\"},{\"attributes\":{\"plot_height\":240,\"plot_width\":240,\"renderers\":[{\"id\":\"12936\",\"type\":\"GlyphRenderer\"}],\"title\":{\"id\":\"12920\",\"type\":\"Title\"},\"toolbar\":{\"id\":\"12930\",\"type\":\"Toolbar\"},\"x_range\":{\"id\":\"12922\",\"type\":\"Range1d\"},\"x_scale\":{\"id\":\"12926\",\"type\":\"LinearScale\"},\"y_range\":{\"id\":\"12924\",\"type\":\"Range1d\"},\"y_scale\":{\"id\":\"12928\",\"type\":\"LinearScale\"}},\"id\":\"12919\",\"subtype\":\"Figure\",\"type\":\"Plot\"},{\"attributes\":{\"source\":{\"id\":\"12912\",\"type\":\"ColumnDataSource\"}},\"id\":\"12918\",\"type\":\"CDSView\"}],\"root_ids\":[\"13931\"]},\"title\":\"Bokeh Application\",\"version\":\"1.4.0\"}};\n",
       "  var render_items = [{\"docid\":\"4a59989c-fe36-481c-bc4d-a6ef502024d3\",\"roots\":{\"13931\":\"76f058e3-d924-4f17-af6a-375f70dec0e2\"}}];\n",
       "  root.Bokeh.embed.embed_items_notebook(docs_json, render_items);\n",
       "\n",
       "  }\n",
       "  if (root.Bokeh !== undefined) {\n",
       "    embed_document(root);\n",
       "  } else {\n",
       "    var attempts = 0;\n",
       "    var timer = setInterval(function(root) {\n",
       "      if (root.Bokeh !== undefined) {\n",
       "        clearInterval(timer);\n",
       "        embed_document(root);\n",
       "      } else {\n",
       "        attempts++;\n",
       "        if (attempts > 100) {\n",
       "          clearInterval(timer);\n",
       "          console.log(\"Bokeh: ERROR: Unable to run BokehJS code because BokehJS library is missing\");\n",
       "        }\n",
       "      }\n",
       "    }, 10, root)\n",
       "  }\n",
       "})(window);"
      ],
      "application/vnd.bokehjs_exec.v0+json": ""
     },
     "metadata": {
      "application/vnd.bokehjs_exec.v0+json": {
       "id": "13931"
      }
     },
     "output_type": "display_data"
    }
   ],
   "source": [
    "scores_2 = show_importance_of_transformers_layer(query, answer2)"
   ]
  },
  {
   "cell_type": "code",
   "execution_count": 31,
   "metadata": {},
   "outputs": [
    {
     "name": "stdout",
     "output_type": "stream",
     "text": [
      "[CLS] Which is better, a laptop or a desktop? [SEP] The crew was complete: it included a boots, a maker of bonnets and hoods [SEP]\n",
      "Tokenize the first sentence:\n",
      "['[CLS]', 'which', 'is', 'better', ',', 'a', 'laptop', 'or', 'a', 'desktop', '?', '[SEP]', 'the', 'crew', 'was', 'complete', ':', 'it', 'included', 'a', 'boots', ',', 'a', 'maker', 'of', 'bonnet', '##s', 'and', 'hood', '##s', '[SEP]']\n",
      "0 10 31\n"
     ]
    },
    {
     "data": {
      "text/html": [
       "\n",
       "\n",
       "\n",
       "\n",
       "\n",
       "\n",
       "  <div class=\"bk-root\" id=\"0dfb47f1-9c8b-48ad-b825-fe6e537e4a5e\" data-root-id=\"14664\"></div>\n"
      ]
     },
     "metadata": {},
     "output_type": "display_data"
    },
    {
     "data": {
      "application/javascript": [
       "(function(root) {\n",
       "  function embed_document(root) {\n",
       "    \n",
       "  var docs_json = {\"979747fc-ca96-4a79-ac77-274b52520826\":{\"roots\":{\"references\":[{\"attributes\":{\"children\":[{\"id\":\"14436\",\"subtype\":\"Figure\",\"type\":\"Plot\"},{\"id\":\"14455\",\"subtype\":\"Figure\",\"type\":\"Plot\"},{\"id\":\"14474\",\"subtype\":\"Figure\",\"type\":\"Plot\"},{\"id\":\"14493\",\"subtype\":\"Figure\",\"type\":\"Plot\"}]},\"id\":\"14664\",\"type\":\"Row\"},{\"attributes\":{\"data_source\":{\"id\":\"14486\",\"type\":\"ColumnDataSource\"},\"glyph\":{\"id\":\"14487\",\"type\":\"Image\"},\"hover_glyph\":null,\"muted_glyph\":null,\"nonselection_glyph\":{\"id\":\"14489\",\"type\":\"Image\"},\"selection_glyph\":null,\"view\":{\"id\":\"14492\",\"type\":\"CDSView\"}},\"id\":\"14491\",\"type\":\"GlyphRenderer\"},{\"attributes\":{},\"id\":\"15102\",\"type\":\"Selection\"},{\"attributes\":{\"text\":\"head 3\"},\"id\":\"14494\",\"type\":\"Title\"},{\"attributes\":{\"active_drag\":\"auto\",\"active_inspect\":\"auto\",\"active_multi\":null,\"active_scroll\":\"auto\",\"active_tap\":\"auto\"},\"id\":\"14447\",\"type\":\"Toolbar\"},{\"attributes\":{},\"id\":\"15103\",\"type\":\"UnionRenderers\"},{\"attributes\":{\"source\":{\"id\":\"14448\",\"type\":\"ColumnDataSource\"}},\"id\":\"14454\",\"type\":\"CDSView\"},{\"attributes\":{\"color_mapper\":{\"id\":\"14507\",\"type\":\"LinearColorMapper\"},\"dh\":{\"units\":\"data\",\"value\":31},\"dw\":{\"units\":\"data\",\"value\":31},\"image\":{\"field\":\"image\"},\"x\":{\"value\":0},\"y\":{\"value\":0}},\"id\":\"14506\",\"type\":\"Image\"},{\"attributes\":{\"palette\":[\"#000000\",\"#252525\",\"#525252\",\"#737373\",\"#969696\",\"#bdbdbd\",\"#d9d9d9\",\"#f0f0f0\",\"#ffffff\"]},\"id\":\"14488\",\"type\":\"LinearColorMapper\"},{\"attributes\":{\"active_drag\":\"auto\",\"active_inspect\":\"auto\",\"active_multi\":null,\"active_scroll\":\"auto\",\"active_tap\":\"auto\"},\"id\":\"14466\",\"type\":\"Toolbar\"},{\"attributes\":{},\"id\":\"15104\",\"type\":\"Selection\"},{\"attributes\":{\"callback\":null,\"end\":31},\"id\":\"14496\",\"type\":\"Range1d\"},{\"attributes\":{\"color_mapper\":{\"id\":\"14488\",\"type\":\"LinearColorMapper\"},\"dh\":{\"units\":\"data\",\"value\":31},\"dw\":{\"units\":\"data\",\"value\":31},\"image\":{\"field\":\"image\"},\"x\":{\"value\":0},\"y\":{\"value\":0}},\"id\":\"14487\",\"type\":\"Image\"},{\"attributes\":{},\"id\":\"15105\",\"type\":\"UnionRenderers\"},{\"attributes\":{},\"id\":\"14443\",\"type\":\"LinearScale\"},{\"attributes\":{\"plot_height\":240,\"plot_width\":240,\"renderers\":[{\"id\":\"14453\",\"type\":\"GlyphRenderer\"}],\"title\":{\"id\":\"14437\",\"type\":\"Title\"},\"toolbar\":{\"id\":\"14447\",\"type\":\"Toolbar\"},\"x_range\":{\"id\":\"14439\",\"type\":\"Range1d\"},\"x_scale\":{\"id\":\"14443\",\"type\":\"LinearScale\"},\"y_range\":{\"id\":\"14441\",\"type\":\"Range1d\"},\"y_scale\":{\"id\":\"14445\",\"type\":\"LinearScale\"}},\"id\":\"14436\",\"subtype\":\"Figure\",\"type\":\"Plot\"},{\"attributes\":{},\"id\":\"15106\",\"type\":\"Selection\"},{\"attributes\":{\"data_source\":{\"id\":\"14448\",\"type\":\"ColumnDataSource\"},\"glyph\":{\"id\":\"14449\",\"type\":\"Image\"},\"hover_glyph\":null,\"muted_glyph\":null,\"nonselection_glyph\":{\"id\":\"14451\",\"type\":\"Image\"},\"selection_glyph\":null,\"view\":{\"id\":\"14454\",\"type\":\"CDSView\"}},\"id\":\"14453\",\"type\":\"GlyphRenderer\"},{\"attributes\":{},\"id\":\"14462\",\"type\":\"LinearScale\"},{\"attributes\":{\"callback\":null,\"end\":31},\"id\":\"14498\",\"type\":\"Range1d\"},{\"attributes\":{\"callback\":null,\"data\":{\"image\":[{\"__ndarray__\":\"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\",\"dtype\":\"float32\",\"shape\":[31,31]}]},\"selected\":{\"id\":\"15106\",\"type\":\"Selection\"},\"selection_policy\":{\"id\":\"15105\",\"type\":\"UnionRenderers\"}},\"id\":\"14486\",\"type\":\"ColumnDataSource\"},{\"attributes\":{\"palette\":[\"#000000\",\"#252525\",\"#525252\",\"#737373\",\"#969696\",\"#bdbdbd\",\"#d9d9d9\",\"#f0f0f0\",\"#ffffff\"]},\"id\":\"14452\",\"type\":\"LinearColorMapper\"},{\"attributes\":{},\"id\":\"15107\",\"type\":\"UnionRenderers\"},{\"attributes\":{},\"id\":\"14500\",\"type\":\"LinearScale\"},{\"attributes\":{},\"id\":\"15101\",\"type\":\"UnionRenderers\"},{\"attributes\":{\"callback\":null,\"end\":31},\"id\":\"14439\",\"type\":\"Range1d\"},{\"attributes\":{\"data_source\":{\"id\":\"14467\",\"type\":\"ColumnDataSource\"},\"glyph\":{\"id\":\"14468\",\"type\":\"Image\"},\"hover_glyph\":null,\"muted_glyph\":null,\"nonselection_glyph\":{\"id\":\"14470\",\"type\":\"Image\"},\"selection_glyph\":null,\"view\":{\"id\":\"14473\",\"type\":\"CDSView\"}},\"id\":\"14472\",\"type\":\"GlyphRenderer\"},{\"attributes\":{},\"id\":\"14502\",\"type\":\"LinearScale\"},{\"attributes\":{},\"id\":\"15108\",\"type\":\"Selection\"},{\"attributes\":{\"text\":\"head 1\"},\"id\":\"14456\",\"type\":\"Title\"},{\"attributes\":{\"plot_height\":240,\"plot_width\":240,\"renderers\":[{\"id\":\"14472\",\"type\":\"GlyphRenderer\"}],\"title\":{\"id\":\"14456\",\"type\":\"Title\"},\"toolbar\":{\"id\":\"14466\",\"type\":\"Toolbar\"},\"x_range\":{\"id\":\"14458\",\"type\":\"Range1d\"},\"x_scale\":{\"id\":\"14462\",\"type\":\"LinearScale\"},\"y_range\":{\"id\":\"14460\",\"type\":\"Range1d\"},\"y_scale\":{\"id\":\"14464\",\"type\":\"LinearScale\"}},\"id\":\"14455\",\"subtype\":\"Figure\",\"type\":\"Plot\"},{\"attributes\":{\"source\":{\"id\":\"14467\",\"type\":\"ColumnDataSource\"}},\"id\":\"14473\",\"type\":\"CDSView\"},{\"attributes\":{},\"id\":\"14445\",\"type\":\"LinearScale\"},{\"attributes\":{\"callback\":null,\"end\":31},\"id\":\"14458\",\"type\":\"Range1d\"},{\"attributes\":{\"callback\":null,\"end\":31},\"id\":\"14460\",\"type\":\"Range1d\"},{\"attributes\":{\"color_mapper\":{\"id\":\"14490\",\"type\":\"LinearColorMapper\"},\"dh\":{\"units\":\"data\",\"value\":31},\"dw\":{\"units\":\"data\",\"value\":31},\"image\":{\"field\":\"image\"},\"x\":{\"value\":0},\"y\":{\"value\":0}},\"id\":\"14489\",\"type\":\"Image\"},{\"attributes\":{\"callback\":null,\"end\":31},\"id\":\"14477\",\"type\":\"Range1d\"},{\"attributes\":{\"data_source\":{\"id\":\"14505\",\"type\":\"ColumnDataSource\"},\"glyph\":{\"id\":\"14506\",\"type\":\"Image\"},\"hover_glyph\":null,\"muted_glyph\":null,\"nonselection_glyph\":{\"id\":\"14508\",\"type\":\"Image\"},\"selection_glyph\":null,\"view\":{\"id\":\"14511\",\"type\":\"CDSView\"}},\"id\":\"14510\",\"type\":\"GlyphRenderer\"},{\"attributes\":{\"active_drag\":\"auto\",\"active_inspect\":\"auto\",\"active_multi\":null,\"active_scroll\":\"auto\",\"active_tap\":\"auto\"},\"id\":\"14504\",\"type\":\"Toolbar\"},{\"attributes\":{\"callback\":null,\"data\":{\"image\":[{\"__ndarray__\":\"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\",\"dtype\":\"float32\",\"shape\":[31,31]}]},\"selected\":{\"id\":\"15102\",\"type\":\"Selection\"},\"selection_policy\":{\"id\":\"15101\",\"type\":\"UnionRenderers\"}},\"id\":\"14448\",\"type\":\"ColumnDataSource\"},{\"attributes\":{\"color_mapper\":{\"id\":\"14471\",\"type\":\"LinearColorMapper\"},\"dh\":{\"units\":\"data\",\"value\":31},\"dw\":{\"units\":\"data\",\"value\":31},\"image\":{\"field\":\"image\"},\"x\":{\"value\":0},\"y\":{\"value\":0}},\"id\":\"14470\",\"type\":\"Image\"},{\"attributes\":{\"palette\":[\"#000000\",\"#252525\",\"#525252\",\"#737373\",\"#969696\",\"#bdbdbd\",\"#d9d9d9\",\"#f0f0f0\",\"#ffffff\"]},\"id\":\"14469\",\"type\":\"LinearColorMapper\"},{\"attributes\":{},\"id\":\"14464\",\"type\":\"LinearScale\"},{\"attributes\":{\"plot_height\":240,\"plot_width\":240,\"renderers\":[{\"id\":\"14510\",\"type\":\"GlyphRenderer\"}],\"title\":{\"id\":\"14494\",\"type\":\"Title\"},\"toolbar\":{\"id\":\"14504\",\"type\":\"Toolbar\"},\"x_range\":{\"id\":\"14496\",\"type\":\"Range1d\"},\"x_scale\":{\"id\":\"14500\",\"type\":\"LinearScale\"},\"y_range\":{\"id\":\"14498\",\"type\":\"Range1d\"},\"y_scale\":{\"id\":\"14502\",\"type\":\"LinearScale\"}},\"id\":\"14493\",\"subtype\":\"Figure\",\"type\":\"Plot\"},{\"attributes\":{\"text\":\"head 0\"},\"id\":\"14437\",\"type\":\"Title\"},{\"attributes\":{\"color_mapper\":{\"id\":\"14452\",\"type\":\"LinearColorMapper\"},\"dh\":{\"units\":\"data\",\"value\":31},\"dw\":{\"units\":\"data\",\"value\":31},\"image\":{\"field\":\"image\"},\"x\":{\"value\":0},\"y\":{\"value\":0}},\"id\":\"14451\",\"type\":\"Image\"},{\"attributes\":{\"callback\":null,\"data\":{\"image\":[{\"__ndarray__\":\"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\",\"dtype\":\"float32\",\"shape\":[31,31]}]},\"selected\":{\"id\":\"15108\",\"type\":\"Selection\"},\"selection_policy\":{\"id\":\"15107\",\"type\":\"UnionRenderers\"}},\"id\":\"14505\",\"type\":\"ColumnDataSource\"},{\"attributes\":{\"palette\":[\"#000000\",\"#252525\",\"#525252\",\"#737373\",\"#969696\",\"#bdbdbd\",\"#d9d9d9\",\"#f0f0f0\",\"#ffffff\"]},\"id\":\"14471\",\"type\":\"LinearColorMapper\"},{\"attributes\":{\"palette\":[\"#000000\",\"#252525\",\"#525252\",\"#737373\",\"#969696\",\"#bdbdbd\",\"#d9d9d9\",\"#f0f0f0\",\"#ffffff\"]},\"id\":\"14507\",\"type\":\"LinearColorMapper\"},{\"attributes\":{\"callback\":null,\"end\":31},\"id\":\"14441\",\"type\":\"Range1d\"},{\"attributes\":{\"callback\":null,\"data\":{\"image\":[{\"__ndarray__\":\"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\",\"dtype\":\"float32\",\"shape\":[31,31]}]},\"selected\":{\"id\":\"15104\",\"type\":\"Selection\"},\"selection_policy\":{\"id\":\"15103\",\"type\":\"UnionRenderers\"}},\"id\":\"14467\",\"type\":\"ColumnDataSource\"},{\"attributes\":{\"color_mapper\":{\"id\":\"14509\",\"type\":\"LinearColorMapper\"},\"dh\":{\"units\":\"data\",\"value\":31},\"dw\":{\"units\":\"data\",\"value\":31},\"image\":{\"field\":\"image\"},\"x\":{\"value\":0},\"y\":{\"value\":0}},\"id\":\"14508\",\"type\":\"Image\"},{\"attributes\":{\"palette\":[\"#000000\",\"#252525\",\"#525252\",\"#737373\",\"#969696\",\"#bdbdbd\",\"#d9d9d9\",\"#f0f0f0\",\"#ffffff\"]},\"id\":\"14490\",\"type\":\"LinearColorMapper\"},{\"attributes\":{\"active_drag\":\"auto\",\"active_inspect\":\"auto\",\"active_multi\":null,\"active_scroll\":\"auto\",\"active_tap\":\"auto\"},\"id\":\"14485\",\"type\":\"Toolbar\"},{\"attributes\":{},\"id\":\"14483\",\"type\":\"LinearScale\"},{\"attributes\":{\"palette\":[\"#000000\",\"#252525\",\"#525252\",\"#737373\",\"#969696\",\"#bdbdbd\",\"#d9d9d9\",\"#f0f0f0\",\"#ffffff\"]},\"id\":\"14450\",\"type\":\"LinearColorMapper\"},{\"attributes\":{},\"id\":\"14481\",\"type\":\"LinearScale\"},{\"attributes\":{\"callback\":null,\"end\":31},\"id\":\"14479\",\"type\":\"Range1d\"},{\"attributes\":{\"palette\":[\"#000000\",\"#252525\",\"#525252\",\"#737373\",\"#969696\",\"#bdbdbd\",\"#d9d9d9\",\"#f0f0f0\",\"#ffffff\"]},\"id\":\"14509\",\"type\":\"LinearColorMapper\"},{\"attributes\":{\"color_mapper\":{\"id\":\"14469\",\"type\":\"LinearColorMapper\"},\"dh\":{\"units\":\"data\",\"value\":31},\"dw\":{\"units\":\"data\",\"value\":31},\"image\":{\"field\":\"image\"},\"x\":{\"value\":0},\"y\":{\"value\":0}},\"id\":\"14468\",\"type\":\"Image\"},{\"attributes\":{\"text\":\"head 2\"},\"id\":\"14475\",\"type\":\"Title\"},{\"attributes\":{\"source\":{\"id\":\"14486\",\"type\":\"ColumnDataSource\"}},\"id\":\"14492\",\"type\":\"CDSView\"},{\"attributes\":{\"plot_height\":240,\"plot_width\":240,\"renderers\":[{\"id\":\"14491\",\"type\":\"GlyphRenderer\"}],\"title\":{\"id\":\"14475\",\"type\":\"Title\"},\"toolbar\":{\"id\":\"14485\",\"type\":\"Toolbar\"},\"x_range\":{\"id\":\"14477\",\"type\":\"Range1d\"},\"x_scale\":{\"id\":\"14481\",\"type\":\"LinearScale\"},\"y_range\":{\"id\":\"14479\",\"type\":\"Range1d\"},\"y_scale\":{\"id\":\"14483\",\"type\":\"LinearScale\"}},\"id\":\"14474\",\"subtype\":\"Figure\",\"type\":\"Plot\"},{\"attributes\":{\"source\":{\"id\":\"14505\",\"type\":\"ColumnDataSource\"}},\"id\":\"14511\",\"type\":\"CDSView\"},{\"attributes\":{\"color_mapper\":{\"id\":\"14450\",\"type\":\"LinearColorMapper\"},\"dh\":{\"units\":\"data\",\"value\":31},\"dw\":{\"units\":\"data\",\"value\":31},\"image\":{\"field\":\"image\"},\"x\":{\"value\":0},\"y\":{\"value\":0}},\"id\":\"14449\",\"type\":\"Image\"}],\"root_ids\":[\"14664\"]},\"title\":\"Bokeh Application\",\"version\":\"1.4.0\"}};\n",
       "  var render_items = [{\"docid\":\"979747fc-ca96-4a79-ac77-274b52520826\",\"roots\":{\"14664\":\"0dfb47f1-9c8b-48ad-b825-fe6e537e4a5e\"}}];\n",
       "  root.Bokeh.embed.embed_items_notebook(docs_json, render_items);\n",
       "\n",
       "  }\n",
       "  if (root.Bokeh !== undefined) {\n",
       "    embed_document(root);\n",
       "  } else {\n",
       "    var attempts = 0;\n",
       "    var timer = setInterval(function(root) {\n",
       "      if (root.Bokeh !== undefined) {\n",
       "        clearInterval(timer);\n",
       "        embed_document(root);\n",
       "      } else {\n",
       "        attempts++;\n",
       "        if (attempts > 100) {\n",
       "          clearInterval(timer);\n",
       "          console.log(\"Bokeh: ERROR: Unable to run BokehJS code because BokehJS library is missing\");\n",
       "        }\n",
       "      }\n",
       "    }, 10, root)\n",
       "  }\n",
       "})(window);"
      ],
      "application/vnd.bokehjs_exec.v0+json": ""
     },
     "metadata": {
      "application/vnd.bokehjs_exec.v0+json": {
       "id": "14664"
      }
     },
     "output_type": "display_data"
    },
    {
     "data": {
      "text/html": [
       "\n",
       "\n",
       "\n",
       "\n",
       "\n",
       "\n",
       "  <div class=\"bk-root\" id=\"8f69eca9-8abc-48f4-85e7-d9add58f7be5\" data-root-id=\"15181\"></div>\n"
      ]
     },
     "metadata": {},
     "output_type": "display_data"
    },
    {
     "data": {
      "application/javascript": [
       "(function(root) {\n",
       "  function embed_document(root) {\n",
       "    \n",
       "  var docs_json = {\"62c25172-5b17-45a3-b28f-7329b6d97664\":{\"roots\":{\"references\":[{\"attributes\":{\"children\":[{\"id\":\"14512\",\"subtype\":\"Figure\",\"type\":\"Plot\"},{\"id\":\"14531\",\"subtype\":\"Figure\",\"type\":\"Plot\"},{\"id\":\"14550\",\"subtype\":\"Figure\",\"type\":\"Plot\"},{\"id\":\"14569\",\"subtype\":\"Figure\",\"type\":\"Plot\"}]},\"id\":\"15181\",\"type\":\"Row\"},{\"attributes\":{\"plot_height\":240,\"plot_width\":240,\"renderers\":[{\"id\":\"14567\",\"type\":\"GlyphRenderer\"}],\"title\":{\"id\":\"14551\",\"type\":\"Title\"},\"toolbar\":{\"id\":\"14561\",\"type\":\"Toolbar\"},\"x_range\":{\"id\":\"14553\",\"type\":\"Range1d\"},\"x_scale\":{\"id\":\"14557\",\"type\":\"LinearScale\"},\"y_range\":{\"id\":\"14555\",\"type\":\"Range1d\"},\"y_scale\":{\"id\":\"14559\",\"type\":\"LinearScale\"}},\"id\":\"14550\",\"subtype\":\"Figure\",\"type\":\"Plot\"},{\"attributes\":{\"text\":\"head 4\"},\"id\":\"14513\",\"type\":\"Title\"},{\"attributes\":{\"color_mapper\":{\"id\":\"14545\",\"type\":\"LinearColorMapper\"},\"dh\":{\"units\":\"data\",\"value\":31},\"dw\":{\"units\":\"data\",\"value\":31},\"image\":{\"field\":\"image\"},\"x\":{\"value\":0},\"y\":{\"value\":0}},\"id\":\"14544\",\"type\":\"Image\"},{\"attributes\":{\"text\":\"head 5\"},\"id\":\"14532\",\"type\":\"Title\"},{\"attributes\":{},\"id\":\"15636\",\"type\":\"UnionRenderers\"},{\"attributes\":{\"callback\":null,\"end\":31},\"id\":\"14515\",\"type\":\"Range1d\"},{\"attributes\":{},\"id\":\"15632\",\"type\":\"UnionRenderers\"},{\"attributes\":{\"palette\":[\"#000000\",\"#252525\",\"#525252\",\"#737373\",\"#969696\",\"#bdbdbd\",\"#d9d9d9\",\"#f0f0f0\",\"#ffffff\"]},\"id\":\"14566\",\"type\":\"LinearColorMapper\"},{\"attributes\":{\"callback\":null,\"end\":31},\"id\":\"14534\",\"type\":\"Range1d\"},{\"attributes\":{},\"id\":\"15630\",\"type\":\"UnionRenderers\"},{\"attributes\":{\"source\":{\"id\":\"14581\",\"type\":\"ColumnDataSource\"}},\"id\":\"14587\",\"type\":\"CDSView\"},{\"attributes\":{\"plot_height\":240,\"plot_width\":240,\"renderers\":[{\"id\":\"14586\",\"type\":\"GlyphRenderer\"}],\"title\":{\"id\":\"14570\",\"type\":\"Title\"},\"toolbar\":{\"id\":\"14580\",\"type\":\"Toolbar\"},\"x_range\":{\"id\":\"14572\",\"type\":\"Range1d\"},\"x_scale\":{\"id\":\"14576\",\"type\":\"LinearScale\"},\"y_range\":{\"id\":\"14574\",\"type\":\"Range1d\"},\"y_scale\":{\"id\":\"14578\",\"type\":\"LinearScale\"}},\"id\":\"14569\",\"subtype\":\"Figure\",\"type\":\"Plot\"},{\"attributes\":{\"color_mapper\":{\"id\":\"14566\",\"type\":\"LinearColorMapper\"},\"dh\":{\"units\":\"data\",\"value\":31},\"dw\":{\"units\":\"data\",\"value\":31},\"image\":{\"field\":\"image\"},\"x\":{\"value\":0},\"y\":{\"value\":0}},\"id\":\"14565\",\"type\":\"Image\"},{\"attributes\":{},\"id\":\"15631\",\"type\":\"Selection\"},{\"attributes\":{\"source\":{\"id\":\"14562\",\"type\":\"ColumnDataSource\"}},\"id\":\"14568\",\"type\":\"CDSView\"},{\"attributes\":{\"callback\":null,\"end\":31},\"id\":\"14517\",\"type\":\"Range1d\"},{\"attributes\":{},\"id\":\"14519\",\"type\":\"LinearScale\"},{\"attributes\":{\"data_source\":{\"id\":\"14543\",\"type\":\"ColumnDataSource\"},\"glyph\":{\"id\":\"14544\",\"type\":\"Image\"},\"hover_glyph\":null,\"muted_glyph\":null,\"nonselection_glyph\":{\"id\":\"14546\",\"type\":\"Image\"},\"selection_glyph\":null,\"view\":{\"id\":\"14549\",\"type\":\"CDSView\"}},\"id\":\"14548\",\"type\":\"GlyphRenderer\"},{\"attributes\":{\"callback\":null,\"end\":31},\"id\":\"14536\",\"type\":\"Range1d\"},{\"attributes\":{},\"id\":\"14521\",\"type\":\"LinearScale\"},{\"attributes\":{},\"id\":\"14538\",\"type\":\"LinearScale\"},{\"attributes\":{\"text\":\"head 7\"},\"id\":\"14570\",\"type\":\"Title\"},{\"attributes\":{},\"id\":\"14540\",\"type\":\"LinearScale\"},{\"attributes\":{\"callback\":null,\"end\":31},\"id\":\"14572\",\"type\":\"Range1d\"},{\"attributes\":{\"palette\":[\"#000000\",\"#252525\",\"#525252\",\"#737373\",\"#969696\",\"#bdbdbd\",\"#d9d9d9\",\"#f0f0f0\",\"#ffffff\"]},\"id\":\"14585\",\"type\":\"LinearColorMapper\"},{\"attributes\":{\"data_source\":{\"id\":\"14524\",\"type\":\"ColumnDataSource\"},\"glyph\":{\"id\":\"14525\",\"type\":\"Image\"},\"hover_glyph\":null,\"muted_glyph\":null,\"nonselection_glyph\":{\"id\":\"14527\",\"type\":\"Image\"},\"selection_glyph\":null,\"view\":{\"id\":\"14530\",\"type\":\"CDSView\"}},\"id\":\"14529\",\"type\":\"GlyphRenderer\"},{\"attributes\":{\"text\":\"head 6\"},\"id\":\"14551\",\"type\":\"Title\"},{\"attributes\":{},\"id\":\"15634\",\"type\":\"UnionRenderers\"},{\"attributes\":{\"active_drag\":\"auto\",\"active_inspect\":\"auto\",\"active_multi\":null,\"active_scroll\":\"auto\",\"active_tap\":\"auto\"},\"id\":\"14523\",\"type\":\"Toolbar\"},{\"attributes\":{},\"id\":\"14557\",\"type\":\"LinearScale\"},{\"attributes\":{},\"id\":\"15633\",\"type\":\"Selection\"},{\"attributes\":{\"active_drag\":\"auto\",\"active_inspect\":\"auto\",\"active_multi\":null,\"active_scroll\":\"auto\",\"active_tap\":\"auto\"},\"id\":\"14542\",\"type\":\"Toolbar\"},{\"attributes\":{\"active_drag\":\"auto\",\"active_inspect\":\"auto\",\"active_multi\":null,\"active_scroll\":\"auto\",\"active_tap\":\"auto\"},\"id\":\"14561\",\"type\":\"Toolbar\"},{\"attributes\":{\"callback\":null,\"end\":31},\"id\":\"14555\",\"type\":\"Range1d\"},{\"attributes\":{\"callback\":null,\"data\":{\"image\":[{\"__ndarray__\":\"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\",\"dtype\":\"float32\",\"shape\":[31,31]}]},\"selected\":{\"id\":\"15631\",\"type\":\"Selection\"},\"selection_policy\":{\"id\":\"15630\",\"type\":\"UnionRenderers\"}},\"id\":\"14524\",\"type\":\"ColumnDataSource\"},{\"attributes\":{},\"id\":\"15635\",\"type\":\"Selection\"},{\"attributes\":{\"callback\":null,\"end\":31},\"id\":\"14574\",\"type\":\"Range1d\"},{\"attributes\":{\"callback\":null,\"data\":{\"image\":[{\"__ndarray__\":\"GqUdPI2iFjxeDcM7+V8tO71EUTsn9kc6pTemOi3TPDlA3Zo5ILrqOQ01NjsC7o4+VZoePurvhD1qRv09eAHWPCDb4jtI1FI81u6OPL86pjvyv6A7u+WAO21ztDqvBzw7WIBNOihnADv3cas5Rl5kOhidfzoffP865VqBPlZw6jxjEL88YMrCPanXlT6Mkks+UM6lPPRXDjwg1ZE6/RLXOlFqiTs+jzs8nxIgPp7x2jqt8Gw6SchsOv5znju3OWs6i/wzOl4iUTtFOZI5p2ihOf//uDgHL4Y4vP+/OX5yJTlwKFs557InOa37mDmEGP06m2x+Ov1IDz4V/hY8dmcrPM3PfD1te0Q+TEnBPmuOgD2heek8xj/wOzV6lDvDSYo88OWnPExI0j32JI05/JSOOXJ8ATrPQk07uS3jOSLlBzrh4tI6PV5cOugHRDq55i850ZHhOJYcijnRMtU4UNWYOaRfWTkK79441WYIO1kvljqs8b49vF+MPJ3COjtX9w08fX+oPMwoSj5mu3g93wiHPOethjySX4Y7FDebO4u7pjyS+ak+hJUHOirPpTkcWbo5LbVwOot3ojrLxlc6mMILO+AROTpMbbQ5CQ/YOfRDmDjC8oA4WNqSOHP1ijhkphk4VdhnOPvWIDq1/t85SCiUPtEbTD1YGok6+EOmOzyOdDxIyCI9F+gDPuwPEj7X8ko+p6dfPdtIiD1nFKU9HZrfPVHskjpHgUg5Qp1COgxyODreMdc4EenWOo3fJTvdJ6Q6bCvnOsDhDDquiaM5Yyg5Osd6UjhXado4HGazN2X5ATf2cJg571FWOvNpxD0OP1I9f2b9OUeTgTtC5ZM7pxmGPY5mxTyIaYg+dtQ8PjOLSTzrwLI9foZTPVBIAj7e4W85+oNQOcwoSjlJaik5UR3JONgygjl+a4o6DfK0OcqVeDsvSp06ncWJOMuROzrl2aE4wMZbOfvSoTgCD483SOfYOX7vFTr8teM98GeCPGSvuDrmmzM6URqoOpCkKTyqrGk8hoM9PDpG7D25jeY8MYWjPCKDgT1BEMY+11Y1OnRNiTh+7r04GkAbOeqJeji2PyQ5nTMrOsdDxjlibUI5YxmfOoPPEzoAN+w5aVFLOR8r8DcchpM3KHSJNwyKizeWuxw4YummPsvYdjxpyBI6dWt+OqvthTroqAI7Of3oOunGJj3ueCw95mPJPecl7j7P/4495l0HPj/XajoEQtw5slOhOSbVSjmHZa43TQCjOIzknTju0EM5QD8FO5CsHzps9O45ZDaIOykp7Tn+/xA7QA68OFvFNDgZi405XL4+OW/h8D0N7xA9L9hSOjzb3DpIAmk6/nkoOxOpUToB+d08a4wwPSqEgjwFhMc+J/0cPqFQHj7u4QY7cW9zO/Kw8zqCbWA6yU9oObuf0TjSJTQ5JFiDOL2nETvO/IE6DGiBOY7r1zuZPoU7A7gGPMh/LDuL0SI6qwHdOrTSYjr5PQw+8q6OPI5olDp+KPs5CZkMOtJSvTo5OIk6PJaJO5l5uzt3RLw7XET6PBqlNT0AQ/Y+vFGqOm96wjmm5OM5i+D/OWbX4Dj20104CJ6LOAoxEDjy/sw4zd8qOXHhtDigXMs50jmYOf2fuzk/rmg5hCGJOZOyITmEvJY5Jm/NPkvv5Dws0oc8qDbtO0PfbzucZR07TGq2OrNxADv2KlU7Viu3O+95AzyvjZg9bJWXPoIirj2mKb08mkniPUvZIj1FOvQ75U4GPMvQODvwlIc6YN9tOpa7cjrHCzg6g2p6OsmZQDqavIw6yFTJOW8kDDo13Iw5wqsEOqJ3iD5VPzk8FBfiOtNvETsjyyc7Bo6OO0YGsTrkJhU75MjaOrJWKzpAWgU7Y3XDO5rLAD9rbJc6eEbcOgduxjo8wCw7z4HMOmajNzszxWk7sSOnOnImwzqh8f46GD0YOq6jmDrX6O05pNlqOq2kcTn36hw68oFgOtnvcjp7894+oYBoPJpbgzsOjHE7dNybOl3EdToRhxE5TgvJOT4NUzmInhY5SZTdOdbrjjvmZWA+dmqoPJNVkz7dfc09egpaPdYDKj0lno88vRUoPIYtEzsJgzk70zXrOlKO9jmcl1k7XumEOnUSPzumKIE6vD4pO0WpFDtA+gM7Kk9KPmm0pjuN8vM5+u2DObLxBjovKJo6CnL5OQmOHjpiRnU4miomOV2g7jnsIEg742K6PqanLDyagAY95hSOPMLTpz3ztYI94XMVPQ7gejzLm5M8sf/mO8udBjur4d86ccxVOpJjnDnoL4c6/AmJOi4uhjqWh6I6wQAkO2M8qD7z5lY7vMbNOW41gDrAOCI700y5OvGJ/zgbQRc5esCCN1VghDgfA005hwgwO13pTT4k66E7j14wPZRNxDyEF5Y+ttcvPtoqAj2iJrA8I7bKO4xALzvpWLg5iQG5ORjsszn41A05kfXHOUJAvTng/ak5ZFSXOpSX3TpCeTs+sVk+PEHVojlLloc6fXmTOp3f7jqn0vE50SplOpmN9jgzBw05DSPkOblvQTveyMM+NJ+rOzbNhjwyoO08SJsUPaF7pz2rj+M8jzmfPLTmWzzx+w48+jsDO6tmOjrKLAI6NE2COeWllDq+quE5vgJ7OgUfTzvFyUI7rmaxPpXDkjvz+xg6C2t+OtvLPjpOJ8A5DZEkOf4/QznhLC44HqXAN9rRODjIToI5aJcpPgIMFDssniQ8dcsIPOyKdzyV0uU89TWUPtSMXz7UEXM9W1ayPAlhgDwC/I07lODEOjt/OTnG/C06xwbPODeyLzlMFJI6S/m6OtNAGD7z5DQ8045NOUd6azny+PQ6HC78OmEdNTm3HoM5usWoONzxCzhCkm44fBqpOXkjZz7VM5s6oJc1O2MoCzqhnZc8zh2xPCkO5jzhpbc+AGEVPb9r/jzx8Rs9nv2lO6/tKzyxYRI6CXDKOfCOgTm6lD45BYjJOdgRkzqzjE8+EeohPGFSazmorRY62QF6OglKlToWNh06o4GyOu6XtTlHKJk5WenpOa4NKDqcz0w+YXhPOlPhIztj7hQ69QYTO7R5njtYD2w8uMjFPBI8rT0q3eU9MpRLPsuMJD0RJ6U9mGApPMq4Ijy/UO86A7IQO+2LxTvO1c47j0k5PhSuVjwrod43jkJZORdWEjlxUtk5T2ciOSAMJju8hEw6lHmqOLQeMDpUEps6td2tPYU4+znRWYs6C6chOmdmFTr5EUU7aSA4O3SGGT0LRbc8W9SzPp5xpD4FM148tnI+PQ2hsDt2q9w7/EkHOwMXCjrOQeU6jZb5OqLSnD1PEH07JZBmOVtXpjhT4BI53+p/ORjMNznNxe45Car2OYZYszhEa+c50GV0OrSd0z79qt45PeSEOk2lXzkFIeU5OA/COgJUwzsQnXQ80asuPEz9fDwg3QE+Rx7APHpFMzwN9zo7JVpKOyeDvDn3WyQ6fIIQOg/cCDpjOLg+irgtPB9KzjkY/bo55g2wOaNtqjiLdho5WLjVOdBzujnvPTU6JqWdOjTaEztblE49uUzTOsPxkzp2xjo6cYLkOXA8zDnMj3w7WWlZPA0qgzvG8L48qXmhPY23Ez5aCs0+3jzpPXffjz0DudA797TrO8BdFTy0zAA8IX47PZM6/zshDIs5D6CVOXpaHTns2Lw4zRSBN8rLBzkgIvk4pEqoOP8RDjpMUTU66YBEPZ18YDpYwec6jI2xOYA/hzkfwJ05l45LOtHOnTuTNQE6wIBTPO1NWT1Y4XY8RYrePsXgMj45Guw9BAUHPYP62jwTKks8UrEyPEOhMj1uaAo9qnELOo/Kyjn9yq852jO8OAxFuTgo7DY5gU3zOL0DEzrtPBA7Q2WBOw7JYz6AiIg7pZKzOjwfDzvKXDo6bHBrOo6J4zm0TUU6LtcnOhvHUjuCCP474BKHPHXGsDy/hDM9opSPPkapez3qd2c9oQ/IPBFoTTzNq0g+DPkvPBKHJDrYycg6KEd5Oi7qODkFdgk42Q2zOHU8HzjBNyk5z7BkOsYx4jrhT6A9Yh8iO0dbEzsy4II7s3lXO82swTru5AM61yfEOjdxjTlXSDc7RiOfO3RgrDv03FQ93DTRPQTi7z1dc+Y9I+65PmGXEz0JI7s8vwKQPZiJHjwHaKs64KrGOQmkZDo/0905rZk/OUZSBDpqyqQ47665OH5Xpjon3xY7/C/QPo7PVDtzL/Y7Om0oO2Md+TvOKQU73vqsOuenUToINRA6yisEOybInTsr6iQ78/sHPB/UOTwskcg8MCJZPL6xrz3YnsE8cSqSPOOdtj4QSYs89HINO0pHhTqlyog63Tw4Os2ctjkro7c5LlriNxwu5TjQODM6U7rWOqQP1j5lgxw7U8OlOw9RPjtq63s7CIaqO5GbdzuwjTY7yKyROsWjEDtKSiU76+IzOyabZztKRpg7XUmUPKdmCTwfZEA9i80oPeBPBT1e2Ls+E3OoO3ZY1jndL/060B5qOt6/LjrlsJ44/Rb0OEraaDZM14I3mOA2ORlNTjk6THI9Txi2ObjrgDs+5t06wrPFOu8rpTpw2V47qUuJOsCOoDk4bC47Tx3LOQIxUDls4gA7rlcIOwBP6jwQwgQ86degPVSunD7mGt8+6c1aPT+WvjuKCRg6mSHTOQzr4zp3PUg72V8DOyUqRzuc/H45Vs7/OHkzjDo7LoE6pFHxPrIVADqo4Sg7qooKOqbRHDsQvPo6jLgPO3TpADvW/PM6bkCgO/vADDsLNeQ5+2Q7Og349jlKl6M7aZfcOrjqMTzgvAA9S7SfPKBP1j7vK648kCkEOUhHPTnXbbg5kSNgO4J9vDqetjQ7Ez/qOesbYjkxUGw6YUhVO1AA3z4V+XI6Y3rJOl/UUju1O+E6iHVYOw1XKjubeb47GbxYOy5ZMjzwr+I7a99xOoH2vTrHBLI5AlNYOyrP/jqSnmo73ol6PLK3lj04Zsc+uC4pPFYewzpNjfo6PR0VO00dejsi/5w6AqYGO1LFxDqeyxY61g/yOk56sDtGxgE/swSFOjiYxzoqk6w6QKYcOz6utzrh9CQ7ov5OO2NWlzoM8LM6CQXnOsW9CTp2KIk6SufOOUSmVzoGjlc5D/oKOsAnTDrLYlo6yjngPg==\",\"dtype\":\"float32\",\"shape\":[31,31]}]},\"selected\":{\"id\":\"15633\",\"type\":\"Selection\"},\"selection_policy\":{\"id\":\"15632\",\"type\":\"UnionRenderers\"}},\"id\":\"14543\",\"type\":\"ColumnDataSource\"},{\"attributes\":{\"palette\":[\"#000000\",\"#252525\",\"#525252\",\"#737373\",\"#969696\",\"#bdbdbd\",\"#d9d9d9\",\"#f0f0f0\",\"#ffffff\"]},\"id\":\"14526\",\"type\":\"LinearColorMapper\"},{\"attributes\":{},\"id\":\"15637\",\"type\":\"Selection\"},{\"attributes\":{},\"id\":\"14576\",\"type\":\"LinearScale\"},{\"attributes\":{\"color_mapper\":{\"id\":\"14528\",\"type\":\"LinearColorMapper\"},\"dh\":{\"units\":\"data\",\"value\":31},\"dw\":{\"units\":\"data\",\"value\":31},\"image\":{\"field\":\"image\"},\"x\":{\"value\":0},\"y\":{\"value\":0}},\"id\":\"14527\",\"type\":\"Image\"},{\"attributes\":{\"color_mapper\":{\"id\":\"14526\",\"type\":\"LinearColorMapper\"},\"dh\":{\"units\":\"data\",\"value\":31},\"dw\":{\"units\":\"data\",\"value\":31},\"image\":{\"field\":\"image\"},\"x\":{\"value\":0},\"y\":{\"value\":0}},\"id\":\"14525\",\"type\":\"Image\"},{\"attributes\":{\"palette\":[\"#000000\",\"#252525\",\"#525252\",\"#737373\",\"#969696\",\"#bdbdbd\",\"#d9d9d9\",\"#f0f0f0\",\"#ffffff\"]},\"id\":\"14545\",\"type\":\"LinearColorMapper\"},{\"attributes\":{},\"id\":\"14578\",\"type\":\"LinearScale\"},{\"attributes\":{\"color_mapper\":{\"id\":\"14547\",\"type\":\"LinearColorMapper\"},\"dh\":{\"units\":\"data\",\"value\":31},\"dw\":{\"units\":\"data\",\"value\":31},\"image\":{\"field\":\"image\"},\"x\":{\"value\":0},\"y\":{\"value\":0}},\"id\":\"14546\",\"type\":\"Image\"},{\"attributes\":{\"callback\":null,\"end\":31},\"id\":\"14553\",\"type\":\"Range1d\"},{\"attributes\":{\"active_drag\":\"auto\",\"active_inspect\":\"auto\",\"active_multi\":null,\"active_scroll\":\"auto\",\"active_tap\":\"auto\"},\"id\":\"14580\",\"type\":\"Toolbar\"},{\"attributes\":{\"palette\":[\"#000000\",\"#252525\",\"#525252\",\"#737373\",\"#969696\",\"#bdbdbd\",\"#d9d9d9\",\"#f0f0f0\",\"#ffffff\"]},\"id\":\"14528\",\"type\":\"LinearColorMapper\"},{\"attributes\":{\"data_source\":{\"id\":\"14581\",\"type\":\"ColumnDataSource\"},\"glyph\":{\"id\":\"14582\",\"type\":\"Image\"},\"hover_glyph\":null,\"muted_glyph\":null,\"nonselection_glyph\":{\"id\":\"14584\",\"type\":\"Image\"},\"selection_glyph\":null,\"view\":{\"id\":\"14587\",\"type\":\"CDSView\"}},\"id\":\"14586\",\"type\":\"GlyphRenderer\"},{\"attributes\":{\"palette\":[\"#000000\",\"#252525\",\"#525252\",\"#737373\",\"#969696\",\"#bdbdbd\",\"#d9d9d9\",\"#f0f0f0\",\"#ffffff\"]},\"id\":\"14547\",\"type\":\"LinearColorMapper\"},{\"attributes\":{\"data_source\":{\"id\":\"14562\",\"type\":\"ColumnDataSource\"},\"glyph\":{\"id\":\"14563\",\"type\":\"Image\"},\"hover_glyph\":null,\"muted_glyph\":null,\"nonselection_glyph\":{\"id\":\"14565\",\"type\":\"Image\"},\"selection_glyph\":null,\"view\":{\"id\":\"14568\",\"type\":\"CDSView\"}},\"id\":\"14567\",\"type\":\"GlyphRenderer\"},{\"attributes\":{\"callback\":null,\"data\":{\"image\":[{\"__ndarray__\":\"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\",\"dtype\":\"float32\",\"shape\":[31,31]}]},\"selected\":{\"id\":\"15637\",\"type\":\"Selection\"},\"selection_policy\":{\"id\":\"15636\",\"type\":\"UnionRenderers\"}},\"id\":\"14581\",\"type\":\"ColumnDataSource\"},{\"attributes\":{\"source\":{\"id\":\"14543\",\"type\":\"ColumnDataSource\"}},\"id\":\"14549\",\"type\":\"CDSView\"},{\"attributes\":{\"color_mapper\":{\"id\":\"14583\",\"type\":\"LinearColorMapper\"},\"dh\":{\"units\":\"data\",\"value\":31},\"dw\":{\"units\":\"data\",\"value\":31},\"image\":{\"field\":\"image\"},\"x\":{\"value\":0},\"y\":{\"value\":0}},\"id\":\"14582\",\"type\":\"Image\"},{\"attributes\":{\"palette\":[\"#000000\",\"#252525\",\"#525252\",\"#737373\",\"#969696\",\"#bdbdbd\",\"#d9d9d9\",\"#f0f0f0\",\"#ffffff\"]},\"id\":\"14583\",\"type\":\"LinearColorMapper\"},{\"attributes\":{\"source\":{\"id\":\"14524\",\"type\":\"ColumnDataSource\"}},\"id\":\"14530\",\"type\":\"CDSView\"},{\"attributes\":{\"color_mapper\":{\"id\":\"14585\",\"type\":\"LinearColorMapper\"},\"dh\":{\"units\":\"data\",\"value\":31},\"dw\":{\"units\":\"data\",\"value\":31},\"image\":{\"field\":\"image\"},\"x\":{\"value\":0},\"y\":{\"value\":0}},\"id\":\"14584\",\"type\":\"Image\"},{\"attributes\":{\"callback\":null,\"data\":{\"image\":[{\"__ndarray__\":\"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\",\"dtype\":\"float32\",\"shape\":[31,31]}]},\"selected\":{\"id\":\"15635\",\"type\":\"Selection\"},\"selection_policy\":{\"id\":\"15634\",\"type\":\"UnionRenderers\"}},\"id\":\"14562\",\"type\":\"ColumnDataSource\"},{\"attributes\":{\"plot_height\":240,\"plot_width\":240,\"renderers\":[{\"id\":\"14529\",\"type\":\"GlyphRenderer\"}],\"title\":{\"id\":\"14513\",\"type\":\"Title\"},\"toolbar\":{\"id\":\"14523\",\"type\":\"Toolbar\"},\"x_range\":{\"id\":\"14515\",\"type\":\"Range1d\"},\"x_scale\":{\"id\":\"14519\",\"type\":\"LinearScale\"},\"y_range\":{\"id\":\"14517\",\"type\":\"Range1d\"},\"y_scale\":{\"id\":\"14521\",\"type\":\"LinearScale\"}},\"id\":\"14512\",\"subtype\":\"Figure\",\"type\":\"Plot\"},{\"attributes\":{\"color_mapper\":{\"id\":\"14564\",\"type\":\"LinearColorMapper\"},\"dh\":{\"units\":\"data\",\"value\":31},\"dw\":{\"units\":\"data\",\"value\":31},\"image\":{\"field\":\"image\"},\"x\":{\"value\":0},\"y\":{\"value\":0}},\"id\":\"14563\",\"type\":\"Image\"},{\"attributes\":{\"palette\":[\"#000000\",\"#252525\",\"#525252\",\"#737373\",\"#969696\",\"#bdbdbd\",\"#d9d9d9\",\"#f0f0f0\",\"#ffffff\"]},\"id\":\"14564\",\"type\":\"LinearColorMapper\"},{\"attributes\":{\"plot_height\":240,\"plot_width\":240,\"renderers\":[{\"id\":\"14548\",\"type\":\"GlyphRenderer\"}],\"title\":{\"id\":\"14532\",\"type\":\"Title\"},\"toolbar\":{\"id\":\"14542\",\"type\":\"Toolbar\"},\"x_range\":{\"id\":\"14534\",\"type\":\"Range1d\"},\"x_scale\":{\"id\":\"14538\",\"type\":\"LinearScale\"},\"y_range\":{\"id\":\"14536\",\"type\":\"Range1d\"},\"y_scale\":{\"id\":\"14540\",\"type\":\"LinearScale\"}},\"id\":\"14531\",\"subtype\":\"Figure\",\"type\":\"Plot\"},{\"attributes\":{},\"id\":\"14559\",\"type\":\"LinearScale\"}],\"root_ids\":[\"15181\"]},\"title\":\"Bokeh Application\",\"version\":\"1.4.0\"}};\n",
       "  var render_items = [{\"docid\":\"62c25172-5b17-45a3-b28f-7329b6d97664\",\"roots\":{\"15181\":\"8f69eca9-8abc-48f4-85e7-d9add58f7be5\"}}];\n",
       "  root.Bokeh.embed.embed_items_notebook(docs_json, render_items);\n",
       "\n",
       "  }\n",
       "  if (root.Bokeh !== undefined) {\n",
       "    embed_document(root);\n",
       "  } else {\n",
       "    var attempts = 0;\n",
       "    var timer = setInterval(function(root) {\n",
       "      if (root.Bokeh !== undefined) {\n",
       "        clearInterval(timer);\n",
       "        embed_document(root);\n",
       "      } else {\n",
       "        attempts++;\n",
       "        if (attempts > 100) {\n",
       "          clearInterval(timer);\n",
       "          console.log(\"Bokeh: ERROR: Unable to run BokehJS code because BokehJS library is missing\");\n",
       "        }\n",
       "      }\n",
       "    }, 10, root)\n",
       "  }\n",
       "})(window);"
      ],
      "application/vnd.bokehjs_exec.v0+json": ""
     },
     "metadata": {
      "application/vnd.bokehjs_exec.v0+json": {
       "id": "15181"
      }
     },
     "output_type": "display_data"
    },
    {
     "data": {
      "text/html": [
       "\n",
       "\n",
       "\n",
       "\n",
       "\n",
       "\n",
       "  <div class=\"bk-root\" id=\"9cb5655f-0fb9-4f15-a40d-7e06b47a64d3\" data-root-id=\"15710\"></div>\n"
      ]
     },
     "metadata": {},
     "output_type": "display_data"
    },
    {
     "data": {
      "application/javascript": [
       "(function(root) {\n",
       "  function embed_document(root) {\n",
       "    \n",
       "  var docs_json = {\"729b04b8-97fe-4ad0-ba3e-7fa65588ac05\":{\"roots\":{\"references\":[{\"attributes\":{\"children\":[{\"id\":\"14588\",\"subtype\":\"Figure\",\"type\":\"Plot\"},{\"id\":\"14607\",\"subtype\":\"Figure\",\"type\":\"Plot\"},{\"id\":\"14626\",\"subtype\":\"Figure\",\"type\":\"Plot\"},{\"id\":\"14645\",\"subtype\":\"Figure\",\"type\":\"Plot\"}]},\"id\":\"15710\",\"type\":\"Row\"},{\"attributes\":{\"callback\":null,\"end\":31},\"id\":\"14648\",\"type\":\"Range1d\"},{\"attributes\":{\"text\":\"head 10\"},\"id\":\"14627\",\"type\":\"Title\"},{\"attributes\":{\"color_mapper\":{\"id\":\"14602\",\"type\":\"LinearColorMapper\"},\"dh\":{\"units\":\"data\",\"value\":31},\"dw\":{\"units\":\"data\",\"value\":31},\"image\":{\"field\":\"image\"},\"x\":{\"value\":0},\"y\":{\"value\":0}},\"id\":\"14601\",\"type\":\"Image\"},{\"attributes\":{\"source\":{\"id\":\"14600\",\"type\":\"ColumnDataSource\"}},\"id\":\"14606\",\"type\":\"CDSView\"},{\"attributes\":{\"text\":\"head 9\"},\"id\":\"14608\",\"type\":\"Title\"},{\"attributes\":{\"callback\":null,\"end\":31},\"id\":\"14629\",\"type\":\"Range1d\"},{\"attributes\":{},\"id\":\"16177\",\"type\":\"UnionRenderers\"},{\"attributes\":{\"plot_height\":240,\"plot_width\":240,\"renderers\":[{\"id\":\"14605\",\"type\":\"GlyphRenderer\"}],\"title\":{\"id\":\"14589\",\"type\":\"Title\"},\"toolbar\":{\"id\":\"14599\",\"type\":\"Toolbar\"},\"x_range\":{\"id\":\"14591\",\"type\":\"Range1d\"},\"x_scale\":{\"id\":\"14595\",\"type\":\"LinearScale\"},\"y_range\":{\"id\":\"14593\",\"type\":\"Range1d\"},\"y_scale\":{\"id\":\"14597\",\"type\":\"LinearScale\"}},\"id\":\"14588\",\"subtype\":\"Figure\",\"type\":\"Plot\"},{\"attributes\":{\"color_mapper\":{\"id\":\"14621\",\"type\":\"LinearColorMapper\"},\"dh\":{\"units\":\"data\",\"value\":31},\"dw\":{\"units\":\"data\",\"value\":31},\"image\":{\"field\":\"image\"},\"x\":{\"value\":0},\"y\":{\"value\":0}},\"id\":\"14620\",\"type\":\"Image\"},{\"attributes\":{\"palette\":[\"#000000\",\"#252525\",\"#525252\",\"#737373\",\"#969696\",\"#bdbdbd\",\"#d9d9d9\",\"#f0f0f0\",\"#ffffff\"]},\"id\":\"14604\",\"type\":\"LinearColorMapper\"},{\"attributes\":{\"callback\":null,\"end\":31},\"id\":\"14610\",\"type\":\"Range1d\"},{\"attributes\":{\"callback\":null,\"end\":31},\"id\":\"14650\",\"type\":\"Range1d\"},{\"attributes\":{},\"id\":\"16176\",\"type\":\"Selection\"},{\"attributes\":{},\"id\":\"14652\",\"type\":\"LinearScale\"},{\"attributes\":{},\"id\":\"16172\",\"type\":\"Selection\"},{\"attributes\":{},\"id\":\"14654\",\"type\":\"LinearScale\"},{\"attributes\":{},\"id\":\"16173\",\"type\":\"UnionRenderers\"},{\"attributes\":{\"text\":\"head 8\"},\"id\":\"14589\",\"type\":\"Title\"},{\"attributes\":{\"callback\":null,\"end\":31},\"id\":\"14631\",\"type\":\"Range1d\"},{\"attributes\":{},\"id\":\"14633\",\"type\":\"LinearScale\"},{\"attributes\":{\"plot_height\":240,\"plot_width\":240,\"renderers\":[{\"id\":\"14643\",\"type\":\"GlyphRenderer\"}],\"title\":{\"id\":\"14627\",\"type\":\"Title\"},\"toolbar\":{\"id\":\"14637\",\"type\":\"Toolbar\"},\"x_range\":{\"id\":\"14629\",\"type\":\"Range1d\"},\"x_scale\":{\"id\":\"14633\",\"type\":\"LinearScale\"},\"y_range\":{\"id\":\"14631\",\"type\":\"Range1d\"},\"y_scale\":{\"id\":\"14635\",\"type\":\"LinearScale\"}},\"id\":\"14626\",\"subtype\":\"Figure\",\"type\":\"Plot\"},{\"attributes\":{\"callback\":null,\"end\":31},\"id\":\"14591\",\"type\":\"Range1d\"},{\"attributes\":{\"callback\":null,\"end\":31},\"id\":\"14612\",\"type\":\"Range1d\"},{\"attributes\":{},\"id\":\"14635\",\"type\":\"LinearScale\"},{\"attributes\":{},\"id\":\"14614\",\"type\":\"LinearScale\"},{\"attributes\":{\"active_drag\":\"auto\",\"active_inspect\":\"auto\",\"active_multi\":null,\"active_scroll\":\"auto\",\"active_tap\":\"auto\"},\"id\":\"14656\",\"type\":\"Toolbar\"},{\"attributes\":{\"data_source\":{\"id\":\"14657\",\"type\":\"ColumnDataSource\"},\"glyph\":{\"id\":\"14658\",\"type\":\"Image\"},\"hover_glyph\":null,\"muted_glyph\":null,\"nonselection_glyph\":{\"id\":\"14660\",\"type\":\"Image\"},\"selection_glyph\":null,\"view\":{\"id\":\"14663\",\"type\":\"CDSView\"}},\"id\":\"14662\",\"type\":\"GlyphRenderer\"},{\"attributes\":{},\"id\":\"14616\",\"type\":\"LinearScale\"},{\"attributes\":{\"data_source\":{\"id\":\"14638\",\"type\":\"ColumnDataSource\"},\"glyph\":{\"id\":\"14639\",\"type\":\"Image\"},\"hover_glyph\":null,\"muted_glyph\":null,\"nonselection_glyph\":{\"id\":\"14641\",\"type\":\"Image\"},\"selection_glyph\":null,\"view\":{\"id\":\"14644\",\"type\":\"CDSView\"}},\"id\":\"14643\",\"type\":\"GlyphRenderer\"},{\"attributes\":{\"callback\":null,\"data\":{\"image\":[{\"__ndarray__\":\"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\",\"dtype\":\"float32\",\"shape\":[31,31]}]},\"selected\":{\"id\":\"16178\",\"type\":\"Selection\"},\"selection_policy\":{\"id\":\"16177\",\"type\":\"UnionRenderers\"}},\"id\":\"14657\",\"type\":\"ColumnDataSource\"},{\"attributes\":{\"active_drag\":\"auto\",\"active_inspect\":\"auto\",\"active_multi\":null,\"active_scroll\":\"auto\",\"active_tap\":\"auto\"},\"id\":\"14637\",\"type\":\"Toolbar\"},{\"attributes\":{\"palette\":[\"#000000\",\"#252525\",\"#525252\",\"#737373\",\"#969696\",\"#bdbdbd\",\"#d9d9d9\",\"#f0f0f0\",\"#ffffff\"]},\"id\":\"14659\",\"type\":\"LinearColorMapper\"},{\"attributes\":{\"callback\":null,\"end\":31},\"id\":\"14593\",\"type\":\"Range1d\"},{\"attributes\":{\"data_source\":{\"id\":\"14619\",\"type\":\"ColumnDataSource\"},\"glyph\":{\"id\":\"14620\",\"type\":\"Image\"},\"hover_glyph\":null,\"muted_glyph\":null,\"nonselection_glyph\":{\"id\":\"14622\",\"type\":\"Image\"},\"selection_glyph\":null,\"view\":{\"id\":\"14625\",\"type\":\"CDSView\"}},\"id\":\"14624\",\"type\":\"GlyphRenderer\"},{\"attributes\":{\"color_mapper\":{\"id\":\"14661\",\"type\":\"LinearColorMapper\"},\"dh\":{\"units\":\"data\",\"value\":31},\"dw\":{\"units\":\"data\",\"value\":31},\"image\":{\"field\":\"image\"},\"x\":{\"value\":0},\"y\":{\"value\":0}},\"id\":\"14660\",\"type\":\"Image\"},{\"attributes\":{\"color_mapper\":{\"id\":\"14659\",\"type\":\"LinearColorMapper\"},\"dh\":{\"units\":\"data\",\"value\":31},\"dw\":{\"units\":\"data\",\"value\":31},\"image\":{\"field\":\"image\"},\"x\":{\"value\":0},\"y\":{\"value\":0}},\"id\":\"14658\",\"type\":\"Image\"},{\"attributes\":{},\"id\":\"14595\",\"type\":\"LinearScale\"},{\"attributes\":{\"active_drag\":\"auto\",\"active_inspect\":\"auto\",\"active_multi\":null,\"active_scroll\":\"auto\",\"active_tap\":\"auto\"},\"id\":\"14618\",\"type\":\"Toolbar\"},{\"attributes\":{\"callback\":null,\"data\":{\"image\":[{\"__ndarray__\":\"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\",\"dtype\":\"float32\",\"shape\":[31,31]}]},\"selected\":{\"id\":\"16176\",\"type\":\"Selection\"},\"selection_policy\":{\"id\":\"16175\",\"type\":\"UnionRenderers\"}},\"id\":\"14638\",\"type\":\"ColumnDataSource\"},{\"attributes\":{},\"id\":\"16175\",\"type\":\"UnionRenderers\"},{\"attributes\":{},\"id\":\"14597\",\"type\":\"LinearScale\"},{\"attributes\":{\"palette\":[\"#000000\",\"#252525\",\"#525252\",\"#737373\",\"#969696\",\"#bdbdbd\",\"#d9d9d9\",\"#f0f0f0\",\"#ffffff\"]},\"id\":\"14640\",\"type\":\"LinearColorMapper\"},{\"attributes\":{\"callback\":null,\"data\":{\"image\":[{\"__ndarray__\":\"kYAEPYicHjx7PIE8atEVPVl3NzwCyK47VNDaO860pzsX+4A7RQ9yO5oWKTzZFb8+jvY5PaGyHD1oUz49TG1OPcofjDxjI3g96B+HPKU5JDyJuUE6wjiPOwp8nzsCx007T3buOqlskzlhB6o5VCCDOtweaDnEdDw7+B86Pkh1/Tur21I9Y1P5O1JjgjwcOQY7XP5FOxKFGjwT7Bg7dCm/OggtMzxJ1787r5YMP8LzxjrUktU8zH3qOZ3JlzsCp1U7gXyBO+9wuDuvxmA75e5zOyTv8TpiePE6zb6pO2cS2zlUPQ87c2JaObpJ8DkUplI6hFRPOh6BiD7vKz08U7wXPELGsTzO3Yg8scKlO5OD8TpA8os7Hj5DO9BzqTreyJQ7YpHVOympFz8azNQ7OYvEPCApjTvZrUo8EPv1O4+FtzsE9dk71TNFO1bexjqVtBI7D7ERO93P/DpPpf05t5SPOpE4dDmUso46y3gqOrN7qDq663Q+UsMyPEGKtjspnaE7l8sDPf0BqTqB3QE7+MgDPKedeTrTkvM67BlXPHwY0DpLJxk/DCYCOzMiNDydwk86S8+5O5rKGzuCTyA7fw3AOmOdfTqpAvY6dE5/OrrMjTrMr0w7M7lUOuCx2TrZqcM4e09dOnfiEDpaIrQ5IwCQPn3V2DsUajs84nhTPEzyGz2PUHY8HdUnOwMFjTsfPvM7+zwjO+OghDvKdzY8tQMhP0BSBztwwE87FNBJOu9WOzsMba48+n8bO75wNTuJ0AQ7i684OmJZNTsKSrU62pCrOhijfzqh/1c6CH9AOQdf4TpyINs5525iOmB9Uz5dTPA7PJjZO7KAmDlMw1M8DMgqOh8KSj3Fcuo9ml+sOrDf1jxxrBk+OdHxOlr3MT4yDAU7g9QnPtxErjg0/E48usIWOuZMHTsUzc47Y+87PM2CczwpObc6vVRsO+2zkT2x4QI7U6tDPPh7Yjl8wMI5DSrJOxekWzrjnhI+hlWGO+iwHTriAH85WiM4Omjbkjms6MU6buqPPbWYwDlCEx867CX+PIoZITqmXxw/QcShODApTDvL+h44dcu3OW7UXzrJhQk5EixAOZ5RfzmFw887AkPBOcOq7ThLsNg6WgmIOGy7MDsEEA44hgd+ON2vazqhwrE4G+iFPq6DqDuz9zk9sd+zPO7Oyj2BAi882dR6PEnRAjxen1s9VaBOPDKCIDyOu6g8HePJPtvwEDu4BFw8oli4OjTsHjxaUCY8CRGXO7nktDxqhN07M2+QOsNFHTy6A1A7FlMpPOh5YztU96c6u6BjObJJYjsuGm46FguiOvMxSz7xKps7IpPsO8yLkjnPNLc8/VYGOojCUT0iq7M98OYCO+gMFD3UmkQ+/aXgOkeILT6laPY60yoSPqArgjj8OHw8t2f+OVkVKDs+odI7JhUZPExlBDwTGr464et2O5YYhj3A0Os6pbgOPLomKDmdPdU5YZHHO5lTMzrcrhg+sy6pOyYBSzpZ0ng5Z6SQOga+SDn+vMo6rqctPZRN7zmaSHs6GUOqPSWPDTqqfQY/dFjsOESCDzxF4RU4TOyxOaK9Cjpg/V05kZF0ORy9XDkrdtQ72NONOdu2qzgZUy07unWgOAZoRDuQHzc4ueerODD6wzpyBRE5fXWgPt+yzDs76jY9MLh7Pa+SgT1MppA8kL5LOxTW2TuZuvA8xoz8OgsvIDzgqqM9vG7PPvCqVDppyiY7d7XBOvLW2zrAVYk8wMuDOgFmbDo1bWc6PJcVOpbauTv4BgM6Rdq2OslyBzp6Ph06WLkMOYuZrDpB9NY5YvMROzH1bD51xUo7tKD9O3yfmTs2tP07oVUNO0t1zDsu56s8f/odO7JJjjtw07g8MjFZOkOWLD+cLm07B3kpPB/QcDsJqO48iKnTO0vgrDvlnNc7HeYdPBceMDyzTFo7CQGqO1ZyXDsOqds6r7cZPEqwCTuZB4c7AcWtO32j4Tp6mPg99QcFPKHv8TqAFo06vygePKckFDrNtJQ6CIKRO7ZzKjrOR+M5uOAoOwr95TrZYzs+/EvBPGfCyD57zjE7HXdIPfrzGjssafQ8s5GMPfhGxjx7wGw7r8uPOwLbODzD38s8672iOoZ93TrZv3w52pvrOfdYjDohQpY6LMIRPkVjRTzSMpI62lO/OdvEtzrUGIU5UGQ8OhKapTx5jnU5w2GWOU6Iuzxbn1w6TbGpPgY+cTuVYHM+s6YdOq5fMzwYkEc6v6rBO8A/0ztOKks7oU76PBtyzDqtABc78UDxPDNpGDpitKo8yDfKOVcc8DnVCjU8M2JrOmnHdj5wnMI7vP8TO0XCBDve+zQ8vrSKOrtNTjq7bQI7kJ7KOoSLyTluYSE6idVHOnL6oT6hdVM8BVLxPBfYNT2cA6s+AjchPIc7fTwPShU9KfN2O5SFGToRdYs7ismjO890qTsJ3Hg6pde4OWLOqDh7peo53XIUOW2SyDk5Nhs+sr7jO9vKDTuQNfA5GgCyO3fRKDk7AG85scdcO7yzgznx/6A4zP+iOqi+hznoJ1k+/HSjOyCzdT13kdw77e3zPp4b9DodLaU7X2uyPPsYszrmdt86RLsQO5sZLzsPBm489i6UOf61fzqK+AA4IR4NOeEmjTmpJZs4G0YqPvqZPDwfmSs7PQueO67ZjzxxwTg7vmPOOb1eqDrqVK07rnpfOVaApTll8jI73/kGPxNLODuZfRA7t2PTPCUwST1KHgQ+lQ/mOwoRdDwCtc06hrLNOQ4e7TvF56o67el3OjKDpzk/sZg5zulcOEAC7jm7/g45rvdZOVq1Nz4rJ4U8nPoJPGtQpTpLQJc8tXITOmInjzrqJ9w7rAb4OlL3Nzrfxl070oAXO+PD2T0/LNM8p4/lPqufFDwGERo+xqI+OkzApDyiC+M8VAMEPPIelzp5ZY86fdMLPLXLqDw42cU5rTAXOg2EBzhhO444ssGfOcNJADn6LOA9pda/OwRGlzpelbI5MeqnOwKYmjhgmBc56kiNOv89fDmWlkc4+2HLOetS7zktKcY9aYEDPGnl/D5gI4s7Di4jPqBE+DkRrI47ee6QPRe1nDtoUK86bIfNOocZxjv1oC09BgN8OYTYXDoJ7ZM3YcCCOPsYojlkm7Y490m3PRqnEzvijF06pr1pORjWiDshpE05+xTEOlAzTTtpM805nArWOQxhhzrjW2U6U64HPi9dJDy9B+o+xESCOneZzz0v3Bg6DeYCPK9aMD3XXiM92e26OkuyQDviAbI87Ct/Pf2BNDp1lGM6/4ssON03bjjg6+I5lvdbOQRozj1SV7c6Y6QvOf3t3jg9HgI5t5RVOEuWcTkYCjM8dK2eOIC7mzj5uHU7DBwxObBvGT+aZA46RVGqPKXQNTljTBU7gIulOlynBTrfwG06yYJlOkfZnT1sOY86VUoOOnlOhjtgioA5Ao4SPRSF5jnAoIQ5DMcRPA8J5jmN0Wg+SY2iOw0lPzvR+A07TBScO5P1CDodhvM5IiQ7Ol63ETuUIm05JHN6OQsBuDuYzvk+ojHjOxG3QT14tgU8tlosPXnB5ztn4HM7/fUQPTf1BzyllUo6W1a4PHNtnDxDC8E8NRDTOj/MJzo7/DU5wOAoOmusWzm0z+I6yciDPmZjuTqPW3k6psVhOYvibjvnGCA4Sko5OXmkRTqcuDE5AYJ7OI9Knjkzthw6XTO8PT1IyDuJfNE+gMUbO3C6VD4lybU56nNrO8OhFj1u0CM8Gm/lORiaDjuO6O88KLnSPUJt4jnss905NjvRNwzWwzexHBE5ANonOeSWsz3donM7h8bmOT4teDnUs6U5z31nOIfJazmWvKw70iwsObyvnjgmxOs6vQyIOUya8T630Js6jaP6PfP0ejqVLm48mV8KOiqhmDpWjsE7lJDgOrjO7zsn5Y46EuvGOk7yrz354WE6oUnuOzDSADlb19Y501GvOnDvkTnZqYU+6WoCOzUMTTqI3MQ5YTbDOlg2xDiCAzY5Up6mO+2nnTm5iJg4qPjrOu2r+jmzuVc+kEzROjjuRD7wC506/GHwPFBh8zrvXZ46/bBlPIyYETuviD88yhV/Oz15Hju7Mpc+NSz+O2IjnDwqMas55L83O0jZwzuwClw6/z47PvMEJzsqXTQ5MqxpOTLsBzkENcA4NOmqOOHWpjsHku84VT4bOKUbeTs+21w5ekjoPiYXuznPKMg8rqtMOT+6hjrdUhU7T6W0OWxoFDp20sU5yGq2PadzkjrcNHE5mfwWPCJGGTryN709tMqFOvmIszrumck8m7eHOnMzkT5lZdo6YxuiOX75kDk6q5s5zyZtONcuoTizfv07TmW3OPeDrTcaulk7R3VTOXfX+j0qbxo6zUY+Pjg+UTlvPOQ7OuszOx+zvDlqjl47vygzOuShDz7FFwE7Cu0BOtxIbD1u6MM62GZwPjiipzsdZNg6ogOpPatjKjvoWwk+qTVnOlu/8jk5mxE6GvTHOcwh9Tg4Q0Q5cnYkOiVYATqmRgc5Z/jlOayCWjk4nPA+F/MeOvfphzyQnQQ6uGV4O4GHnzvePcU6t1A3PMn7STtf1/48H6hOPC+M+Tr4ZgQ9UqVjPL0xRz0QfB07jbT0PXb/jDxAeoE7V7VMPoA+BzuretI4byAHOUj6kjgIcYo45/KHODvNhDumQoY4XAXxN5+3tDuUiTU5Vj3BPmr7tjk0hhk9IxK1OCpSETpTZQE7n4O2OZIc+Tk7DZQ5WcjTPZYpijovKks5tbbAOxQaqTnDdws+5fh0OsA5SDqt3nQ9DyOPOmykhD7tt047DFsnO8U2Kjty5kk7I6UIOvGDDjozcmA8z8u1Ok+AMDlL1yY8BZ+0O0t5/T1mhgM7l5WHPlApezrfaDM8x+E5PMWwnjqmHCs8QCtlO69EOD0GbZM85CgjO8splT33mV875Y35PUNvzjvUNUg7GdWpPU1doDz41Bs+gHAQOy16hTuiZhw7NRxeO7zdgTpKhys7seklPD7Whjrz9OY6NcwtPLVM6jn/wkU/xffgOtq9pzu2wPM6Y/1APFAijzvd9zs7RbxCO+DyhztQ0eI7UCoKO8luFztcXwc7in9/Opaw2Tu/yIk6usdFO+b1SzsALHU6Nrn9PQ==\",\"dtype\":\"float32\",\"shape\":[31,31]}]},\"selected\":{\"id\":\"16174\",\"type\":\"Selection\"},\"selection_policy\":{\"id\":\"16173\",\"type\":\"UnionRenderers\"}},\"id\":\"14619\",\"type\":\"ColumnDataSource\"},{\"attributes\":{\"color_mapper\":{\"id\":\"14642\",\"type\":\"LinearColorMapper\"},\"dh\":{\"units\":\"data\",\"value\":31},\"dw\":{\"units\":\"data\",\"value\":31},\"image\":{\"field\":\"image\"},\"x\":{\"value\":0},\"y\":{\"value\":0}},\"id\":\"14641\",\"type\":\"Image\"},{\"attributes\":{\"palette\":[\"#000000\",\"#252525\",\"#525252\",\"#737373\",\"#969696\",\"#bdbdbd\",\"#d9d9d9\",\"#f0f0f0\",\"#ffffff\"]},\"id\":\"14621\",\"type\":\"LinearColorMapper\"},{\"attributes\":{\"data_source\":{\"id\":\"14600\",\"type\":\"ColumnDataSource\"},\"glyph\":{\"id\":\"14601\",\"type\":\"Image\"},\"hover_glyph\":null,\"muted_glyph\":null,\"nonselection_glyph\":{\"id\":\"14603\",\"type\":\"Image\"},\"selection_glyph\":null,\"view\":{\"id\":\"14606\",\"type\":\"CDSView\"}},\"id\":\"14605\",\"type\":\"GlyphRenderer\"},{\"attributes\":{\"color_mapper\":{\"id\":\"14623\",\"type\":\"LinearColorMapper\"},\"dh\":{\"units\":\"data\",\"value\":31},\"dw\":{\"units\":\"data\",\"value\":31},\"image\":{\"field\":\"image\"},\"x\":{\"value\":0},\"y\":{\"value\":0}},\"id\":\"14622\",\"type\":\"Image\"},{\"attributes\":{\"palette\":[\"#000000\",\"#252525\",\"#525252\",\"#737373\",\"#969696\",\"#bdbdbd\",\"#d9d9d9\",\"#f0f0f0\",\"#ffffff\"]},\"id\":\"14661\",\"type\":\"LinearColorMapper\"},{\"attributes\":{\"active_drag\":\"auto\",\"active_inspect\":\"auto\",\"active_multi\":null,\"active_scroll\":\"auto\",\"active_tap\":\"auto\"},\"id\":\"14599\",\"type\":\"Toolbar\"},{\"attributes\":{\"callback\":null,\"data\":{\"image\":[{\"__ndarray__\":\"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\",\"dtype\":\"float32\",\"shape\":[31,31]}]},\"selected\":{\"id\":\"16172\",\"type\":\"Selection\"},\"selection_policy\":{\"id\":\"16171\",\"type\":\"UnionRenderers\"}},\"id\":\"14600\",\"type\":\"ColumnDataSource\"},{\"attributes\":{},\"id\":\"16171\",\"type\":\"UnionRenderers\"},{\"attributes\":{\"palette\":[\"#000000\",\"#252525\",\"#525252\",\"#737373\",\"#969696\",\"#bdbdbd\",\"#d9d9d9\",\"#f0f0f0\",\"#ffffff\"]},\"id\":\"14642\",\"type\":\"LinearColorMapper\"},{\"attributes\":{\"plot_height\":240,\"plot_width\":240,\"renderers\":[{\"id\":\"14624\",\"type\":\"GlyphRenderer\"}],\"title\":{\"id\":\"14608\",\"type\":\"Title\"},\"toolbar\":{\"id\":\"14618\",\"type\":\"Toolbar\"},\"x_range\":{\"id\":\"14610\",\"type\":\"Range1d\"},\"x_scale\":{\"id\":\"14614\",\"type\":\"LinearScale\"},\"y_range\":{\"id\":\"14612\",\"type\":\"Range1d\"},\"y_scale\":{\"id\":\"14616\",\"type\":\"LinearScale\"}},\"id\":\"14607\",\"subtype\":\"Figure\",\"type\":\"Plot\"},{\"attributes\":{\"source\":{\"id\":\"14657\",\"type\":\"ColumnDataSource\"}},\"id\":\"14663\",\"type\":\"CDSView\"},{\"attributes\":{\"palette\":[\"#000000\",\"#252525\",\"#525252\",\"#737373\",\"#969696\",\"#bdbdbd\",\"#d9d9d9\",\"#f0f0f0\",\"#ffffff\"]},\"id\":\"14602\",\"type\":\"LinearColorMapper\"},{\"attributes\":{\"color_mapper\":{\"id\":\"14604\",\"type\":\"LinearColorMapper\"},\"dh\":{\"units\":\"data\",\"value\":31},\"dw\":{\"units\":\"data\",\"value\":31},\"image\":{\"field\":\"image\"},\"x\":{\"value\":0},\"y\":{\"value\":0}},\"id\":\"14603\",\"type\":\"Image\"},{\"attributes\":{\"palette\":[\"#000000\",\"#252525\",\"#525252\",\"#737373\",\"#969696\",\"#bdbdbd\",\"#d9d9d9\",\"#f0f0f0\",\"#ffffff\"]},\"id\":\"14623\",\"type\":\"LinearColorMapper\"},{\"attributes\":{},\"id\":\"16178\",\"type\":\"Selection\"},{\"attributes\":{\"plot_height\":240,\"plot_width\":240,\"renderers\":[{\"id\":\"14662\",\"type\":\"GlyphRenderer\"}],\"title\":{\"id\":\"14646\",\"type\":\"Title\"},\"toolbar\":{\"id\":\"14656\",\"type\":\"Toolbar\"},\"x_range\":{\"id\":\"14648\",\"type\":\"Range1d\"},\"x_scale\":{\"id\":\"14652\",\"type\":\"LinearScale\"},\"y_range\":{\"id\":\"14650\",\"type\":\"Range1d\"},\"y_scale\":{\"id\":\"14654\",\"type\":\"LinearScale\"}},\"id\":\"14645\",\"subtype\":\"Figure\",\"type\":\"Plot\"},{\"attributes\":{},\"id\":\"16174\",\"type\":\"Selection\"},{\"attributes\":{\"source\":{\"id\":\"14638\",\"type\":\"ColumnDataSource\"}},\"id\":\"14644\",\"type\":\"CDSView\"},{\"attributes\":{\"color_mapper\":{\"id\":\"14640\",\"type\":\"LinearColorMapper\"},\"dh\":{\"units\":\"data\",\"value\":31},\"dw\":{\"units\":\"data\",\"value\":31},\"image\":{\"field\":\"image\"},\"x\":{\"value\":0},\"y\":{\"value\":0}},\"id\":\"14639\",\"type\":\"Image\"},{\"attributes\":{\"source\":{\"id\":\"14619\",\"type\":\"ColumnDataSource\"}},\"id\":\"14625\",\"type\":\"CDSView\"},{\"attributes\":{\"text\":\"head 11\"},\"id\":\"14646\",\"type\":\"Title\"}],\"root_ids\":[\"15710\"]},\"title\":\"Bokeh Application\",\"version\":\"1.4.0\"}};\n",
       "  var render_items = [{\"docid\":\"729b04b8-97fe-4ad0-ba3e-7fa65588ac05\",\"roots\":{\"15710\":\"9cb5655f-0fb9-4f15-a40d-7e06b47a64d3\"}}];\n",
       "  root.Bokeh.embed.embed_items_notebook(docs_json, render_items);\n",
       "\n",
       "  }\n",
       "  if (root.Bokeh !== undefined) {\n",
       "    embed_document(root);\n",
       "  } else {\n",
       "    var attempts = 0;\n",
       "    var timer = setInterval(function(root) {\n",
       "      if (root.Bokeh !== undefined) {\n",
       "        clearInterval(timer);\n",
       "        embed_document(root);\n",
       "      } else {\n",
       "        attempts++;\n",
       "        if (attempts > 100) {\n",
       "          clearInterval(timer);\n",
       "          console.log(\"Bokeh: ERROR: Unable to run BokehJS code because BokehJS library is missing\");\n",
       "        }\n",
       "      }\n",
       "    }, 10, root)\n",
       "  }\n",
       "})(window);"
      ],
      "application/vnd.bokehjs_exec.v0+json": ""
     },
     "metadata": {
      "application/vnd.bokehjs_exec.v0+json": {
       "id": "15710"
      }
     },
     "output_type": "display_data"
    }
   ],
   "source": [
    "scores_3 = show_importance_of_transformers_layer(query, answer3)"
   ]
  },
  {
   "cell_type": "code",
   "execution_count": 26,
   "metadata": {},
   "outputs": [
    {
     "name": "stdout",
     "output_type": "stream",
     "text": [
      "[CLS] Which is better, a laptop or a desktop? [SEP] Just the pace for snark the Bellman cried [SEP]\n",
      "Tokenize the first sentence:\n",
      "['[CLS]', 'which', 'is', 'better', ',', 'a', 'laptop', 'or', 'a', 'desktop', '?', '[SEP]', 'just', 'the', 'pace', 'for', 's', '##nar', '##k', 'the', 'bell', '##man', 'cried', '[SEP]']\n",
      "0 10 24\n"
     ]
    },
    {
     "data": {
      "text/html": [
       "\n",
       "\n",
       "\n",
       "\n",
       "\n",
       "\n",
       "  <div class=\"bk-root\" id=\"d3e465e6-d4bf-4973-88b0-3ccc64596c7e\" data-root-id=\"9867\"></div>\n"
      ]
     },
     "metadata": {},
     "output_type": "display_data"
    },
    {
     "data": {
      "application/javascript": [
       "(function(root) {\n",
       "  function embed_document(root) {\n",
       "    \n",
       "  var docs_json = {\"c1087a4a-013b-40aa-8cf6-09287fea3805\":{\"roots\":{\"references\":[{\"attributes\":{\"children\":[{\"id\":\"9639\",\"subtype\":\"Figure\",\"type\":\"Plot\"},{\"id\":\"9658\",\"subtype\":\"Figure\",\"type\":\"Plot\"},{\"id\":\"9677\",\"subtype\":\"Figure\",\"type\":\"Plot\"},{\"id\":\"9696\",\"subtype\":\"Figure\",\"type\":\"Plot\"}]},\"id\":\"9867\",\"type\":\"Row\"},{\"attributes\":{\"data_source\":{\"id\":\"9708\",\"type\":\"ColumnDataSource\"},\"glyph\":{\"id\":\"9709\",\"type\":\"Image\"},\"hover_glyph\":null,\"muted_glyph\":null,\"nonselection_glyph\":{\"id\":\"9711\",\"type\":\"Image\"},\"selection_glyph\":null,\"view\":{\"id\":\"9714\",\"type\":\"CDSView\"}},\"id\":\"9713\",\"type\":\"GlyphRenderer\"},{\"attributes\":{\"palette\":[\"#000000\",\"#252525\",\"#525252\",\"#737373\",\"#969696\",\"#bdbdbd\",\"#d9d9d9\",\"#f0f0f0\",\"#ffffff\"]},\"id\":\"9674\",\"type\":\"LinearColorMapper\"},{\"attributes\":{\"callback\":null,\"end\":24},\"id\":\"9642\",\"type\":\"Range1d\"},{\"attributes\":{\"palette\":[\"#000000\",\"#252525\",\"#525252\",\"#737373\",\"#969696\",\"#bdbdbd\",\"#d9d9d9\",\"#f0f0f0\",\"#ffffff\"]},\"id\":\"9655\",\"type\":\"LinearColorMapper\"},{\"attributes\":{},\"id\":\"10197\",\"type\":\"Selection\"},{\"attributes\":{\"plot_height\":250,\"plot_width\":250,\"renderers\":[{\"id\":\"9694\",\"type\":\"GlyphRenderer\"}],\"title\":{\"id\":\"9678\",\"type\":\"Title\"},\"toolbar\":{\"id\":\"9688\",\"type\":\"Toolbar\"},\"x_range\":{\"id\":\"9680\",\"type\":\"Range1d\"},\"x_scale\":{\"id\":\"9684\",\"type\":\"LinearScale\"},\"y_range\":{\"id\":\"9682\",\"type\":\"Range1d\"},\"y_scale\":{\"id\":\"9686\",\"type\":\"LinearScale\"}},\"id\":\"9677\",\"subtype\":\"Figure\",\"type\":\"Plot\"},{\"attributes\":{\"palette\":[\"#000000\",\"#252525\",\"#525252\",\"#737373\",\"#969696\",\"#bdbdbd\",\"#d9d9d9\",\"#f0f0f0\",\"#ffffff\"]},\"id\":\"9693\",\"type\":\"LinearColorMapper\"},{\"attributes\":{\"callback\":null,\"end\":24},\"id\":\"9680\",\"type\":\"Range1d\"},{\"attributes\":{\"color_mapper\":{\"id\":\"9712\",\"type\":\"LinearColorMapper\"},\"dh\":{\"units\":\"data\",\"value\":24},\"dw\":{\"units\":\"data\",\"value\":24},\"image\":{\"field\":\"image\"},\"x\":{\"value\":0},\"y\":{\"value\":0}},\"id\":\"9711\",\"type\":\"Image\"},{\"attributes\":{},\"id\":\"10198\",\"type\":\"UnionRenderers\"},{\"attributes\":{\"plot_height\":250,\"plot_width\":250,\"renderers\":[{\"id\":\"9675\",\"type\":\"GlyphRenderer\"}],\"title\":{\"id\":\"9659\",\"type\":\"Title\"},\"toolbar\":{\"id\":\"9669\",\"type\":\"Toolbar\"},\"x_range\":{\"id\":\"9661\",\"type\":\"Range1d\"},\"x_scale\":{\"id\":\"9665\",\"type\":\"LinearScale\"},\"y_range\":{\"id\":\"9663\",\"type\":\"Range1d\"},\"y_scale\":{\"id\":\"9667\",\"type\":\"LinearScale\"}},\"id\":\"9658\",\"subtype\":\"Figure\",\"type\":\"Plot\"},{\"attributes\":{\"palette\":[\"#000000\",\"#252525\",\"#525252\",\"#737373\",\"#969696\",\"#bdbdbd\",\"#d9d9d9\",\"#f0f0f0\",\"#ffffff\"]},\"id\":\"9653\",\"type\":\"LinearColorMapper\"},{\"attributes\":{},\"id\":\"10199\",\"type\":\"Selection\"},{\"attributes\":{\"plot_height\":250,\"plot_width\":250,\"renderers\":[{\"id\":\"9656\",\"type\":\"GlyphRenderer\"}],\"title\":{\"id\":\"9640\",\"type\":\"Title\"},\"toolbar\":{\"id\":\"9650\",\"type\":\"Toolbar\"},\"x_range\":{\"id\":\"9642\",\"type\":\"Range1d\"},\"x_scale\":{\"id\":\"9646\",\"type\":\"LinearScale\"},\"y_range\":{\"id\":\"9644\",\"type\":\"Range1d\"},\"y_scale\":{\"id\":\"9648\",\"type\":\"LinearScale\"}},\"id\":\"9639\",\"subtype\":\"Figure\",\"type\":\"Plot\"},{\"attributes\":{\"color_mapper\":{\"id\":\"9674\",\"type\":\"LinearColorMapper\"},\"dh\":{\"units\":\"data\",\"value\":24},\"dw\":{\"units\":\"data\",\"value\":24},\"image\":{\"field\":\"image\"},\"x\":{\"value\":0},\"y\":{\"value\":0}},\"id\":\"9673\",\"type\":\"Image\"},{\"attributes\":{\"callback\":null,\"end\":24},\"id\":\"9644\",\"type\":\"Range1d\"},{\"attributes\":{\"text\":\"head 1\"},\"id\":\"9659\",\"type\":\"Title\"},{\"attributes\":{},\"id\":\"10200\",\"type\":\"UnionRenderers\"},{\"attributes\":{\"callback\":null,\"data\":{\"image\":[{\"__ndarray__\":\"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\",\"dtype\":\"float32\",\"shape\":[24,24]}]},\"selected\":{\"id\":\"10197\",\"type\":\"Selection\"},\"selection_policy\":{\"id\":\"10196\",\"type\":\"UnionRenderers\"}},\"id\":\"9651\",\"type\":\"ColumnDataSource\"},{\"attributes\":{},\"id\":\"9646\",\"type\":\"LinearScale\"},{\"attributes\":{\"callback\":null,\"end\":24},\"id\":\"9661\",\"type\":\"Range1d\"},{\"attributes\":{\"color_mapper\":{\"id\":\"9655\",\"type\":\"LinearColorMapper\"},\"dh\":{\"units\":\"data\",\"value\":24},\"dw\":{\"units\":\"data\",\"value\":24},\"image\":{\"field\":\"image\"},\"x\":{\"value\":0},\"y\":{\"value\":0}},\"id\":\"9654\",\"type\":\"Image\"},{\"attributes\":{},\"id\":\"10201\",\"type\":\"Selection\"},{\"attributes\":{\"palette\":[\"#000000\",\"#252525\",\"#525252\",\"#737373\",\"#969696\",\"#bdbdbd\",\"#d9d9d9\",\"#f0f0f0\",\"#ffffff\"]},\"id\":\"9672\",\"type\":\"LinearColorMapper\"},{\"attributes\":{\"palette\":[\"#000000\",\"#252525\",\"#525252\",\"#737373\",\"#969696\",\"#bdbdbd\",\"#d9d9d9\",\"#f0f0f0\",\"#ffffff\"]},\"id\":\"9691\",\"type\":\"LinearColorMapper\"},{\"attributes\":{\"data_source\":{\"id\":\"9651\",\"type\":\"ColumnDataSource\"},\"glyph\":{\"id\":\"9652\",\"type\":\"Image\"},\"hover_glyph\":null,\"muted_glyph\":null,\"nonselection_glyph\":{\"id\":\"9654\",\"type\":\"Image\"},\"selection_glyph\":null,\"view\":{\"id\":\"9657\",\"type\":\"CDSView\"}},\"id\":\"9656\",\"type\":\"GlyphRenderer\"},{\"attributes\":{},\"id\":\"9686\",\"type\":\"LinearScale\"},{\"attributes\":{},\"id\":\"10202\",\"type\":\"UnionRenderers\"},{\"attributes\":{\"color_mapper\":{\"id\":\"9653\",\"type\":\"LinearColorMapper\"},\"dh\":{\"units\":\"data\",\"value\":24},\"dw\":{\"units\":\"data\",\"value\":24},\"image\":{\"field\":\"image\"},\"x\":{\"value\":0},\"y\":{\"value\":0}},\"id\":\"9652\",\"type\":\"Image\"},{\"attributes\":{\"callback\":null,\"data\":{\"image\":[{\"__ndarray__\":\"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\",\"dtype\":\"float32\",\"shape\":[24,24]}]},\"selected\":{\"id\":\"10199\",\"type\":\"Selection\"},\"selection_policy\":{\"id\":\"10198\",\"type\":\"UnionRenderers\"}},\"id\":\"9670\",\"type\":\"ColumnDataSource\"},{\"attributes\":{},\"id\":\"9648\",\"type\":\"LinearScale\"},{\"attributes\":{\"color_mapper\":{\"id\":\"9691\",\"type\":\"LinearColorMapper\"},\"dh\":{\"units\":\"data\",\"value\":24},\"dw\":{\"units\":\"data\",\"value\":24},\"image\":{\"field\":\"image\"},\"x\":{\"value\":0},\"y\":{\"value\":0}},\"id\":\"9690\",\"type\":\"Image\"},{\"attributes\":{},\"id\":\"10196\",\"type\":\"UnionRenderers\"},{\"attributes\":{\"palette\":[\"#000000\",\"#252525\",\"#525252\",\"#737373\",\"#969696\",\"#bdbdbd\",\"#d9d9d9\",\"#f0f0f0\",\"#ffffff\"]},\"id\":\"9712\",\"type\":\"LinearColorMapper\"},{\"attributes\":{},\"id\":\"9665\",\"type\":\"LinearScale\"},{\"attributes\":{\"palette\":[\"#000000\",\"#252525\",\"#525252\",\"#737373\",\"#969696\",\"#bdbdbd\",\"#d9d9d9\",\"#f0f0f0\",\"#ffffff\"]},\"id\":\"9710\",\"type\":\"LinearColorMapper\"},{\"attributes\":{},\"id\":\"10203\",\"type\":\"Selection\"},{\"attributes\":{\"active_drag\":\"auto\",\"active_inspect\":\"auto\",\"active_multi\":null,\"active_scroll\":\"auto\",\"active_tap\":\"auto\"},\"id\":\"9650\",\"type\":\"Toolbar\"},{\"attributes\":{\"text\":\"head 2\"},\"id\":\"9678\",\"type\":\"Title\"},{\"attributes\":{\"callback\":null,\"data\":{\"image\":[{\"__ndarray__\":\"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\",\"dtype\":\"float32\",\"shape\":[24,24]}]},\"selected\":{\"id\":\"10203\",\"type\":\"Selection\"},\"selection_policy\":{\"id\":\"10202\",\"type\":\"UnionRenderers\"}},\"id\":\"9708\",\"type\":\"ColumnDataSource\"},{\"attributes\":{\"text\":\"head 0\"},\"id\":\"9640\",\"type\":\"Title\"},{\"attributes\":{\"color_mapper\":{\"id\":\"9693\",\"type\":\"LinearColorMapper\"},\"dh\":{\"units\":\"data\",\"value\":24},\"dw\":{\"units\":\"data\",\"value\":24},\"image\":{\"field\":\"image\"},\"x\":{\"value\":0},\"y\":{\"value\":0}},\"id\":\"9692\",\"type\":\"Image\"},{\"attributes\":{\"callback\":null,\"end\":24},\"id\":\"9682\",\"type\":\"Range1d\"},{\"attributes\":{\"source\":{\"id\":\"9670\",\"type\":\"ColumnDataSource\"}},\"id\":\"9676\",\"type\":\"CDSView\"},{\"attributes\":{\"callback\":null,\"data\":{\"image\":[{\"__ndarray__\":\"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\",\"dtype\":\"float32\",\"shape\":[24,24]}]},\"selected\":{\"id\":\"10201\",\"type\":\"Selection\"},\"selection_policy\":{\"id\":\"10200\",\"type\":\"UnionRenderers\"}},\"id\":\"9689\",\"type\":\"ColumnDataSource\"},{\"attributes\":{\"plot_height\":250,\"plot_width\":250,\"renderers\":[{\"id\":\"9713\",\"type\":\"GlyphRenderer\"}],\"title\":{\"id\":\"9697\",\"type\":\"Title\"},\"toolbar\":{\"id\":\"9707\",\"type\":\"Toolbar\"},\"x_range\":{\"id\":\"9699\",\"type\":\"Range1d\"},\"x_scale\":{\"id\":\"9703\",\"type\":\"LinearScale\"},\"y_range\":{\"id\":\"9701\",\"type\":\"Range1d\"},\"y_scale\":{\"id\":\"9705\",\"type\":\"LinearScale\"}},\"id\":\"9696\",\"subtype\":\"Figure\",\"type\":\"Plot\"},{\"attributes\":{\"callback\":null,\"end\":24},\"id\":\"9701\",\"type\":\"Range1d\"},{\"attributes\":{\"color_mapper\":{\"id\":\"9672\",\"type\":\"LinearColorMapper\"},\"dh\":{\"units\":\"data\",\"value\":24},\"dw\":{\"units\":\"data\",\"value\":24},\"image\":{\"field\":\"image\"},\"x\":{\"value\":0},\"y\":{\"value\":0}},\"id\":\"9671\",\"type\":\"Image\"},{\"attributes\":{\"callback\":null,\"end\":24},\"id\":\"9663\",\"type\":\"Range1d\"},{\"attributes\":{},\"id\":\"9703\",\"type\":\"LinearScale\"},{\"attributes\":{\"source\":{\"id\":\"9651\",\"type\":\"ColumnDataSource\"}},\"id\":\"9657\",\"type\":\"CDSView\"},{\"attributes\":{},\"id\":\"9667\",\"type\":\"LinearScale\"},{\"attributes\":{\"data_source\":{\"id\":\"9689\",\"type\":\"ColumnDataSource\"},\"glyph\":{\"id\":\"9690\",\"type\":\"Image\"},\"hover_glyph\":null,\"muted_glyph\":null,\"nonselection_glyph\":{\"id\":\"9692\",\"type\":\"Image\"},\"selection_glyph\":null,\"view\":{\"id\":\"9695\",\"type\":\"CDSView\"}},\"id\":\"9694\",\"type\":\"GlyphRenderer\"},{\"attributes\":{\"callback\":null,\"end\":24},\"id\":\"9699\",\"type\":\"Range1d\"},{\"attributes\":{\"active_drag\":\"auto\",\"active_inspect\":\"auto\",\"active_multi\":null,\"active_scroll\":\"auto\",\"active_tap\":\"auto\"},\"id\":\"9669\",\"type\":\"Toolbar\"},{\"attributes\":{\"text\":\"head 3\"},\"id\":\"9697\",\"type\":\"Title\"},{\"attributes\":{\"color_mapper\":{\"id\":\"9710\",\"type\":\"LinearColorMapper\"},\"dh\":{\"units\":\"data\",\"value\":24},\"dw\":{\"units\":\"data\",\"value\":24},\"image\":{\"field\":\"image\"},\"x\":{\"value\":0},\"y\":{\"value\":0}},\"id\":\"9709\",\"type\":\"Image\"},{\"attributes\":{\"data_source\":{\"id\":\"9670\",\"type\":\"ColumnDataSource\"},\"glyph\":{\"id\":\"9671\",\"type\":\"Image\"},\"hover_glyph\":null,\"muted_glyph\":null,\"nonselection_glyph\":{\"id\":\"9673\",\"type\":\"Image\"},\"selection_glyph\":null,\"view\":{\"id\":\"9676\",\"type\":\"CDSView\"}},\"id\":\"9675\",\"type\":\"GlyphRenderer\"},{\"attributes\":{\"active_drag\":\"auto\",\"active_inspect\":\"auto\",\"active_multi\":null,\"active_scroll\":\"auto\",\"active_tap\":\"auto\"},\"id\":\"9688\",\"type\":\"Toolbar\"},{\"attributes\":{},\"id\":\"9705\",\"type\":\"LinearScale\"},{\"attributes\":{\"source\":{\"id\":\"9708\",\"type\":\"ColumnDataSource\"}},\"id\":\"9714\",\"type\":\"CDSView\"},{\"attributes\":{\"active_drag\":\"auto\",\"active_inspect\":\"auto\",\"active_multi\":null,\"active_scroll\":\"auto\",\"active_tap\":\"auto\"},\"id\":\"9707\",\"type\":\"Toolbar\"},{\"attributes\":{\"source\":{\"id\":\"9689\",\"type\":\"ColumnDataSource\"}},\"id\":\"9695\",\"type\":\"CDSView\"},{\"attributes\":{},\"id\":\"9684\",\"type\":\"LinearScale\"}],\"root_ids\":[\"9867\"]},\"title\":\"Bokeh Application\",\"version\":\"1.4.0\"}};\n",
       "  var render_items = [{\"docid\":\"c1087a4a-013b-40aa-8cf6-09287fea3805\",\"roots\":{\"9867\":\"d3e465e6-d4bf-4973-88b0-3ccc64596c7e\"}}];\n",
       "  root.Bokeh.embed.embed_items_notebook(docs_json, render_items);\n",
       "\n",
       "  }\n",
       "  if (root.Bokeh !== undefined) {\n",
       "    embed_document(root);\n",
       "  } else {\n",
       "    var attempts = 0;\n",
       "    var timer = setInterval(function(root) {\n",
       "      if (root.Bokeh !== undefined) {\n",
       "        clearInterval(timer);\n",
       "        embed_document(root);\n",
       "      } else {\n",
       "        attempts++;\n",
       "        if (attempts > 100) {\n",
       "          clearInterval(timer);\n",
       "          console.log(\"Bokeh: ERROR: Unable to run BokehJS code because BokehJS library is missing\");\n",
       "        }\n",
       "      }\n",
       "    }, 10, root)\n",
       "  }\n",
       "})(window);"
      ],
      "application/vnd.bokehjs_exec.v0+json": ""
     },
     "metadata": {
      "application/vnd.bokehjs_exec.v0+json": {
       "id": "9867"
      }
     },
     "output_type": "display_data"
    },
    {
     "data": {
      "text/html": [
       "\n",
       "\n",
       "\n",
       "\n",
       "\n",
       "\n",
       "  <div class=\"bk-root\" id=\"655b866f-aeda-4c65-b12d-32c2fad5e8aa\" data-root-id=\"10276\"></div>\n"
      ]
     },
     "metadata": {},
     "output_type": "display_data"
    },
    {
     "data": {
      "application/javascript": [
       "(function(root) {\n",
       "  function embed_document(root) {\n",
       "    \n",
       "  var docs_json = {\"3dae244b-d299-4352-b0e0-fd482e3a1101\":{\"roots\":{\"references\":[{\"attributes\":{\"children\":[{\"id\":\"9715\",\"subtype\":\"Figure\",\"type\":\"Plot\"},{\"id\":\"9734\",\"subtype\":\"Figure\",\"type\":\"Plot\"},{\"id\":\"9753\",\"subtype\":\"Figure\",\"type\":\"Plot\"},{\"id\":\"9772\",\"subtype\":\"Figure\",\"type\":\"Plot\"}]},\"id\":\"10276\",\"type\":\"Row\"},{\"attributes\":{\"color_mapper\":{\"id\":\"9769\",\"type\":\"LinearColorMapper\"},\"dh\":{\"units\":\"data\",\"value\":24},\"dw\":{\"units\":\"data\",\"value\":24},\"image\":{\"field\":\"image\"},\"x\":{\"value\":0},\"y\":{\"value\":0}},\"id\":\"9768\",\"type\":\"Image\"},{\"attributes\":{},\"id\":\"10623\",\"type\":\"UnionRenderers\"},{\"attributes\":{\"text\":\"head 4\"},\"id\":\"9716\",\"type\":\"Title\"},{\"attributes\":{\"color_mapper\":{\"id\":\"9748\",\"type\":\"LinearColorMapper\"},\"dh\":{\"units\":\"data\",\"value\":24},\"dw\":{\"units\":\"data\",\"value\":24},\"image\":{\"field\":\"image\"},\"x\":{\"value\":0},\"y\":{\"value\":0}},\"id\":\"9747\",\"type\":\"Image\"},{\"attributes\":{\"plot_height\":250,\"plot_width\":250,\"renderers\":[{\"id\":\"9751\",\"type\":\"GlyphRenderer\"}],\"title\":{\"id\":\"9735\",\"type\":\"Title\"},\"toolbar\":{\"id\":\"9745\",\"type\":\"Toolbar\"},\"x_range\":{\"id\":\"9737\",\"type\":\"Range1d\"},\"x_scale\":{\"id\":\"9741\",\"type\":\"LinearScale\"},\"y_range\":{\"id\":\"9739\",\"type\":\"Range1d\"},\"y_scale\":{\"id\":\"9743\",\"type\":\"LinearScale\"}},\"id\":\"9734\",\"subtype\":\"Figure\",\"type\":\"Plot\"},{\"attributes\":{\"palette\":[\"#000000\",\"#252525\",\"#525252\",\"#737373\",\"#969696\",\"#bdbdbd\",\"#d9d9d9\",\"#f0f0f0\",\"#ffffff\"]},\"id\":\"9769\",\"type\":\"LinearColorMapper\"},{\"attributes\":{\"palette\":[\"#000000\",\"#252525\",\"#525252\",\"#737373\",\"#969696\",\"#bdbdbd\",\"#d9d9d9\",\"#f0f0f0\",\"#ffffff\"]},\"id\":\"9788\",\"type\":\"LinearColorMapper\"},{\"attributes\":{},\"id\":\"10624\",\"type\":\"Selection\"},{\"attributes\":{\"text\":\"head 5\"},\"id\":\"9735\",\"type\":\"Title\"},{\"attributes\":{\"callback\":null,\"end\":24},\"id\":\"9758\",\"type\":\"Range1d\"},{\"attributes\":{\"color_mapper\":{\"id\":\"9729\",\"type\":\"LinearColorMapper\"},\"dh\":{\"units\":\"data\",\"value\":24},\"dw\":{\"units\":\"data\",\"value\":24},\"image\":{\"field\":\"image\"},\"x\":{\"value\":0},\"y\":{\"value\":0}},\"id\":\"9728\",\"type\":\"Image\"},{\"attributes\":{\"data_source\":{\"id\":\"9765\",\"type\":\"ColumnDataSource\"},\"glyph\":{\"id\":\"9766\",\"type\":\"Image\"},\"hover_glyph\":null,\"muted_glyph\":null,\"nonselection_glyph\":{\"id\":\"9768\",\"type\":\"Image\"},\"selection_glyph\":null,\"view\":{\"id\":\"9771\",\"type\":\"CDSView\"}},\"id\":\"9770\",\"type\":\"GlyphRenderer\"},{\"attributes\":{\"plot_height\":250,\"plot_width\":250,\"renderers\":[{\"id\":\"9770\",\"type\":\"GlyphRenderer\"}],\"title\":{\"id\":\"9754\",\"type\":\"Title\"},\"toolbar\":{\"id\":\"9764\",\"type\":\"Toolbar\"},\"x_range\":{\"id\":\"9756\",\"type\":\"Range1d\"},\"x_scale\":{\"id\":\"9760\",\"type\":\"LinearScale\"},\"y_range\":{\"id\":\"9758\",\"type\":\"Range1d\"},\"y_scale\":{\"id\":\"9762\",\"type\":\"LinearScale\"}},\"id\":\"9753\",\"subtype\":\"Figure\",\"type\":\"Plot\"},{\"attributes\":{\"callback\":null,\"end\":24},\"id\":\"9737\",\"type\":\"Range1d\"},{\"attributes\":{\"callback\":null,\"end\":24},\"id\":\"9718\",\"type\":\"Range1d\"},{\"attributes\":{\"color_mapper\":{\"id\":\"9786\",\"type\":\"LinearColorMapper\"},\"dh\":{\"units\":\"data\",\"value\":24},\"dw\":{\"units\":\"data\",\"value\":24},\"image\":{\"field\":\"image\"},\"x\":{\"value\":0},\"y\":{\"value\":0}},\"id\":\"9785\",\"type\":\"Image\"},{\"attributes\":{},\"id\":\"9762\",\"type\":\"LinearScale\"},{\"attributes\":{\"source\":{\"id\":\"9784\",\"type\":\"ColumnDataSource\"}},\"id\":\"9790\",\"type\":\"CDSView\"},{\"attributes\":{\"plot_height\":250,\"plot_width\":250,\"renderers\":[{\"id\":\"9789\",\"type\":\"GlyphRenderer\"}],\"title\":{\"id\":\"9773\",\"type\":\"Title\"},\"toolbar\":{\"id\":\"9783\",\"type\":\"Toolbar\"},\"x_range\":{\"id\":\"9775\",\"type\":\"Range1d\"},\"x_scale\":{\"id\":\"9779\",\"type\":\"LinearScale\"},\"y_range\":{\"id\":\"9777\",\"type\":\"Range1d\"},\"y_scale\":{\"id\":\"9781\",\"type\":\"LinearScale\"}},\"id\":\"9772\",\"subtype\":\"Figure\",\"type\":\"Plot\"},{\"attributes\":{\"source\":{\"id\":\"9746\",\"type\":\"ColumnDataSource\"}},\"id\":\"9752\",\"type\":\"CDSView\"},{\"attributes\":{\"active_drag\":\"auto\",\"active_inspect\":\"auto\",\"active_multi\":null,\"active_scroll\":\"auto\",\"active_tap\":\"auto\"},\"id\":\"9764\",\"type\":\"Toolbar\"},{\"attributes\":{\"source\":{\"id\":\"9765\",\"type\":\"ColumnDataSource\"}},\"id\":\"9771\",\"type\":\"CDSView\"},{\"attributes\":{\"callback\":null,\"end\":24},\"id\":\"9720\",\"type\":\"Range1d\"},{\"attributes\":{\"callback\":null,\"end\":24},\"id\":\"9739\",\"type\":\"Range1d\"},{\"attributes\":{},\"id\":\"9722\",\"type\":\"LinearScale\"},{\"attributes\":{},\"id\":\"9741\",\"type\":\"LinearScale\"},{\"attributes\":{},\"id\":\"9724\",\"type\":\"LinearScale\"},{\"attributes\":{},\"id\":\"9743\",\"type\":\"LinearScale\"},{\"attributes\":{\"text\":\"head 7\"},\"id\":\"9773\",\"type\":\"Title\"},{\"attributes\":{\"callback\":null,\"end\":24},\"id\":\"9775\",\"type\":\"Range1d\"},{\"attributes\":{\"data_source\":{\"id\":\"9727\",\"type\":\"ColumnDataSource\"},\"glyph\":{\"id\":\"9728\",\"type\":\"Image\"},\"hover_glyph\":null,\"muted_glyph\":null,\"nonselection_glyph\":{\"id\":\"9730\",\"type\":\"Image\"},\"selection_glyph\":null,\"view\":{\"id\":\"9733\",\"type\":\"CDSView\"}},\"id\":\"9732\",\"type\":\"GlyphRenderer\"},{\"attributes\":{\"data_source\":{\"id\":\"9746\",\"type\":\"ColumnDataSource\"},\"glyph\":{\"id\":\"9747\",\"type\":\"Image\"},\"hover_glyph\":null,\"muted_glyph\":null,\"nonselection_glyph\":{\"id\":\"9749\",\"type\":\"Image\"},\"selection_glyph\":null,\"view\":{\"id\":\"9752\",\"type\":\"CDSView\"}},\"id\":\"9751\",\"type\":\"GlyphRenderer\"},{\"attributes\":{},\"id\":\"9760\",\"type\":\"LinearScale\"},{\"attributes\":{\"source\":{\"id\":\"9727\",\"type\":\"ColumnDataSource\"}},\"id\":\"9733\",\"type\":\"CDSView\"},{\"attributes\":{\"active_drag\":\"auto\",\"active_inspect\":\"auto\",\"active_multi\":null,\"active_scroll\":\"auto\",\"active_tap\":\"auto\"},\"id\":\"9726\",\"type\":\"Toolbar\"},{\"attributes\":{\"active_drag\":\"auto\",\"active_inspect\":\"auto\",\"active_multi\":null,\"active_scroll\":\"auto\",\"active_tap\":\"auto\"},\"id\":\"9745\",\"type\":\"Toolbar\"},{\"attributes\":{},\"id\":\"10622\",\"type\":\"Selection\"},{\"attributes\":{},\"id\":\"10618\",\"type\":\"Selection\"},{\"attributes\":{\"callback\":null,\"data\":{\"image\":[{\"__ndarray__\":\"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\",\"dtype\":\"float32\",\"shape\":[24,24]}]},\"selected\":{\"id\":\"10618\",\"type\":\"Selection\"},\"selection_policy\":{\"id\":\"10617\",\"type\":\"UnionRenderers\"}},\"id\":\"9727\",\"type\":\"ColumnDataSource\"},{\"attributes\":{\"callback\":null,\"data\":{\"image\":[{\"__ndarray__\":\"HT8vPEYoETwbPQc8mfZKO//avTsBxr06nWIEOzswhTnDnxM6nZc6OnxdkTuh2IQ+5GzGPSvcvz1sX1A9CISePVL8jDwKsXg7kKmtPbW2QTy1wtA7MjoUPAtTrju343I+q9HvPFKDuzzvl6E9oTOJPo1YPD4z3ZM8IWASPKoflDoAXao6Ex6IO98mQDzAB0E+FTu2Ohu7gTvnc087zEjQOkJrVTptW6A66AoCOlCtwTkWZxI6rsEVORWM9jkKGy0+UDA7PI44ZDwCxn09ykFOPlhppj4aMGw9SCnXPFyQCzwnyVc7Q4WTPBu/hzxO9f09hI21OUm2xTqRMVM7LSUqO4DKoTqxcns7jKW6OwvJNzpmF9s5at52OTLopDmf/uQ90E+kPErdTDt+QQ88hgqQPKBlRT4TjEc9oZViPFSInDzXeFc77fGcO6sfrzxhy64+RrE1OtDiSDpMWSk6YPq8OvsOTTlvsBE64jqTOm0t5Dq3FYg5UX6COQMXszm/Kpg+Q4+FPZ2p0joQO6k71tyPPBd+NT19vdA9NQDaPY2IbD7jbyM91UNUPVEanz0S9AM+4IMyOhxMMDogKRc649AFOq+LcDpQSQo6Gn+pOoVIMTuA2JU6GdGqO3It3DpfluY99ViDPYRYHzpCuIw7m32iOwTVbD1wppo81d1iPosEUz43/Ro8p16dPeZpKD1jlRg+CSGJOJyNMzgj7ao5HIq+OSpBOTrOvqI6wcNLOmZdDDtFcCU7HMa2O/jr+TovsgQ+KBuBPBD08jrJLhM6AUmHOiRpDzzhfz08wPMuPDc19D23tLg8KJi4PDHbZD29rco+a/8AOlQB1jgHvoE4RgkvOZDrLzi2PNI4/571OEIa3DqCOrg5hUoGOmuoSjrZn6g+QNeMPLqLETr46lA6MLuVOv7s9jrL3NE6T8MkPd5MDz2POLY9O5XmPgRTKD3WkCU+ZtyEObqSDzm2Zyg6rWU+OL4emDkoB446w1KsOT1xrzlPrlc77svSOweZYjsUpRI+HCMqPUjSZjr9fs46+rN0OrbBBTtf7Cs6ea2yPF8CPj0p2Eg81GG9Pk+X2j0xt0o+gJgwOp70zzlBIX07r9MgOs/AaDqW9aE61qfxOSFqpjnJecc6rED4OyIHujunSTI+1FJ6PMB5jjp3KZg56u7BOZXOdDpadV461fpyO7oRmztzLpA7iC0OPUTQID0H7/o+v0QjOhJFRDnfpqg5haw8OTdOnjhWdgU5jv6UOHAk9TiRZKk4wPiyORuRzjn5ss0+TXPuPHf3kzy9QyU8KgyZO8aqLzu9ux07WU5ZOyfXVzuZ9P87EgdXPOgplj0guJ4+mYO2Pf9bmz0acrY8OCQBPcujADyrZ8c6MUTWOweYYjtKbW86sttKO8T3WzuYn40+7xszPMA4BzuJgBo74q8vO3PSujvfs9Q6kOMLOwETBTskhDE63hUBOxNBxTsgOwE/yeX5OlCAdjpOwzE77cWiOw+FPTq3C+4691L/OsAn/Tot1LU6xyK8Os4aSTv7St4+n3rFPKLSqDoMoRk7ncsKOxfCVDpZgUI51xruOMiFrTgYn9Q4DBkaOd3d4ToDwxQ+cnGUPIcAZj3j7G4+vaKRPjr+xzzOzTI8oAYtPS+ufzvmPms7H6cRPF8CSzt8ywc++ywYPAG70zpfEBo7l1VGOtbDizqJfSc5fTo1OSLovTkKAbE42X8jOVQlgzvVDCQ9Di4OPRlrWzxR0dQ97BQqP8QajDzkAYM8GLsWPVidUzvXkFM7/qOxO4KWojuguhY9pPgTPH9r2Tqdubc6OcoVO1SyzzvneRs7lfePOojBNzoY+485+84QOjdWmzttv6g+Bxg4PO7vIDza+fM8V7wnPgpyyzsbNQA9Llo7PfPI6DzO7oE7+z63O0matTtY25g+tn9XPGN5xTgKHj86hqcwOsXFPDvkZHQ687SxOnbl5zm4Pgw5XO/gOau4szqP74Y9+wQJO8VmsDrZb0E8ae+4PQSH2zwnego9LMP+PmrDDj7tgG88sPGzPIHfRzzqs3U9GZINPFFoLzqJHEs6oJ6gOWEsdDsbzBU7sHX5OtFZAjsu0qs5QzxIOnXZrTvcl7o+tHnwO2mTSjqJN6w6mGO7PRNSVDt6YZk7/9yNPT2VmD1uOQA8Z9w2PPBAKjzaW6c+HxQMPKJHdTmYrEw5AxpJOTLqijpUGHg6SY3+Ou1lPDtLgUc5zJkDOiNwlTrMJ+M+0WFWOvyEHTqPMOM6MpZlPJBUpjoWOYY7hi4ePLFHZD24aFc8NOZ7PEHhizyxW88+Nui5O4XQ0Dg9e5k4U58WOfWyVTqxzG46EYOyOj4FijvVZ905Hnw3OjQbozqtQ0g+IGP4OetmjzkQb0E7wW6UO3aUHTv39748iQ3aPL4hrT2nKrU9QBmmPtN2Uz2OeTc+4XEMPCmxOjgmJZg47X8BOL4SJTnDWig5pYacOiMWkTt60Go5nR0rOpmElDo0b7I9DrRpOTcvpjf6P1k6bk0QOyHMUzuOkV882DDoPNlfKz0uoS8+ke/mPo7J1j0MoqA9R7asOqGjLjnZE8w4tPoBODFrujmIsbs4CNCZORCkZTtL1Uw5djPJObaGqDohfv0+g2hLOcNAUDjxWU45+V2EOonxyjcXYok6CnYtOoE1AzzHuxQ7yTJTO/S4BD34a+U+V4HMO0pcvjkvPr44/eEHOWM7RTkk/EI5+4JYOsYJ5Tos2xI60782O0oxaTuy5dI+9V2VOmUoRjlun6I6SqaeOsEnPjmyUGQ7WKOCOyKY3Dw/Z1g8AOAsPfh27D1Zb7k+4KEePFEHnTkwFIo5i1V3OaeOoDl4UhI5XMYzOVQ9wDmx2UE5gFoYOoceFTvg2+E+4Y92O5fkNjtU9Cc87xE0O01XJzo/cAI7nhluO7ENBzw3aCo8/GHPPExRnz0zKcs+/qwhPLN36TqflwQ7FGEbO4n1ojsu97o61ED4OjCp7Dp0Oxo6XnLmOqqGrzufOQI/Y+zcOqPTVTrfiyM78UiSO7x3LDpMbuM65k/oOkN35jqyfaw6h/KuOoF5PDusg98+\",\"dtype\":\"float32\",\"shape\":[24,24]}]},\"selected\":{\"id\":\"10620\",\"type\":\"Selection\"},\"selection_policy\":{\"id\":\"10619\",\"type\":\"UnionRenderers\"}},\"id\":\"9746\",\"type\":\"ColumnDataSource\"},{\"attributes\":{\"callback\":null,\"end\":24},\"id\":\"9756\",\"type\":\"Range1d\"},{\"attributes\":{\"callback\":null,\"end\":24},\"id\":\"9777\",\"type\":\"Range1d\"},{\"attributes\":{\"palette\":[\"#000000\",\"#252525\",\"#525252\",\"#737373\",\"#969696\",\"#bdbdbd\",\"#d9d9d9\",\"#f0f0f0\",\"#ffffff\"]},\"id\":\"9729\",\"type\":\"LinearColorMapper\"},{\"attributes\":{\"palette\":[\"#000000\",\"#252525\",\"#525252\",\"#737373\",\"#969696\",\"#bdbdbd\",\"#d9d9d9\",\"#f0f0f0\",\"#ffffff\"]},\"id\":\"9748\",\"type\":\"LinearColorMapper\"},{\"attributes\":{},\"id\":\"9779\",\"type\":\"LinearScale\"},{\"attributes\":{\"color_mapper\":{\"id\":\"9731\",\"type\":\"LinearColorMapper\"},\"dh\":{\"units\":\"data\",\"value\":24},\"dw\":{\"units\":\"data\",\"value\":24},\"image\":{\"field\":\"image\"},\"x\":{\"value\":0},\"y\":{\"value\":0}},\"id\":\"9730\",\"type\":\"Image\"},{\"attributes\":{\"color_mapper\":{\"id\":\"9750\",\"type\":\"LinearColorMapper\"},\"dh\":{\"units\":\"data\",\"value\":24},\"dw\":{\"units\":\"data\",\"value\":24},\"image\":{\"field\":\"image\"},\"x\":{\"value\":0},\"y\":{\"value\":0}},\"id\":\"9749\",\"type\":\"Image\"},{\"attributes\":{},\"id\":\"9781\",\"type\":\"LinearScale\"},{\"attributes\":{\"color_mapper\":{\"id\":\"9788\",\"type\":\"LinearColorMapper\"},\"dh\":{\"units\":\"data\",\"value\":24},\"dw\":{\"units\":\"data\",\"value\":24},\"image\":{\"field\":\"image\"},\"x\":{\"value\":0},\"y\":{\"value\":0}},\"id\":\"9787\",\"type\":\"Image\"},{\"attributes\":{\"color_mapper\":{\"id\":\"9767\",\"type\":\"LinearColorMapper\"},\"dh\":{\"units\":\"data\",\"value\":24},\"dw\":{\"units\":\"data\",\"value\":24},\"image\":{\"field\":\"image\"},\"x\":{\"value\":0},\"y\":{\"value\":0}},\"id\":\"9766\",\"type\":\"Image\"},{\"attributes\":{},\"id\":\"10621\",\"type\":\"UnionRenderers\"},{\"attributes\":{\"text\":\"head 6\"},\"id\":\"9754\",\"type\":\"Title\"},{\"attributes\":{\"data_source\":{\"id\":\"9784\",\"type\":\"ColumnDataSource\"},\"glyph\":{\"id\":\"9785\",\"type\":\"Image\"},\"hover_glyph\":null,\"muted_glyph\":null,\"nonselection_glyph\":{\"id\":\"9787\",\"type\":\"Image\"},\"selection_glyph\":null,\"view\":{\"id\":\"9790\",\"type\":\"CDSView\"}},\"id\":\"9789\",\"type\":\"GlyphRenderer\"},{\"attributes\":{},\"id\":\"10620\",\"type\":\"Selection\"},{\"attributes\":{\"active_drag\":\"auto\",\"active_inspect\":\"auto\",\"active_multi\":null,\"active_scroll\":\"auto\",\"active_tap\":\"auto\"},\"id\":\"9783\",\"type\":\"Toolbar\"},{\"attributes\":{\"palette\":[\"#000000\",\"#252525\",\"#525252\",\"#737373\",\"#969696\",\"#bdbdbd\",\"#d9d9d9\",\"#f0f0f0\",\"#ffffff\"]},\"id\":\"9731\",\"type\":\"LinearColorMapper\"},{\"attributes\":{\"palette\":[\"#000000\",\"#252525\",\"#525252\",\"#737373\",\"#969696\",\"#bdbdbd\",\"#d9d9d9\",\"#f0f0f0\",\"#ffffff\"]},\"id\":\"9750\",\"type\":\"LinearColorMapper\"},{\"attributes\":{\"callback\":null,\"data\":{\"image\":[{\"__ndarray__\":\"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\",\"dtype\":\"float32\",\"shape\":[24,24]}]},\"selected\":{\"id\":\"10622\",\"type\":\"Selection\"},\"selection_policy\":{\"id\":\"10621\",\"type\":\"UnionRenderers\"}},\"id\":\"9765\",\"type\":\"ColumnDataSource\"},{\"attributes\":{},\"id\":\"10617\",\"type\":\"UnionRenderers\"},{\"attributes\":{\"callback\":null,\"data\":{\"image\":[{\"__ndarray__\":\"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\",\"dtype\":\"float32\",\"shape\":[24,24]}]},\"selected\":{\"id\":\"10624\",\"type\":\"Selection\"},\"selection_policy\":{\"id\":\"10623\",\"type\":\"UnionRenderers\"}},\"id\":\"9784\",\"type\":\"ColumnDataSource\"},{\"attributes\":{},\"id\":\"10619\",\"type\":\"UnionRenderers\"},{\"attributes\":{\"palette\":[\"#000000\",\"#252525\",\"#525252\",\"#737373\",\"#969696\",\"#bdbdbd\",\"#d9d9d9\",\"#f0f0f0\",\"#ffffff\"]},\"id\":\"9786\",\"type\":\"LinearColorMapper\"},{\"attributes\":{\"plot_height\":250,\"plot_width\":250,\"renderers\":[{\"id\":\"9732\",\"type\":\"GlyphRenderer\"}],\"title\":{\"id\":\"9716\",\"type\":\"Title\"},\"toolbar\":{\"id\":\"9726\",\"type\":\"Toolbar\"},\"x_range\":{\"id\":\"9718\",\"type\":\"Range1d\"},\"x_scale\":{\"id\":\"9722\",\"type\":\"LinearScale\"},\"y_range\":{\"id\":\"9720\",\"type\":\"Range1d\"},\"y_scale\":{\"id\":\"9724\",\"type\":\"LinearScale\"}},\"id\":\"9715\",\"subtype\":\"Figure\",\"type\":\"Plot\"},{\"attributes\":{\"palette\":[\"#000000\",\"#252525\",\"#525252\",\"#737373\",\"#969696\",\"#bdbdbd\",\"#d9d9d9\",\"#f0f0f0\",\"#ffffff\"]},\"id\":\"9767\",\"type\":\"LinearColorMapper\"}],\"root_ids\":[\"10276\"]},\"title\":\"Bokeh Application\",\"version\":\"1.4.0\"}};\n",
       "  var render_items = [{\"docid\":\"3dae244b-d299-4352-b0e0-fd482e3a1101\",\"roots\":{\"10276\":\"655b866f-aeda-4c65-b12d-32c2fad5e8aa\"}}];\n",
       "  root.Bokeh.embed.embed_items_notebook(docs_json, render_items);\n",
       "\n",
       "  }\n",
       "  if (root.Bokeh !== undefined) {\n",
       "    embed_document(root);\n",
       "  } else {\n",
       "    var attempts = 0;\n",
       "    var timer = setInterval(function(root) {\n",
       "      if (root.Bokeh !== undefined) {\n",
       "        clearInterval(timer);\n",
       "        embed_document(root);\n",
       "      } else {\n",
       "        attempts++;\n",
       "        if (attempts > 100) {\n",
       "          clearInterval(timer);\n",
       "          console.log(\"Bokeh: ERROR: Unable to run BokehJS code because BokehJS library is missing\");\n",
       "        }\n",
       "      }\n",
       "    }, 10, root)\n",
       "  }\n",
       "})(window);"
      ],
      "application/vnd.bokehjs_exec.v0+json": ""
     },
     "metadata": {
      "application/vnd.bokehjs_exec.v0+json": {
       "id": "10276"
      }
     },
     "output_type": "display_data"
    },
    {
     "data": {
      "text/html": [
       "\n",
       "\n",
       "\n",
       "\n",
       "\n",
       "\n",
       "  <div class=\"bk-root\" id=\"1df83b4d-d938-43ff-a16c-109e228c46de\" data-root-id=\"10697\"></div>\n"
      ]
     },
     "metadata": {},
     "output_type": "display_data"
    },
    {
     "data": {
      "application/javascript": [
       "(function(root) {\n",
       "  function embed_document(root) {\n",
       "    \n",
       "  var docs_json = {\"8d2cbd21-333d-45e7-9980-79edb1cfa5a9\":{\"roots\":{\"references\":[{\"attributes\":{\"children\":[{\"id\":\"9791\",\"subtype\":\"Figure\",\"type\":\"Plot\"},{\"id\":\"9810\",\"subtype\":\"Figure\",\"type\":\"Plot\"},{\"id\":\"9829\",\"subtype\":\"Figure\",\"type\":\"Plot\"},{\"id\":\"9848\",\"subtype\":\"Figure\",\"type\":\"Plot\"}]},\"id\":\"10697\",\"type\":\"Row\"},{\"attributes\":{\"source\":{\"id\":\"9822\",\"type\":\"ColumnDataSource\"}},\"id\":\"9828\",\"type\":\"CDSView\"},{\"attributes\":{\"text\":\"head 11\"},\"id\":\"9849\",\"type\":\"Title\"},{\"attributes\":{\"text\":\"head 10\"},\"id\":\"9830\",\"type\":\"Title\"},{\"attributes\":{\"callback\":null,\"end\":24},\"id\":\"9851\",\"type\":\"Range1d\"},{\"attributes\":{\"callback\":null,\"end\":24},\"id\":\"9832\",\"type\":\"Range1d\"},{\"attributes\":{\"source\":{\"id\":\"9803\",\"type\":\"ColumnDataSource\"}},\"id\":\"9809\",\"type\":\"CDSView\"},{\"attributes\":{\"plot_height\":250,\"plot_width\":250,\"renderers\":[{\"id\":\"9808\",\"type\":\"GlyphRenderer\"}],\"title\":{\"id\":\"9792\",\"type\":\"Title\"},\"toolbar\":{\"id\":\"9802\",\"type\":\"Toolbar\"},\"x_range\":{\"id\":\"9794\",\"type\":\"Range1d\"},\"x_scale\":{\"id\":\"9798\",\"type\":\"LinearScale\"},\"y_range\":{\"id\":\"9796\",\"type\":\"Range1d\"},\"y_scale\":{\"id\":\"9800\",\"type\":\"LinearScale\"}},\"id\":\"9791\",\"subtype\":\"Figure\",\"type\":\"Plot\"},{\"attributes\":{\"text\":\"head 9\"},\"id\":\"9811\",\"type\":\"Title\"},{\"attributes\":{\"color_mapper\":{\"id\":\"9824\",\"type\":\"LinearColorMapper\"},\"dh\":{\"units\":\"data\",\"value\":24},\"dw\":{\"units\":\"data\",\"value\":24},\"image\":{\"field\":\"image\"},\"x\":{\"value\":0},\"y\":{\"value\":0}},\"id\":\"9823\",\"type\":\"Image\"},{\"attributes\":{},\"id\":\"11057\",\"type\":\"Selection\"},{\"attributes\":{\"callback\":null,\"end\":24},\"id\":\"9813\",\"type\":\"Range1d\"},{\"attributes\":{\"callback\":null,\"end\":24},\"id\":\"9853\",\"type\":\"Range1d\"},{\"attributes\":{},\"id\":\"11052\",\"type\":\"UnionRenderers\"},{\"attributes\":{},\"id\":\"9855\",\"type\":\"LinearScale\"},{\"attributes\":{\"text\":\"head 8\"},\"id\":\"9792\",\"type\":\"Title\"},{\"attributes\":{\"callback\":null,\"end\":24},\"id\":\"9834\",\"type\":\"Range1d\"},{\"attributes\":{},\"id\":\"9857\",\"type\":\"LinearScale\"},{\"attributes\":{},\"id\":\"9836\",\"type\":\"LinearScale\"},{\"attributes\":{\"callback\":null,\"end\":24},\"id\":\"9794\",\"type\":\"Range1d\"},{\"attributes\":{},\"id\":\"9838\",\"type\":\"LinearScale\"},{\"attributes\":{\"callback\":null,\"end\":24},\"id\":\"9815\",\"type\":\"Range1d\"},{\"attributes\":{\"data_source\":{\"id\":\"9860\",\"type\":\"ColumnDataSource\"},\"glyph\":{\"id\":\"9861\",\"type\":\"Image\"},\"hover_glyph\":null,\"muted_glyph\":null,\"nonselection_glyph\":{\"id\":\"9863\",\"type\":\"Image\"},\"selection_glyph\":null,\"view\":{\"id\":\"9866\",\"type\":\"CDSView\"}},\"id\":\"9865\",\"type\":\"GlyphRenderer\"},{\"attributes\":{},\"id\":\"11055\",\"type\":\"Selection\"},{\"attributes\":{\"plot_height\":250,\"plot_width\":250,\"renderers\":[{\"id\":\"9865\",\"type\":\"GlyphRenderer\"}],\"title\":{\"id\":\"9849\",\"type\":\"Title\"},\"toolbar\":{\"id\":\"9859\",\"type\":\"Toolbar\"},\"x_range\":{\"id\":\"9851\",\"type\":\"Range1d\"},\"x_scale\":{\"id\":\"9855\",\"type\":\"LinearScale\"},\"y_range\":{\"id\":\"9853\",\"type\":\"Range1d\"},\"y_scale\":{\"id\":\"9857\",\"type\":\"LinearScale\"}},\"id\":\"9848\",\"subtype\":\"Figure\",\"type\":\"Plot\"},{\"attributes\":{},\"id\":\"9817\",\"type\":\"LinearScale\"},{\"attributes\":{\"active_drag\":\"auto\",\"active_inspect\":\"auto\",\"active_multi\":null,\"active_scroll\":\"auto\",\"active_tap\":\"auto\"},\"id\":\"9859\",\"type\":\"Toolbar\"},{\"attributes\":{},\"id\":\"9819\",\"type\":\"LinearScale\"},{\"attributes\":{\"data_source\":{\"id\":\"9841\",\"type\":\"ColumnDataSource\"},\"glyph\":{\"id\":\"9842\",\"type\":\"Image\"},\"hover_glyph\":null,\"muted_glyph\":null,\"nonselection_glyph\":{\"id\":\"9844\",\"type\":\"Image\"},\"selection_glyph\":null,\"view\":{\"id\":\"9847\",\"type\":\"CDSView\"}},\"id\":\"9846\",\"type\":\"GlyphRenderer\"},{\"attributes\":{\"active_drag\":\"auto\",\"active_inspect\":\"auto\",\"active_multi\":null,\"active_scroll\":\"auto\",\"active_tap\":\"auto\"},\"id\":\"9840\",\"type\":\"Toolbar\"},{\"attributes\":{\"callback\":null,\"data\":{\"image\":[{\"__ndarray__\":\"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\",\"dtype\":\"float32\",\"shape\":[24,24]}]},\"selected\":{\"id\":\"11057\",\"type\":\"Selection\"},\"selection_policy\":{\"id\":\"11056\",\"type\":\"UnionRenderers\"}},\"id\":\"9860\",\"type\":\"ColumnDataSource\"},{\"attributes\":{},\"id\":\"11056\",\"type\":\"UnionRenderers\"},{\"attributes\":{\"callback\":null,\"end\":24},\"id\":\"9796\",\"type\":\"Range1d\"},{\"attributes\":{\"palette\":[\"#000000\",\"#252525\",\"#525252\",\"#737373\",\"#969696\",\"#bdbdbd\",\"#d9d9d9\",\"#f0f0f0\",\"#ffffff\"]},\"id\":\"9862\",\"type\":\"LinearColorMapper\"},{\"attributes\":{},\"id\":\"9798\",\"type\":\"LinearScale\"},{\"attributes\":{\"data_source\":{\"id\":\"9822\",\"type\":\"ColumnDataSource\"},\"glyph\":{\"id\":\"9823\",\"type\":\"Image\"},\"hover_glyph\":null,\"muted_glyph\":null,\"nonselection_glyph\":{\"id\":\"9825\",\"type\":\"Image\"},\"selection_glyph\":null,\"view\":{\"id\":\"9828\",\"type\":\"CDSView\"}},\"id\":\"9827\",\"type\":\"GlyphRenderer\"},{\"attributes\":{\"callback\":null,\"data\":{\"image\":[{\"__ndarray__\":\"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\",\"dtype\":\"float32\",\"shape\":[24,24]}]},\"selected\":{\"id\":\"11055\",\"type\":\"Selection\"},\"selection_policy\":{\"id\":\"11054\",\"type\":\"UnionRenderers\"}},\"id\":\"9841\",\"type\":\"ColumnDataSource\"},{\"attributes\":{\"color_mapper\":{\"id\":\"9864\",\"type\":\"LinearColorMapper\"},\"dh\":{\"units\":\"data\",\"value\":24},\"dw\":{\"units\":\"data\",\"value\":24},\"image\":{\"field\":\"image\"},\"x\":{\"value\":0},\"y\":{\"value\":0}},\"id\":\"9863\",\"type\":\"Image\"},{\"attributes\":{},\"id\":\"9800\",\"type\":\"LinearScale\"},{\"attributes\":{\"active_drag\":\"auto\",\"active_inspect\":\"auto\",\"active_multi\":null,\"active_scroll\":\"auto\",\"active_tap\":\"auto\"},\"id\":\"9821\",\"type\":\"Toolbar\"},{\"attributes\":{\"palette\":[\"#000000\",\"#252525\",\"#525252\",\"#737373\",\"#969696\",\"#bdbdbd\",\"#d9d9d9\",\"#f0f0f0\",\"#ffffff\"]},\"id\":\"9843\",\"type\":\"LinearColorMapper\"},{\"attributes\":{\"color_mapper\":{\"id\":\"9845\",\"type\":\"LinearColorMapper\"},\"dh\":{\"units\":\"data\",\"value\":24},\"dw\":{\"units\":\"data\",\"value\":24},\"image\":{\"field\":\"image\"},\"x\":{\"value\":0},\"y\":{\"value\":0}},\"id\":\"9844\",\"type\":\"Image\"},{\"attributes\":{\"color_mapper\":{\"id\":\"9843\",\"type\":\"LinearColorMapper\"},\"dh\":{\"units\":\"data\",\"value\":24},\"dw\":{\"units\":\"data\",\"value\":24},\"image\":{\"field\":\"image\"},\"x\":{\"value\":0},\"y\":{\"value\":0}},\"id\":\"9842\",\"type\":\"Image\"},{\"attributes\":{\"callback\":null,\"data\":{\"image\":[{\"__ndarray__\":\"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\",\"dtype\":\"float32\",\"shape\":[24,24]}]},\"selected\":{\"id\":\"11053\",\"type\":\"Selection\"},\"selection_policy\":{\"id\":\"11052\",\"type\":\"UnionRenderers\"}},\"id\":\"9822\",\"type\":\"ColumnDataSource\"},{\"attributes\":{},\"id\":\"11051\",\"type\":\"Selection\"},{\"attributes\":{\"palette\":[\"#000000\",\"#252525\",\"#525252\",\"#737373\",\"#969696\",\"#bdbdbd\",\"#d9d9d9\",\"#f0f0f0\",\"#ffffff\"]},\"id\":\"9824\",\"type\":\"LinearColorMapper\"},{\"attributes\":{\"active_drag\":\"auto\",\"active_inspect\":\"auto\",\"active_multi\":null,\"active_scroll\":\"auto\",\"active_tap\":\"auto\"},\"id\":\"9802\",\"type\":\"Toolbar\"},{\"attributes\":{\"color_mapper\":{\"id\":\"9826\",\"type\":\"LinearColorMapper\"},\"dh\":{\"units\":\"data\",\"value\":24},\"dw\":{\"units\":\"data\",\"value\":24},\"image\":{\"field\":\"image\"},\"x\":{\"value\":0},\"y\":{\"value\":0}},\"id\":\"9825\",\"type\":\"Image\"},{\"attributes\":{\"palette\":[\"#000000\",\"#252525\",\"#525252\",\"#737373\",\"#969696\",\"#bdbdbd\",\"#d9d9d9\",\"#f0f0f0\",\"#ffffff\"]},\"id\":\"9864\",\"type\":\"LinearColorMapper\"},{\"attributes\":{\"data_source\":{\"id\":\"9803\",\"type\":\"ColumnDataSource\"},\"glyph\":{\"id\":\"9804\",\"type\":\"Image\"},\"hover_glyph\":null,\"muted_glyph\":null,\"nonselection_glyph\":{\"id\":\"9806\",\"type\":\"Image\"},\"selection_glyph\":null,\"view\":{\"id\":\"9809\",\"type\":\"CDSView\"}},\"id\":\"9808\",\"type\":\"GlyphRenderer\"},{\"attributes\":{\"callback\":null,\"data\":{\"image\":[{\"__ndarray__\":\"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\",\"dtype\":\"float32\",\"shape\":[24,24]}]},\"selected\":{\"id\":\"11051\",\"type\":\"Selection\"},\"selection_policy\":{\"id\":\"11050\",\"type\":\"UnionRenderers\"}},\"id\":\"9803\",\"type\":\"ColumnDataSource\"},{\"attributes\":{},\"id\":\"11050\",\"type\":\"UnionRenderers\"},{\"attributes\":{\"palette\":[\"#000000\",\"#252525\",\"#525252\",\"#737373\",\"#969696\",\"#bdbdbd\",\"#d9d9d9\",\"#f0f0f0\",\"#ffffff\"]},\"id\":\"9845\",\"type\":\"LinearColorMapper\"},{\"attributes\":{\"palette\":[\"#000000\",\"#252525\",\"#525252\",\"#737373\",\"#969696\",\"#bdbdbd\",\"#d9d9d9\",\"#f0f0f0\",\"#ffffff\"]},\"id\":\"9805\",\"type\":\"LinearColorMapper\"},{\"attributes\":{},\"id\":\"11053\",\"type\":\"Selection\"},{\"attributes\":{\"color_mapper\":{\"id\":\"9807\",\"type\":\"LinearColorMapper\"},\"dh\":{\"units\":\"data\",\"value\":24},\"dw\":{\"units\":\"data\",\"value\":24},\"image\":{\"field\":\"image\"},\"x\":{\"value\":0},\"y\":{\"value\":0}},\"id\":\"9806\",\"type\":\"Image\"},{\"attributes\":{\"color_mapper\":{\"id\":\"9805\",\"type\":\"LinearColorMapper\"},\"dh\":{\"units\":\"data\",\"value\":24},\"dw\":{\"units\":\"data\",\"value\":24},\"image\":{\"field\":\"image\"},\"x\":{\"value\":0},\"y\":{\"value\":0}},\"id\":\"9804\",\"type\":\"Image\"},{\"attributes\":{\"source\":{\"id\":\"9860\",\"type\":\"ColumnDataSource\"}},\"id\":\"9866\",\"type\":\"CDSView\"},{\"attributes\":{\"color_mapper\":{\"id\":\"9862\",\"type\":\"LinearColorMapper\"},\"dh\":{\"units\":\"data\",\"value\":24},\"dw\":{\"units\":\"data\",\"value\":24},\"image\":{\"field\":\"image\"},\"x\":{\"value\":0},\"y\":{\"value\":0}},\"id\":\"9861\",\"type\":\"Image\"},{\"attributes\":{\"palette\":[\"#000000\",\"#252525\",\"#525252\",\"#737373\",\"#969696\",\"#bdbdbd\",\"#d9d9d9\",\"#f0f0f0\",\"#ffffff\"]},\"id\":\"9807\",\"type\":\"LinearColorMapper\"},{\"attributes\":{\"palette\":[\"#000000\",\"#252525\",\"#525252\",\"#737373\",\"#969696\",\"#bdbdbd\",\"#d9d9d9\",\"#f0f0f0\",\"#ffffff\"]},\"id\":\"9826\",\"type\":\"LinearColorMapper\"},{\"attributes\":{\"plot_height\":250,\"plot_width\":250,\"renderers\":[{\"id\":\"9827\",\"type\":\"GlyphRenderer\"}],\"title\":{\"id\":\"9811\",\"type\":\"Title\"},\"toolbar\":{\"id\":\"9821\",\"type\":\"Toolbar\"},\"x_range\":{\"id\":\"9813\",\"type\":\"Range1d\"},\"x_scale\":{\"id\":\"9817\",\"type\":\"LinearScale\"},\"y_range\":{\"id\":\"9815\",\"type\":\"Range1d\"},\"y_scale\":{\"id\":\"9819\",\"type\":\"LinearScale\"}},\"id\":\"9810\",\"subtype\":\"Figure\",\"type\":\"Plot\"},{\"attributes\":{\"source\":{\"id\":\"9841\",\"type\":\"ColumnDataSource\"}},\"id\":\"9847\",\"type\":\"CDSView\"},{\"attributes\":{},\"id\":\"11054\",\"type\":\"UnionRenderers\"},{\"attributes\":{\"plot_height\":250,\"plot_width\":250,\"renderers\":[{\"id\":\"9846\",\"type\":\"GlyphRenderer\"}],\"title\":{\"id\":\"9830\",\"type\":\"Title\"},\"toolbar\":{\"id\":\"9840\",\"type\":\"Toolbar\"},\"x_range\":{\"id\":\"9832\",\"type\":\"Range1d\"},\"x_scale\":{\"id\":\"9836\",\"type\":\"LinearScale\"},\"y_range\":{\"id\":\"9834\",\"type\":\"Range1d\"},\"y_scale\":{\"id\":\"9838\",\"type\":\"LinearScale\"}},\"id\":\"9829\",\"subtype\":\"Figure\",\"type\":\"Plot\"}],\"root_ids\":[\"10697\"]},\"title\":\"Bokeh Application\",\"version\":\"1.4.0\"}};\n",
       "  var render_items = [{\"docid\":\"8d2cbd21-333d-45e7-9980-79edb1cfa5a9\",\"roots\":{\"10697\":\"1df83b4d-d938-43ff-a16c-109e228c46de\"}}];\n",
       "  root.Bokeh.embed.embed_items_notebook(docs_json, render_items);\n",
       "\n",
       "  }\n",
       "  if (root.Bokeh !== undefined) {\n",
       "    embed_document(root);\n",
       "  } else {\n",
       "    var attempts = 0;\n",
       "    var timer = setInterval(function(root) {\n",
       "      if (root.Bokeh !== undefined) {\n",
       "        clearInterval(timer);\n",
       "        embed_document(root);\n",
       "      } else {\n",
       "        attempts++;\n",
       "        if (attempts > 100) {\n",
       "          clearInterval(timer);\n",
       "          console.log(\"Bokeh: ERROR: Unable to run BokehJS code because BokehJS library is missing\");\n",
       "        }\n",
       "      }\n",
       "    }, 10, root)\n",
       "  }\n",
       "})(window);"
      ],
      "application/vnd.bokehjs_exec.v0+json": ""
     },
     "metadata": {
      "application/vnd.bokehjs_exec.v0+json": {
       "id": "10697"
      }
     },
     "output_type": "display_data"
    }
   ],
   "source": [
    "scores_4 = show_importance_of_transformers_layer(query, answer4)"
   ]
  },
  {
   "cell_type": "code",
   "execution_count": 41,
   "metadata": {},
   "outputs": [
    {
     "name": "stdout",
     "output_type": "stream",
     "text": [
      "[CLS] Which is better, a laptop or a desktop? [SEP] Laptop is preferable than desktop because it is more portable. [SEP]\n",
      "Tokenize the first sentence:\n",
      "['[CLS]', 'which', 'is', 'better', ',', 'a', 'laptop', 'or', 'a', 'desktop', '?', '[SEP]', 'laptop', 'is', 'prefer', '##able', 'than', 'desktop', 'because', 'it', 'is', 'more', 'portable', '.', '[SEP]']\n",
      "0 10 25\n"
     ]
    },
    {
     "data": {
      "text/html": [
       "\n",
       "\n",
       "\n",
       "\n",
       "\n",
       "\n",
       "  <div class=\"bk-root\" id=\"dfbeb112-ec44-4cba-808e-0b3644909a1e\" data-root-id=\"19006\"></div>\n"
      ]
     },
     "metadata": {},
     "output_type": "display_data"
    },
    {
     "data": {
      "application/javascript": [
       "(function(root) {\n",
       "  function embed_document(root) {\n",
       "    \n",
       "  var docs_json = {\"a42feddd-0c94-4068-81ba-72047e491df5\":{\"roots\":{\"references\":[{\"attributes\":{\"above\":[{\"id\":\"19023\",\"type\":\"LinearAxis\"}],\"left\":[{\"id\":\"19026\",\"type\":\"LinearAxis\"}],\"renderers\":[{\"id\":\"19021\",\"type\":\"GlyphRenderer\"}],\"title\":{\"id\":\"19527\",\"type\":\"Title\"},\"toolbar\":{\"id\":\"19015\",\"type\":\"Toolbar\"},\"x_range\":{\"id\":\"19007\",\"type\":\"Range1d\"},\"x_scale\":{\"id\":\"19011\",\"type\":\"LinearScale\"},\"y_range\":{\"id\":\"19009\",\"type\":\"Range1d\"},\"y_scale\":{\"id\":\"19013\",\"type\":\"LinearScale\"}},\"id\":\"19006\",\"subtype\":\"Figure\",\"type\":\"Plot\"},{\"attributes\":{},\"id\":\"19529\",\"type\":\"BasicTickFormatter\"},{\"attributes\":{\"palette\":[\"#000000\",\"#252525\",\"#525252\",\"#737373\",\"#969696\",\"#bdbdbd\",\"#d9d9d9\",\"#f0f0f0\",\"#ffffff\"]},\"id\":\"19020\",\"type\":\"LinearColorMapper\"},{\"attributes\":{},\"id\":\"19530\",\"type\":\"UnionRenderers\"},{\"attributes\":{\"active_drag\":\"auto\",\"active_inspect\":\"auto\",\"active_multi\":null,\"active_scroll\":\"auto\",\"active_tap\":\"auto\"},\"id\":\"19015\",\"type\":\"Toolbar\"},{\"attributes\":{},\"id\":\"19531\",\"type\":\"Selection\"},{\"attributes\":{},\"id\":\"19013\",\"type\":\"LinearScale\"},{\"attributes\":{\"palette\":[\"#000000\",\"#252525\",\"#525252\",\"#737373\",\"#969696\",\"#bdbdbd\",\"#d9d9d9\",\"#f0f0f0\",\"#ffffff\"]},\"id\":\"19018\",\"type\":\"LinearColorMapper\"},{\"attributes\":{\"color_mapper\":{\"id\":\"19018\",\"type\":\"LinearColorMapper\"},\"dh\":{\"units\":\"data\",\"value\":25},\"dw\":{\"units\":\"data\",\"value\":25},\"image\":{\"field\":\"image\"},\"x\":{\"value\":0},\"y\":{\"value\":0}},\"id\":\"19017\",\"type\":\"Image\"},{\"attributes\":{\"data_source\":{\"id\":\"19016\",\"type\":\"ColumnDataSource\"},\"glyph\":{\"id\":\"19017\",\"type\":\"Image\"},\"hover_glyph\":null,\"muted_glyph\":null,\"nonselection_glyph\":{\"id\":\"19019\",\"type\":\"Image\"},\"selection_glyph\":null,\"view\":{\"id\":\"19022\",\"type\":\"CDSView\"}},\"id\":\"19021\",\"type\":\"GlyphRenderer\"},{\"attributes\":{},\"id\":\"19528\",\"type\":\"BasicTickFormatter\"},{\"attributes\":{\"callback\":null,\"end\":25},\"id\":\"19009\",\"type\":\"Range1d\"},{\"attributes\":{\"callback\":null,\"end\":25},\"id\":\"19007\",\"type\":\"Range1d\"},{\"attributes\":{\"ticks\":[0.5,1.5,2.5,3.5,4.5,5.5,6.5,7.5,8.5,9.5,10.5,11.5,12.5,13.5,14.5,15.5,16.5,17.5,18.5,19.5,20.5,21.5,22.5,23.5,24.5]},\"id\":\"19024\",\"type\":\"FixedTicker\"},{\"attributes\":{\"text\":\"\"},\"id\":\"19527\",\"type\":\"Title\"},{\"attributes\":{\"ticks\":[0.5,1.5,2.5,3.5,4.5,5.5,6.5,7.5,8.5,9.5,10.5,11.5,12.5,13.5,14.5,15.5,16.5,17.5,18.5,19.5,20.5,21.5,22.5,23.5,24.5]},\"id\":\"19027\",\"type\":\"FixedTicker\"},{\"attributes\":{},\"id\":\"19011\",\"type\":\"LinearScale\"},{\"attributes\":{\"formatter\":{\"id\":\"19529\",\"type\":\"BasicTickFormatter\"},\"major_label_overrides\":{\"0.5\":\"[CLS]\",\"1.5\":\"which\",\"10.5\":\"?\",\"11.5\":\"[SEP]\",\"12.5\":\"laptop\",\"13.5\":\"is\",\"14.5\":\"prefer\",\"15.5\":\"##able\",\"16.5\":\"than\",\"17.5\":\"desktop\",\"18.5\":\"because\",\"19.5\":\"it\",\"2.5\":\"is\",\"20.5\":\"is\",\"21.5\":\"more\",\"22.5\":\"portable\",\"23.5\":\".\",\"24.5\":\"[SEP]\",\"3.5\":\"better\",\"4.5\":\",\",\"5.5\":\"a\",\"6.5\":\"laptop\",\"7.5\":\"or\",\"8.5\":\"a\",\"9.5\":\"desktop\"},\"major_label_text_font_size\":{\"value\":\"11pt\"},\"ticker\":{\"id\":\"19027\",\"type\":\"FixedTicker\"}},\"id\":\"19026\",\"type\":\"LinearAxis\"},{\"attributes\":{\"formatter\":{\"id\":\"19528\",\"type\":\"BasicTickFormatter\"},\"major_label_orientation\":45,\"major_label_overrides\":{\"0.5\":\"[CLS]\",\"1.5\":\"which\",\"10.5\":\"?\",\"11.5\":\"[SEP]\",\"12.5\":\"laptop\",\"13.5\":\"is\",\"14.5\":\"prefer\",\"15.5\":\"##able\",\"16.5\":\"than\",\"17.5\":\"desktop\",\"18.5\":\"because\",\"19.5\":\"it\",\"2.5\":\"is\",\"20.5\":\"is\",\"21.5\":\"more\",\"22.5\":\"portable\",\"23.5\":\".\",\"24.5\":\"[SEP]\",\"3.5\":\"better\",\"4.5\":\",\",\"5.5\":\"a\",\"6.5\":\"laptop\",\"7.5\":\"or\",\"8.5\":\"a\",\"9.5\":\"desktop\"},\"major_label_text_font_size\":{\"value\":\"11pt\"},\"ticker\":{\"id\":\"19024\",\"type\":\"FixedTicker\"}},\"id\":\"19023\",\"type\":\"LinearAxis\"},{\"attributes\":{\"callback\":null,\"data\":{\"image\":[{\"__ndarray__\":\"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\",\"dtype\":\"float32\",\"shape\":[25,25]}]},\"selected\":{\"id\":\"19531\",\"type\":\"Selection\"},\"selection_policy\":{\"id\":\"19530\",\"type\":\"UnionRenderers\"}},\"id\":\"19016\",\"type\":\"ColumnDataSource\"},{\"attributes\":{\"source\":{\"id\":\"19016\",\"type\":\"ColumnDataSource\"}},\"id\":\"19022\",\"type\":\"CDSView\"},{\"attributes\":{\"color_mapper\":{\"id\":\"19020\",\"type\":\"LinearColorMapper\"},\"dh\":{\"units\":\"data\",\"value\":25},\"dw\":{\"units\":\"data\",\"value\":25},\"image\":{\"field\":\"image\"},\"x\":{\"value\":0},\"y\":{\"value\":0}},\"id\":\"19019\",\"type\":\"Image\"}],\"root_ids\":[\"19006\"]},\"title\":\"Bokeh Application\",\"version\":\"1.4.0\"}};\n",
       "  var render_items = [{\"docid\":\"a42feddd-0c94-4068-81ba-72047e491df5\",\"roots\":{\"19006\":\"dfbeb112-ec44-4cba-808e-0b3644909a1e\"}}];\n",
       "  root.Bokeh.embed.embed_items_notebook(docs_json, render_items);\n",
       "\n",
       "  }\n",
       "  if (root.Bokeh !== undefined) {\n",
       "    embed_document(root);\n",
       "  } else {\n",
       "    var attempts = 0;\n",
       "    var timer = setInterval(function(root) {\n",
       "      if (root.Bokeh !== undefined) {\n",
       "        clearInterval(timer);\n",
       "        embed_document(root);\n",
       "      } else {\n",
       "        attempts++;\n",
       "        if (attempts > 100) {\n",
       "          clearInterval(timer);\n",
       "          console.log(\"Bokeh: ERROR: Unable to run BokehJS code because BokehJS library is missing\");\n",
       "        }\n",
       "      }\n",
       "    }, 10, root)\n",
       "  }\n",
       "})(window);"
      ],
      "application/vnd.bokehjs_exec.v0+json": ""
     },
     "metadata": {
      "application/vnd.bokehjs_exec.v0+json": {
       "id": "19006"
      }
     },
     "output_type": "display_data"
    }
   ],
   "source": [
    "sentences = [\"[CLS] \" + query + \" [SEP] \" + answer1 + \" [SEP]\"]\n",
    "print(sentences[0])\n",
    "\n",
    "# Tokenize with BERT tokenizer\n",
    "tokenizer = BertTokenizer.from_pretrained('bert-base-uncased', do_lower_case=True)\n",
    "tokenized_texts = [tokenizer.tokenize(sent) for sent in sentences]\n",
    "print (\"Tokenize the first sentence:\")\n",
    "print (tokenized_texts[0])\n",
    "indexed_tokens = tokenizer.convert_tokens_to_ids(tokenized_texts[0])\n",
    "# Define sentence A and B indices associated to 1st and 2nd sentences (see paper)\n",
    "segments_ids = (len(tokenizer.tokenize(query)) + 2)*[0] + (len(tokenizer.tokenize(answer1)) + 1)*[1]\n",
    "tokens_tensor = torch.tensor([indexed_tokens])\n",
    "segments_tensors = torch.tensor([segments_ids])\n",
    "answ = model(tokens_tensor, segments_tensors)\n",
    "trans_tokens = tokenized_texts\n",
    "inp_tokens = tokenized_texts\n",
    "cls_idx = 0\n",
    "sep_idx = len(tokenizer.tokenize(query))\n",
    "end_idx = len(tokenizer.tokenize(query)) + len(tokenizer.tokenize(answer1)) + 3\n",
    "\n",
    "print (cls_idx, sep_idx, end_idx)\n",
    "for ii in [3]:\n",
    "    probs = answ[2][ii][0][0].detach().numpy()\n",
    "\n",
    "    probs = probs[:len(trans_tokens[0]), :len(inp_tokens[0])]\n",
    "\n",
    "    fig = pl.figure(x_range=(0, len(inp_tokens[0])), y_range=(0, len(trans_tokens[0])),\n",
    "                    x_axis_type=None, y_axis_type=None, tools=[])\n",
    "    fig.image([probs], 0, 0, len(inp_tokens[0]), len(trans_tokens[0]))\n",
    "    fig.add_layout(bm.LinearAxis(axis_label=''), 'above')\n",
    "    fig.xaxis.ticker = np.arange(len(inp_tokens[0])) + 0.5\n",
    "    fig.xaxis.major_label_overrides = dict(zip(np.arange(len(inp_tokens[0])) + 0.5, inp_tokens[0]))\n",
    "    fig.xaxis.major_label_text_font_size = \"11pt\"\n",
    "    fig.xaxis.major_label_orientation = 45\n",
    "\n",
    "    fig.add_layout(bm.LinearAxis(axis_label=''), 'left')\n",
    "    fig.yaxis.ticker = np.arange(len(trans_tokens[0])) + 0.5\n",
    "    fig.yaxis.major_label_overrides = dict(zip(np.arange(len(trans_tokens[0])) + 0.5, trans_tokens[0]))\n",
    "    fig.yaxis.major_label_text_font_size = \"11pt\"\n",
    "    #fig.export_png(\"3rdlayer.png\")\n",
    "    show(fig)"
   ]
  },
  {
   "cell_type": "code",
   "execution_count": 33,
   "metadata": {},
   "outputs": [
    {
     "ename": "NameError",
     "evalue": "name 'indexed_tokens' is not defined",
     "output_type": "error",
     "traceback": [
      "\u001b[0;31m\u001b[0m",
      "\u001b[0;31mNameError\u001b[0mTraceback (most recent call last)",
      "\u001b[0;32m<ipython-input-33-fc86ee5412dd>\u001b[0m in \u001b[0;36m<module>\u001b[0;34m\u001b[0m\n\u001b[0;32m----> 1\u001b[0;31m \u001b[0mtokens_tensor\u001b[0m \u001b[0;34m=\u001b[0m \u001b[0mtorch\u001b[0m\u001b[0;34m.\u001b[0m\u001b[0mtensor\u001b[0m\u001b[0;34m(\u001b[0m\u001b[0;34m[\u001b[0m\u001b[0mindexed_tokens\u001b[0m\u001b[0;34m]\u001b[0m\u001b[0;34m)\u001b[0m\u001b[0;34m\u001b[0m\u001b[0;34m\u001b[0m\u001b[0m\n\u001b[0m\u001b[1;32m      2\u001b[0m \u001b[0msegments_tensors\u001b[0m \u001b[0;34m=\u001b[0m \u001b[0mtorch\u001b[0m\u001b[0;34m.\u001b[0m\u001b[0mtensor\u001b[0m\u001b[0;34m(\u001b[0m\u001b[0;34m[\u001b[0m\u001b[0msegments_ids\u001b[0m\u001b[0;34m]\u001b[0m\u001b[0;34m)\u001b[0m\u001b[0;34m\u001b[0m\u001b[0;34m\u001b[0m\u001b[0m\n\u001b[1;32m      3\u001b[0m \u001b[0mansw\u001b[0m \u001b[0;34m=\u001b[0m \u001b[0mmodel\u001b[0m\u001b[0;34m(\u001b[0m\u001b[0mtokens_tensor\u001b[0m\u001b[0;34m,\u001b[0m \u001b[0msegments_tensors\u001b[0m\u001b[0;34m)\u001b[0m\u001b[0;34m\u001b[0m\u001b[0;34m\u001b[0m\u001b[0m\n",
      "\u001b[0;31mNameError\u001b[0m: name 'indexed_tokens' is not defined"
     ]
    }
   ],
   "source": [
    "tokens_tensor = torch.tensor([indexed_tokens])\n",
    "segments_tensors = torch.tensor([segments_ids])\n",
    "answ = model(tokens_tensor, segments_tensors)"
   ]
  },
  {
   "cell_type": "code",
   "execution_count": 28,
   "metadata": {},
   "outputs": [
    {
     "name": "stdout",
     "output_type": "stream",
     "text": [
      "0 10 30\n",
      "3.923529\n"
     ]
    },
    {
     "data": {
      "text/html": [
       "\n",
       "\n",
       "\n",
       "\n",
       "\n",
       "\n",
       "  <div class=\"bk-root\" id=\"0a590d92-c2c3-438d-9839-e829219dc14d\" data-root-id=\"3203\"></div>\n"
      ]
     },
     "metadata": {},
     "output_type": "display_data"
    },
    {
     "data": {
      "application/javascript": [
       "(function(root) {\n",
       "  function embed_document(root) {\n",
       "    \n",
       "  var docs_json = {\"224be411-dca9-413d-80d6-474829c62dd1\":{\"roots\":{\"references\":[{\"attributes\":{\"renderers\":[{\"id\":\"3218\",\"type\":\"GlyphRenderer\"}],\"title\":{\"id\":\"3317\",\"type\":\"Title\"},\"toolbar\":{\"id\":\"3212\",\"type\":\"Toolbar\"},\"x_range\":{\"id\":\"3204\",\"type\":\"Range1d\"},\"x_scale\":{\"id\":\"3208\",\"type\":\"LinearScale\"},\"y_range\":{\"id\":\"3206\",\"type\":\"Range1d\"},\"y_scale\":{\"id\":\"3210\",\"type\":\"LinearScale\"}},\"id\":\"3203\",\"subtype\":\"Figure\",\"type\":\"Plot\"},{\"attributes\":{},\"id\":\"3208\",\"type\":\"LinearScale\"},{\"attributes\":{\"palette\":[\"#000000\",\"#252525\",\"#525252\",\"#737373\",\"#969696\",\"#bdbdbd\",\"#d9d9d9\",\"#f0f0f0\",\"#ffffff\"]},\"id\":\"3215\",\"type\":\"LinearColorMapper\"},{\"attributes\":{\"callback\":null,\"data\":{\"image\":[{\"__ndarray__\":\"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\",\"dtype\":\"float32\",\"shape\":[30,30]}]},\"selected\":{\"id\":\"3319\",\"type\":\"Selection\"},\"selection_policy\":{\"id\":\"3318\",\"type\":\"UnionRenderers\"}},\"id\":\"3213\",\"type\":\"ColumnDataSource\"},{\"attributes\":{\"callback\":null,\"end\":30},\"id\":\"3204\",\"type\":\"Range1d\"},{\"attributes\":{\"palette\":[\"#000000\",\"#252525\",\"#525252\",\"#737373\",\"#969696\",\"#bdbdbd\",\"#d9d9d9\",\"#f0f0f0\",\"#ffffff\"]},\"id\":\"3217\",\"type\":\"LinearColorMapper\"},{\"attributes\":{},\"id\":\"3318\",\"type\":\"UnionRenderers\"},{\"attributes\":{\"data_source\":{\"id\":\"3213\",\"type\":\"ColumnDataSource\"},\"glyph\":{\"id\":\"3214\",\"type\":\"Image\"},\"hover_glyph\":null,\"muted_glyph\":null,\"nonselection_glyph\":{\"id\":\"3216\",\"type\":\"Image\"},\"selection_glyph\":null,\"view\":{\"id\":\"3219\",\"type\":\"CDSView\"}},\"id\":\"3218\",\"type\":\"GlyphRenderer\"},{\"attributes\":{},\"id\":\"3319\",\"type\":\"Selection\"},{\"attributes\":{\"source\":{\"id\":\"3213\",\"type\":\"ColumnDataSource\"}},\"id\":\"3219\",\"type\":\"CDSView\"},{\"attributes\":{},\"id\":\"3210\",\"type\":\"LinearScale\"},{\"attributes\":{\"active_drag\":\"auto\",\"active_inspect\":\"auto\",\"active_multi\":null,\"active_scroll\":\"auto\",\"active_tap\":\"auto\"},\"id\":\"3212\",\"type\":\"Toolbar\"},{\"attributes\":{\"text\":\"\"},\"id\":\"3317\",\"type\":\"Title\"},{\"attributes\":{\"callback\":null,\"end\":30},\"id\":\"3206\",\"type\":\"Range1d\"},{\"attributes\":{\"color_mapper\":{\"id\":\"3215\",\"type\":\"LinearColorMapper\"},\"dh\":{\"units\":\"data\",\"value\":30},\"dw\":{\"units\":\"data\",\"value\":30},\"image\":{\"field\":\"image\"},\"x\":{\"value\":0},\"y\":{\"value\":0}},\"id\":\"3214\",\"type\":\"Image\"},{\"attributes\":{\"color_mapper\":{\"id\":\"3217\",\"type\":\"LinearColorMapper\"},\"dh\":{\"units\":\"data\",\"value\":30},\"dw\":{\"units\":\"data\",\"value\":30},\"image\":{\"field\":\"image\"},\"x\":{\"value\":0},\"y\":{\"value\":0}},\"id\":\"3216\",\"type\":\"Image\"}],\"root_ids\":[\"3203\"]},\"title\":\"Bokeh Application\",\"version\":\"1.4.0\"}};\n",
       "  var render_items = [{\"docid\":\"224be411-dca9-413d-80d6-474829c62dd1\",\"roots\":{\"3203\":\"0a590d92-c2c3-438d-9839-e829219dc14d\"}}];\n",
       "  root.Bokeh.embed.embed_items_notebook(docs_json, render_items);\n",
       "\n",
       "  }\n",
       "  if (root.Bokeh !== undefined) {\n",
       "    embed_document(root);\n",
       "  } else {\n",
       "    var attempts = 0;\n",
       "    var timer = setInterval(function(root) {\n",
       "      if (root.Bokeh !== undefined) {\n",
       "        clearInterval(timer);\n",
       "        embed_document(root);\n",
       "      } else {\n",
       "        attempts++;\n",
       "        if (attempts > 100) {\n",
       "          clearInterval(timer);\n",
       "          console.log(\"Bokeh: ERROR: Unable to run BokehJS code because BokehJS library is missing\");\n",
       "        }\n",
       "      }\n",
       "    }, 10, root)\n",
       "  }\n",
       "})(window);"
      ],
      "application/vnd.bokehjs_exec.v0+json": ""
     },
     "metadata": {
      "application/vnd.bokehjs_exec.v0+json": {
       "id": "3203"
      }
     },
     "output_type": "display_data"
    },
    {
     "name": "stdout",
     "output_type": "stream",
     "text": [
      "14.189812\n"
     ]
    },
    {
     "data": {
      "text/html": [
       "\n",
       "\n",
       "\n",
       "\n",
       "\n",
       "\n",
       "  <div class=\"bk-root\" id=\"3da82b1f-5a04-425a-b998-34a8a5026f85\" data-root-id=\"3344\"></div>\n"
      ]
     },
     "metadata": {},
     "output_type": "display_data"
    },
    {
     "data": {
      "application/javascript": [
       "(function(root) {\n",
       "  function embed_document(root) {\n",
       "    \n",
       "  var docs_json = {\"8298b103-9396-4156-a5ed-f9b143e8b585\":{\"roots\":{\"references\":[{\"attributes\":{\"renderers\":[{\"id\":\"3359\",\"type\":\"GlyphRenderer\"}],\"title\":{\"id\":\"3462\",\"type\":\"Title\"},\"toolbar\":{\"id\":\"3353\",\"type\":\"Toolbar\"},\"x_range\":{\"id\":\"3345\",\"type\":\"Range1d\"},\"x_scale\":{\"id\":\"3349\",\"type\":\"LinearScale\"},\"y_range\":{\"id\":\"3347\",\"type\":\"Range1d\"},\"y_scale\":{\"id\":\"3351\",\"type\":\"LinearScale\"}},\"id\":\"3344\",\"subtype\":\"Figure\",\"type\":\"Plot\"},{\"attributes\":{\"callback\":null,\"end\":30},\"id\":\"3347\",\"type\":\"Range1d\"},{\"attributes\":{\"active_drag\":\"auto\",\"active_inspect\":\"auto\",\"active_multi\":null,\"active_scroll\":\"auto\",\"active_tap\":\"auto\"},\"id\":\"3353\",\"type\":\"Toolbar\"},{\"attributes\":{\"callback\":null,\"data\":{\"image\":[{\"__ndarray__\":\"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\",\"dtype\":\"float32\",\"shape\":[30,30]}]},\"selected\":{\"id\":\"3464\",\"type\":\"Selection\"},\"selection_policy\":{\"id\":\"3463\",\"type\":\"UnionRenderers\"}},\"id\":\"3354\",\"type\":\"ColumnDataSource\"},{\"attributes\":{},\"id\":\"3463\",\"type\":\"UnionRenderers\"},{\"attributes\":{\"color_mapper\":{\"id\":\"3356\",\"type\":\"LinearColorMapper\"},\"dh\":{\"units\":\"data\",\"value\":30},\"dw\":{\"units\":\"data\",\"value\":30},\"image\":{\"field\":\"image\"},\"x\":{\"value\":0},\"y\":{\"value\":0}},\"id\":\"3355\",\"type\":\"Image\"},{\"attributes\":{\"source\":{\"id\":\"3354\",\"type\":\"ColumnDataSource\"}},\"id\":\"3360\",\"type\":\"CDSView\"},{\"attributes\":{\"palette\":[\"#000000\",\"#252525\",\"#525252\",\"#737373\",\"#969696\",\"#bdbdbd\",\"#d9d9d9\",\"#f0f0f0\",\"#ffffff\"]},\"id\":\"3356\",\"type\":\"LinearColorMapper\"},{\"attributes\":{},\"id\":\"3349\",\"type\":\"LinearScale\"},{\"attributes\":{\"text\":\"\"},\"id\":\"3462\",\"type\":\"Title\"},{\"attributes\":{\"palette\":[\"#000000\",\"#252525\",\"#525252\",\"#737373\",\"#969696\",\"#bdbdbd\",\"#d9d9d9\",\"#f0f0f0\",\"#ffffff\"]},\"id\":\"3358\",\"type\":\"LinearColorMapper\"},{\"attributes\":{},\"id\":\"3464\",\"type\":\"Selection\"},{\"attributes\":{\"callback\":null,\"end\":30},\"id\":\"3345\",\"type\":\"Range1d\"},{\"attributes\":{},\"id\":\"3351\",\"type\":\"LinearScale\"},{\"attributes\":{\"color_mapper\":{\"id\":\"3358\",\"type\":\"LinearColorMapper\"},\"dh\":{\"units\":\"data\",\"value\":30},\"dw\":{\"units\":\"data\",\"value\":30},\"image\":{\"field\":\"image\"},\"x\":{\"value\":0},\"y\":{\"value\":0}},\"id\":\"3357\",\"type\":\"Image\"},{\"attributes\":{\"data_source\":{\"id\":\"3354\",\"type\":\"ColumnDataSource\"},\"glyph\":{\"id\":\"3355\",\"type\":\"Image\"},\"hover_glyph\":null,\"muted_glyph\":null,\"nonselection_glyph\":{\"id\":\"3357\",\"type\":\"Image\"},\"selection_glyph\":null,\"view\":{\"id\":\"3360\",\"type\":\"CDSView\"}},\"id\":\"3359\",\"type\":\"GlyphRenderer\"}],\"root_ids\":[\"3344\"]},\"title\":\"Bokeh Application\",\"version\":\"1.4.0\"}};\n",
       "  var render_items = [{\"docid\":\"8298b103-9396-4156-a5ed-f9b143e8b585\",\"roots\":{\"3344\":\"3da82b1f-5a04-425a-b998-34a8a5026f85\"}}];\n",
       "  root.Bokeh.embed.embed_items_notebook(docs_json, render_items);\n",
       "\n",
       "  }\n",
       "  if (root.Bokeh !== undefined) {\n",
       "    embed_document(root);\n",
       "  } else {\n",
       "    var attempts = 0;\n",
       "    var timer = setInterval(function(root) {\n",
       "      if (root.Bokeh !== undefined) {\n",
       "        clearInterval(timer);\n",
       "        embed_document(root);\n",
       "      } else {\n",
       "        attempts++;\n",
       "        if (attempts > 100) {\n",
       "          clearInterval(timer);\n",
       "          console.log(\"Bokeh: ERROR: Unable to run BokehJS code because BokehJS library is missing\");\n",
       "        }\n",
       "      }\n",
       "    }, 10, root)\n",
       "  }\n",
       "})(window);"
      ],
      "application/vnd.bokehjs_exec.v0+json": ""
     },
     "metadata": {
      "application/vnd.bokehjs_exec.v0+json": {
       "id": "3344"
      }
     },
     "output_type": "display_data"
    },
    {
     "name": "stdout",
     "output_type": "stream",
     "text": [
      "1.4350145\n"
     ]
    },
    {
     "data": {
      "text/html": [
       "\n",
       "\n",
       "\n",
       "\n",
       "\n",
       "\n",
       "  <div class=\"bk-root\" id=\"6d74d169-bb55-4690-839b-756d509b5657\" data-root-id=\"3489\"></div>\n"
      ]
     },
     "metadata": {},
     "output_type": "display_data"
    },
    {
     "data": {
      "application/javascript": [
       "(function(root) {\n",
       "  function embed_document(root) {\n",
       "    \n",
       "  var docs_json = {\"31827855-5730-4c3e-9c1f-8aab6a8f7430\":{\"roots\":{\"references\":[{\"attributes\":{\"renderers\":[{\"id\":\"3504\",\"type\":\"GlyphRenderer\"}],\"title\":{\"id\":\"3611\",\"type\":\"Title\"},\"toolbar\":{\"id\":\"3498\",\"type\":\"Toolbar\"},\"x_range\":{\"id\":\"3490\",\"type\":\"Range1d\"},\"x_scale\":{\"id\":\"3494\",\"type\":\"LinearScale\"},\"y_range\":{\"id\":\"3492\",\"type\":\"Range1d\"},\"y_scale\":{\"id\":\"3496\",\"type\":\"LinearScale\"}},\"id\":\"3489\",\"subtype\":\"Figure\",\"type\":\"Plot\"},{\"attributes\":{},\"id\":\"3496\",\"type\":\"LinearScale\"},{\"attributes\":{\"text\":\"\"},\"id\":\"3611\",\"type\":\"Title\"},{\"attributes\":{\"color_mapper\":{\"id\":\"3501\",\"type\":\"LinearColorMapper\"},\"dh\":{\"units\":\"data\",\"value\":30},\"dw\":{\"units\":\"data\",\"value\":30},\"image\":{\"field\":\"image\"},\"x\":{\"value\":0},\"y\":{\"value\":0}},\"id\":\"3500\",\"type\":\"Image\"},{\"attributes\":{\"source\":{\"id\":\"3499\",\"type\":\"ColumnDataSource\"}},\"id\":\"3505\",\"type\":\"CDSView\"},{\"attributes\":{\"palette\":[\"#000000\",\"#252525\",\"#525252\",\"#737373\",\"#969696\",\"#bdbdbd\",\"#d9d9d9\",\"#f0f0f0\",\"#ffffff\"]},\"id\":\"3503\",\"type\":\"LinearColorMapper\"},{\"attributes\":{},\"id\":\"3613\",\"type\":\"Selection\"},{\"attributes\":{\"callback\":null,\"end\":30},\"id\":\"3492\",\"type\":\"Range1d\"},{\"attributes\":{\"callback\":null,\"end\":30},\"id\":\"3490\",\"type\":\"Range1d\"},{\"attributes\":{\"color_mapper\":{\"id\":\"3503\",\"type\":\"LinearColorMapper\"},\"dh\":{\"units\":\"data\",\"value\":30},\"dw\":{\"units\":\"data\",\"value\":30},\"image\":{\"field\":\"image\"},\"x\":{\"value\":0},\"y\":{\"value\":0}},\"id\":\"3502\",\"type\":\"Image\"},{\"attributes\":{},\"id\":\"3612\",\"type\":\"UnionRenderers\"},{\"attributes\":{\"callback\":null,\"data\":{\"image\":[{\"__ndarray__\":\"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\",\"dtype\":\"float32\",\"shape\":[30,30]}]},\"selected\":{\"id\":\"3613\",\"type\":\"Selection\"},\"selection_policy\":{\"id\":\"3612\",\"type\":\"UnionRenderers\"}},\"id\":\"3499\",\"type\":\"ColumnDataSource\"},{\"attributes\":{\"palette\":[\"#000000\",\"#252525\",\"#525252\",\"#737373\",\"#969696\",\"#bdbdbd\",\"#d9d9d9\",\"#f0f0f0\",\"#ffffff\"]},\"id\":\"3501\",\"type\":\"LinearColorMapper\"},{\"attributes\":{\"data_source\":{\"id\":\"3499\",\"type\":\"ColumnDataSource\"},\"glyph\":{\"id\":\"3500\",\"type\":\"Image\"},\"hover_glyph\":null,\"muted_glyph\":null,\"nonselection_glyph\":{\"id\":\"3502\",\"type\":\"Image\"},\"selection_glyph\":null,\"view\":{\"id\":\"3505\",\"type\":\"CDSView\"}},\"id\":\"3504\",\"type\":\"GlyphRenderer\"},{\"attributes\":{\"active_drag\":\"auto\",\"active_inspect\":\"auto\",\"active_multi\":null,\"active_scroll\":\"auto\",\"active_tap\":\"auto\"},\"id\":\"3498\",\"type\":\"Toolbar\"},{\"attributes\":{},\"id\":\"3494\",\"type\":\"LinearScale\"}],\"root_ids\":[\"3489\"]},\"title\":\"Bokeh Application\",\"version\":\"1.4.0\"}};\n",
       "  var render_items = [{\"docid\":\"31827855-5730-4c3e-9c1f-8aab6a8f7430\",\"roots\":{\"3489\":\"6d74d169-bb55-4690-839b-756d509b5657\"}}];\n",
       "  root.Bokeh.embed.embed_items_notebook(docs_json, render_items);\n",
       "\n",
       "  }\n",
       "  if (root.Bokeh !== undefined) {\n",
       "    embed_document(root);\n",
       "  } else {\n",
       "    var attempts = 0;\n",
       "    var timer = setInterval(function(root) {\n",
       "      if (root.Bokeh !== undefined) {\n",
       "        clearInterval(timer);\n",
       "        embed_document(root);\n",
       "      } else {\n",
       "        attempts++;\n",
       "        if (attempts > 100) {\n",
       "          clearInterval(timer);\n",
       "          console.log(\"Bokeh: ERROR: Unable to run BokehJS code because BokehJS library is missing\");\n",
       "        }\n",
       "      }\n",
       "    }, 10, root)\n",
       "  }\n",
       "})(window);"
      ],
      "application/vnd.bokehjs_exec.v0+json": ""
     },
     "metadata": {
      "application/vnd.bokehjs_exec.v0+json": {
       "id": "3489"
      }
     },
     "output_type": "display_data"
    },
    {
     "name": "stdout",
     "output_type": "stream",
     "text": [
      "19.661015\n"
     ]
    },
    {
     "data": {
      "text/html": [
       "\n",
       "\n",
       "\n",
       "\n",
       "\n",
       "\n",
       "  <div class=\"bk-root\" id=\"3b86d94b-bc79-4cd3-aaf8-d869417956f1\" data-root-id=\"3638\"></div>\n"
      ]
     },
     "metadata": {},
     "output_type": "display_data"
    },
    {
     "data": {
      "application/javascript": [
       "(function(root) {\n",
       "  function embed_document(root) {\n",
       "    \n",
       "  var docs_json = {\"ba74aad9-0c7d-41b8-972b-acfe459685f5\":{\"roots\":{\"references\":[{\"attributes\":{\"renderers\":[{\"id\":\"3653\",\"type\":\"GlyphRenderer\"}],\"title\":{\"id\":\"3764\",\"type\":\"Title\"},\"toolbar\":{\"id\":\"3647\",\"type\":\"Toolbar\"},\"x_range\":{\"id\":\"3639\",\"type\":\"Range1d\"},\"x_scale\":{\"id\":\"3643\",\"type\":\"LinearScale\"},\"y_range\":{\"id\":\"3641\",\"type\":\"Range1d\"},\"y_scale\":{\"id\":\"3645\",\"type\":\"LinearScale\"}},\"id\":\"3638\",\"subtype\":\"Figure\",\"type\":\"Plot\"},{\"attributes\":{\"active_drag\":\"auto\",\"active_inspect\":\"auto\",\"active_multi\":null,\"active_scroll\":\"auto\",\"active_tap\":\"auto\"},\"id\":\"3647\",\"type\":\"Toolbar\"},{\"attributes\":{\"text\":\"\"},\"id\":\"3764\",\"type\":\"Title\"},{\"attributes\":{\"source\":{\"id\":\"3648\",\"type\":\"ColumnDataSource\"}},\"id\":\"3654\",\"type\":\"CDSView\"},{\"attributes\":{},\"id\":\"3765\",\"type\":\"UnionRenderers\"},{\"attributes\":{\"data_source\":{\"id\":\"3648\",\"type\":\"ColumnDataSource\"},\"glyph\":{\"id\":\"3649\",\"type\":\"Image\"},\"hover_glyph\":null,\"muted_glyph\":null,\"nonselection_glyph\":{\"id\":\"3651\",\"type\":\"Image\"},\"selection_glyph\":null,\"view\":{\"id\":\"3654\",\"type\":\"CDSView\"}},\"id\":\"3653\",\"type\":\"GlyphRenderer\"},{\"attributes\":{\"callback\":null,\"end\":30},\"id\":\"3639\",\"type\":\"Range1d\"},{\"attributes\":{},\"id\":\"3645\",\"type\":\"LinearScale\"},{\"attributes\":{\"palette\":[\"#000000\",\"#252525\",\"#525252\",\"#737373\",\"#969696\",\"#bdbdbd\",\"#d9d9d9\",\"#f0f0f0\",\"#ffffff\"]},\"id\":\"3650\",\"type\":\"LinearColorMapper\"},{\"attributes\":{\"callback\":null,\"end\":30},\"id\":\"3641\",\"type\":\"Range1d\"},{\"attributes\":{\"color_mapper\":{\"id\":\"3650\",\"type\":\"LinearColorMapper\"},\"dh\":{\"units\":\"data\",\"value\":30},\"dw\":{\"units\":\"data\",\"value\":30},\"image\":{\"field\":\"image\"},\"x\":{\"value\":0},\"y\":{\"value\":0}},\"id\":\"3649\",\"type\":\"Image\"},{\"attributes\":{\"palette\":[\"#000000\",\"#252525\",\"#525252\",\"#737373\",\"#969696\",\"#bdbdbd\",\"#d9d9d9\",\"#f0f0f0\",\"#ffffff\"]},\"id\":\"3652\",\"type\":\"LinearColorMapper\"},{\"attributes\":{},\"id\":\"3643\",\"type\":\"LinearScale\"},{\"attributes\":{\"color_mapper\":{\"id\":\"3652\",\"type\":\"LinearColorMapper\"},\"dh\":{\"units\":\"data\",\"value\":30},\"dw\":{\"units\":\"data\",\"value\":30},\"image\":{\"field\":\"image\"},\"x\":{\"value\":0},\"y\":{\"value\":0}},\"id\":\"3651\",\"type\":\"Image\"},{\"attributes\":{\"callback\":null,\"data\":{\"image\":[{\"__ndarray__\":\"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\",\"dtype\":\"float32\",\"shape\":[30,30]}]},\"selected\":{\"id\":\"3766\",\"type\":\"Selection\"},\"selection_policy\":{\"id\":\"3765\",\"type\":\"UnionRenderers\"}},\"id\":\"3648\",\"type\":\"ColumnDataSource\"},{\"attributes\":{},\"id\":\"3766\",\"type\":\"Selection\"}],\"root_ids\":[\"3638\"]},\"title\":\"Bokeh Application\",\"version\":\"1.4.0\"}};\n",
       "  var render_items = [{\"docid\":\"ba74aad9-0c7d-41b8-972b-acfe459685f5\",\"roots\":{\"3638\":\"3b86d94b-bc79-4cd3-aaf8-d869417956f1\"}}];\n",
       "  root.Bokeh.embed.embed_items_notebook(docs_json, render_items);\n",
       "\n",
       "  }\n",
       "  if (root.Bokeh !== undefined) {\n",
       "    embed_document(root);\n",
       "  } else {\n",
       "    var attempts = 0;\n",
       "    var timer = setInterval(function(root) {\n",
       "      if (root.Bokeh !== undefined) {\n",
       "        clearInterval(timer);\n",
       "        embed_document(root);\n",
       "      } else {\n",
       "        attempts++;\n",
       "        if (attempts > 100) {\n",
       "          clearInterval(timer);\n",
       "          console.log(\"Bokeh: ERROR: Unable to run BokehJS code because BokehJS library is missing\");\n",
       "        }\n",
       "      }\n",
       "    }, 10, root)\n",
       "  }\n",
       "})(window);"
      ],
      "application/vnd.bokehjs_exec.v0+json": ""
     },
     "metadata": {
      "application/vnd.bokehjs_exec.v0+json": {
       "id": "3638"
      }
     },
     "output_type": "display_data"
    },
    {
     "name": "stdout",
     "output_type": "stream",
     "text": [
      "17.780321\n"
     ]
    },
    {
     "data": {
      "text/html": [
       "\n",
       "\n",
       "\n",
       "\n",
       "\n",
       "\n",
       "  <div class=\"bk-root\" id=\"edb2f495-507d-418b-9d94-65b95d4f4de3\" data-root-id=\"3791\"></div>\n"
      ]
     },
     "metadata": {},
     "output_type": "display_data"
    },
    {
     "data": {
      "application/javascript": [
       "(function(root) {\n",
       "  function embed_document(root) {\n",
       "    \n",
       "  var docs_json = {\"2c960809-e6b2-4e7d-8da5-49b1198cdc0c\":{\"roots\":{\"references\":[{\"attributes\":{\"renderers\":[{\"id\":\"3806\",\"type\":\"GlyphRenderer\"}],\"title\":{\"id\":\"3921\",\"type\":\"Title\"},\"toolbar\":{\"id\":\"3800\",\"type\":\"Toolbar\"},\"x_range\":{\"id\":\"3792\",\"type\":\"Range1d\"},\"x_scale\":{\"id\":\"3796\",\"type\":\"LinearScale\"},\"y_range\":{\"id\":\"3794\",\"type\":\"Range1d\"},\"y_scale\":{\"id\":\"3798\",\"type\":\"LinearScale\"}},\"id\":\"3791\",\"subtype\":\"Figure\",\"type\":\"Plot\"},{\"attributes\":{\"color_mapper\":{\"id\":\"3805\",\"type\":\"LinearColorMapper\"},\"dh\":{\"units\":\"data\",\"value\":30},\"dw\":{\"units\":\"data\",\"value\":30},\"image\":{\"field\":\"image\"},\"x\":{\"value\":0},\"y\":{\"value\":0}},\"id\":\"3804\",\"type\":\"Image\"},{\"attributes\":{},\"id\":\"3922\",\"type\":\"UnionRenderers\"},{\"attributes\":{\"text\":\"\"},\"id\":\"3921\",\"type\":\"Title\"},{\"attributes\":{\"color_mapper\":{\"id\":\"3803\",\"type\":\"LinearColorMapper\"},\"dh\":{\"units\":\"data\",\"value\":30},\"dw\":{\"units\":\"data\",\"value\":30},\"image\":{\"field\":\"image\"},\"x\":{\"value\":0},\"y\":{\"value\":0}},\"id\":\"3802\",\"type\":\"Image\"},{\"attributes\":{},\"id\":\"3923\",\"type\":\"Selection\"},{\"attributes\":{\"callback\":null,\"end\":30},\"id\":\"3794\",\"type\":\"Range1d\"},{\"attributes\":{},\"id\":\"3798\",\"type\":\"LinearScale\"},{\"attributes\":{\"callback\":null,\"data\":{\"image\":[{\"__ndarray__\":\"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\",\"dtype\":\"float32\",\"shape\":[30,30]}]},\"selected\":{\"id\":\"3923\",\"type\":\"Selection\"},\"selection_policy\":{\"id\":\"3922\",\"type\":\"UnionRenderers\"}},\"id\":\"3801\",\"type\":\"ColumnDataSource\"},{\"attributes\":{\"data_source\":{\"id\":\"3801\",\"type\":\"ColumnDataSource\"},\"glyph\":{\"id\":\"3802\",\"type\":\"Image\"},\"hover_glyph\":null,\"muted_glyph\":null,\"nonselection_glyph\":{\"id\":\"3804\",\"type\":\"Image\"},\"selection_glyph\":null,\"view\":{\"id\":\"3807\",\"type\":\"CDSView\"}},\"id\":\"3806\",\"type\":\"GlyphRenderer\"},{\"attributes\":{\"source\":{\"id\":\"3801\",\"type\":\"ColumnDataSource\"}},\"id\":\"3807\",\"type\":\"CDSView\"},{\"attributes\":{\"palette\":[\"#000000\",\"#252525\",\"#525252\",\"#737373\",\"#969696\",\"#bdbdbd\",\"#d9d9d9\",\"#f0f0f0\",\"#ffffff\"]},\"id\":\"3803\",\"type\":\"LinearColorMapper\"},{\"attributes\":{\"active_drag\":\"auto\",\"active_inspect\":\"auto\",\"active_multi\":null,\"active_scroll\":\"auto\",\"active_tap\":\"auto\"},\"id\":\"3800\",\"type\":\"Toolbar\"},{\"attributes\":{\"callback\":null,\"end\":30},\"id\":\"3792\",\"type\":\"Range1d\"},{\"attributes\":{\"palette\":[\"#000000\",\"#252525\",\"#525252\",\"#737373\",\"#969696\",\"#bdbdbd\",\"#d9d9d9\",\"#f0f0f0\",\"#ffffff\"]},\"id\":\"3805\",\"type\":\"LinearColorMapper\"},{\"attributes\":{},\"id\":\"3796\",\"type\":\"LinearScale\"}],\"root_ids\":[\"3791\"]},\"title\":\"Bokeh Application\",\"version\":\"1.4.0\"}};\n",
       "  var render_items = [{\"docid\":\"2c960809-e6b2-4e7d-8da5-49b1198cdc0c\",\"roots\":{\"3791\":\"edb2f495-507d-418b-9d94-65b95d4f4de3\"}}];\n",
       "  root.Bokeh.embed.embed_items_notebook(docs_json, render_items);\n",
       "\n",
       "  }\n",
       "  if (root.Bokeh !== undefined) {\n",
       "    embed_document(root);\n",
       "  } else {\n",
       "    var attempts = 0;\n",
       "    var timer = setInterval(function(root) {\n",
       "      if (root.Bokeh !== undefined) {\n",
       "        clearInterval(timer);\n",
       "        embed_document(root);\n",
       "      } else {\n",
       "        attempts++;\n",
       "        if (attempts > 100) {\n",
       "          clearInterval(timer);\n",
       "          console.log(\"Bokeh: ERROR: Unable to run BokehJS code because BokehJS library is missing\");\n",
       "        }\n",
       "      }\n",
       "    }, 10, root)\n",
       "  }\n",
       "})(window);"
      ],
      "application/vnd.bokehjs_exec.v0+json": ""
     },
     "metadata": {
      "application/vnd.bokehjs_exec.v0+json": {
       "id": "3791"
      }
     },
     "output_type": "display_data"
    },
    {
     "name": "stdout",
     "output_type": "stream",
     "text": [
      "10.452588\n"
     ]
    },
    {
     "data": {
      "text/html": [
       "\n",
       "\n",
       "\n",
       "\n",
       "\n",
       "\n",
       "  <div class=\"bk-root\" id=\"3a31acc5-a73c-4f46-9486-27aeab147b50\" data-root-id=\"3948\"></div>\n"
      ]
     },
     "metadata": {},
     "output_type": "display_data"
    },
    {
     "data": {
      "application/javascript": [
       "(function(root) {\n",
       "  function embed_document(root) {\n",
       "    \n",
       "  var docs_json = {\"bcf9fecb-f9a2-495b-b14f-c4cce095270f\":{\"roots\":{\"references\":[{\"attributes\":{\"renderers\":[{\"id\":\"3963\",\"type\":\"GlyphRenderer\"}],\"title\":{\"id\":\"4082\",\"type\":\"Title\"},\"toolbar\":{\"id\":\"3957\",\"type\":\"Toolbar\"},\"x_range\":{\"id\":\"3949\",\"type\":\"Range1d\"},\"x_scale\":{\"id\":\"3953\",\"type\":\"LinearScale\"},\"y_range\":{\"id\":\"3951\",\"type\":\"Range1d\"},\"y_scale\":{\"id\":\"3955\",\"type\":\"LinearScale\"}},\"id\":\"3948\",\"subtype\":\"Figure\",\"type\":\"Plot\"},{\"attributes\":{\"data_source\":{\"id\":\"3958\",\"type\":\"ColumnDataSource\"},\"glyph\":{\"id\":\"3959\",\"type\":\"Image\"},\"hover_glyph\":null,\"muted_glyph\":null,\"nonselection_glyph\":{\"id\":\"3961\",\"type\":\"Image\"},\"selection_glyph\":null,\"view\":{\"id\":\"3964\",\"type\":\"CDSView\"}},\"id\":\"3963\",\"type\":\"GlyphRenderer\"},{\"attributes\":{},\"id\":\"4083\",\"type\":\"UnionRenderers\"},{\"attributes\":{},\"id\":\"4084\",\"type\":\"Selection\"},{\"attributes\":{\"callback\":null,\"end\":30},\"id\":\"3951\",\"type\":\"Range1d\"},{\"attributes\":{\"callback\":null,\"end\":30},\"id\":\"3949\",\"type\":\"Range1d\"},{\"attributes\":{\"color_mapper\":{\"id\":\"3962\",\"type\":\"LinearColorMapper\"},\"dh\":{\"units\":\"data\",\"value\":30},\"dw\":{\"units\":\"data\",\"value\":30},\"image\":{\"field\":\"image\"},\"x\":{\"value\":0},\"y\":{\"value\":0}},\"id\":\"3961\",\"type\":\"Image\"},{\"attributes\":{\"color_mapper\":{\"id\":\"3960\",\"type\":\"LinearColorMapper\"},\"dh\":{\"units\":\"data\",\"value\":30},\"dw\":{\"units\":\"data\",\"value\":30},\"image\":{\"field\":\"image\"},\"x\":{\"value\":0},\"y\":{\"value\":0}},\"id\":\"3959\",\"type\":\"Image\"},{\"attributes\":{},\"id\":\"3953\",\"type\":\"LinearScale\"},{\"attributes\":{\"palette\":[\"#000000\",\"#252525\",\"#525252\",\"#737373\",\"#969696\",\"#bdbdbd\",\"#d9d9d9\",\"#f0f0f0\",\"#ffffff\"]},\"id\":\"3962\",\"type\":\"LinearColorMapper\"},{\"attributes\":{\"palette\":[\"#000000\",\"#252525\",\"#525252\",\"#737373\",\"#969696\",\"#bdbdbd\",\"#d9d9d9\",\"#f0f0f0\",\"#ffffff\"]},\"id\":\"3960\",\"type\":\"LinearColorMapper\"},{\"attributes\":{\"source\":{\"id\":\"3958\",\"type\":\"ColumnDataSource\"}},\"id\":\"3964\",\"type\":\"CDSView\"},{\"attributes\":{\"callback\":null,\"data\":{\"image\":[{\"__ndarray__\":\"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\",\"dtype\":\"float32\",\"shape\":[30,30]}]},\"selected\":{\"id\":\"4084\",\"type\":\"Selection\"},\"selection_policy\":{\"id\":\"4083\",\"type\":\"UnionRenderers\"}},\"id\":\"3958\",\"type\":\"ColumnDataSource\"},{\"attributes\":{},\"id\":\"3955\",\"type\":\"LinearScale\"},{\"attributes\":{\"text\":\"\"},\"id\":\"4082\",\"type\":\"Title\"},{\"attributes\":{\"active_drag\":\"auto\",\"active_inspect\":\"auto\",\"active_multi\":null,\"active_scroll\":\"auto\",\"active_tap\":\"auto\"},\"id\":\"3957\",\"type\":\"Toolbar\"}],\"root_ids\":[\"3948\"]},\"title\":\"Bokeh Application\",\"version\":\"1.4.0\"}};\n",
       "  var render_items = [{\"docid\":\"bcf9fecb-f9a2-495b-b14f-c4cce095270f\",\"roots\":{\"3948\":\"3a31acc5-a73c-4f46-9486-27aeab147b50\"}}];\n",
       "  root.Bokeh.embed.embed_items_notebook(docs_json, render_items);\n",
       "\n",
       "  }\n",
       "  if (root.Bokeh !== undefined) {\n",
       "    embed_document(root);\n",
       "  } else {\n",
       "    var attempts = 0;\n",
       "    var timer = setInterval(function(root) {\n",
       "      if (root.Bokeh !== undefined) {\n",
       "        clearInterval(timer);\n",
       "        embed_document(root);\n",
       "      } else {\n",
       "        attempts++;\n",
       "        if (attempts > 100) {\n",
       "          clearInterval(timer);\n",
       "          console.log(\"Bokeh: ERROR: Unable to run BokehJS code because BokehJS library is missing\");\n",
       "        }\n",
       "      }\n",
       "    }, 10, root)\n",
       "  }\n",
       "})(window);"
      ],
      "application/vnd.bokehjs_exec.v0+json": ""
     },
     "metadata": {
      "application/vnd.bokehjs_exec.v0+json": {
       "id": "3948"
      }
     },
     "output_type": "display_data"
    },
    {
     "name": "stdout",
     "output_type": "stream",
     "text": [
      "17.321863\n"
     ]
    },
    {
     "data": {
      "text/html": [
       "\n",
       "\n",
       "\n",
       "\n",
       "\n",
       "\n",
       "  <div class=\"bk-root\" id=\"54ff98a4-22d1-487d-9467-236df0d44c5e\" data-root-id=\"4109\"></div>\n"
      ]
     },
     "metadata": {},
     "output_type": "display_data"
    },
    {
     "data": {
      "application/javascript": [
       "(function(root) {\n",
       "  function embed_document(root) {\n",
       "    \n",
       "  var docs_json = {\"00f57600-658d-454e-8bca-b90014928315\":{\"roots\":{\"references\":[{\"attributes\":{\"renderers\":[{\"id\":\"4124\",\"type\":\"GlyphRenderer\"}],\"title\":{\"id\":\"4247\",\"type\":\"Title\"},\"toolbar\":{\"id\":\"4118\",\"type\":\"Toolbar\"},\"x_range\":{\"id\":\"4110\",\"type\":\"Range1d\"},\"x_scale\":{\"id\":\"4114\",\"type\":\"LinearScale\"},\"y_range\":{\"id\":\"4112\",\"type\":\"Range1d\"},\"y_scale\":{\"id\":\"4116\",\"type\":\"LinearScale\"}},\"id\":\"4109\",\"subtype\":\"Figure\",\"type\":\"Plot\"},{\"attributes\":{\"callback\":null,\"end\":30},\"id\":\"4110\",\"type\":\"Range1d\"},{\"attributes\":{},\"id\":\"4248\",\"type\":\"UnionRenderers\"},{\"attributes\":{\"palette\":[\"#000000\",\"#252525\",\"#525252\",\"#737373\",\"#969696\",\"#bdbdbd\",\"#d9d9d9\",\"#f0f0f0\",\"#ffffff\"]},\"id\":\"4121\",\"type\":\"LinearColorMapper\"},{\"attributes\":{\"source\":{\"id\":\"4119\",\"type\":\"ColumnDataSource\"}},\"id\":\"4125\",\"type\":\"CDSView\"},{\"attributes\":{\"active_drag\":\"auto\",\"active_inspect\":\"auto\",\"active_multi\":null,\"active_scroll\":\"auto\",\"active_tap\":\"auto\"},\"id\":\"4118\",\"type\":\"Toolbar\"},{\"attributes\":{},\"id\":\"4116\",\"type\":\"LinearScale\"},{\"attributes\":{\"text\":\"\"},\"id\":\"4247\",\"type\":\"Title\"},{\"attributes\":{\"callback\":null,\"end\":30},\"id\":\"4112\",\"type\":\"Range1d\"},{\"attributes\":{\"color_mapper\":{\"id\":\"4121\",\"type\":\"LinearColorMapper\"},\"dh\":{\"units\":\"data\",\"value\":30},\"dw\":{\"units\":\"data\",\"value\":30},\"image\":{\"field\":\"image\"},\"x\":{\"value\":0},\"y\":{\"value\":0}},\"id\":\"4120\",\"type\":\"Image\"},{\"attributes\":{\"callback\":null,\"data\":{\"image\":[{\"__ndarray__\":\"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\",\"dtype\":\"float32\",\"shape\":[30,30]}]},\"selected\":{\"id\":\"4249\",\"type\":\"Selection\"},\"selection_policy\":{\"id\":\"4248\",\"type\":\"UnionRenderers\"}},\"id\":\"4119\",\"type\":\"ColumnDataSource\"},{\"attributes\":{\"data_source\":{\"id\":\"4119\",\"type\":\"ColumnDataSource\"},\"glyph\":{\"id\":\"4120\",\"type\":\"Image\"},\"hover_glyph\":null,\"muted_glyph\":null,\"nonselection_glyph\":{\"id\":\"4122\",\"type\":\"Image\"},\"selection_glyph\":null,\"view\":{\"id\":\"4125\",\"type\":\"CDSView\"}},\"id\":\"4124\",\"type\":\"GlyphRenderer\"},{\"attributes\":{\"color_mapper\":{\"id\":\"4123\",\"type\":\"LinearColorMapper\"},\"dh\":{\"units\":\"data\",\"value\":30},\"dw\":{\"units\":\"data\",\"value\":30},\"image\":{\"field\":\"image\"},\"x\":{\"value\":0},\"y\":{\"value\":0}},\"id\":\"4122\",\"type\":\"Image\"},{\"attributes\":{\"palette\":[\"#000000\",\"#252525\",\"#525252\",\"#737373\",\"#969696\",\"#bdbdbd\",\"#d9d9d9\",\"#f0f0f0\",\"#ffffff\"]},\"id\":\"4123\",\"type\":\"LinearColorMapper\"},{\"attributes\":{},\"id\":\"4114\",\"type\":\"LinearScale\"},{\"attributes\":{},\"id\":\"4249\",\"type\":\"Selection\"}],\"root_ids\":[\"4109\"]},\"title\":\"Bokeh Application\",\"version\":\"1.4.0\"}};\n",
       "  var render_items = [{\"docid\":\"00f57600-658d-454e-8bca-b90014928315\",\"roots\":{\"4109\":\"54ff98a4-22d1-487d-9467-236df0d44c5e\"}}];\n",
       "  root.Bokeh.embed.embed_items_notebook(docs_json, render_items);\n",
       "\n",
       "  }\n",
       "  if (root.Bokeh !== undefined) {\n",
       "    embed_document(root);\n",
       "  } else {\n",
       "    var attempts = 0;\n",
       "    var timer = setInterval(function(root) {\n",
       "      if (root.Bokeh !== undefined) {\n",
       "        clearInterval(timer);\n",
       "        embed_document(root);\n",
       "      } else {\n",
       "        attempts++;\n",
       "        if (attempts > 100) {\n",
       "          clearInterval(timer);\n",
       "          console.log(\"Bokeh: ERROR: Unable to run BokehJS code because BokehJS library is missing\");\n",
       "        }\n",
       "      }\n",
       "    }, 10, root)\n",
       "  }\n",
       "})(window);"
      ],
      "application/vnd.bokehjs_exec.v0+json": ""
     },
     "metadata": {
      "application/vnd.bokehjs_exec.v0+json": {
       "id": "4109"
      }
     },
     "output_type": "display_data"
    },
    {
     "name": "stdout",
     "output_type": "stream",
     "text": [
      "11.441083\n"
     ]
    },
    {
     "data": {
      "text/html": [
       "\n",
       "\n",
       "\n",
       "\n",
       "\n",
       "\n",
       "  <div class=\"bk-root\" id=\"849a2057-116b-4c64-af8f-45fd48005a69\" data-root-id=\"4274\"></div>\n"
      ]
     },
     "metadata": {},
     "output_type": "display_data"
    },
    {
     "data": {
      "application/javascript": [
       "(function(root) {\n",
       "  function embed_document(root) {\n",
       "    \n",
       "  var docs_json = {\"e4a8bfe0-79e2-4318-abbe-a69c27e55778\":{\"roots\":{\"references\":[{\"attributes\":{\"renderers\":[{\"id\":\"4289\",\"type\":\"GlyphRenderer\"}],\"title\":{\"id\":\"4416\",\"type\":\"Title\"},\"toolbar\":{\"id\":\"4283\",\"type\":\"Toolbar\"},\"x_range\":{\"id\":\"4275\",\"type\":\"Range1d\"},\"x_scale\":{\"id\":\"4279\",\"type\":\"LinearScale\"},\"y_range\":{\"id\":\"4277\",\"type\":\"Range1d\"},\"y_scale\":{\"id\":\"4281\",\"type\":\"LinearScale\"}},\"id\":\"4274\",\"subtype\":\"Figure\",\"type\":\"Plot\"},{\"attributes\":{\"source\":{\"id\":\"4284\",\"type\":\"ColumnDataSource\"}},\"id\":\"4290\",\"type\":\"CDSView\"},{\"attributes\":{},\"id\":\"4417\",\"type\":\"UnionRenderers\"},{\"attributes\":{\"data_source\":{\"id\":\"4284\",\"type\":\"ColumnDataSource\"},\"glyph\":{\"id\":\"4285\",\"type\":\"Image\"},\"hover_glyph\":null,\"muted_glyph\":null,\"nonselection_glyph\":{\"id\":\"4287\",\"type\":\"Image\"},\"selection_glyph\":null,\"view\":{\"id\":\"4290\",\"type\":\"CDSView\"}},\"id\":\"4289\",\"type\":\"GlyphRenderer\"},{\"attributes\":{\"callback\":null,\"end\":30},\"id\":\"4275\",\"type\":\"Range1d\"},{\"attributes\":{\"active_drag\":\"auto\",\"active_inspect\":\"auto\",\"active_multi\":null,\"active_scroll\":\"auto\",\"active_tap\":\"auto\"},\"id\":\"4283\",\"type\":\"Toolbar\"},{\"attributes\":{\"color_mapper\":{\"id\":\"4288\",\"type\":\"LinearColorMapper\"},\"dh\":{\"units\":\"data\",\"value\":30},\"dw\":{\"units\":\"data\",\"value\":30},\"image\":{\"field\":\"image\"},\"x\":{\"value\":0},\"y\":{\"value\":0}},\"id\":\"4287\",\"type\":\"Image\"},{\"attributes\":{\"color_mapper\":{\"id\":\"4286\",\"type\":\"LinearColorMapper\"},\"dh\":{\"units\":\"data\",\"value\":30},\"dw\":{\"units\":\"data\",\"value\":30},\"image\":{\"field\":\"image\"},\"x\":{\"value\":0},\"y\":{\"value\":0}},\"id\":\"4285\",\"type\":\"Image\"},{\"attributes\":{\"callback\":null,\"end\":30},\"id\":\"4277\",\"type\":\"Range1d\"},{\"attributes\":{\"text\":\"\"},\"id\":\"4416\",\"type\":\"Title\"},{\"attributes\":{},\"id\":\"4418\",\"type\":\"Selection\"},{\"attributes\":{},\"id\":\"4279\",\"type\":\"LinearScale\"},{\"attributes\":{\"palette\":[\"#000000\",\"#252525\",\"#525252\",\"#737373\",\"#969696\",\"#bdbdbd\",\"#d9d9d9\",\"#f0f0f0\",\"#ffffff\"]},\"id\":\"4288\",\"type\":\"LinearColorMapper\"},{\"attributes\":{\"palette\":[\"#000000\",\"#252525\",\"#525252\",\"#737373\",\"#969696\",\"#bdbdbd\",\"#d9d9d9\",\"#f0f0f0\",\"#ffffff\"]},\"id\":\"4286\",\"type\":\"LinearColorMapper\"},{\"attributes\":{},\"id\":\"4281\",\"type\":\"LinearScale\"},{\"attributes\":{\"callback\":null,\"data\":{\"image\":[{\"__ndarray__\":\"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\",\"dtype\":\"float32\",\"shape\":[30,30]}]},\"selected\":{\"id\":\"4418\",\"type\":\"Selection\"},\"selection_policy\":{\"id\":\"4417\",\"type\":\"UnionRenderers\"}},\"id\":\"4284\",\"type\":\"ColumnDataSource\"}],\"root_ids\":[\"4274\"]},\"title\":\"Bokeh Application\",\"version\":\"1.4.0\"}};\n",
       "  var render_items = [{\"docid\":\"e4a8bfe0-79e2-4318-abbe-a69c27e55778\",\"roots\":{\"4274\":\"849a2057-116b-4c64-af8f-45fd48005a69\"}}];\n",
       "  root.Bokeh.embed.embed_items_notebook(docs_json, render_items);\n",
       "\n",
       "  }\n",
       "  if (root.Bokeh !== undefined) {\n",
       "    embed_document(root);\n",
       "  } else {\n",
       "    var attempts = 0;\n",
       "    var timer = setInterval(function(root) {\n",
       "      if (root.Bokeh !== undefined) {\n",
       "        clearInterval(timer);\n",
       "        embed_document(root);\n",
       "      } else {\n",
       "        attempts++;\n",
       "        if (attempts > 100) {\n",
       "          clearInterval(timer);\n",
       "          console.log(\"Bokeh: ERROR: Unable to run BokehJS code because BokehJS library is missing\");\n",
       "        }\n",
       "      }\n",
       "    }, 10, root)\n",
       "  }\n",
       "})(window);"
      ],
      "application/vnd.bokehjs_exec.v0+json": ""
     },
     "metadata": {
      "application/vnd.bokehjs_exec.v0+json": {
       "id": "4274"
      }
     },
     "output_type": "display_data"
    },
    {
     "name": "stdout",
     "output_type": "stream",
     "text": [
      "16.026836\n"
     ]
    },
    {
     "data": {
      "text/html": [
       "\n",
       "\n",
       "\n",
       "\n",
       "\n",
       "\n",
       "  <div class=\"bk-root\" id=\"047b9755-d0ea-4ce7-8fbd-64b21c8da29c\" data-root-id=\"4443\"></div>\n"
      ]
     },
     "metadata": {},
     "output_type": "display_data"
    },
    {
     "data": {
      "application/javascript": [
       "(function(root) {\n",
       "  function embed_document(root) {\n",
       "    \n",
       "  var docs_json = {\"8938c1a6-f0cd-487b-af90-0832f5b7646d\":{\"roots\":{\"references\":[{\"attributes\":{\"renderers\":[{\"id\":\"4458\",\"type\":\"GlyphRenderer\"}],\"title\":{\"id\":\"4589\",\"type\":\"Title\"},\"toolbar\":{\"id\":\"4452\",\"type\":\"Toolbar\"},\"x_range\":{\"id\":\"4444\",\"type\":\"Range1d\"},\"x_scale\":{\"id\":\"4448\",\"type\":\"LinearScale\"},\"y_range\":{\"id\":\"4446\",\"type\":\"Range1d\"},\"y_scale\":{\"id\":\"4450\",\"type\":\"LinearScale\"}},\"id\":\"4443\",\"subtype\":\"Figure\",\"type\":\"Plot\"},{\"attributes\":{},\"id\":\"4448\",\"type\":\"LinearScale\"},{\"attributes\":{\"color_mapper\":{\"id\":\"4457\",\"type\":\"LinearColorMapper\"},\"dh\":{\"units\":\"data\",\"value\":30},\"dw\":{\"units\":\"data\",\"value\":30},\"image\":{\"field\":\"image\"},\"x\":{\"value\":0},\"y\":{\"value\":0}},\"id\":\"4456\",\"type\":\"Image\"},{\"attributes\":{\"callback\":null,\"data\":{\"image\":[{\"__ndarray__\":\"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\",\"dtype\":\"float32\",\"shape\":[30,30]}]},\"selected\":{\"id\":\"4591\",\"type\":\"Selection\"},\"selection_policy\":{\"id\":\"4590\",\"type\":\"UnionRenderers\"}},\"id\":\"4453\",\"type\":\"ColumnDataSource\"},{\"attributes\":{},\"id\":\"4590\",\"type\":\"UnionRenderers\"},{\"attributes\":{\"palette\":[\"#000000\",\"#252525\",\"#525252\",\"#737373\",\"#969696\",\"#bdbdbd\",\"#d9d9d9\",\"#f0f0f0\",\"#ffffff\"]},\"id\":\"4457\",\"type\":\"LinearColorMapper\"},{\"attributes\":{\"palette\":[\"#000000\",\"#252525\",\"#525252\",\"#737373\",\"#969696\",\"#bdbdbd\",\"#d9d9d9\",\"#f0f0f0\",\"#ffffff\"]},\"id\":\"4455\",\"type\":\"LinearColorMapper\"},{\"attributes\":{},\"id\":\"4591\",\"type\":\"Selection\"},{\"attributes\":{\"color_mapper\":{\"id\":\"4455\",\"type\":\"LinearColorMapper\"},\"dh\":{\"units\":\"data\",\"value\":30},\"dw\":{\"units\":\"data\",\"value\":30},\"image\":{\"field\":\"image\"},\"x\":{\"value\":0},\"y\":{\"value\":0}},\"id\":\"4454\",\"type\":\"Image\"},{\"attributes\":{\"active_drag\":\"auto\",\"active_inspect\":\"auto\",\"active_multi\":null,\"active_scroll\":\"auto\",\"active_tap\":\"auto\"},\"id\":\"4452\",\"type\":\"Toolbar\"},{\"attributes\":{\"callback\":null,\"end\":30},\"id\":\"4444\",\"type\":\"Range1d\"},{\"attributes\":{\"source\":{\"id\":\"4453\",\"type\":\"ColumnDataSource\"}},\"id\":\"4459\",\"type\":\"CDSView\"},{\"attributes\":{\"text\":\"\"},\"id\":\"4589\",\"type\":\"Title\"},{\"attributes\":{\"data_source\":{\"id\":\"4453\",\"type\":\"ColumnDataSource\"},\"glyph\":{\"id\":\"4454\",\"type\":\"Image\"},\"hover_glyph\":null,\"muted_glyph\":null,\"nonselection_glyph\":{\"id\":\"4456\",\"type\":\"Image\"},\"selection_glyph\":null,\"view\":{\"id\":\"4459\",\"type\":\"CDSView\"}},\"id\":\"4458\",\"type\":\"GlyphRenderer\"},{\"attributes\":{},\"id\":\"4450\",\"type\":\"LinearScale\"},{\"attributes\":{\"callback\":null,\"end\":30},\"id\":\"4446\",\"type\":\"Range1d\"}],\"root_ids\":[\"4443\"]},\"title\":\"Bokeh Application\",\"version\":\"1.4.0\"}};\n",
       "  var render_items = [{\"docid\":\"8938c1a6-f0cd-487b-af90-0832f5b7646d\",\"roots\":{\"4443\":\"047b9755-d0ea-4ce7-8fbd-64b21c8da29c\"}}];\n",
       "  root.Bokeh.embed.embed_items_notebook(docs_json, render_items);\n",
       "\n",
       "  }\n",
       "  if (root.Bokeh !== undefined) {\n",
       "    embed_document(root);\n",
       "  } else {\n",
       "    var attempts = 0;\n",
       "    var timer = setInterval(function(root) {\n",
       "      if (root.Bokeh !== undefined) {\n",
       "        clearInterval(timer);\n",
       "        embed_document(root);\n",
       "      } else {\n",
       "        attempts++;\n",
       "        if (attempts > 100) {\n",
       "          clearInterval(timer);\n",
       "          console.log(\"Bokeh: ERROR: Unable to run BokehJS code because BokehJS library is missing\");\n",
       "        }\n",
       "      }\n",
       "    }, 10, root)\n",
       "  }\n",
       "})(window);"
      ],
      "application/vnd.bokehjs_exec.v0+json": ""
     },
     "metadata": {
      "application/vnd.bokehjs_exec.v0+json": {
       "id": "4443"
      }
     },
     "output_type": "display_data"
    },
    {
     "name": "stdout",
     "output_type": "stream",
     "text": [
      "16.497343\n"
     ]
    },
    {
     "data": {
      "text/html": [
       "\n",
       "\n",
       "\n",
       "\n",
       "\n",
       "\n",
       "  <div class=\"bk-root\" id=\"9b1b396e-f1a2-4161-8011-4cc43296ef63\" data-root-id=\"4616\"></div>\n"
      ]
     },
     "metadata": {},
     "output_type": "display_data"
    },
    {
     "data": {
      "application/javascript": [
       "(function(root) {\n",
       "  function embed_document(root) {\n",
       "    \n",
       "  var docs_json = {\"0902ce7c-4979-49c8-b923-8870e33c3bba\":{\"roots\":{\"references\":[{\"attributes\":{\"renderers\":[{\"id\":\"4631\",\"type\":\"GlyphRenderer\"}],\"title\":{\"id\":\"4766\",\"type\":\"Title\"},\"toolbar\":{\"id\":\"4625\",\"type\":\"Toolbar\"},\"x_range\":{\"id\":\"4617\",\"type\":\"Range1d\"},\"x_scale\":{\"id\":\"4621\",\"type\":\"LinearScale\"},\"y_range\":{\"id\":\"4619\",\"type\":\"Range1d\"},\"y_scale\":{\"id\":\"4623\",\"type\":\"LinearScale\"}},\"id\":\"4616\",\"subtype\":\"Figure\",\"type\":\"Plot\"},{\"attributes\":{\"callback\":null,\"end\":30},\"id\":\"4619\",\"type\":\"Range1d\"},{\"attributes\":{\"color_mapper\":{\"id\":\"4628\",\"type\":\"LinearColorMapper\"},\"dh\":{\"units\":\"data\",\"value\":30},\"dw\":{\"units\":\"data\",\"value\":30},\"image\":{\"field\":\"image\"},\"x\":{\"value\":0},\"y\":{\"value\":0}},\"id\":\"4627\",\"type\":\"Image\"},{\"attributes\":{\"source\":{\"id\":\"4626\",\"type\":\"ColumnDataSource\"}},\"id\":\"4632\",\"type\":\"CDSView\"},{\"attributes\":{},\"id\":\"4621\",\"type\":\"LinearScale\"},{\"attributes\":{\"palette\":[\"#000000\",\"#252525\",\"#525252\",\"#737373\",\"#969696\",\"#bdbdbd\",\"#d9d9d9\",\"#f0f0f0\",\"#ffffff\"]},\"id\":\"4630\",\"type\":\"LinearColorMapper\"},{\"attributes\":{\"active_drag\":\"auto\",\"active_inspect\":\"auto\",\"active_multi\":null,\"active_scroll\":\"auto\",\"active_tap\":\"auto\"},\"id\":\"4625\",\"type\":\"Toolbar\"},{\"attributes\":{\"data_source\":{\"id\":\"4626\",\"type\":\"ColumnDataSource\"},\"glyph\":{\"id\":\"4627\",\"type\":\"Image\"},\"hover_glyph\":null,\"muted_glyph\":null,\"nonselection_glyph\":{\"id\":\"4629\",\"type\":\"Image\"},\"selection_glyph\":null,\"view\":{\"id\":\"4632\",\"type\":\"CDSView\"}},\"id\":\"4631\",\"type\":\"GlyphRenderer\"},{\"attributes\":{\"palette\":[\"#000000\",\"#252525\",\"#525252\",\"#737373\",\"#969696\",\"#bdbdbd\",\"#d9d9d9\",\"#f0f0f0\",\"#ffffff\"]},\"id\":\"4628\",\"type\":\"LinearColorMapper\"},{\"attributes\":{},\"id\":\"4623\",\"type\":\"LinearScale\"},{\"attributes\":{\"text\":\"\"},\"id\":\"4766\",\"type\":\"Title\"},{\"attributes\":{\"callback\":null,\"end\":30},\"id\":\"4617\",\"type\":\"Range1d\"},{\"attributes\":{\"color_mapper\":{\"id\":\"4630\",\"type\":\"LinearColorMapper\"},\"dh\":{\"units\":\"data\",\"value\":30},\"dw\":{\"units\":\"data\",\"value\":30},\"image\":{\"field\":\"image\"},\"x\":{\"value\":0},\"y\":{\"value\":0}},\"id\":\"4629\",\"type\":\"Image\"},{\"attributes\":{\"callback\":null,\"data\":{\"image\":[{\"__ndarray__\":\"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\",\"dtype\":\"float32\",\"shape\":[30,30]}]},\"selected\":{\"id\":\"4768\",\"type\":\"Selection\"},\"selection_policy\":{\"id\":\"4767\",\"type\":\"UnionRenderers\"}},\"id\":\"4626\",\"type\":\"ColumnDataSource\"},{\"attributes\":{},\"id\":\"4768\",\"type\":\"Selection\"},{\"attributes\":{},\"id\":\"4767\",\"type\":\"UnionRenderers\"}],\"root_ids\":[\"4616\"]},\"title\":\"Bokeh Application\",\"version\":\"1.4.0\"}};\n",
       "  var render_items = [{\"docid\":\"0902ce7c-4979-49c8-b923-8870e33c3bba\",\"roots\":{\"4616\":\"9b1b396e-f1a2-4161-8011-4cc43296ef63\"}}];\n",
       "  root.Bokeh.embed.embed_items_notebook(docs_json, render_items);\n",
       "\n",
       "  }\n",
       "  if (root.Bokeh !== undefined) {\n",
       "    embed_document(root);\n",
       "  } else {\n",
       "    var attempts = 0;\n",
       "    var timer = setInterval(function(root) {\n",
       "      if (root.Bokeh !== undefined) {\n",
       "        clearInterval(timer);\n",
       "        embed_document(root);\n",
       "      } else {\n",
       "        attempts++;\n",
       "        if (attempts > 100) {\n",
       "          clearInterval(timer);\n",
       "          console.log(\"Bokeh: ERROR: Unable to run BokehJS code because BokehJS library is missing\");\n",
       "        }\n",
       "      }\n",
       "    }, 10, root)\n",
       "  }\n",
       "})(window);"
      ],
      "application/vnd.bokehjs_exec.v0+json": ""
     },
     "metadata": {
      "application/vnd.bokehjs_exec.v0+json": {
       "id": "4616"
      }
     },
     "output_type": "display_data"
    },
    {
     "name": "stdout",
     "output_type": "stream",
     "text": [
      "14.942686\n"
     ]
    },
    {
     "data": {
      "text/html": [
       "\n",
       "\n",
       "\n",
       "\n",
       "\n",
       "\n",
       "  <div class=\"bk-root\" id=\"1258a170-cadd-4970-8f32-32683e194ce1\" data-root-id=\"4793\"></div>\n"
      ]
     },
     "metadata": {},
     "output_type": "display_data"
    },
    {
     "data": {
      "application/javascript": [
       "(function(root) {\n",
       "  function embed_document(root) {\n",
       "    \n",
       "  var docs_json = {\"84b662fa-a4f2-4884-b483-e727b07c45bf\":{\"roots\":{\"references\":[{\"attributes\":{\"renderers\":[{\"id\":\"4808\",\"type\":\"GlyphRenderer\"}],\"title\":{\"id\":\"4947\",\"type\":\"Title\"},\"toolbar\":{\"id\":\"4802\",\"type\":\"Toolbar\"},\"x_range\":{\"id\":\"4794\",\"type\":\"Range1d\"},\"x_scale\":{\"id\":\"4798\",\"type\":\"LinearScale\"},\"y_range\":{\"id\":\"4796\",\"type\":\"Range1d\"},\"y_scale\":{\"id\":\"4800\",\"type\":\"LinearScale\"}},\"id\":\"4793\",\"subtype\":\"Figure\",\"type\":\"Plot\"},{\"attributes\":{},\"id\":\"4949\",\"type\":\"Selection\"},{\"attributes\":{\"color_mapper\":{\"id\":\"4805\",\"type\":\"LinearColorMapper\"},\"dh\":{\"units\":\"data\",\"value\":30},\"dw\":{\"units\":\"data\",\"value\":30},\"image\":{\"field\":\"image\"},\"x\":{\"value\":0},\"y\":{\"value\":0}},\"id\":\"4804\",\"type\":\"Image\"},{\"attributes\":{},\"id\":\"4798\",\"type\":\"LinearScale\"},{\"attributes\":{\"text\":\"\"},\"id\":\"4947\",\"type\":\"Title\"},{\"attributes\":{\"source\":{\"id\":\"4803\",\"type\":\"ColumnDataSource\"}},\"id\":\"4809\",\"type\":\"CDSView\"},{\"attributes\":{},\"id\":\"4948\",\"type\":\"UnionRenderers\"},{\"attributes\":{\"callback\":null,\"end\":30},\"id\":\"4796\",\"type\":\"Range1d\"},{\"attributes\":{\"callback\":null,\"data\":{\"image\":[{\"__ndarray__\":\"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\",\"dtype\":\"float32\",\"shape\":[30,30]}]},\"selected\":{\"id\":\"4949\",\"type\":\"Selection\"},\"selection_policy\":{\"id\":\"4948\",\"type\":\"UnionRenderers\"}},\"id\":\"4803\",\"type\":\"ColumnDataSource\"},{\"attributes\":{\"palette\":[\"#000000\",\"#252525\",\"#525252\",\"#737373\",\"#969696\",\"#bdbdbd\",\"#d9d9d9\",\"#f0f0f0\",\"#ffffff\"]},\"id\":\"4805\",\"type\":\"LinearColorMapper\"},{\"attributes\":{},\"id\":\"4800\",\"type\":\"LinearScale\"},{\"attributes\":{\"palette\":[\"#000000\",\"#252525\",\"#525252\",\"#737373\",\"#969696\",\"#bdbdbd\",\"#d9d9d9\",\"#f0f0f0\",\"#ffffff\"]},\"id\":\"4807\",\"type\":\"LinearColorMapper\"},{\"attributes\":{\"active_drag\":\"auto\",\"active_inspect\":\"auto\",\"active_multi\":null,\"active_scroll\":\"auto\",\"active_tap\":\"auto\"},\"id\":\"4802\",\"type\":\"Toolbar\"},{\"attributes\":{\"callback\":null,\"end\":30},\"id\":\"4794\",\"type\":\"Range1d\"},{\"attributes\":{\"color_mapper\":{\"id\":\"4807\",\"type\":\"LinearColorMapper\"},\"dh\":{\"units\":\"data\",\"value\":30},\"dw\":{\"units\":\"data\",\"value\":30},\"image\":{\"field\":\"image\"},\"x\":{\"value\":0},\"y\":{\"value\":0}},\"id\":\"4806\",\"type\":\"Image\"},{\"attributes\":{\"data_source\":{\"id\":\"4803\",\"type\":\"ColumnDataSource\"},\"glyph\":{\"id\":\"4804\",\"type\":\"Image\"},\"hover_glyph\":null,\"muted_glyph\":null,\"nonselection_glyph\":{\"id\":\"4806\",\"type\":\"Image\"},\"selection_glyph\":null,\"view\":{\"id\":\"4809\",\"type\":\"CDSView\"}},\"id\":\"4808\",\"type\":\"GlyphRenderer\"}],\"root_ids\":[\"4793\"]},\"title\":\"Bokeh Application\",\"version\":\"1.4.0\"}};\n",
       "  var render_items = [{\"docid\":\"84b662fa-a4f2-4884-b483-e727b07c45bf\",\"roots\":{\"4793\":\"1258a170-cadd-4970-8f32-32683e194ce1\"}}];\n",
       "  root.Bokeh.embed.embed_items_notebook(docs_json, render_items);\n",
       "\n",
       "  }\n",
       "  if (root.Bokeh !== undefined) {\n",
       "    embed_document(root);\n",
       "  } else {\n",
       "    var attempts = 0;\n",
       "    var timer = setInterval(function(root) {\n",
       "      if (root.Bokeh !== undefined) {\n",
       "        clearInterval(timer);\n",
       "        embed_document(root);\n",
       "      } else {\n",
       "        attempts++;\n",
       "        if (attempts > 100) {\n",
       "          clearInterval(timer);\n",
       "          console.log(\"Bokeh: ERROR: Unable to run BokehJS code because BokehJS library is missing\");\n",
       "        }\n",
       "      }\n",
       "    }, 10, root)\n",
       "  }\n",
       "})(window);"
      ],
      "application/vnd.bokehjs_exec.v0+json": ""
     },
     "metadata": {
      "application/vnd.bokehjs_exec.v0+json": {
       "id": "4793"
      }
     },
     "output_type": "display_data"
    },
    {
     "name": "stdout",
     "output_type": "stream",
     "text": [
      "14.82329\n"
     ]
    },
    {
     "data": {
      "text/html": [
       "\n",
       "\n",
       "\n",
       "\n",
       "\n",
       "\n",
       "  <div class=\"bk-root\" id=\"96dfdf54-8317-402b-ba3d-ceeccb335a36\" data-root-id=\"4974\"></div>\n"
      ]
     },
     "metadata": {},
     "output_type": "display_data"
    },
    {
     "data": {
      "application/javascript": [
       "(function(root) {\n",
       "  function embed_document(root) {\n",
       "    \n",
       "  var docs_json = {\"af39faed-56a6-4b34-ab61-80ff718e57a8\":{\"roots\":{\"references\":[{\"attributes\":{\"renderers\":[{\"id\":\"4989\",\"type\":\"GlyphRenderer\"}],\"title\":{\"id\":\"5132\",\"type\":\"Title\"},\"toolbar\":{\"id\":\"4983\",\"type\":\"Toolbar\"},\"x_range\":{\"id\":\"4975\",\"type\":\"Range1d\"},\"x_scale\":{\"id\":\"4979\",\"type\":\"LinearScale\"},\"y_range\":{\"id\":\"4977\",\"type\":\"Range1d\"},\"y_scale\":{\"id\":\"4981\",\"type\":\"LinearScale\"}},\"id\":\"4974\",\"subtype\":\"Figure\",\"type\":\"Plot\"},{\"attributes\":{\"color_mapper\":{\"id\":\"4988\",\"type\":\"LinearColorMapper\"},\"dh\":{\"units\":\"data\",\"value\":30},\"dw\":{\"units\":\"data\",\"value\":30},\"image\":{\"field\":\"image\"},\"x\":{\"value\":0},\"y\":{\"value\":0}},\"id\":\"4987\",\"type\":\"Image\"},{\"attributes\":{},\"id\":\"5134\",\"type\":\"Selection\"},{\"attributes\":{\"callback\":null,\"data\":{\"image\":[{\"__ndarray__\":\"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\",\"dtype\":\"float32\",\"shape\":[30,30]}]},\"selected\":{\"id\":\"5134\",\"type\":\"Selection\"},\"selection_policy\":{\"id\":\"5133\",\"type\":\"UnionRenderers\"}},\"id\":\"4984\",\"type\":\"ColumnDataSource\"},{\"attributes\":{\"active_drag\":\"auto\",\"active_inspect\":\"auto\",\"active_multi\":null,\"active_scroll\":\"auto\",\"active_tap\":\"auto\"},\"id\":\"4983\",\"type\":\"Toolbar\"},{\"attributes\":{\"data_source\":{\"id\":\"4984\",\"type\":\"ColumnDataSource\"},\"glyph\":{\"id\":\"4985\",\"type\":\"Image\"},\"hover_glyph\":null,\"muted_glyph\":null,\"nonselection_glyph\":{\"id\":\"4987\",\"type\":\"Image\"},\"selection_glyph\":null,\"view\":{\"id\":\"4990\",\"type\":\"CDSView\"}},\"id\":\"4989\",\"type\":\"GlyphRenderer\"},{\"attributes\":{},\"id\":\"4981\",\"type\":\"LinearScale\"},{\"attributes\":{},\"id\":\"5133\",\"type\":\"UnionRenderers\"},{\"attributes\":{\"callback\":null,\"end\":30},\"id\":\"4975\",\"type\":\"Range1d\"},{\"attributes\":{\"palette\":[\"#000000\",\"#252525\",\"#525252\",\"#737373\",\"#969696\",\"#bdbdbd\",\"#d9d9d9\",\"#f0f0f0\",\"#ffffff\"]},\"id\":\"4988\",\"type\":\"LinearColorMapper\"},{\"attributes\":{\"callback\":null,\"end\":30},\"id\":\"4977\",\"type\":\"Range1d\"},{\"attributes\":{\"palette\":[\"#000000\",\"#252525\",\"#525252\",\"#737373\",\"#969696\",\"#bdbdbd\",\"#d9d9d9\",\"#f0f0f0\",\"#ffffff\"]},\"id\":\"4986\",\"type\":\"LinearColorMapper\"},{\"attributes\":{},\"id\":\"4979\",\"type\":\"LinearScale\"},{\"attributes\":{\"text\":\"\"},\"id\":\"5132\",\"type\":\"Title\"},{\"attributes\":{\"source\":{\"id\":\"4984\",\"type\":\"ColumnDataSource\"}},\"id\":\"4990\",\"type\":\"CDSView\"},{\"attributes\":{\"color_mapper\":{\"id\":\"4986\",\"type\":\"LinearColorMapper\"},\"dh\":{\"units\":\"data\",\"value\":30},\"dw\":{\"units\":\"data\",\"value\":30},\"image\":{\"field\":\"image\"},\"x\":{\"value\":0},\"y\":{\"value\":0}},\"id\":\"4985\",\"type\":\"Image\"}],\"root_ids\":[\"4974\"]},\"title\":\"Bokeh Application\",\"version\":\"1.4.0\"}};\n",
       "  var render_items = [{\"docid\":\"af39faed-56a6-4b34-ab61-80ff718e57a8\",\"roots\":{\"4974\":\"96dfdf54-8317-402b-ba3d-ceeccb335a36\"}}];\n",
       "  root.Bokeh.embed.embed_items_notebook(docs_json, render_items);\n",
       "\n",
       "  }\n",
       "  if (root.Bokeh !== undefined) {\n",
       "    embed_document(root);\n",
       "  } else {\n",
       "    var attempts = 0;\n",
       "    var timer = setInterval(function(root) {\n",
       "      if (root.Bokeh !== undefined) {\n",
       "        clearInterval(timer);\n",
       "        embed_document(root);\n",
       "      } else {\n",
       "        attempts++;\n",
       "        if (attempts > 100) {\n",
       "          clearInterval(timer);\n",
       "          console.log(\"Bokeh: ERROR: Unable to run BokehJS code because BokehJS library is missing\");\n",
       "        }\n",
       "      }\n",
       "    }, 10, root)\n",
       "  }\n",
       "})(window);"
      ],
      "application/vnd.bokehjs_exec.v0+json": ""
     },
     "metadata": {
      "application/vnd.bokehjs_exec.v0+json": {
       "id": "4974"
      }
     },
     "output_type": "display_data"
    }
   ],
   "source": [
    "trans_tokens = tokenized_texts\n",
    "inp_tokens = tokenized_texts\n",
    "cls_idx = 0\n",
    "sep_idx = len(tokenizer.tokenize(query))\n",
    "end_idx = len(tokenizer.tokenize(query)) + len(tokenizer.tokenize(answer1)) + 3\n",
    "\n",
    "print (cls_idx, sep_idx, end_idx)\n",
    "\n",
    "for ii in range(12):\n",
    "    probs = answ[2][ii][0][0].detach().numpy()\n",
    "\n",
    "    probs = probs[:len(trans_tokens[0]), :len(inp_tokens[0])]\n",
    "    #probs[cls_idx:sep_idx, sep_idx:] = 0.0\n",
    "    #probs[sep_idx:end_idx, cls_idx:sep_idx+2] = 0.0\n",
    "    \n",
    "    #nullify sep - need we or not?\n",
    "    #probs1 = np.copy(probs)\n",
    "    #probs1[0] = 0.0\n",
    "    #probs1[:, 0] = 0.0\n",
    "    #probs1[10] = 0.0\n",
    "    #probs1[len(probs)-1] = 0.0\n",
    "    #probs1[:, 10] = 0.0\n",
    "    #probs1[:, len(probs)-1] = 0.0\n",
    "\n",
    "    fig = pl.figure(x_range=(0, len(inp_tokens[0])), y_range=(0, len(trans_tokens[0])),\n",
    "                    x_axis_type=None, y_axis_type=None, tools=[])\n",
    "    fig.image([probs], 0, 0, len(inp_tokens[0]), len(trans_tokens[0]))\n",
    "    score = np.sum(probs[cls_idx:sep_idx, sep_idx+1:]) + np.sum(probs[sep_idx+1:end_idx, cls_idx:sep_idx+2])\n",
    "    print (score, flush = True)\n",
    "    #fig.add_layout(bm.LinearAxis(axis_label='source tokens'), 'above')\n",
    "    #fig.xaxis.ticker = np.arange(len(inp_tokens[0])) + 0.5\n",
    "    #fig.xaxis.major_label_overrides = dict(zip(np.arange(len(inp_tokens[0])) + 0.5, inp_tokens[0]))\n",
    "    #fig.xaxis.major_label_orientation = 45\n",
    "\n",
    "    #fig.add_layout(bm.LinearAxis(axis_label='translation tokens'), 'left')\n",
    "    #fig.yaxis.ticker = np.arange(len(trans_tokens[0])) + 0.5\n",
    "    #fig.yaxis.major_label_overrides = dict(zip(np.arange(len(trans_tokens[0])) + 0.5, trans_tokens[0]))\n",
    "\n",
    "    show(fig)"
   ]
  },
  {
   "cell_type": "code",
   "execution_count": 32,
   "metadata": {},
   "outputs": [
    {
     "ename": "NameError",
     "evalue": "name 'tokenized_texts' is not defined",
     "output_type": "error",
     "traceback": [
      "\u001b[0;31m\u001b[0m",
      "\u001b[0;31mNameError\u001b[0mTraceback (most recent call last)",
      "\u001b[0;32m<ipython-input-32-3d71f6ea3928>\u001b[0m in \u001b[0;36m<module>\u001b[0;34m\u001b[0m\n\u001b[0;32m----> 1\u001b[0;31m \u001b[0mtrans_tokens\u001b[0m \u001b[0;34m=\u001b[0m \u001b[0mtokenized_texts\u001b[0m\u001b[0;34m\u001b[0m\u001b[0;34m\u001b[0m\u001b[0m\n\u001b[0m\u001b[1;32m      2\u001b[0m \u001b[0minp_tokens\u001b[0m \u001b[0;34m=\u001b[0m \u001b[0mtokenized_texts\u001b[0m\u001b[0;34m\u001b[0m\u001b[0;34m\u001b[0m\u001b[0m\n\u001b[1;32m      3\u001b[0m \u001b[0;34m\u001b[0m\u001b[0m\n\u001b[1;32m      4\u001b[0m \u001b[0;32mfor\u001b[0m \u001b[0mii\u001b[0m \u001b[0;32min\u001b[0m \u001b[0;34m[\u001b[0m\u001b[0;36m3\u001b[0m\u001b[0;34m,\u001b[0m \u001b[0;36m9\u001b[0m\u001b[0;34m]\u001b[0m\u001b[0;34m:\u001b[0m\u001b[0;34m\u001b[0m\u001b[0;34m\u001b[0m\u001b[0m\n\u001b[1;32m      5\u001b[0m     \u001b[0mprobs\u001b[0m \u001b[0;34m=\u001b[0m \u001b[0mansw\u001b[0m\u001b[0;34m[\u001b[0m\u001b[0;36m2\u001b[0m\u001b[0;34m]\u001b[0m\u001b[0;34m[\u001b[0m\u001b[0mii\u001b[0m\u001b[0;34m]\u001b[0m\u001b[0;34m[\u001b[0m\u001b[0;36m0\u001b[0m\u001b[0;34m]\u001b[0m\u001b[0;34m[\u001b[0m\u001b[0;36m0\u001b[0m\u001b[0;34m]\u001b[0m\u001b[0;34m.\u001b[0m\u001b[0mdetach\u001b[0m\u001b[0;34m(\u001b[0m\u001b[0;34m)\u001b[0m\u001b[0;34m.\u001b[0m\u001b[0mnumpy\u001b[0m\u001b[0;34m(\u001b[0m\u001b[0;34m)\u001b[0m\u001b[0;34m\u001b[0m\u001b[0;34m\u001b[0m\u001b[0m\n",
      "\u001b[0;31mNameError\u001b[0m: name 'tokenized_texts' is not defined"
     ]
    }
   ],
   "source": [
    "trans_tokens = tokenized_texts\n",
    "inp_tokens = tokenized_texts\n",
    "\n",
    "for ii in [3, 9]:\n",
    "    probs = answ[2][ii][0][0].detach().numpy()\n",
    "\n",
    "    probs = probs[:len(trans_tokens[0]), :len(inp_tokens[0])]\n",
    "    probs = probs[cls_idx:sep_idx, :]\n",
    "    \n",
    "    #nullify sep - need we or not?\n",
    "    #probs1 = np.copy(probs)\n",
    "    #probs1[0] = 0.0\n",
    "    #probs1[:, 0] = 0.0\n",
    "    #probs1[10] = 0.0\n",
    "    #probs1[len(probs)-1] = 0.0\n",
    "    #probs1[:, 10] = 0.0\n",
    "    #probs1[:, len(probs)-1] = 0.0\n",
    "\n",
    "    fig = pl.figure(x_range=(0, len(inp_tokens[0])), y_range=(0, len(trans_tokens[0])),\n",
    "                    x_axis_type=None, y_axis_type=None, tools=[])\n",
    "    fig.image([probs], 0, 0, len(inp_tokens[0]), len(trans_tokens[0]))\n",
    "\n",
    "    fig.add_layout(bm.LinearAxis(axis_label='source tokens'), 'above')\n",
    "    fig.xaxis.ticker = np.arange(len(inp_tokens[0])) + 0.5\n",
    "    fig.xaxis.major_label_overrides = dict(zip(np.arange(len(inp_tokens[0])) + 0.5, inp_tokens[0]))\n",
    "    fig.xaxis.major_label_orientation = 45\n",
    "\n",
    "    fig.add_layout(bm.LinearAxis(axis_label='translation tokens'), 'left')\n",
    "    fig.yaxis.ticker = np.arange(len(trans_tokens[0])) + 0.5\n",
    "    fig.yaxis.major_label_overrides = dict(zip(np.arange(len(trans_tokens[0])) + 0.5, trans_tokens[0]))\n",
    "\n",
    "    show(fig)"
   ]
  },
  {
   "cell_type": "code",
   "execution_count": 203,
   "metadata": {},
   "outputs": [
    {
     "data": {
      "text/plain": [
       "21"
      ]
     },
     "execution_count": 203,
     "metadata": {},
     "output_type": "execute_result"
    }
   ],
   "source": [
    "len(segments_ids)"
   ]
  },
  {
   "cell_type": "code",
   "execution_count": 19,
   "metadata": {},
   "outputs": [
    {
     "ename": "NameError",
     "evalue": "name 'model' is not defined",
     "output_type": "error",
     "traceback": [
      "\u001b[0;31m\u001b[0m",
      "\u001b[0;31mNameError\u001b[0mTraceback (most recent call last)",
      "\u001b[0;32m<ipython-input-19-fc86ee5412dd>\u001b[0m in \u001b[0;36m<module>\u001b[0;34m\u001b[0m\n\u001b[1;32m      1\u001b[0m \u001b[0mtokens_tensor\u001b[0m \u001b[0;34m=\u001b[0m \u001b[0mtorch\u001b[0m\u001b[0;34m.\u001b[0m\u001b[0mtensor\u001b[0m\u001b[0;34m(\u001b[0m\u001b[0;34m[\u001b[0m\u001b[0mindexed_tokens\u001b[0m\u001b[0;34m]\u001b[0m\u001b[0;34m)\u001b[0m\u001b[0;34m\u001b[0m\u001b[0;34m\u001b[0m\u001b[0m\n\u001b[1;32m      2\u001b[0m \u001b[0msegments_tensors\u001b[0m \u001b[0;34m=\u001b[0m \u001b[0mtorch\u001b[0m\u001b[0;34m.\u001b[0m\u001b[0mtensor\u001b[0m\u001b[0;34m(\u001b[0m\u001b[0;34m[\u001b[0m\u001b[0msegments_ids\u001b[0m\u001b[0;34m]\u001b[0m\u001b[0;34m)\u001b[0m\u001b[0;34m\u001b[0m\u001b[0;34m\u001b[0m\u001b[0m\n\u001b[0;32m----> 3\u001b[0;31m \u001b[0mansw\u001b[0m \u001b[0;34m=\u001b[0m \u001b[0mmodel\u001b[0m\u001b[0;34m(\u001b[0m\u001b[0mtokens_tensor\u001b[0m\u001b[0;34m,\u001b[0m \u001b[0msegments_tensors\u001b[0m\u001b[0;34m)\u001b[0m\u001b[0;34m\u001b[0m\u001b[0;34m\u001b[0m\u001b[0m\n\u001b[0m",
      "\u001b[0;31mNameError\u001b[0m: name 'model' is not defined"
     ]
    }
   ],
   "source": [
    "tokens_tensor = torch.tensor([indexed_tokens])\n",
    "segments_tensors = torch.tensor([segments_ids])\n",
    "answ = model(tokens_tensor, segments_tensors)"
   ]
  },
  {
   "cell_type": "code",
   "execution_count": 61,
   "metadata": {},
   "outputs": [
    {
     "data": {
      "text/html": [
       "\n",
       "\n",
       "\n",
       "\n",
       "\n",
       "\n",
       "  <div class=\"bk-root\" id=\"f1a79351-5af6-479c-b7c9-7b3713ad8d31\" data-root-id=\"1138\"></div>\n"
      ]
     },
     "metadata": {},
     "output_type": "display_data"
    },
    {
     "data": {
      "application/javascript": [
       "(function(root) {\n",
       "  function embed_document(root) {\n",
       "    \n",
       "  var docs_json = {\"68d0f167-be43-43bd-80dc-c14874e3c641\":{\"roots\":{\"references\":[{\"attributes\":{\"above\":[{\"id\":\"1155\",\"type\":\"LinearAxis\"}],\"left\":[{\"id\":\"1158\",\"type\":\"LinearAxis\"}],\"renderers\":[{\"id\":\"1153\",\"type\":\"GlyphRenderer\"}],\"title\":{\"id\":\"1173\",\"type\":\"Title\"},\"toolbar\":{\"id\":\"1147\",\"type\":\"Toolbar\"},\"x_range\":{\"id\":\"1139\",\"type\":\"Range1d\"},\"x_scale\":{\"id\":\"1143\",\"type\":\"LinearScale\"},\"y_range\":{\"id\":\"1141\",\"type\":\"Range1d\"},\"y_scale\":{\"id\":\"1145\",\"type\":\"LinearScale\"}},\"id\":\"1138\",\"subtype\":\"Figure\",\"type\":\"Plot\"},{\"attributes\":{\"text\":\"\"},\"id\":\"1173\",\"type\":\"Title\"},{\"attributes\":{\"callback\":null,\"end\":27},\"id\":\"1139\",\"type\":\"Range1d\"},{\"attributes\":{\"palette\":[\"#000000\",\"#252525\",\"#525252\",\"#737373\",\"#969696\",\"#bdbdbd\",\"#d9d9d9\",\"#f0f0f0\",\"#ffffff\"]},\"id\":\"1152\",\"type\":\"LinearColorMapper\"},{\"attributes\":{},\"id\":\"1176\",\"type\":\"BasicTickFormatter\"},{\"attributes\":{\"data_source\":{\"id\":\"1148\",\"type\":\"ColumnDataSource\"},\"glyph\":{\"id\":\"1149\",\"type\":\"Image\"},\"hover_glyph\":null,\"muted_glyph\":null,\"nonselection_glyph\":{\"id\":\"1151\",\"type\":\"Image\"},\"selection_glyph\":null,\"view\":{\"id\":\"1154\",\"type\":\"CDSView\"}},\"id\":\"1153\",\"type\":\"GlyphRenderer\"},{\"attributes\":{\"color_mapper\":{\"id\":\"1150\",\"type\":\"LinearColorMapper\"},\"dh\":{\"units\":\"data\",\"value\":27},\"dw\":{\"units\":\"data\",\"value\":27},\"image\":{\"field\":\"image\"},\"x\":{\"value\":0},\"y\":{\"value\":0}},\"id\":\"1149\",\"type\":\"Image\"},{\"attributes\":{\"color_mapper\":{\"id\":\"1152\",\"type\":\"LinearColorMapper\"},\"dh\":{\"units\":\"data\",\"value\":27},\"dw\":{\"units\":\"data\",\"value\":27},\"image\":{\"field\":\"image\"},\"x\":{\"value\":0},\"y\":{\"value\":0}},\"id\":\"1151\",\"type\":\"Image\"},{\"attributes\":{\"ticks\":[0.5,1.5,2.5,3.5,4.5,5.5,6.5,7.5,8.5,9.5,10.5,11.5,12.5,13.5,14.5,15.5,16.5,17.5,18.5,19.5,20.5,21.5,22.5,23.5,24.5,25.5,26.5]},\"id\":\"1159\",\"type\":\"FixedTicker\"},{\"attributes\":{\"axis_label\":\"translation tokens\",\"formatter\":{\"id\":\"1175\",\"type\":\"BasicTickFormatter\"},\"major_label_overrides\":{\"0.5\":\"[CLS]\",\"1.5\":\"which\",\"10.5\":\"?\",\"11.5\":\"[SEP]\",\"12.5\":\"just\",\"13.5\":\"the\",\"14.5\":\"place\",\"15.5\":\"for\",\"16.5\":\"a\",\"17.5\":\"s\",\"18.5\":\"##nar\",\"19.5\":\"##k\",\"2.5\":\"is\",\"20.5\":\"!\",\"21.5\":\"\\\"\",\"22.5\":\"the\",\"23.5\":\"bell\",\"24.5\":\"##man\",\"25.5\":\"cried\",\"26.5\":\"[SEP]\",\"3.5\":\"better\",\"4.5\":\",\",\"5.5\":\"a\",\"6.5\":\"laptop\",\"7.5\":\"or\",\"8.5\":\"a\",\"9.5\":\"desktop\"},\"ticker\":{\"id\":\"1159\",\"type\":\"FixedTicker\"}},\"id\":\"1158\",\"type\":\"LinearAxis\"},{\"attributes\":{\"axis_label\":\"source tokens\",\"formatter\":{\"id\":\"1176\",\"type\":\"BasicTickFormatter\"},\"major_label_orientation\":45,\"major_label_overrides\":{\"0.5\":\"[CLS]\",\"1.5\":\"which\",\"10.5\":\"?\",\"11.5\":\"[SEP]\",\"12.5\":\"just\",\"13.5\":\"the\",\"14.5\":\"place\",\"15.5\":\"for\",\"16.5\":\"a\",\"17.5\":\"s\",\"18.5\":\"##nar\",\"19.5\":\"##k\",\"2.5\":\"is\",\"20.5\":\"!\",\"21.5\":\"\\\"\",\"22.5\":\"the\",\"23.5\":\"bell\",\"24.5\":\"##man\",\"25.5\":\"cried\",\"26.5\":\"[SEP]\",\"3.5\":\"better\",\"4.5\":\",\",\"5.5\":\"a\",\"6.5\":\"laptop\",\"7.5\":\"or\",\"8.5\":\"a\",\"9.5\":\"desktop\"},\"ticker\":{\"id\":\"1156\",\"type\":\"FixedTicker\"}},\"id\":\"1155\",\"type\":\"LinearAxis\"},{\"attributes\":{},\"id\":\"1177\",\"type\":\"Selection\"},{\"attributes\":{\"ticks\":[0.5,1.5,2.5,3.5,4.5,5.5,6.5,7.5,8.5,9.5,10.5,11.5,12.5,13.5,14.5,15.5,16.5,17.5,18.5,19.5,20.5,21.5,22.5,23.5,24.5,25.5,26.5]},\"id\":\"1156\",\"type\":\"FixedTicker\"},{\"attributes\":{\"source\":{\"id\":\"1148\",\"type\":\"ColumnDataSource\"}},\"id\":\"1154\",\"type\":\"CDSView\"},{\"attributes\":{\"active_drag\":\"auto\",\"active_inspect\":\"auto\",\"active_multi\":null,\"active_scroll\":\"auto\",\"active_tap\":\"auto\"},\"id\":\"1147\",\"type\":\"Toolbar\"},{\"attributes\":{\"callback\":null,\"data\":{\"image\":[{\"__ndarray__\":\"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\",\"dtype\":\"float32\",\"shape\":[23,23]}]},\"selected\":{\"id\":\"1177\",\"type\":\"Selection\"},\"selection_policy\":{\"id\":\"1178\",\"type\":\"UnionRenderers\"}},\"id\":\"1148\",\"type\":\"ColumnDataSource\"},{\"attributes\":{\"palette\":[\"#000000\",\"#252525\",\"#525252\",\"#737373\",\"#969696\",\"#bdbdbd\",\"#d9d9d9\",\"#f0f0f0\",\"#ffffff\"]},\"id\":\"1150\",\"type\":\"LinearColorMapper\"},{\"attributes\":{},\"id\":\"1175\",\"type\":\"BasicTickFormatter\"},{\"attributes\":{},\"id\":\"1143\",\"type\":\"LinearScale\"},{\"attributes\":{},\"id\":\"1178\",\"type\":\"UnionRenderers\"},{\"attributes\":{\"callback\":null,\"end\":27},\"id\":\"1141\",\"type\":\"Range1d\"},{\"attributes\":{},\"id\":\"1145\",\"type\":\"LinearScale\"}],\"root_ids\":[\"1138\"]},\"title\":\"Bokeh Application\",\"version\":\"1.4.0\"}};\n",
       "  var render_items = [{\"docid\":\"68d0f167-be43-43bd-80dc-c14874e3c641\",\"roots\":{\"1138\":\"f1a79351-5af6-479c-b7c9-7b3713ad8d31\"}}];\n",
       "  root.Bokeh.embed.embed_items_notebook(docs_json, render_items);\n",
       "\n",
       "  }\n",
       "  if (root.Bokeh !== undefined) {\n",
       "    embed_document(root);\n",
       "  } else {\n",
       "    var attempts = 0;\n",
       "    var timer = setInterval(function(root) {\n",
       "      if (root.Bokeh !== undefined) {\n",
       "        clearInterval(timer);\n",
       "        embed_document(root);\n",
       "      } else {\n",
       "        attempts++;\n",
       "        if (attempts > 100) {\n",
       "          clearInterval(timer);\n",
       "          console.log(\"Bokeh: ERROR: Unable to run BokehJS code because BokehJS library is missing\");\n",
       "        }\n",
       "      }\n",
       "    }, 10, root)\n",
       "  }\n",
       "})(window);"
      ],
      "application/vnd.bokehjs_exec.v0+json": ""
     },
     "metadata": {
      "application/vnd.bokehjs_exec.v0+json": {
       "id": "1138"
      }
     },
     "output_type": "display_data"
    },
    {
     "data": {
      "text/html": [
       "\n",
       "\n",
       "\n",
       "\n",
       "\n",
       "\n",
       "  <div class=\"bk-root\" id=\"f8524d9c-5908-4d69-a73a-553ba56df0ec\" data-root-id=\"1215\"></div>\n"
      ]
     },
     "metadata": {},
     "output_type": "display_data"
    },
    {
     "data": {
      "application/javascript": [
       "(function(root) {\n",
       "  function embed_document(root) {\n",
       "    \n",
       "  var docs_json = {\"b9b95613-dc84-4e21-b55e-808bc51e6f12\":{\"roots\":{\"references\":[{\"attributes\":{\"above\":[{\"id\":\"1232\",\"type\":\"LinearAxis\"}],\"left\":[{\"id\":\"1235\",\"type\":\"LinearAxis\"}],\"renderers\":[{\"id\":\"1230\",\"type\":\"GlyphRenderer\"}],\"title\":{\"id\":\"1256\",\"type\":\"Title\"},\"toolbar\":{\"id\":\"1224\",\"type\":\"Toolbar\"},\"x_range\":{\"id\":\"1216\",\"type\":\"Range1d\"},\"x_scale\":{\"id\":\"1220\",\"type\":\"LinearScale\"},\"y_range\":{\"id\":\"1218\",\"type\":\"Range1d\"},\"y_scale\":{\"id\":\"1222\",\"type\":\"LinearScale\"}},\"id\":\"1215\",\"subtype\":\"Figure\",\"type\":\"Plot\"},{\"attributes\":{\"axis_label\":\"source tokens\",\"formatter\":{\"id\":\"1259\",\"type\":\"BasicTickFormatter\"},\"major_label_orientation\":45,\"major_label_overrides\":{\"0.5\":\"[CLS]\",\"1.5\":\"which\",\"10.5\":\"?\",\"11.5\":\"[SEP]\",\"12.5\":\"just\",\"13.5\":\"the\",\"14.5\":\"place\",\"15.5\":\"for\",\"16.5\":\"a\",\"17.5\":\"s\",\"18.5\":\"##nar\",\"19.5\":\"##k\",\"2.5\":\"is\",\"20.5\":\"!\",\"21.5\":\"\\\"\",\"22.5\":\"the\",\"23.5\":\"bell\",\"24.5\":\"##man\",\"25.5\":\"cried\",\"26.5\":\"[SEP]\",\"3.5\":\"better\",\"4.5\":\",\",\"5.5\":\"a\",\"6.5\":\"laptop\",\"7.5\":\"or\",\"8.5\":\"a\",\"9.5\":\"desktop\"},\"ticker\":{\"id\":\"1233\",\"type\":\"FixedTicker\"}},\"id\":\"1232\",\"type\":\"LinearAxis\"},{\"attributes\":{\"source\":{\"id\":\"1225\",\"type\":\"ColumnDataSource\"}},\"id\":\"1231\",\"type\":\"CDSView\"},{\"attributes\":{},\"id\":\"1259\",\"type\":\"BasicTickFormatter\"},{\"attributes\":{\"text\":\"\"},\"id\":\"1256\",\"type\":\"Title\"},{\"attributes\":{\"callback\":null,\"end\":27},\"id\":\"1218\",\"type\":\"Range1d\"},{\"attributes\":{\"callback\":null,\"data\":{\"image\":[{\"__ndarray__\":\"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\",\"dtype\":\"float32\",\"shape\":[23,23]}]},\"selected\":{\"id\":\"1260\",\"type\":\"Selection\"},\"selection_policy\":{\"id\":\"1261\",\"type\":\"UnionRenderers\"}},\"id\":\"1225\",\"type\":\"ColumnDataSource\"},{\"attributes\":{},\"id\":\"1261\",\"type\":\"UnionRenderers\"},{\"attributes\":{\"palette\":[\"#000000\",\"#252525\",\"#525252\",\"#737373\",\"#969696\",\"#bdbdbd\",\"#d9d9d9\",\"#f0f0f0\",\"#ffffff\"]},\"id\":\"1229\",\"type\":\"LinearColorMapper\"},{\"attributes\":{\"color_mapper\":{\"id\":\"1229\",\"type\":\"LinearColorMapper\"},\"dh\":{\"units\":\"data\",\"value\":27},\"dw\":{\"units\":\"data\",\"value\":27},\"image\":{\"field\":\"image\"},\"x\":{\"value\":0},\"y\":{\"value\":0}},\"id\":\"1228\",\"type\":\"Image\"},{\"attributes\":{\"ticks\":[0.5,1.5,2.5,3.5,4.5,5.5,6.5,7.5,8.5,9.5,10.5,11.5,12.5,13.5,14.5,15.5,16.5,17.5,18.5,19.5,20.5,21.5,22.5,23.5,24.5,25.5,26.5]},\"id\":\"1236\",\"type\":\"FixedTicker\"},{\"attributes\":{\"data_source\":{\"id\":\"1225\",\"type\":\"ColumnDataSource\"},\"glyph\":{\"id\":\"1226\",\"type\":\"Image\"},\"hover_glyph\":null,\"muted_glyph\":null,\"nonselection_glyph\":{\"id\":\"1228\",\"type\":\"Image\"},\"selection_glyph\":null,\"view\":{\"id\":\"1231\",\"type\":\"CDSView\"}},\"id\":\"1230\",\"type\":\"GlyphRenderer\"},{\"attributes\":{},\"id\":\"1222\",\"type\":\"LinearScale\"},{\"attributes\":{\"ticks\":[0.5,1.5,2.5,3.5,4.5,5.5,6.5,7.5,8.5,9.5,10.5,11.5,12.5,13.5,14.5,15.5,16.5,17.5,18.5,19.5,20.5,21.5,22.5,23.5,24.5,25.5,26.5]},\"id\":\"1233\",\"type\":\"FixedTicker\"},{\"attributes\":{\"axis_label\":\"translation tokens\",\"formatter\":{\"id\":\"1258\",\"type\":\"BasicTickFormatter\"},\"major_label_overrides\":{\"0.5\":\"[CLS]\",\"1.5\":\"which\",\"10.5\":\"?\",\"11.5\":\"[SEP]\",\"12.5\":\"just\",\"13.5\":\"the\",\"14.5\":\"place\",\"15.5\":\"for\",\"16.5\":\"a\",\"17.5\":\"s\",\"18.5\":\"##nar\",\"19.5\":\"##k\",\"2.5\":\"is\",\"20.5\":\"!\",\"21.5\":\"\\\"\",\"22.5\":\"the\",\"23.5\":\"bell\",\"24.5\":\"##man\",\"25.5\":\"cried\",\"26.5\":\"[SEP]\",\"3.5\":\"better\",\"4.5\":\",\",\"5.5\":\"a\",\"6.5\":\"laptop\",\"7.5\":\"or\",\"8.5\":\"a\",\"9.5\":\"desktop\"},\"ticker\":{\"id\":\"1236\",\"type\":\"FixedTicker\"}},\"id\":\"1235\",\"type\":\"LinearAxis\"},{\"attributes\":{\"palette\":[\"#000000\",\"#252525\",\"#525252\",\"#737373\",\"#969696\",\"#bdbdbd\",\"#d9d9d9\",\"#f0f0f0\",\"#ffffff\"]},\"id\":\"1227\",\"type\":\"LinearColorMapper\"},{\"attributes\":{\"callback\":null,\"end\":27},\"id\":\"1216\",\"type\":\"Range1d\"},{\"attributes\":{\"active_drag\":\"auto\",\"active_inspect\":\"auto\",\"active_multi\":null,\"active_scroll\":\"auto\",\"active_tap\":\"auto\"},\"id\":\"1224\",\"type\":\"Toolbar\"},{\"attributes\":{},\"id\":\"1258\",\"type\":\"BasicTickFormatter\"},{\"attributes\":{},\"id\":\"1220\",\"type\":\"LinearScale\"},{\"attributes\":{},\"id\":\"1260\",\"type\":\"Selection\"},{\"attributes\":{\"color_mapper\":{\"id\":\"1227\",\"type\":\"LinearColorMapper\"},\"dh\":{\"units\":\"data\",\"value\":27},\"dw\":{\"units\":\"data\",\"value\":27},\"image\":{\"field\":\"image\"},\"x\":{\"value\":0},\"y\":{\"value\":0}},\"id\":\"1226\",\"type\":\"Image\"}],\"root_ids\":[\"1215\"]},\"title\":\"Bokeh Application\",\"version\":\"1.4.0\"}};\n",
       "  var render_items = [{\"docid\":\"b9b95613-dc84-4e21-b55e-808bc51e6f12\",\"roots\":{\"1215\":\"f8524d9c-5908-4d69-a73a-553ba56df0ec\"}}];\n",
       "  root.Bokeh.embed.embed_items_notebook(docs_json, render_items);\n",
       "\n",
       "  }\n",
       "  if (root.Bokeh !== undefined) {\n",
       "    embed_document(root);\n",
       "  } else {\n",
       "    var attempts = 0;\n",
       "    var timer = setInterval(function(root) {\n",
       "      if (root.Bokeh !== undefined) {\n",
       "        clearInterval(timer);\n",
       "        embed_document(root);\n",
       "      } else {\n",
       "        attempts++;\n",
       "        if (attempts > 100) {\n",
       "          clearInterval(timer);\n",
       "          console.log(\"Bokeh: ERROR: Unable to run BokehJS code because BokehJS library is missing\");\n",
       "        }\n",
       "      }\n",
       "    }, 10, root)\n",
       "  }\n",
       "})(window);"
      ],
      "application/vnd.bokehjs_exec.v0+json": ""
     },
     "metadata": {
      "application/vnd.bokehjs_exec.v0+json": {
       "id": "1215"
      }
     },
     "output_type": "display_data"
    },
    {
     "data": {
      "text/html": [
       "\n",
       "\n",
       "\n",
       "\n",
       "\n",
       "\n",
       "  <div class=\"bk-root\" id=\"6eafda18-9ec2-4714-aae3-1fde8d107f55\" data-root-id=\"1298\"></div>\n"
      ]
     },
     "metadata": {},
     "output_type": "display_data"
    },
    {
     "data": {
      "application/javascript": [
       "(function(root) {\n",
       "  function embed_document(root) {\n",
       "    \n",
       "  var docs_json = {\"3c71bb66-edd9-4ca6-a520-6e6a2615764d\":{\"roots\":{\"references\":[{\"attributes\":{\"above\":[{\"id\":\"1315\",\"type\":\"LinearAxis\"}],\"left\":[{\"id\":\"1318\",\"type\":\"LinearAxis\"}],\"renderers\":[{\"id\":\"1313\",\"type\":\"GlyphRenderer\"}],\"title\":{\"id\":\"1345\",\"type\":\"Title\"},\"toolbar\":{\"id\":\"1307\",\"type\":\"Toolbar\"},\"x_range\":{\"id\":\"1299\",\"type\":\"Range1d\"},\"x_scale\":{\"id\":\"1303\",\"type\":\"LinearScale\"},\"y_range\":{\"id\":\"1301\",\"type\":\"Range1d\"},\"y_scale\":{\"id\":\"1305\",\"type\":\"LinearScale\"}},\"id\":\"1298\",\"subtype\":\"Figure\",\"type\":\"Plot\"},{\"attributes\":{\"callback\":null,\"end\":27},\"id\":\"1299\",\"type\":\"Range1d\"},{\"attributes\":{\"axis_label\":\"translation tokens\",\"formatter\":{\"id\":\"1347\",\"type\":\"BasicTickFormatter\"},\"major_label_overrides\":{\"0.5\":\"[CLS]\",\"1.5\":\"which\",\"10.5\":\"?\",\"11.5\":\"[SEP]\",\"12.5\":\"just\",\"13.5\":\"the\",\"14.5\":\"place\",\"15.5\":\"for\",\"16.5\":\"a\",\"17.5\":\"s\",\"18.5\":\"##nar\",\"19.5\":\"##k\",\"2.5\":\"is\",\"20.5\":\"!\",\"21.5\":\"\\\"\",\"22.5\":\"the\",\"23.5\":\"bell\",\"24.5\":\"##man\",\"25.5\":\"cried\",\"26.5\":\"[SEP]\",\"3.5\":\"better\",\"4.5\":\",\",\"5.5\":\"a\",\"6.5\":\"laptop\",\"7.5\":\"or\",\"8.5\":\"a\",\"9.5\":\"desktop\"},\"ticker\":{\"id\":\"1319\",\"type\":\"FixedTicker\"}},\"id\":\"1318\",\"type\":\"LinearAxis\"},{\"attributes\":{\"ticks\":[0.5,1.5,2.5,3.5,4.5,5.5,6.5,7.5,8.5,9.5,10.5,11.5,12.5,13.5,14.5,15.5,16.5,17.5,18.5,19.5,20.5,21.5,22.5,23.5,24.5,25.5,26.5]},\"id\":\"1319\",\"type\":\"FixedTicker\"},{\"attributes\":{},\"id\":\"1305\",\"type\":\"LinearScale\"},{\"attributes\":{\"callback\":null,\"end\":27},\"id\":\"1301\",\"type\":\"Range1d\"},{\"attributes\":{\"source\":{\"id\":\"1308\",\"type\":\"ColumnDataSource\"}},\"id\":\"1314\",\"type\":\"CDSView\"},{\"attributes\":{\"axis_label\":\"source tokens\",\"formatter\":{\"id\":\"1348\",\"type\":\"BasicTickFormatter\"},\"major_label_orientation\":45,\"major_label_overrides\":{\"0.5\":\"[CLS]\",\"1.5\":\"which\",\"10.5\":\"?\",\"11.5\":\"[SEP]\",\"12.5\":\"just\",\"13.5\":\"the\",\"14.5\":\"place\",\"15.5\":\"for\",\"16.5\":\"a\",\"17.5\":\"s\",\"18.5\":\"##nar\",\"19.5\":\"##k\",\"2.5\":\"is\",\"20.5\":\"!\",\"21.5\":\"\\\"\",\"22.5\":\"the\",\"23.5\":\"bell\",\"24.5\":\"##man\",\"25.5\":\"cried\",\"26.5\":\"[SEP]\",\"3.5\":\"better\",\"4.5\":\",\",\"5.5\":\"a\",\"6.5\":\"laptop\",\"7.5\":\"or\",\"8.5\":\"a\",\"9.5\":\"desktop\"},\"ticker\":{\"id\":\"1316\",\"type\":\"FixedTicker\"}},\"id\":\"1315\",\"type\":\"LinearAxis\"},{\"attributes\":{},\"id\":\"1349\",\"type\":\"Selection\"},{\"attributes\":{\"palette\":[\"#000000\",\"#252525\",\"#525252\",\"#737373\",\"#969696\",\"#bdbdbd\",\"#d9d9d9\",\"#f0f0f0\",\"#ffffff\"]},\"id\":\"1312\",\"type\":\"LinearColorMapper\"},{\"attributes\":{\"ticks\":[0.5,1.5,2.5,3.5,4.5,5.5,6.5,7.5,8.5,9.5,10.5,11.5,12.5,13.5,14.5,15.5,16.5,17.5,18.5,19.5,20.5,21.5,22.5,23.5,24.5,25.5,26.5]},\"id\":\"1316\",\"type\":\"FixedTicker\"},{\"attributes\":{\"color_mapper\":{\"id\":\"1312\",\"type\":\"LinearColorMapper\"},\"dh\":{\"units\":\"data\",\"value\":27},\"dw\":{\"units\":\"data\",\"value\":27},\"image\":{\"field\":\"image\"},\"x\":{\"value\":0},\"y\":{\"value\":0}},\"id\":\"1311\",\"type\":\"Image\"},{\"attributes\":{\"text\":\"\"},\"id\":\"1345\",\"type\":\"Title\"},{\"attributes\":{\"palette\":[\"#000000\",\"#252525\",\"#525252\",\"#737373\",\"#969696\",\"#bdbdbd\",\"#d9d9d9\",\"#f0f0f0\",\"#ffffff\"]},\"id\":\"1310\",\"type\":\"LinearColorMapper\"},{\"attributes\":{\"data_source\":{\"id\":\"1308\",\"type\":\"ColumnDataSource\"},\"glyph\":{\"id\":\"1309\",\"type\":\"Image\"},\"hover_glyph\":null,\"muted_glyph\":null,\"nonselection_glyph\":{\"id\":\"1311\",\"type\":\"Image\"},\"selection_glyph\":null,\"view\":{\"id\":\"1314\",\"type\":\"CDSView\"}},\"id\":\"1313\",\"type\":\"GlyphRenderer\"},{\"attributes\":{},\"id\":\"1350\",\"type\":\"UnionRenderers\"},{\"attributes\":{\"callback\":null,\"data\":{\"image\":[{\"__ndarray__\":\"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\",\"dtype\":\"float32\",\"shape\":[23,23]}]},\"selected\":{\"id\":\"1349\",\"type\":\"Selection\"},\"selection_policy\":{\"id\":\"1350\",\"type\":\"UnionRenderers\"}},\"id\":\"1308\",\"type\":\"ColumnDataSource\"},{\"attributes\":{},\"id\":\"1348\",\"type\":\"BasicTickFormatter\"},{\"attributes\":{},\"id\":\"1347\",\"type\":\"BasicTickFormatter\"},{\"attributes\":{\"active_drag\":\"auto\",\"active_inspect\":\"auto\",\"active_multi\":null,\"active_scroll\":\"auto\",\"active_tap\":\"auto\"},\"id\":\"1307\",\"type\":\"Toolbar\"},{\"attributes\":{\"color_mapper\":{\"id\":\"1310\",\"type\":\"LinearColorMapper\"},\"dh\":{\"units\":\"data\",\"value\":27},\"dw\":{\"units\":\"data\",\"value\":27},\"image\":{\"field\":\"image\"},\"x\":{\"value\":0},\"y\":{\"value\":0}},\"id\":\"1309\",\"type\":\"Image\"},{\"attributes\":{},\"id\":\"1303\",\"type\":\"LinearScale\"}],\"root_ids\":[\"1298\"]},\"title\":\"Bokeh Application\",\"version\":\"1.4.0\"}};\n",
       "  var render_items = [{\"docid\":\"3c71bb66-edd9-4ca6-a520-6e6a2615764d\",\"roots\":{\"1298\":\"6eafda18-9ec2-4714-aae3-1fde8d107f55\"}}];\n",
       "  root.Bokeh.embed.embed_items_notebook(docs_json, render_items);\n",
       "\n",
       "  }\n",
       "  if (root.Bokeh !== undefined) {\n",
       "    embed_document(root);\n",
       "  } else {\n",
       "    var attempts = 0;\n",
       "    var timer = setInterval(function(root) {\n",
       "      if (root.Bokeh !== undefined) {\n",
       "        clearInterval(timer);\n",
       "        embed_document(root);\n",
       "      } else {\n",
       "        attempts++;\n",
       "        if (attempts > 100) {\n",
       "          clearInterval(timer);\n",
       "          console.log(\"Bokeh: ERROR: Unable to run BokehJS code because BokehJS library is missing\");\n",
       "        }\n",
       "      }\n",
       "    }, 10, root)\n",
       "  }\n",
       "})(window);"
      ],
      "application/vnd.bokehjs_exec.v0+json": ""
     },
     "metadata": {
      "application/vnd.bokehjs_exec.v0+json": {
       "id": "1298"
      }
     },
     "output_type": "display_data"
    },
    {
     "data": {
      "text/html": [
       "\n",
       "\n",
       "\n",
       "\n",
       "\n",
       "\n",
       "  <div class=\"bk-root\" id=\"aa51649b-3ebf-4c30-b0a0-f8cb9fa08342\" data-root-id=\"1387\"></div>\n"
      ]
     },
     "metadata": {},
     "output_type": "display_data"
    },
    {
     "data": {
      "application/javascript": [
       "(function(root) {\n",
       "  function embed_document(root) {\n",
       "    \n",
       "  var docs_json = {\"65470e11-ae01-44d0-a069-6cc4431820f3\":{\"roots\":{\"references\":[{\"attributes\":{\"above\":[{\"id\":\"1404\",\"type\":\"LinearAxis\"}],\"left\":[{\"id\":\"1407\",\"type\":\"LinearAxis\"}],\"renderers\":[{\"id\":\"1402\",\"type\":\"GlyphRenderer\"}],\"title\":{\"id\":\"1440\",\"type\":\"Title\"},\"toolbar\":{\"id\":\"1396\",\"type\":\"Toolbar\"},\"x_range\":{\"id\":\"1388\",\"type\":\"Range1d\"},\"x_scale\":{\"id\":\"1392\",\"type\":\"LinearScale\"},\"y_range\":{\"id\":\"1390\",\"type\":\"Range1d\"},\"y_scale\":{\"id\":\"1394\",\"type\":\"LinearScale\"}},\"id\":\"1387\",\"subtype\":\"Figure\",\"type\":\"Plot\"},{\"attributes\":{},\"id\":\"1442\",\"type\":\"BasicTickFormatter\"},{\"attributes\":{},\"id\":\"1443\",\"type\":\"BasicTickFormatter\"},{\"attributes\":{\"palette\":[\"#000000\",\"#252525\",\"#525252\",\"#737373\",\"#969696\",\"#bdbdbd\",\"#d9d9d9\",\"#f0f0f0\",\"#ffffff\"]},\"id\":\"1399\",\"type\":\"LinearColorMapper\"},{\"attributes\":{\"axis_label\":\"translation tokens\",\"formatter\":{\"id\":\"1442\",\"type\":\"BasicTickFormatter\"},\"major_label_overrides\":{\"0.5\":\"[CLS]\",\"1.5\":\"which\",\"10.5\":\"?\",\"11.5\":\"[SEP]\",\"12.5\":\"just\",\"13.5\":\"the\",\"14.5\":\"place\",\"15.5\":\"for\",\"16.5\":\"a\",\"17.5\":\"s\",\"18.5\":\"##nar\",\"19.5\":\"##k\",\"2.5\":\"is\",\"20.5\":\"!\",\"21.5\":\"\\\"\",\"22.5\":\"the\",\"23.5\":\"bell\",\"24.5\":\"##man\",\"25.5\":\"cried\",\"26.5\":\"[SEP]\",\"3.5\":\"better\",\"4.5\":\",\",\"5.5\":\"a\",\"6.5\":\"laptop\",\"7.5\":\"or\",\"8.5\":\"a\",\"9.5\":\"desktop\"},\"ticker\":{\"id\":\"1408\",\"type\":\"FixedTicker\"}},\"id\":\"1407\",\"type\":\"LinearAxis\"},{\"attributes\":{\"callback\":null,\"end\":27},\"id\":\"1390\",\"type\":\"Range1d\"},{\"attributes\":{\"axis_label\":\"source tokens\",\"formatter\":{\"id\":\"1443\",\"type\":\"BasicTickFormatter\"},\"major_label_orientation\":45,\"major_label_overrides\":{\"0.5\":\"[CLS]\",\"1.5\":\"which\",\"10.5\":\"?\",\"11.5\":\"[SEP]\",\"12.5\":\"just\",\"13.5\":\"the\",\"14.5\":\"place\",\"15.5\":\"for\",\"16.5\":\"a\",\"17.5\":\"s\",\"18.5\":\"##nar\",\"19.5\":\"##k\",\"2.5\":\"is\",\"20.5\":\"!\",\"21.5\":\"\\\"\",\"22.5\":\"the\",\"23.5\":\"bell\",\"24.5\":\"##man\",\"25.5\":\"cried\",\"26.5\":\"[SEP]\",\"3.5\":\"better\",\"4.5\":\",\",\"5.5\":\"a\",\"6.5\":\"laptop\",\"7.5\":\"or\",\"8.5\":\"a\",\"9.5\":\"desktop\"},\"ticker\":{\"id\":\"1405\",\"type\":\"FixedTicker\"}},\"id\":\"1404\",\"type\":\"LinearAxis\"},{\"attributes\":{\"callback\":null,\"end\":27},\"id\":\"1388\",\"type\":\"Range1d\"},{\"attributes\":{\"ticks\":[0.5,1.5,2.5,3.5,4.5,5.5,6.5,7.5,8.5,9.5,10.5,11.5,12.5,13.5,14.5,15.5,16.5,17.5,18.5,19.5,20.5,21.5,22.5,23.5,24.5,25.5,26.5]},\"id\":\"1405\",\"type\":\"FixedTicker\"},{\"attributes\":{},\"id\":\"1444\",\"type\":\"Selection\"},{\"attributes\":{\"text\":\"\"},\"id\":\"1440\",\"type\":\"Title\"},{\"attributes\":{},\"id\":\"1394\",\"type\":\"LinearScale\"},{\"attributes\":{\"palette\":[\"#000000\",\"#252525\",\"#525252\",\"#737373\",\"#969696\",\"#bdbdbd\",\"#d9d9d9\",\"#f0f0f0\",\"#ffffff\"]},\"id\":\"1401\",\"type\":\"LinearColorMapper\"},{\"attributes\":{\"callback\":null,\"data\":{\"image\":[{\"__ndarray__\":\"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\",\"dtype\":\"float32\",\"shape\":[23,23]}]},\"selected\":{\"id\":\"1444\",\"type\":\"Selection\"},\"selection_policy\":{\"id\":\"1445\",\"type\":\"UnionRenderers\"}},\"id\":\"1397\",\"type\":\"ColumnDataSource\"},{\"attributes\":{\"active_drag\":\"auto\",\"active_inspect\":\"auto\",\"active_multi\":null,\"active_scroll\":\"auto\",\"active_tap\":\"auto\"},\"id\":\"1396\",\"type\":\"Toolbar\"},{\"attributes\":{\"color_mapper\":{\"id\":\"1401\",\"type\":\"LinearColorMapper\"},\"dh\":{\"units\":\"data\",\"value\":27},\"dw\":{\"units\":\"data\",\"value\":27},\"image\":{\"field\":\"image\"},\"x\":{\"value\":0},\"y\":{\"value\":0}},\"id\":\"1400\",\"type\":\"Image\"},{\"attributes\":{\"color_mapper\":{\"id\":\"1399\",\"type\":\"LinearColorMapper\"},\"dh\":{\"units\":\"data\",\"value\":27},\"dw\":{\"units\":\"data\",\"value\":27},\"image\":{\"field\":\"image\"},\"x\":{\"value\":0},\"y\":{\"value\":0}},\"id\":\"1398\",\"type\":\"Image\"},{\"attributes\":{},\"id\":\"1392\",\"type\":\"LinearScale\"},{\"attributes\":{\"data_source\":{\"id\":\"1397\",\"type\":\"ColumnDataSource\"},\"glyph\":{\"id\":\"1398\",\"type\":\"Image\"},\"hover_glyph\":null,\"muted_glyph\":null,\"nonselection_glyph\":{\"id\":\"1400\",\"type\":\"Image\"},\"selection_glyph\":null,\"view\":{\"id\":\"1403\",\"type\":\"CDSView\"}},\"id\":\"1402\",\"type\":\"GlyphRenderer\"},{\"attributes\":{\"ticks\":[0.5,1.5,2.5,3.5,4.5,5.5,6.5,7.5,8.5,9.5,10.5,11.5,12.5,13.5,14.5,15.5,16.5,17.5,18.5,19.5,20.5,21.5,22.5,23.5,24.5,25.5,26.5]},\"id\":\"1408\",\"type\":\"FixedTicker\"},{\"attributes\":{},\"id\":\"1445\",\"type\":\"UnionRenderers\"},{\"attributes\":{\"source\":{\"id\":\"1397\",\"type\":\"ColumnDataSource\"}},\"id\":\"1403\",\"type\":\"CDSView\"}],\"root_ids\":[\"1387\"]},\"title\":\"Bokeh Application\",\"version\":\"1.4.0\"}};\n",
       "  var render_items = [{\"docid\":\"65470e11-ae01-44d0-a069-6cc4431820f3\",\"roots\":{\"1387\":\"aa51649b-3ebf-4c30-b0a0-f8cb9fa08342\"}}];\n",
       "  root.Bokeh.embed.embed_items_notebook(docs_json, render_items);\n",
       "\n",
       "  }\n",
       "  if (root.Bokeh !== undefined) {\n",
       "    embed_document(root);\n",
       "  } else {\n",
       "    var attempts = 0;\n",
       "    var timer = setInterval(function(root) {\n",
       "      if (root.Bokeh !== undefined) {\n",
       "        clearInterval(timer);\n",
       "        embed_document(root);\n",
       "      } else {\n",
       "        attempts++;\n",
       "        if (attempts > 100) {\n",
       "          clearInterval(timer);\n",
       "          console.log(\"Bokeh: ERROR: Unable to run BokehJS code because BokehJS library is missing\");\n",
       "        }\n",
       "      }\n",
       "    }, 10, root)\n",
       "  }\n",
       "})(window);"
      ],
      "application/vnd.bokehjs_exec.v0+json": ""
     },
     "metadata": {
      "application/vnd.bokehjs_exec.v0+json": {
       "id": "1387"
      }
     },
     "output_type": "display_data"
    },
    {
     "data": {
      "text/html": [
       "\n",
       "\n",
       "\n",
       "\n",
       "\n",
       "\n",
       "  <div class=\"bk-root\" id=\"e5547147-460f-4b2b-ad88-fa154ad63a8a\" data-root-id=\"1482\"></div>\n"
      ]
     },
     "metadata": {},
     "output_type": "display_data"
    },
    {
     "data": {
      "application/javascript": [
       "(function(root) {\n",
       "  function embed_document(root) {\n",
       "    \n",
       "  var docs_json = {\"8ea521fb-892c-4106-9d3f-a614f7f60d4f\":{\"roots\":{\"references\":[{\"attributes\":{\"above\":[{\"id\":\"1499\",\"type\":\"LinearAxis\"}],\"left\":[{\"id\":\"1502\",\"type\":\"LinearAxis\"}],\"renderers\":[{\"id\":\"1497\",\"type\":\"GlyphRenderer\"}],\"title\":{\"id\":\"1541\",\"type\":\"Title\"},\"toolbar\":{\"id\":\"1491\",\"type\":\"Toolbar\"},\"x_range\":{\"id\":\"1483\",\"type\":\"Range1d\"},\"x_scale\":{\"id\":\"1487\",\"type\":\"LinearScale\"},\"y_range\":{\"id\":\"1485\",\"type\":\"Range1d\"},\"y_scale\":{\"id\":\"1489\",\"type\":\"LinearScale\"}},\"id\":\"1482\",\"subtype\":\"Figure\",\"type\":\"Plot\"},{\"attributes\":{\"color_mapper\":{\"id\":\"1496\",\"type\":\"LinearColorMapper\"},\"dh\":{\"units\":\"data\",\"value\":27},\"dw\":{\"units\":\"data\",\"value\":27},\"image\":{\"field\":\"image\"},\"x\":{\"value\":0},\"y\":{\"value\":0}},\"id\":\"1495\",\"type\":\"Image\"},{\"attributes\":{\"text\":\"\"},\"id\":\"1541\",\"type\":\"Title\"},{\"attributes\":{\"source\":{\"id\":\"1492\",\"type\":\"ColumnDataSource\"}},\"id\":\"1498\",\"type\":\"CDSView\"},{\"attributes\":{\"ticks\":[0.5,1.5,2.5,3.5,4.5,5.5,6.5,7.5,8.5,9.5,10.5,11.5,12.5,13.5,14.5,15.5,16.5,17.5,18.5,19.5,20.5,21.5,22.5,23.5,24.5,25.5,26.5]},\"id\":\"1500\",\"type\":\"FixedTicker\"},{\"attributes\":{\"axis_label\":\"source tokens\",\"formatter\":{\"id\":\"1544\",\"type\":\"BasicTickFormatter\"},\"major_label_orientation\":45,\"major_label_overrides\":{\"0.5\":\"[CLS]\",\"1.5\":\"which\",\"10.5\":\"?\",\"11.5\":\"[SEP]\",\"12.5\":\"just\",\"13.5\":\"the\",\"14.5\":\"place\",\"15.5\":\"for\",\"16.5\":\"a\",\"17.5\":\"s\",\"18.5\":\"##nar\",\"19.5\":\"##k\",\"2.5\":\"is\",\"20.5\":\"!\",\"21.5\":\"\\\"\",\"22.5\":\"the\",\"23.5\":\"bell\",\"24.5\":\"##man\",\"25.5\":\"cried\",\"26.5\":\"[SEP]\",\"3.5\":\"better\",\"4.5\":\",\",\"5.5\":\"a\",\"6.5\":\"laptop\",\"7.5\":\"or\",\"8.5\":\"a\",\"9.5\":\"desktop\"},\"ticker\":{\"id\":\"1500\",\"type\":\"FixedTicker\"}},\"id\":\"1499\",\"type\":\"LinearAxis\"},{\"attributes\":{\"axis_label\":\"translation tokens\",\"formatter\":{\"id\":\"1543\",\"type\":\"BasicTickFormatter\"},\"major_label_overrides\":{\"0.5\":\"[CLS]\",\"1.5\":\"which\",\"10.5\":\"?\",\"11.5\":\"[SEP]\",\"12.5\":\"just\",\"13.5\":\"the\",\"14.5\":\"place\",\"15.5\":\"for\",\"16.5\":\"a\",\"17.5\":\"s\",\"18.5\":\"##nar\",\"19.5\":\"##k\",\"2.5\":\"is\",\"20.5\":\"!\",\"21.5\":\"\\\"\",\"22.5\":\"the\",\"23.5\":\"bell\",\"24.5\":\"##man\",\"25.5\":\"cried\",\"26.5\":\"[SEP]\",\"3.5\":\"better\",\"4.5\":\",\",\"5.5\":\"a\",\"6.5\":\"laptop\",\"7.5\":\"or\",\"8.5\":\"a\",\"9.5\":\"desktop\"},\"ticker\":{\"id\":\"1503\",\"type\":\"FixedTicker\"}},\"id\":\"1502\",\"type\":\"LinearAxis\"},{\"attributes\":{},\"id\":\"1545\",\"type\":\"Selection\"},{\"attributes\":{\"palette\":[\"#000000\",\"#252525\",\"#525252\",\"#737373\",\"#969696\",\"#bdbdbd\",\"#d9d9d9\",\"#f0f0f0\",\"#ffffff\"]},\"id\":\"1496\",\"type\":\"LinearColorMapper\"},{\"attributes\":{},\"id\":\"1544\",\"type\":\"BasicTickFormatter\"},{\"attributes\":{\"palette\":[\"#000000\",\"#252525\",\"#525252\",\"#737373\",\"#969696\",\"#bdbdbd\",\"#d9d9d9\",\"#f0f0f0\",\"#ffffff\"]},\"id\":\"1494\",\"type\":\"LinearColorMapper\"},{\"attributes\":{\"data_source\":{\"id\":\"1492\",\"type\":\"ColumnDataSource\"},\"glyph\":{\"id\":\"1493\",\"type\":\"Image\"},\"hover_glyph\":null,\"muted_glyph\":null,\"nonselection_glyph\":{\"id\":\"1495\",\"type\":\"Image\"},\"selection_glyph\":null,\"view\":{\"id\":\"1498\",\"type\":\"CDSView\"}},\"id\":\"1497\",\"type\":\"GlyphRenderer\"},{\"attributes\":{\"callback\":null,\"data\":{\"image\":[{\"__ndarray__\":\"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\",\"dtype\":\"float32\",\"shape\":[23,23]}]},\"selected\":{\"id\":\"1545\",\"type\":\"Selection\"},\"selection_policy\":{\"id\":\"1546\",\"type\":\"UnionRenderers\"}},\"id\":\"1492\",\"type\":\"ColumnDataSource\"},{\"attributes\":{\"color_mapper\":{\"id\":\"1494\",\"type\":\"LinearColorMapper\"},\"dh\":{\"units\":\"data\",\"value\":27},\"dw\":{\"units\":\"data\",\"value\":27},\"image\":{\"field\":\"image\"},\"x\":{\"value\":0},\"y\":{\"value\":0}},\"id\":\"1493\",\"type\":\"Image\"},{\"attributes\":{\"active_drag\":\"auto\",\"active_inspect\":\"auto\",\"active_multi\":null,\"active_scroll\":\"auto\",\"active_tap\":\"auto\"},\"id\":\"1491\",\"type\":\"Toolbar\"},{\"attributes\":{\"ticks\":[0.5,1.5,2.5,3.5,4.5,5.5,6.5,7.5,8.5,9.5,10.5,11.5,12.5,13.5,14.5,15.5,16.5,17.5,18.5,19.5,20.5,21.5,22.5,23.5,24.5,25.5,26.5]},\"id\":\"1503\",\"type\":\"FixedTicker\"},{\"attributes\":{},\"id\":\"1487\",\"type\":\"LinearScale\"},{\"attributes\":{},\"id\":\"1546\",\"type\":\"UnionRenderers\"},{\"attributes\":{},\"id\":\"1489\",\"type\":\"LinearScale\"},{\"attributes\":{\"callback\":null,\"end\":27},\"id\":\"1485\",\"type\":\"Range1d\"},{\"attributes\":{\"callback\":null,\"end\":27},\"id\":\"1483\",\"type\":\"Range1d\"},{\"attributes\":{},\"id\":\"1543\",\"type\":\"BasicTickFormatter\"}],\"root_ids\":[\"1482\"]},\"title\":\"Bokeh Application\",\"version\":\"1.4.0\"}};\n",
       "  var render_items = [{\"docid\":\"8ea521fb-892c-4106-9d3f-a614f7f60d4f\",\"roots\":{\"1482\":\"e5547147-460f-4b2b-ad88-fa154ad63a8a\"}}];\n",
       "  root.Bokeh.embed.embed_items_notebook(docs_json, render_items);\n",
       "\n",
       "  }\n",
       "  if (root.Bokeh !== undefined) {\n",
       "    embed_document(root);\n",
       "  } else {\n",
       "    var attempts = 0;\n",
       "    var timer = setInterval(function(root) {\n",
       "      if (root.Bokeh !== undefined) {\n",
       "        clearInterval(timer);\n",
       "        embed_document(root);\n",
       "      } else {\n",
       "        attempts++;\n",
       "        if (attempts > 100) {\n",
       "          clearInterval(timer);\n",
       "          console.log(\"Bokeh: ERROR: Unable to run BokehJS code because BokehJS library is missing\");\n",
       "        }\n",
       "      }\n",
       "    }, 10, root)\n",
       "  }\n",
       "})(window);"
      ],
      "application/vnd.bokehjs_exec.v0+json": ""
     },
     "metadata": {
      "application/vnd.bokehjs_exec.v0+json": {
       "id": "1482"
      }
     },
     "output_type": "display_data"
    },
    {
     "data": {
      "text/html": [
       "\n",
       "\n",
       "\n",
       "\n",
       "\n",
       "\n",
       "  <div class=\"bk-root\" id=\"970934dc-adc2-45cc-be28-9c49a52e0df0\" data-root-id=\"1583\"></div>\n"
      ]
     },
     "metadata": {},
     "output_type": "display_data"
    },
    {
     "data": {
      "application/javascript": [
       "(function(root) {\n",
       "  function embed_document(root) {\n",
       "    \n",
       "  var docs_json = {\"6450b64b-218f-4e26-a2b0-3be24f08f59a\":{\"roots\":{\"references\":[{\"attributes\":{\"above\":[{\"id\":\"1600\",\"type\":\"LinearAxis\"}],\"left\":[{\"id\":\"1603\",\"type\":\"LinearAxis\"}],\"renderers\":[{\"id\":\"1598\",\"type\":\"GlyphRenderer\"}],\"title\":{\"id\":\"1648\",\"type\":\"Title\"},\"toolbar\":{\"id\":\"1592\",\"type\":\"Toolbar\"},\"x_range\":{\"id\":\"1584\",\"type\":\"Range1d\"},\"x_scale\":{\"id\":\"1588\",\"type\":\"LinearScale\"},\"y_range\":{\"id\":\"1586\",\"type\":\"Range1d\"},\"y_scale\":{\"id\":\"1590\",\"type\":\"LinearScale\"}},\"id\":\"1583\",\"subtype\":\"Figure\",\"type\":\"Plot\"},{\"attributes\":{},\"id\":\"1650\",\"type\":\"BasicTickFormatter\"},{\"attributes\":{\"axis_label\":\"source tokens\",\"formatter\":{\"id\":\"1651\",\"type\":\"BasicTickFormatter\"},\"major_label_orientation\":45,\"major_label_overrides\":{\"0.5\":\"[CLS]\",\"1.5\":\"which\",\"10.5\":\"?\",\"11.5\":\"[SEP]\",\"12.5\":\"just\",\"13.5\":\"the\",\"14.5\":\"place\",\"15.5\":\"for\",\"16.5\":\"a\",\"17.5\":\"s\",\"18.5\":\"##nar\",\"19.5\":\"##k\",\"2.5\":\"is\",\"20.5\":\"!\",\"21.5\":\"\\\"\",\"22.5\":\"the\",\"23.5\":\"bell\",\"24.5\":\"##man\",\"25.5\":\"cried\",\"26.5\":\"[SEP]\",\"3.5\":\"better\",\"4.5\":\",\",\"5.5\":\"a\",\"6.5\":\"laptop\",\"7.5\":\"or\",\"8.5\":\"a\",\"9.5\":\"desktop\"},\"ticker\":{\"id\":\"1601\",\"type\":\"FixedTicker\"}},\"id\":\"1600\",\"type\":\"LinearAxis\"},{\"attributes\":{\"axis_label\":\"translation tokens\",\"formatter\":{\"id\":\"1650\",\"type\":\"BasicTickFormatter\"},\"major_label_overrides\":{\"0.5\":\"[CLS]\",\"1.5\":\"which\",\"10.5\":\"?\",\"11.5\":\"[SEP]\",\"12.5\":\"just\",\"13.5\":\"the\",\"14.5\":\"place\",\"15.5\":\"for\",\"16.5\":\"a\",\"17.5\":\"s\",\"18.5\":\"##nar\",\"19.5\":\"##k\",\"2.5\":\"is\",\"20.5\":\"!\",\"21.5\":\"\\\"\",\"22.5\":\"the\",\"23.5\":\"bell\",\"24.5\":\"##man\",\"25.5\":\"cried\",\"26.5\":\"[SEP]\",\"3.5\":\"better\",\"4.5\":\",\",\"5.5\":\"a\",\"6.5\":\"laptop\",\"7.5\":\"or\",\"8.5\":\"a\",\"9.5\":\"desktop\"},\"ticker\":{\"id\":\"1604\",\"type\":\"FixedTicker\"}},\"id\":\"1603\",\"type\":\"LinearAxis\"},{\"attributes\":{\"ticks\":[0.5,1.5,2.5,3.5,4.5,5.5,6.5,7.5,8.5,9.5,10.5,11.5,12.5,13.5,14.5,15.5,16.5,17.5,18.5,19.5,20.5,21.5,22.5,23.5,24.5,25.5,26.5]},\"id\":\"1604\",\"type\":\"FixedTicker\"},{\"attributes\":{\"palette\":[\"#000000\",\"#252525\",\"#525252\",\"#737373\",\"#969696\",\"#bdbdbd\",\"#d9d9d9\",\"#f0f0f0\",\"#ffffff\"]},\"id\":\"1597\",\"type\":\"LinearColorMapper\"},{\"attributes\":{\"ticks\":[0.5,1.5,2.5,3.5,4.5,5.5,6.5,7.5,8.5,9.5,10.5,11.5,12.5,13.5,14.5,15.5,16.5,17.5,18.5,19.5,20.5,21.5,22.5,23.5,24.5,25.5,26.5]},\"id\":\"1601\",\"type\":\"FixedTicker\"},{\"attributes\":{\"color_mapper\":{\"id\":\"1595\",\"type\":\"LinearColorMapper\"},\"dh\":{\"units\":\"data\",\"value\":27},\"dw\":{\"units\":\"data\",\"value\":27},\"image\":{\"field\":\"image\"},\"x\":{\"value\":0},\"y\":{\"value\":0}},\"id\":\"1594\",\"type\":\"Image\"},{\"attributes\":{\"source\":{\"id\":\"1593\",\"type\":\"ColumnDataSource\"}},\"id\":\"1599\",\"type\":\"CDSView\"},{\"attributes\":{\"text\":\"\"},\"id\":\"1648\",\"type\":\"Title\"},{\"attributes\":{\"palette\":[\"#000000\",\"#252525\",\"#525252\",\"#737373\",\"#969696\",\"#bdbdbd\",\"#d9d9d9\",\"#f0f0f0\",\"#ffffff\"]},\"id\":\"1595\",\"type\":\"LinearColorMapper\"},{\"attributes\":{\"data_source\":{\"id\":\"1593\",\"type\":\"ColumnDataSource\"},\"glyph\":{\"id\":\"1594\",\"type\":\"Image\"},\"hover_glyph\":null,\"muted_glyph\":null,\"nonselection_glyph\":{\"id\":\"1596\",\"type\":\"Image\"},\"selection_glyph\":null,\"view\":{\"id\":\"1599\",\"type\":\"CDSView\"}},\"id\":\"1598\",\"type\":\"GlyphRenderer\"},{\"attributes\":{\"callback\":null,\"data\":{\"image\":[{\"__ndarray__\":\"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\",\"dtype\":\"float32\",\"shape\":[23,23]}]},\"selected\":{\"id\":\"1652\",\"type\":\"Selection\"},\"selection_policy\":{\"id\":\"1653\",\"type\":\"UnionRenderers\"}},\"id\":\"1593\",\"type\":\"ColumnDataSource\"},{\"attributes\":{},\"id\":\"1651\",\"type\":\"BasicTickFormatter\"},{\"attributes\":{\"active_drag\":\"auto\",\"active_inspect\":\"auto\",\"active_multi\":null,\"active_scroll\":\"auto\",\"active_tap\":\"auto\"},\"id\":\"1592\",\"type\":\"Toolbar\"},{\"attributes\":{},\"id\":\"1653\",\"type\":\"UnionRenderers\"},{\"attributes\":{},\"id\":\"1652\",\"type\":\"Selection\"},{\"attributes\":{},\"id\":\"1588\",\"type\":\"LinearScale\"},{\"attributes\":{},\"id\":\"1590\",\"type\":\"LinearScale\"},{\"attributes\":{\"callback\":null,\"end\":27},\"id\":\"1584\",\"type\":\"Range1d\"},{\"attributes\":{\"color_mapper\":{\"id\":\"1597\",\"type\":\"LinearColorMapper\"},\"dh\":{\"units\":\"data\",\"value\":27},\"dw\":{\"units\":\"data\",\"value\":27},\"image\":{\"field\":\"image\"},\"x\":{\"value\":0},\"y\":{\"value\":0}},\"id\":\"1596\",\"type\":\"Image\"},{\"attributes\":{\"callback\":null,\"end\":27},\"id\":\"1586\",\"type\":\"Range1d\"}],\"root_ids\":[\"1583\"]},\"title\":\"Bokeh Application\",\"version\":\"1.4.0\"}};\n",
       "  var render_items = [{\"docid\":\"6450b64b-218f-4e26-a2b0-3be24f08f59a\",\"roots\":{\"1583\":\"970934dc-adc2-45cc-be28-9c49a52e0df0\"}}];\n",
       "  root.Bokeh.embed.embed_items_notebook(docs_json, render_items);\n",
       "\n",
       "  }\n",
       "  if (root.Bokeh !== undefined) {\n",
       "    embed_document(root);\n",
       "  } else {\n",
       "    var attempts = 0;\n",
       "    var timer = setInterval(function(root) {\n",
       "      if (root.Bokeh !== undefined) {\n",
       "        clearInterval(timer);\n",
       "        embed_document(root);\n",
       "      } else {\n",
       "        attempts++;\n",
       "        if (attempts > 100) {\n",
       "          clearInterval(timer);\n",
       "          console.log(\"Bokeh: ERROR: Unable to run BokehJS code because BokehJS library is missing\");\n",
       "        }\n",
       "      }\n",
       "    }, 10, root)\n",
       "  }\n",
       "})(window);"
      ],
      "application/vnd.bokehjs_exec.v0+json": ""
     },
     "metadata": {
      "application/vnd.bokehjs_exec.v0+json": {
       "id": "1583"
      }
     },
     "output_type": "display_data"
    },
    {
     "data": {
      "text/html": [
       "\n",
       "\n",
       "\n",
       "\n",
       "\n",
       "\n",
       "  <div class=\"bk-root\" id=\"1c9177c2-ef96-4f25-8715-02133ca730f5\" data-root-id=\"1690\"></div>\n"
      ]
     },
     "metadata": {},
     "output_type": "display_data"
    },
    {
     "data": {
      "application/javascript": [
       "(function(root) {\n",
       "  function embed_document(root) {\n",
       "    \n",
       "  var docs_json = {\"b0479a1b-fee4-4b31-b1e5-4b2d514bfce9\":{\"roots\":{\"references\":[{\"attributes\":{\"above\":[{\"id\":\"1707\",\"type\":\"LinearAxis\"}],\"left\":[{\"id\":\"1710\",\"type\":\"LinearAxis\"}],\"renderers\":[{\"id\":\"1705\",\"type\":\"GlyphRenderer\"}],\"title\":{\"id\":\"1761\",\"type\":\"Title\"},\"toolbar\":{\"id\":\"1699\",\"type\":\"Toolbar\"},\"x_range\":{\"id\":\"1691\",\"type\":\"Range1d\"},\"x_scale\":{\"id\":\"1695\",\"type\":\"LinearScale\"},\"y_range\":{\"id\":\"1693\",\"type\":\"Range1d\"},\"y_scale\":{\"id\":\"1697\",\"type\":\"LinearScale\"}},\"id\":\"1690\",\"subtype\":\"Figure\",\"type\":\"Plot\"},{\"attributes\":{\"palette\":[\"#000000\",\"#252525\",\"#525252\",\"#737373\",\"#969696\",\"#bdbdbd\",\"#d9d9d9\",\"#f0f0f0\",\"#ffffff\"]},\"id\":\"1702\",\"type\":\"LinearColorMapper\"},{\"attributes\":{\"color_mapper\":{\"id\":\"1702\",\"type\":\"LinearColorMapper\"},\"dh\":{\"units\":\"data\",\"value\":27},\"dw\":{\"units\":\"data\",\"value\":27},\"image\":{\"field\":\"image\"},\"x\":{\"value\":0},\"y\":{\"value\":0}},\"id\":\"1701\",\"type\":\"Image\"},{\"attributes\":{},\"id\":\"1695\",\"type\":\"LinearScale\"},{\"attributes\":{\"axis_label\":\"source tokens\",\"formatter\":{\"id\":\"1764\",\"type\":\"BasicTickFormatter\"},\"major_label_orientation\":45,\"major_label_overrides\":{\"0.5\":\"[CLS]\",\"1.5\":\"which\",\"10.5\":\"?\",\"11.5\":\"[SEP]\",\"12.5\":\"just\",\"13.5\":\"the\",\"14.5\":\"place\",\"15.5\":\"for\",\"16.5\":\"a\",\"17.5\":\"s\",\"18.5\":\"##nar\",\"19.5\":\"##k\",\"2.5\":\"is\",\"20.5\":\"!\",\"21.5\":\"\\\"\",\"22.5\":\"the\",\"23.5\":\"bell\",\"24.5\":\"##man\",\"25.5\":\"cried\",\"26.5\":\"[SEP]\",\"3.5\":\"better\",\"4.5\":\",\",\"5.5\":\"a\",\"6.5\":\"laptop\",\"7.5\":\"or\",\"8.5\":\"a\",\"9.5\":\"desktop\"},\"ticker\":{\"id\":\"1708\",\"type\":\"FixedTicker\"}},\"id\":\"1707\",\"type\":\"LinearAxis\"},{\"attributes\":{\"source\":{\"id\":\"1700\",\"type\":\"ColumnDataSource\"}},\"id\":\"1706\",\"type\":\"CDSView\"},{\"attributes\":{\"callback\":null,\"data\":{\"image\":[{\"__ndarray__\":\"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\",\"dtype\":\"float32\",\"shape\":[23,23]}]},\"selected\":{\"id\":\"1765\",\"type\":\"Selection\"},\"selection_policy\":{\"id\":\"1766\",\"type\":\"UnionRenderers\"}},\"id\":\"1700\",\"type\":\"ColumnDataSource\"},{\"attributes\":{\"palette\":[\"#000000\",\"#252525\",\"#525252\",\"#737373\",\"#969696\",\"#bdbdbd\",\"#d9d9d9\",\"#f0f0f0\",\"#ffffff\"]},\"id\":\"1704\",\"type\":\"LinearColorMapper\"},{\"attributes\":{},\"id\":\"1697\",\"type\":\"LinearScale\"},{\"attributes\":{\"axis_label\":\"translation tokens\",\"formatter\":{\"id\":\"1763\",\"type\":\"BasicTickFormatter\"},\"major_label_overrides\":{\"0.5\":\"[CLS]\",\"1.5\":\"which\",\"10.5\":\"?\",\"11.5\":\"[SEP]\",\"12.5\":\"just\",\"13.5\":\"the\",\"14.5\":\"place\",\"15.5\":\"for\",\"16.5\":\"a\",\"17.5\":\"s\",\"18.5\":\"##nar\",\"19.5\":\"##k\",\"2.5\":\"is\",\"20.5\":\"!\",\"21.5\":\"\\\"\",\"22.5\":\"the\",\"23.5\":\"bell\",\"24.5\":\"##man\",\"25.5\":\"cried\",\"26.5\":\"[SEP]\",\"3.5\":\"better\",\"4.5\":\",\",\"5.5\":\"a\",\"6.5\":\"laptop\",\"7.5\":\"or\",\"8.5\":\"a\",\"9.5\":\"desktop\"},\"ticker\":{\"id\":\"1711\",\"type\":\"FixedTicker\"}},\"id\":\"1710\",\"type\":\"LinearAxis\"},{\"attributes\":{\"callback\":null,\"end\":27},\"id\":\"1691\",\"type\":\"Range1d\"},{\"attributes\":{\"active_drag\":\"auto\",\"active_inspect\":\"auto\",\"active_multi\":null,\"active_scroll\":\"auto\",\"active_tap\":\"auto\"},\"id\":\"1699\",\"type\":\"Toolbar\"},{\"attributes\":{},\"id\":\"1764\",\"type\":\"BasicTickFormatter\"},{\"attributes\":{\"callback\":null,\"end\":27},\"id\":\"1693\",\"type\":\"Range1d\"},{\"attributes\":{\"data_source\":{\"id\":\"1700\",\"type\":\"ColumnDataSource\"},\"glyph\":{\"id\":\"1701\",\"type\":\"Image\"},\"hover_glyph\":null,\"muted_glyph\":null,\"nonselection_glyph\":{\"id\":\"1703\",\"type\":\"Image\"},\"selection_glyph\":null,\"view\":{\"id\":\"1706\",\"type\":\"CDSView\"}},\"id\":\"1705\",\"type\":\"GlyphRenderer\"},{\"attributes\":{},\"id\":\"1766\",\"type\":\"UnionRenderers\"},{\"attributes\":{\"ticks\":[0.5,1.5,2.5,3.5,4.5,5.5,6.5,7.5,8.5,9.5,10.5,11.5,12.5,13.5,14.5,15.5,16.5,17.5,18.5,19.5,20.5,21.5,22.5,23.5,24.5,25.5,26.5]},\"id\":\"1708\",\"type\":\"FixedTicker\"},{\"attributes\":{\"text\":\"\"},\"id\":\"1761\",\"type\":\"Title\"},{\"attributes\":{},\"id\":\"1763\",\"type\":\"BasicTickFormatter\"},{\"attributes\":{},\"id\":\"1765\",\"type\":\"Selection\"},{\"attributes\":{\"ticks\":[0.5,1.5,2.5,3.5,4.5,5.5,6.5,7.5,8.5,9.5,10.5,11.5,12.5,13.5,14.5,15.5,16.5,17.5,18.5,19.5,20.5,21.5,22.5,23.5,24.5,25.5,26.5]},\"id\":\"1711\",\"type\":\"FixedTicker\"},{\"attributes\":{\"color_mapper\":{\"id\":\"1704\",\"type\":\"LinearColorMapper\"},\"dh\":{\"units\":\"data\",\"value\":27},\"dw\":{\"units\":\"data\",\"value\":27},\"image\":{\"field\":\"image\"},\"x\":{\"value\":0},\"y\":{\"value\":0}},\"id\":\"1703\",\"type\":\"Image\"}],\"root_ids\":[\"1690\"]},\"title\":\"Bokeh Application\",\"version\":\"1.4.0\"}};\n",
       "  var render_items = [{\"docid\":\"b0479a1b-fee4-4b31-b1e5-4b2d514bfce9\",\"roots\":{\"1690\":\"1c9177c2-ef96-4f25-8715-02133ca730f5\"}}];\n",
       "  root.Bokeh.embed.embed_items_notebook(docs_json, render_items);\n",
       "\n",
       "  }\n",
       "  if (root.Bokeh !== undefined) {\n",
       "    embed_document(root);\n",
       "  } else {\n",
       "    var attempts = 0;\n",
       "    var timer = setInterval(function(root) {\n",
       "      if (root.Bokeh !== undefined) {\n",
       "        clearInterval(timer);\n",
       "        embed_document(root);\n",
       "      } else {\n",
       "        attempts++;\n",
       "        if (attempts > 100) {\n",
       "          clearInterval(timer);\n",
       "          console.log(\"Bokeh: ERROR: Unable to run BokehJS code because BokehJS library is missing\");\n",
       "        }\n",
       "      }\n",
       "    }, 10, root)\n",
       "  }\n",
       "})(window);"
      ],
      "application/vnd.bokehjs_exec.v0+json": ""
     },
     "metadata": {
      "application/vnd.bokehjs_exec.v0+json": {
       "id": "1690"
      }
     },
     "output_type": "display_data"
    },
    {
     "data": {
      "text/html": [
       "\n",
       "\n",
       "\n",
       "\n",
       "\n",
       "\n",
       "  <div class=\"bk-root\" id=\"7fbb60d5-64f6-4ea9-9d40-c8364a4add5e\" data-root-id=\"1803\"></div>\n"
      ]
     },
     "metadata": {},
     "output_type": "display_data"
    },
    {
     "data": {
      "application/javascript": [
       "(function(root) {\n",
       "  function embed_document(root) {\n",
       "    \n",
       "  var docs_json = {\"9ca4c5cf-bbbb-4eb8-b929-23e668e07208\":{\"roots\":{\"references\":[{\"attributes\":{\"above\":[{\"id\":\"1820\",\"type\":\"LinearAxis\"}],\"left\":[{\"id\":\"1823\",\"type\":\"LinearAxis\"}],\"renderers\":[{\"id\":\"1818\",\"type\":\"GlyphRenderer\"}],\"title\":{\"id\":\"1880\",\"type\":\"Title\"},\"toolbar\":{\"id\":\"1812\",\"type\":\"Toolbar\"},\"x_range\":{\"id\":\"1804\",\"type\":\"Range1d\"},\"x_scale\":{\"id\":\"1808\",\"type\":\"LinearScale\"},\"y_range\":{\"id\":\"1806\",\"type\":\"Range1d\"},\"y_scale\":{\"id\":\"1810\",\"type\":\"LinearScale\"}},\"id\":\"1803\",\"subtype\":\"Figure\",\"type\":\"Plot\"},{\"attributes\":{\"color_mapper\":{\"id\":\"1815\",\"type\":\"LinearColorMapper\"},\"dh\":{\"units\":\"data\",\"value\":27},\"dw\":{\"units\":\"data\",\"value\":27},\"image\":{\"field\":\"image\"},\"x\":{\"value\":0},\"y\":{\"value\":0}},\"id\":\"1814\",\"type\":\"Image\"},{\"attributes\":{\"source\":{\"id\":\"1813\",\"type\":\"ColumnDataSource\"}},\"id\":\"1819\",\"type\":\"CDSView\"},{\"attributes\":{\"axis_label\":\"source tokens\",\"formatter\":{\"id\":\"1883\",\"type\":\"BasicTickFormatter\"},\"major_label_orientation\":45,\"major_label_overrides\":{\"0.5\":\"[CLS]\",\"1.5\":\"which\",\"10.5\":\"?\",\"11.5\":\"[SEP]\",\"12.5\":\"just\",\"13.5\":\"the\",\"14.5\":\"place\",\"15.5\":\"for\",\"16.5\":\"a\",\"17.5\":\"s\",\"18.5\":\"##nar\",\"19.5\":\"##k\",\"2.5\":\"is\",\"20.5\":\"!\",\"21.5\":\"\\\"\",\"22.5\":\"the\",\"23.5\":\"bell\",\"24.5\":\"##man\",\"25.5\":\"cried\",\"26.5\":\"[SEP]\",\"3.5\":\"better\",\"4.5\":\",\",\"5.5\":\"a\",\"6.5\":\"laptop\",\"7.5\":\"or\",\"8.5\":\"a\",\"9.5\":\"desktop\"},\"ticker\":{\"id\":\"1821\",\"type\":\"FixedTicker\"}},\"id\":\"1820\",\"type\":\"LinearAxis\"},{\"attributes\":{\"ticks\":[0.5,1.5,2.5,3.5,4.5,5.5,6.5,7.5,8.5,9.5,10.5,11.5,12.5,13.5,14.5,15.5,16.5,17.5,18.5,19.5,20.5,21.5,22.5,23.5,24.5,25.5,26.5]},\"id\":\"1824\",\"type\":\"FixedTicker\"},{\"attributes\":{\"axis_label\":\"translation tokens\",\"formatter\":{\"id\":\"1882\",\"type\":\"BasicTickFormatter\"},\"major_label_overrides\":{\"0.5\":\"[CLS]\",\"1.5\":\"which\",\"10.5\":\"?\",\"11.5\":\"[SEP]\",\"12.5\":\"just\",\"13.5\":\"the\",\"14.5\":\"place\",\"15.5\":\"for\",\"16.5\":\"a\",\"17.5\":\"s\",\"18.5\":\"##nar\",\"19.5\":\"##k\",\"2.5\":\"is\",\"20.5\":\"!\",\"21.5\":\"\\\"\",\"22.5\":\"the\",\"23.5\":\"bell\",\"24.5\":\"##man\",\"25.5\":\"cried\",\"26.5\":\"[SEP]\",\"3.5\":\"better\",\"4.5\":\",\",\"5.5\":\"a\",\"6.5\":\"laptop\",\"7.5\":\"or\",\"8.5\":\"a\",\"9.5\":\"desktop\"},\"ticker\":{\"id\":\"1824\",\"type\":\"FixedTicker\"}},\"id\":\"1823\",\"type\":\"LinearAxis\"},{\"attributes\":{},\"id\":\"1883\",\"type\":\"BasicTickFormatter\"},{\"attributes\":{},\"id\":\"1882\",\"type\":\"BasicTickFormatter\"},{\"attributes\":{\"palette\":[\"#000000\",\"#252525\",\"#525252\",\"#737373\",\"#969696\",\"#bdbdbd\",\"#d9d9d9\",\"#f0f0f0\",\"#ffffff\"]},\"id\":\"1817\",\"type\":\"LinearColorMapper\"},{\"attributes\":{\"ticks\":[0.5,1.5,2.5,3.5,4.5,5.5,6.5,7.5,8.5,9.5,10.5,11.5,12.5,13.5,14.5,15.5,16.5,17.5,18.5,19.5,20.5,21.5,22.5,23.5,24.5,25.5,26.5]},\"id\":\"1821\",\"type\":\"FixedTicker\"},{\"attributes\":{\"palette\":[\"#000000\",\"#252525\",\"#525252\",\"#737373\",\"#969696\",\"#bdbdbd\",\"#d9d9d9\",\"#f0f0f0\",\"#ffffff\"]},\"id\":\"1815\",\"type\":\"LinearColorMapper\"},{\"attributes\":{\"data_source\":{\"id\":\"1813\",\"type\":\"ColumnDataSource\"},\"glyph\":{\"id\":\"1814\",\"type\":\"Image\"},\"hover_glyph\":null,\"muted_glyph\":null,\"nonselection_glyph\":{\"id\":\"1816\",\"type\":\"Image\"},\"selection_glyph\":null,\"view\":{\"id\":\"1819\",\"type\":\"CDSView\"}},\"id\":\"1818\",\"type\":\"GlyphRenderer\"},{\"attributes\":{\"callback\":null,\"data\":{\"image\":[{\"__ndarray__\":\"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\",\"dtype\":\"float32\",\"shape\":[23,23]}]},\"selected\":{\"id\":\"1884\",\"type\":\"Selection\"},\"selection_policy\":{\"id\":\"1885\",\"type\":\"UnionRenderers\"}},\"id\":\"1813\",\"type\":\"ColumnDataSource\"},{\"attributes\":{\"active_drag\":\"auto\",\"active_inspect\":\"auto\",\"active_multi\":null,\"active_scroll\":\"auto\",\"active_tap\":\"auto\"},\"id\":\"1812\",\"type\":\"Toolbar\"},{\"attributes\":{},\"id\":\"1885\",\"type\":\"UnionRenderers\"},{\"attributes\":{},\"id\":\"1884\",\"type\":\"Selection\"},{\"attributes\":{},\"id\":\"1808\",\"type\":\"LinearScale\"},{\"attributes\":{},\"id\":\"1810\",\"type\":\"LinearScale\"},{\"attributes\":{\"callback\":null,\"end\":27},\"id\":\"1804\",\"type\":\"Range1d\"},{\"attributes\":{\"text\":\"\"},\"id\":\"1880\",\"type\":\"Title\"},{\"attributes\":{\"callback\":null,\"end\":27},\"id\":\"1806\",\"type\":\"Range1d\"},{\"attributes\":{\"color_mapper\":{\"id\":\"1817\",\"type\":\"LinearColorMapper\"},\"dh\":{\"units\":\"data\",\"value\":27},\"dw\":{\"units\":\"data\",\"value\":27},\"image\":{\"field\":\"image\"},\"x\":{\"value\":0},\"y\":{\"value\":0}},\"id\":\"1816\",\"type\":\"Image\"}],\"root_ids\":[\"1803\"]},\"title\":\"Bokeh Application\",\"version\":\"1.4.0\"}};\n",
       "  var render_items = [{\"docid\":\"9ca4c5cf-bbbb-4eb8-b929-23e668e07208\",\"roots\":{\"1803\":\"7fbb60d5-64f6-4ea9-9d40-c8364a4add5e\"}}];\n",
       "  root.Bokeh.embed.embed_items_notebook(docs_json, render_items);\n",
       "\n",
       "  }\n",
       "  if (root.Bokeh !== undefined) {\n",
       "    embed_document(root);\n",
       "  } else {\n",
       "    var attempts = 0;\n",
       "    var timer = setInterval(function(root) {\n",
       "      if (root.Bokeh !== undefined) {\n",
       "        clearInterval(timer);\n",
       "        embed_document(root);\n",
       "      } else {\n",
       "        attempts++;\n",
       "        if (attempts > 100) {\n",
       "          clearInterval(timer);\n",
       "          console.log(\"Bokeh: ERROR: Unable to run BokehJS code because BokehJS library is missing\");\n",
       "        }\n",
       "      }\n",
       "    }, 10, root)\n",
       "  }\n",
       "})(window);"
      ],
      "application/vnd.bokehjs_exec.v0+json": ""
     },
     "metadata": {
      "application/vnd.bokehjs_exec.v0+json": {
       "id": "1803"
      }
     },
     "output_type": "display_data"
    },
    {
     "data": {
      "text/html": [
       "\n",
       "\n",
       "\n",
       "\n",
       "\n",
       "\n",
       "  <div class=\"bk-root\" id=\"36bf01f9-e549-47f6-8794-d9f9339a9ec1\" data-root-id=\"1922\"></div>\n"
      ]
     },
     "metadata": {},
     "output_type": "display_data"
    },
    {
     "data": {
      "application/javascript": [
       "(function(root) {\n",
       "  function embed_document(root) {\n",
       "    \n",
       "  var docs_json = {\"e49a74fd-eccd-4885-9ca9-902f64b89c3f\":{\"roots\":{\"references\":[{\"attributes\":{\"above\":[{\"id\":\"1939\",\"type\":\"LinearAxis\"}],\"left\":[{\"id\":\"1942\",\"type\":\"LinearAxis\"}],\"renderers\":[{\"id\":\"1937\",\"type\":\"GlyphRenderer\"}],\"title\":{\"id\":\"2005\",\"type\":\"Title\"},\"toolbar\":{\"id\":\"1931\",\"type\":\"Toolbar\"},\"x_range\":{\"id\":\"1923\",\"type\":\"Range1d\"},\"x_scale\":{\"id\":\"1927\",\"type\":\"LinearScale\"},\"y_range\":{\"id\":\"1925\",\"type\":\"Range1d\"},\"y_scale\":{\"id\":\"1929\",\"type\":\"LinearScale\"}},\"id\":\"1922\",\"subtype\":\"Figure\",\"type\":\"Plot\"},{\"attributes\":{\"source\":{\"id\":\"1932\",\"type\":\"ColumnDataSource\"}},\"id\":\"1938\",\"type\":\"CDSView\"},{\"attributes\":{\"axis_label\":\"source tokens\",\"formatter\":{\"id\":\"2008\",\"type\":\"BasicTickFormatter\"},\"major_label_orientation\":45,\"major_label_overrides\":{\"0.5\":\"[CLS]\",\"1.5\":\"which\",\"10.5\":\"?\",\"11.5\":\"[SEP]\",\"12.5\":\"just\",\"13.5\":\"the\",\"14.5\":\"place\",\"15.5\":\"for\",\"16.5\":\"a\",\"17.5\":\"s\",\"18.5\":\"##nar\",\"19.5\":\"##k\",\"2.5\":\"is\",\"20.5\":\"!\",\"21.5\":\"\\\"\",\"22.5\":\"the\",\"23.5\":\"bell\",\"24.5\":\"##man\",\"25.5\":\"cried\",\"26.5\":\"[SEP]\",\"3.5\":\"better\",\"4.5\":\",\",\"5.5\":\"a\",\"6.5\":\"laptop\",\"7.5\":\"or\",\"8.5\":\"a\",\"9.5\":\"desktop\"},\"ticker\":{\"id\":\"1940\",\"type\":\"FixedTicker\"}},\"id\":\"1939\",\"type\":\"LinearAxis\"},{\"attributes\":{\"ticks\":[0.5,1.5,2.5,3.5,4.5,5.5,6.5,7.5,8.5,9.5,10.5,11.5,12.5,13.5,14.5,15.5,16.5,17.5,18.5,19.5,20.5,21.5,22.5,23.5,24.5,25.5,26.5]},\"id\":\"1943\",\"type\":\"FixedTicker\"},{\"attributes\":{\"text\":\"\"},\"id\":\"2005\",\"type\":\"Title\"},{\"attributes\":{\"palette\":[\"#000000\",\"#252525\",\"#525252\",\"#737373\",\"#969696\",\"#bdbdbd\",\"#d9d9d9\",\"#f0f0f0\",\"#ffffff\"]},\"id\":\"1936\",\"type\":\"LinearColorMapper\"},{\"attributes\":{},\"id\":\"2007\",\"type\":\"BasicTickFormatter\"},{\"attributes\":{},\"id\":\"2009\",\"type\":\"Selection\"},{\"attributes\":{\"axis_label\":\"translation tokens\",\"formatter\":{\"id\":\"2007\",\"type\":\"BasicTickFormatter\"},\"major_label_overrides\":{\"0.5\":\"[CLS]\",\"1.5\":\"which\",\"10.5\":\"?\",\"11.5\":\"[SEP]\",\"12.5\":\"just\",\"13.5\":\"the\",\"14.5\":\"place\",\"15.5\":\"for\",\"16.5\":\"a\",\"17.5\":\"s\",\"18.5\":\"##nar\",\"19.5\":\"##k\",\"2.5\":\"is\",\"20.5\":\"!\",\"21.5\":\"\\\"\",\"22.5\":\"the\",\"23.5\":\"bell\",\"24.5\":\"##man\",\"25.5\":\"cried\",\"26.5\":\"[SEP]\",\"3.5\":\"better\",\"4.5\":\",\",\"5.5\":\"a\",\"6.5\":\"laptop\",\"7.5\":\"or\",\"8.5\":\"a\",\"9.5\":\"desktop\"},\"ticker\":{\"id\":\"1943\",\"type\":\"FixedTicker\"}},\"id\":\"1942\",\"type\":\"LinearAxis\"},{\"attributes\":{\"palette\":[\"#000000\",\"#252525\",\"#525252\",\"#737373\",\"#969696\",\"#bdbdbd\",\"#d9d9d9\",\"#f0f0f0\",\"#ffffff\"]},\"id\":\"1934\",\"type\":\"LinearColorMapper\"},{\"attributes\":{\"data_source\":{\"id\":\"1932\",\"type\":\"ColumnDataSource\"},\"glyph\":{\"id\":\"1933\",\"type\":\"Image\"},\"hover_glyph\":null,\"muted_glyph\":null,\"nonselection_glyph\":{\"id\":\"1935\",\"type\":\"Image\"},\"selection_glyph\":null,\"view\":{\"id\":\"1938\",\"type\":\"CDSView\"}},\"id\":\"1937\",\"type\":\"GlyphRenderer\"},{\"attributes\":{\"ticks\":[0.5,1.5,2.5,3.5,4.5,5.5,6.5,7.5,8.5,9.5,10.5,11.5,12.5,13.5,14.5,15.5,16.5,17.5,18.5,19.5,20.5,21.5,22.5,23.5,24.5,25.5,26.5]},\"id\":\"1940\",\"type\":\"FixedTicker\"},{\"attributes\":{\"callback\":null,\"data\":{\"image\":[{\"__ndarray__\":\"cY2wO5jCDDvNvyQ7D+s7O6lxFjuB6l86nBqxOfWVTzrnPVk57VlMOVKFUz1qg64+HDMFPfwKljzhzLY8ekDNPPWtzjsF+xw7IBZeO5n81TpFId86Ox5dPkFMhT54CKg8Qc2PPGsZAzxJJFI912URPqSMST1Kt8I8MO7ZPWgYYTy91M87FYHOPfn+cj7VZS07sIuMOjyEsjsQ42M7h8ehO3et0TrMCNo7XkLvOo2gdTq5ApE8MPs0PonH9zuF6O87W3GhO4fUJD0CmaE994nnPGREHzxdli88NONKO1HJEjt9f/c8wODdPlT9sjpaoQc6HiAXOy2PKDu8o6M7z7fIOt1kGDvr7MU6Oc2DOpVTcjyP/J4+uPchPGzqrjtSeoA7GOtQPHTuLz7UB0Q86QIVPMEfJjwscTA7FIVjO5iGiTxW9dA+YaK0OuQmLDrIAr06oMMJPDgMZDtjzZE6VmR5O8Ovszpsq746FXjsO1x+mz6o3n08ExMeOz5qbjsra0Q8e5iKPPtfRzwdyyg8priKPcFfqjyVXBA8Ws6CPcBz0z6v7TM6CtAeOhsyozoa6Sw6b5K3OmLoADqRs6U7izEGO0CclTrhTzU9ny2XPk1eazw4xAM603IGOiX77DuJ4yU7qLjROxCc+DycrRg9Rr9mPFTVYTxnFWE8G0z/PhU98jjfFZI48ToWOnt73jjhamA6BPutOggqsDoH7cI6o6XJOpBwGjtkn7M+thYfPJ+QwjiLPIE55gYNOh/PMjrtipk5llc3OuqP1TkVCwk6llnMOdxHuTrhgRQ/DdBuOHgnzzijAQU5KsasOO0dAznTt+k4Td//Nzna/DiTlBE5rhmmOXSwzj6ElwI8s4FFO73QvjplRj88JTzgO4lpGjvAiEg7lko/PeQUuDtSiao7N3u5PRyb6z4199M60cajOu7X5jsy/586J1EgOmE7ejn82CI6jZLcOSFLEjrv4hI8VmeqPuTqAzwBTY85egHuOVa6hDv8r5c6f6uMOp8n3jtW/Cw8tM93O0r5FTz1/iY8eQIOPzFS9jhli0I51QbLOuzC0zmdybc5KDPvOeDqtznwQ9Q5p11COtw5qjpZjcQ+ucKSPHo0XTmaQww6InO0OtmXeTpltbo59CGfOoeE+jn70Ec67kacOgfxNzvrLxA/EUjxOKRNkzmc7Cg6yMvwOTJ6Vzn/zoI5RB2JOGpoIDmRwKY5SKVQOp61zz76xG88vIBlO7iRezvR0J47ECoKPC9MrToNAtE5R5bVOnxj0DkepRc61qRaPd+1sj7dObs811xzPCX/eDxhSVA9cVTmO7jamTq9lJY7t9ioOukC4jqAMCs+T+GKPjFelzvEUt86D8uyOgCVPDt6Jso6pDueOjs3ujrlD8Y6HewUOhnqizq20747BeAKP2y+PztvRQM7is9iO9LiCDuJG+A6+sz1OpdA+jrUcXw6p9IBO3NeDjx0+s8+KR20O0T8vDpjSI46Wk2hO2z6jzsQ1nw6BjXxORPS9DqtI6o5bnWWOT7LnzxZpsc+MME4PMuk4DsIvjM9eG6fPWLJezztp6o7MGjWPDBerDtGezY7WEyVPX9/mj6pZWQ79bSROgrshDrskcU7JHu0O3CzxzpqGek5NizOORZOSjkZ9WU5fP4wPKGn6T4pSMo7w5xpOxGTmTzuQUA9xU+UPAogrzsGSdQ7ydlwOzL5JztPamg95G2wPuf+hztKt5s6hwV9OsFRHjt/Wl08dbxqOvTn6zmCQ9o52qIeOUm7kzmhWrk7qXfZPsf46jtXjmI7hAcYPDZd9T2PWmY8FDt9O0UoeDz0Ol479HJcO3P/Bz0zNao+mY0RO2BaujlZmxY62fT7Ot8ckTplJpk57RnuOD94RTq4zOQ41CmCOF1rGjt5ML8+fW3NOtl1vDqRVbU73WdyPPUiiDvQcM46ZoXrPZ6luzt6Cvs6Ez9DPk92jD7wnKk7BPHYOFENGTlz7Nk60uMuOlGXEjrFF6M6y3+AOj9BzTk/3eo5Jc9MO0Mk/j7rLsA5TQVwORXCLDtb5Io7aGWxO9nuHDzzafc83Mo1PM/sBjyu6zI9szS/PudrJTvNUmU3fiQlOP2qpTg/Z9Y4pS7fN1SULjghfZg36TBzN4vPbjeHt2k5U9IQP6GDGTmZPEc5TEeAORX5LzoWHBY6ErSAOl0DGToUzSM6kTBDOvrfLDvU+9g+twGAOj6stzluyyM5RAXHOvdZQzq3EnM5wWxOOZJPZTtxXCQ5jH8TOeSUfzs4Cfg+cYWvOtQjNzpuq6k7QQpqO4YBqDr5fq46gwonPYC3XDuJXXY7b9uWPQzIvD4H3x07nkBpOEoLkDhUHjs6pgnXOSbKcTkK/ww66fawOoXItDnwrgU6v7caO2LCCT8Vzns5QG5vOSuoAztArRo7U5WoOvT6EDuGCw08Xqd8O51tpjtpi7I8BHjPPhKxkDsVsww4UIJ/OAe58zhikls5Vu9vONZ16TjYros42o+OOCD+uzgBMEA6V3QNP5+ulDlsDN05Pg8JOnsBpDrfFAY6htd7OuUj/jn1fCM6ZD2xOvy2tDuc7ts+7amLO/gCJzquR5I53HI3OjqFNTo8Mpk5u/kaOSWqsTmb0dE4AahDOYVhujvfHwA/nKk0PL8gajuyiag76E61O+BsGDuUeMc6yM5dO+rOqDqYMGM7+naEPQy8xD7oPoA7MTGsOrmThjoQwxI7xoGeOqdfbTqpTIY6F/6UOrQj0Tles0k6FyaVO788DT8SvRs7KmbOOmxUNTvDDOA6Bxm1Oplqvjregss6i1NCOgUryjp+VOs7wabQPg==\",\"dtype\":\"float32\",\"shape\":[23,23]}]},\"selected\":{\"id\":\"2009\",\"type\":\"Selection\"},\"selection_policy\":{\"id\":\"2010\",\"type\":\"UnionRenderers\"}},\"id\":\"1932\",\"type\":\"ColumnDataSource\"},{\"attributes\":{\"callback\":null,\"end\":27},\"id\":\"1923\",\"type\":\"Range1d\"},{\"attributes\":{},\"id\":\"2008\",\"type\":\"BasicTickFormatter\"},{\"attributes\":{\"active_drag\":\"auto\",\"active_inspect\":\"auto\",\"active_multi\":null,\"active_scroll\":\"auto\",\"active_tap\":\"auto\"},\"id\":\"1931\",\"type\":\"Toolbar\"},{\"attributes\":{},\"id\":\"1927\",\"type\":\"LinearScale\"},{\"attributes\":{},\"id\":\"1929\",\"type\":\"LinearScale\"},{\"attributes\":{\"color_mapper\":{\"id\":\"1936\",\"type\":\"LinearColorMapper\"},\"dh\":{\"units\":\"data\",\"value\":27},\"dw\":{\"units\":\"data\",\"value\":27},\"image\":{\"field\":\"image\"},\"x\":{\"value\":0},\"y\":{\"value\":0}},\"id\":\"1935\",\"type\":\"Image\"},{\"attributes\":{\"callback\":null,\"end\":27},\"id\":\"1925\",\"type\":\"Range1d\"},{\"attributes\":{},\"id\":\"2010\",\"type\":\"UnionRenderers\"},{\"attributes\":{\"color_mapper\":{\"id\":\"1934\",\"type\":\"LinearColorMapper\"},\"dh\":{\"units\":\"data\",\"value\":27},\"dw\":{\"units\":\"data\",\"value\":27},\"image\":{\"field\":\"image\"},\"x\":{\"value\":0},\"y\":{\"value\":0}},\"id\":\"1933\",\"type\":\"Image\"}],\"root_ids\":[\"1922\"]},\"title\":\"Bokeh Application\",\"version\":\"1.4.0\"}};\n",
       "  var render_items = [{\"docid\":\"e49a74fd-eccd-4885-9ca9-902f64b89c3f\",\"roots\":{\"1922\":\"36bf01f9-e549-47f6-8794-d9f9339a9ec1\"}}];\n",
       "  root.Bokeh.embed.embed_items_notebook(docs_json, render_items);\n",
       "\n",
       "  }\n",
       "  if (root.Bokeh !== undefined) {\n",
       "    embed_document(root);\n",
       "  } else {\n",
       "    var attempts = 0;\n",
       "    var timer = setInterval(function(root) {\n",
       "      if (root.Bokeh !== undefined) {\n",
       "        clearInterval(timer);\n",
       "        embed_document(root);\n",
       "      } else {\n",
       "        attempts++;\n",
       "        if (attempts > 100) {\n",
       "          clearInterval(timer);\n",
       "          console.log(\"Bokeh: ERROR: Unable to run BokehJS code because BokehJS library is missing\");\n",
       "        }\n",
       "      }\n",
       "    }, 10, root)\n",
       "  }\n",
       "})(window);"
      ],
      "application/vnd.bokehjs_exec.v0+json": ""
     },
     "metadata": {
      "application/vnd.bokehjs_exec.v0+json": {
       "id": "1922"
      }
     },
     "output_type": "display_data"
    },
    {
     "data": {
      "text/html": [
       "\n",
       "\n",
       "\n",
       "\n",
       "\n",
       "\n",
       "  <div class=\"bk-root\" id=\"108523f5-22d5-4df5-91c6-6f4199533a86\" data-root-id=\"2047\"></div>\n"
      ]
     },
     "metadata": {},
     "output_type": "display_data"
    },
    {
     "data": {
      "application/javascript": [
       "(function(root) {\n",
       "  function embed_document(root) {\n",
       "    \n",
       "  var docs_json = {\"2810c51b-3810-4f0e-8328-07480d13a079\":{\"roots\":{\"references\":[{\"attributes\":{\"above\":[{\"id\":\"2064\",\"type\":\"LinearAxis\"}],\"left\":[{\"id\":\"2067\",\"type\":\"LinearAxis\"}],\"renderers\":[{\"id\":\"2062\",\"type\":\"GlyphRenderer\"}],\"title\":{\"id\":\"2136\",\"type\":\"Title\"},\"toolbar\":{\"id\":\"2056\",\"type\":\"Toolbar\"},\"x_range\":{\"id\":\"2048\",\"type\":\"Range1d\"},\"x_scale\":{\"id\":\"2052\",\"type\":\"LinearScale\"},\"y_range\":{\"id\":\"2050\",\"type\":\"Range1d\"},\"y_scale\":{\"id\":\"2054\",\"type\":\"LinearScale\"}},\"id\":\"2047\",\"subtype\":\"Figure\",\"type\":\"Plot\"},{\"attributes\":{\"axis_label\":\"translation tokens\",\"formatter\":{\"id\":\"2138\",\"type\":\"BasicTickFormatter\"},\"major_label_overrides\":{\"0.5\":\"[CLS]\",\"1.5\":\"which\",\"10.5\":\"?\",\"11.5\":\"[SEP]\",\"12.5\":\"just\",\"13.5\":\"the\",\"14.5\":\"place\",\"15.5\":\"for\",\"16.5\":\"a\",\"17.5\":\"s\",\"18.5\":\"##nar\",\"19.5\":\"##k\",\"2.5\":\"is\",\"20.5\":\"!\",\"21.5\":\"\\\"\",\"22.5\":\"the\",\"23.5\":\"bell\",\"24.5\":\"##man\",\"25.5\":\"cried\",\"26.5\":\"[SEP]\",\"3.5\":\"better\",\"4.5\":\",\",\"5.5\":\"a\",\"6.5\":\"laptop\",\"7.5\":\"or\",\"8.5\":\"a\",\"9.5\":\"desktop\"},\"ticker\":{\"id\":\"2068\",\"type\":\"FixedTicker\"}},\"id\":\"2067\",\"type\":\"LinearAxis\"},{\"attributes\":{\"ticks\":[0.5,1.5,2.5,3.5,4.5,5.5,6.5,7.5,8.5,9.5,10.5,11.5,12.5,13.5,14.5,15.5,16.5,17.5,18.5,19.5,20.5,21.5,22.5,23.5,24.5,25.5,26.5]},\"id\":\"2068\",\"type\":\"FixedTicker\"},{\"attributes\":{\"axis_label\":\"source tokens\",\"formatter\":{\"id\":\"2139\",\"type\":\"BasicTickFormatter\"},\"major_label_orientation\":45,\"major_label_overrides\":{\"0.5\":\"[CLS]\",\"1.5\":\"which\",\"10.5\":\"?\",\"11.5\":\"[SEP]\",\"12.5\":\"just\",\"13.5\":\"the\",\"14.5\":\"place\",\"15.5\":\"for\",\"16.5\":\"a\",\"17.5\":\"s\",\"18.5\":\"##nar\",\"19.5\":\"##k\",\"2.5\":\"is\",\"20.5\":\"!\",\"21.5\":\"\\\"\",\"22.5\":\"the\",\"23.5\":\"bell\",\"24.5\":\"##man\",\"25.5\":\"cried\",\"26.5\":\"[SEP]\",\"3.5\":\"better\",\"4.5\":\",\",\"5.5\":\"a\",\"6.5\":\"laptop\",\"7.5\":\"or\",\"8.5\":\"a\",\"9.5\":\"desktop\"},\"ticker\":{\"id\":\"2065\",\"type\":\"FixedTicker\"}},\"id\":\"2064\",\"type\":\"LinearAxis\"},{\"attributes\":{\"data_source\":{\"id\":\"2057\",\"type\":\"ColumnDataSource\"},\"glyph\":{\"id\":\"2058\",\"type\":\"Image\"},\"hover_glyph\":null,\"muted_glyph\":null,\"nonselection_glyph\":{\"id\":\"2060\",\"type\":\"Image\"},\"selection_glyph\":null,\"view\":{\"id\":\"2063\",\"type\":\"CDSView\"}},\"id\":\"2062\",\"type\":\"GlyphRenderer\"},{\"attributes\":{\"palette\":[\"#000000\",\"#252525\",\"#525252\",\"#737373\",\"#969696\",\"#bdbdbd\",\"#d9d9d9\",\"#f0f0f0\",\"#ffffff\"]},\"id\":\"2061\",\"type\":\"LinearColorMapper\"},{\"attributes\":{\"source\":{\"id\":\"2057\",\"type\":\"ColumnDataSource\"}},\"id\":\"2063\",\"type\":\"CDSView\"},{\"attributes\":{\"ticks\":[0.5,1.5,2.5,3.5,4.5,5.5,6.5,7.5,8.5,9.5,10.5,11.5,12.5,13.5,14.5,15.5,16.5,17.5,18.5,19.5,20.5,21.5,22.5,23.5,24.5,25.5,26.5]},\"id\":\"2065\",\"type\":\"FixedTicker\"},{\"attributes\":{},\"id\":\"2139\",\"type\":\"BasicTickFormatter\"},{\"attributes\":{\"callback\":null,\"data\":{\"image\":[{\"__ndarray__\":\"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\",\"dtype\":\"float32\",\"shape\":[23,23]}]},\"selected\":{\"id\":\"2140\",\"type\":\"Selection\"},\"selection_policy\":{\"id\":\"2141\",\"type\":\"UnionRenderers\"}},\"id\":\"2057\",\"type\":\"ColumnDataSource\"},{\"attributes\":{\"color_mapper\":{\"id\":\"2061\",\"type\":\"LinearColorMapper\"},\"dh\":{\"units\":\"data\",\"value\":27},\"dw\":{\"units\":\"data\",\"value\":27},\"image\":{\"field\":\"image\"},\"x\":{\"value\":0},\"y\":{\"value\":0}},\"id\":\"2060\",\"type\":\"Image\"},{\"attributes\":{\"palette\":[\"#000000\",\"#252525\",\"#525252\",\"#737373\",\"#969696\",\"#bdbdbd\",\"#d9d9d9\",\"#f0f0f0\",\"#ffffff\"]},\"id\":\"2059\",\"type\":\"LinearColorMapper\"},{\"attributes\":{},\"id\":\"2140\",\"type\":\"Selection\"},{\"attributes\":{},\"id\":\"2141\",\"type\":\"UnionRenderers\"},{\"attributes\":{\"text\":\"\"},\"id\":\"2136\",\"type\":\"Title\"},{\"attributes\":{},\"id\":\"2052\",\"type\":\"LinearScale\"},{\"attributes\":{},\"id\":\"2054\",\"type\":\"LinearScale\"},{\"attributes\":{\"callback\":null,\"end\":27},\"id\":\"2050\",\"type\":\"Range1d\"},{\"attributes\":{\"callback\":null,\"end\":27},\"id\":\"2048\",\"type\":\"Range1d\"},{\"attributes\":{},\"id\":\"2138\",\"type\":\"BasicTickFormatter\"},{\"attributes\":{\"color_mapper\":{\"id\":\"2059\",\"type\":\"LinearColorMapper\"},\"dh\":{\"units\":\"data\",\"value\":27},\"dw\":{\"units\":\"data\",\"value\":27},\"image\":{\"field\":\"image\"},\"x\":{\"value\":0},\"y\":{\"value\":0}},\"id\":\"2058\",\"type\":\"Image\"},{\"attributes\":{\"active_drag\":\"auto\",\"active_inspect\":\"auto\",\"active_multi\":null,\"active_scroll\":\"auto\",\"active_tap\":\"auto\"},\"id\":\"2056\",\"type\":\"Toolbar\"}],\"root_ids\":[\"2047\"]},\"title\":\"Bokeh Application\",\"version\":\"1.4.0\"}};\n",
       "  var render_items = [{\"docid\":\"2810c51b-3810-4f0e-8328-07480d13a079\",\"roots\":{\"2047\":\"108523f5-22d5-4df5-91c6-6f4199533a86\"}}];\n",
       "  root.Bokeh.embed.embed_items_notebook(docs_json, render_items);\n",
       "\n",
       "  }\n",
       "  if (root.Bokeh !== undefined) {\n",
       "    embed_document(root);\n",
       "  } else {\n",
       "    var attempts = 0;\n",
       "    var timer = setInterval(function(root) {\n",
       "      if (root.Bokeh !== undefined) {\n",
       "        clearInterval(timer);\n",
       "        embed_document(root);\n",
       "      } else {\n",
       "        attempts++;\n",
       "        if (attempts > 100) {\n",
       "          clearInterval(timer);\n",
       "          console.log(\"Bokeh: ERROR: Unable to run BokehJS code because BokehJS library is missing\");\n",
       "        }\n",
       "      }\n",
       "    }, 10, root)\n",
       "  }\n",
       "})(window);"
      ],
      "application/vnd.bokehjs_exec.v0+json": ""
     },
     "metadata": {
      "application/vnd.bokehjs_exec.v0+json": {
       "id": "2047"
      }
     },
     "output_type": "display_data"
    },
    {
     "data": {
      "text/html": [
       "\n",
       "\n",
       "\n",
       "\n",
       "\n",
       "\n",
       "  <div class=\"bk-root\" id=\"8bc523a5-3e5d-46ca-b791-09564e9601a6\" data-root-id=\"2178\"></div>\n"
      ]
     },
     "metadata": {},
     "output_type": "display_data"
    },
    {
     "data": {
      "application/javascript": [
       "(function(root) {\n",
       "  function embed_document(root) {\n",
       "    \n",
       "  var docs_json = {\"a5aff2b9-07a3-4ab8-92f5-1295f056388e\":{\"roots\":{\"references\":[{\"attributes\":{\"above\":[{\"id\":\"2195\",\"type\":\"LinearAxis\"}],\"left\":[{\"id\":\"2198\",\"type\":\"LinearAxis\"}],\"renderers\":[{\"id\":\"2193\",\"type\":\"GlyphRenderer\"}],\"title\":{\"id\":\"2273\",\"type\":\"Title\"},\"toolbar\":{\"id\":\"2187\",\"type\":\"Toolbar\"},\"x_range\":{\"id\":\"2179\",\"type\":\"Range1d\"},\"x_scale\":{\"id\":\"2183\",\"type\":\"LinearScale\"},\"y_range\":{\"id\":\"2181\",\"type\":\"Range1d\"},\"y_scale\":{\"id\":\"2185\",\"type\":\"LinearScale\"}},\"id\":\"2178\",\"subtype\":\"Figure\",\"type\":\"Plot\"},{\"attributes\":{\"active_drag\":\"auto\",\"active_inspect\":\"auto\",\"active_multi\":null,\"active_scroll\":\"auto\",\"active_tap\":\"auto\"},\"id\":\"2187\",\"type\":\"Toolbar\"},{\"attributes\":{\"ticks\":[0.5,1.5,2.5,3.5,4.5,5.5,6.5,7.5,8.5,9.5,10.5,11.5,12.5,13.5,14.5,15.5,16.5,17.5,18.5,19.5,20.5,21.5,22.5,23.5,24.5,25.5,26.5]},\"id\":\"2196\",\"type\":\"FixedTicker\"},{\"attributes\":{\"axis_label\":\"source tokens\",\"formatter\":{\"id\":\"2276\",\"type\":\"BasicTickFormatter\"},\"major_label_orientation\":45,\"major_label_overrides\":{\"0.5\":\"[CLS]\",\"1.5\":\"which\",\"10.5\":\"?\",\"11.5\":\"[SEP]\",\"12.5\":\"just\",\"13.5\":\"the\",\"14.5\":\"place\",\"15.5\":\"for\",\"16.5\":\"a\",\"17.5\":\"s\",\"18.5\":\"##nar\",\"19.5\":\"##k\",\"2.5\":\"is\",\"20.5\":\"!\",\"21.5\":\"\\\"\",\"22.5\":\"the\",\"23.5\":\"bell\",\"24.5\":\"##man\",\"25.5\":\"cried\",\"26.5\":\"[SEP]\",\"3.5\":\"better\",\"4.5\":\",\",\"5.5\":\"a\",\"6.5\":\"laptop\",\"7.5\":\"or\",\"8.5\":\"a\",\"9.5\":\"desktop\"},\"ticker\":{\"id\":\"2196\",\"type\":\"FixedTicker\"}},\"id\":\"2195\",\"type\":\"LinearAxis\"},{\"attributes\":{},\"id\":\"2185\",\"type\":\"LinearScale\"},{\"attributes\":{\"axis_label\":\"translation tokens\",\"formatter\":{\"id\":\"2275\",\"type\":\"BasicTickFormatter\"},\"major_label_overrides\":{\"0.5\":\"[CLS]\",\"1.5\":\"which\",\"10.5\":\"?\",\"11.5\":\"[SEP]\",\"12.5\":\"just\",\"13.5\":\"the\",\"14.5\":\"place\",\"15.5\":\"for\",\"16.5\":\"a\",\"17.5\":\"s\",\"18.5\":\"##nar\",\"19.5\":\"##k\",\"2.5\":\"is\",\"20.5\":\"!\",\"21.5\":\"\\\"\",\"22.5\":\"the\",\"23.5\":\"bell\",\"24.5\":\"##man\",\"25.5\":\"cried\",\"26.5\":\"[SEP]\",\"3.5\":\"better\",\"4.5\":\",\",\"5.5\":\"a\",\"6.5\":\"laptop\",\"7.5\":\"or\",\"8.5\":\"a\",\"9.5\":\"desktop\"},\"ticker\":{\"id\":\"2199\",\"type\":\"FixedTicker\"}},\"id\":\"2198\",\"type\":\"LinearAxis\"},{\"attributes\":{},\"id\":\"2278\",\"type\":\"UnionRenderers\"},{\"attributes\":{},\"id\":\"2275\",\"type\":\"BasicTickFormatter\"},{\"attributes\":{},\"id\":\"2183\",\"type\":\"LinearScale\"},{\"attributes\":{},\"id\":\"2277\",\"type\":\"Selection\"},{\"attributes\":{\"data_source\":{\"id\":\"2188\",\"type\":\"ColumnDataSource\"},\"glyph\":{\"id\":\"2189\",\"type\":\"Image\"},\"hover_glyph\":null,\"muted_glyph\":null,\"nonselection_glyph\":{\"id\":\"2191\",\"type\":\"Image\"},\"selection_glyph\":null,\"view\":{\"id\":\"2194\",\"type\":\"CDSView\"}},\"id\":\"2193\",\"type\":\"GlyphRenderer\"},{\"attributes\":{\"source\":{\"id\":\"2188\",\"type\":\"ColumnDataSource\"}},\"id\":\"2194\",\"type\":\"CDSView\"},{\"attributes\":{\"color_mapper\":{\"id\":\"2190\",\"type\":\"LinearColorMapper\"},\"dh\":{\"units\":\"data\",\"value\":27},\"dw\":{\"units\":\"data\",\"value\":27},\"image\":{\"field\":\"image\"},\"x\":{\"value\":0},\"y\":{\"value\":0}},\"id\":\"2189\",\"type\":\"Image\"},{\"attributes\":{\"ticks\":[0.5,1.5,2.5,3.5,4.5,5.5,6.5,7.5,8.5,9.5,10.5,11.5,12.5,13.5,14.5,15.5,16.5,17.5,18.5,19.5,20.5,21.5,22.5,23.5,24.5,25.5,26.5]},\"id\":\"2199\",\"type\":\"FixedTicker\"},{\"attributes\":{\"palette\":[\"#000000\",\"#252525\",\"#525252\",\"#737373\",\"#969696\",\"#bdbdbd\",\"#d9d9d9\",\"#f0f0f0\",\"#ffffff\"]},\"id\":\"2192\",\"type\":\"LinearColorMapper\"},{\"attributes\":{\"callback\":null,\"end\":27},\"id\":\"2179\",\"type\":\"Range1d\"},{\"attributes\":{\"palette\":[\"#000000\",\"#252525\",\"#525252\",\"#737373\",\"#969696\",\"#bdbdbd\",\"#d9d9d9\",\"#f0f0f0\",\"#ffffff\"]},\"id\":\"2190\",\"type\":\"LinearColorMapper\"},{\"attributes\":{\"color_mapper\":{\"id\":\"2192\",\"type\":\"LinearColorMapper\"},\"dh\":{\"units\":\"data\",\"value\":27},\"dw\":{\"units\":\"data\",\"value\":27},\"image\":{\"field\":\"image\"},\"x\":{\"value\":0},\"y\":{\"value\":0}},\"id\":\"2191\",\"type\":\"Image\"},{\"attributes\":{},\"id\":\"2276\",\"type\":\"BasicTickFormatter\"},{\"attributes\":{\"text\":\"\"},\"id\":\"2273\",\"type\":\"Title\"},{\"attributes\":{\"callback\":null,\"end\":27},\"id\":\"2181\",\"type\":\"Range1d\"},{\"attributes\":{\"callback\":null,\"data\":{\"image\":[{\"__ndarray__\":\"x3+2PU3nnztMUQw+EIgOPV4rIj28wLU7irp8O4/kPjvDNn87qNtEO73s+T0rmjU+kpzBO+6vrT013IU97kJ8PUKf+jsCA9U6/bOVO8mg+TuBTQY710JbPVF8pj2YkKA8l1E6O/RqJDwQH4E8epK9O4hzdDrnOYA6YHrSOheQyjnFVEc651HiPA5gjT4EsI47fKmaO4vUjjw6GqQ7gvsYOoPRjjk0XgM7jkXNOdEurTnpz6c8W/wUP/kBFT4tBvI6JgMWPjtSvDyB/5Q831DIOkBc0jq9FwI7p6yNOmO4HjtvKbo9Rz9pPi2oHjsnrps9ZgEmPfClpjxRmLY67AU9OpvcBTsx3Lo6aq/lOmyDFj1I+h0+tLU6PFMxMTx5jLM829mwPBZ8qTurMuA6R44GO3BCzzsEUjc6vpWkOv9ipzy3m5A+zg3pO5JMHDyZhJs8iGxnO7RgKDpT0xo6aLCtO7Vh8Tl6z805R1p4PJ5vDT+CGu09ecwUPMBSHj0TAlo8oa3APAIzqzqP2es7Rl0bPNZmJToNQcA7V83mPYa4gj4hfSU8saquPN4hXDxP0i883O9KOpzWcTtpb8Q74v4IOslnYTtJkVw9Ew6RPpLEXT3a3bA8SPqAPXgUAz5cOIY8cEFrPP2j2DtXlaQ8JSzsO/bIuDvpUzQ9f+BUPjDfLzynNsw8Fr13Pa5TMTzGPYQ7d4WpOvKyIDwaj387Hc+yOow2RT2LNnE+km+HPAOvizvvbRI8KoOePGB6STuv2M07nYRuPOs08zvaMGM7D7E4PP4yLTwciac++HYjO4rQhztfSAI8NSFCO/YvETuEvmQ7rRW0Ozt49DpHEVg79EQuPIfCBT+IaPw7PrWcPGJWmDy+OU48oR0fPJ+cLDubakQ7C3F3PKa+dTqQsrs6qZdDPXW3Xz64rmM8LzoGPFbnIzwqLps76VVmOpkf4Dlzj/Y7d38fOuAd0zlTv8A8dZ8SP0xFTD1O/Xo8Z2KZPWhDBz5Q0Y48LnKWPJycCDxA/ZM8Y7IlPEab3zsmtRo99gVQPkoXDzwlMuc8/pyPPYuaSjxj6cY7qHX/OvaNIDyO4sI7uaj0OuKPIz3JGWQ+JOtmPB2uojtKHwk8/R4NPVUsRzvQRig8Ewl5PBZ53DsjA7E7AzotPHx7tTvOXKc+oiBPO9WsazuMuFg8/SUuOx7Fcjt3vZk7cUaiO2YiUTv1T4A7psqWO+a8AT8s5Zw8Qc/AOzikXTzfq4Q7GGA1PHLwATrPetY5lsWjO+YwBTl4Pqk4TQ+FPuJLZT4h47k7jwbGO2I4tDuDSrA7R+CCOd/fojj3pHA73IrqOOg88zfJ2YE9rIa7PgJcejyAXwg8CGxGPGE0ezxzNAU8CQf4O9D1kTwQK4I7v0OKO0SCWTwsYOs7Ic+dPhEIBDxc/A08K+Y9PDg84Dsj36A7aYvXOzfAYTtcrnM7OT3TOyfy5DsF5gI/vDwNPF5JADtLxcg7SA2kO9kD9Tsh9CQ6neA6ObokMjr7ip05dfwSOc5I8DswXoI+ophaO7m8ljt/9O07vIP2O6wJCDpz0E04/ahJOkEOzDmUbYw4oY/xO23PLD86CWg++BccO6cNFz76sKY8mgiAPNfRBjs0IoA692TmOinlxDq7mbo6ruaUPZnKNT4x2GA77P7XPYdVJj0KA708bcIUOwi3+jmB4O06oMIhO4NRqTqI+yg98P3bPegrfDzPjng8SrYCPeD/pDy/NeI7yRMWO5IRdTp68qA7MJmWOuuaIjoN14E8Yx2bPizyHjxbuJo8k1KdPB7d0TuWQJY69vaNOeekeDsoIHg63KtgOVUegTxJZAE/vtEUPm5/Djwb0W09pYWqPLUM4zz1Nwk7wOGIO4X0mjsqzqE6d+diOxrFdD2IPpA+9DD6O5EEEz17faw8Nn+IPJL/uTrwswY7m8UyOxabkDqtRPc6cxQRPco+gz5EOT49MNCHPEYOgT0AKZk9XZKqPCOJgzzdQQg7C0yyO8lIDzyQmQg7kg+WPBdIhj6OpBs8x80HPekNPT0E+H088rTKO9bH8jlMfj47h924O+DeGzobTfk8/CqgPq8qkTxjjuI7mxwpPLnYqDxfmI47luZSPIqDwjvlGXA7/A0FPNpWxDvCv4I7hdKfPnUNlTvjc8Q7N0QcPIM2qDurNtA7uyLfOlm9OTvZE7c76iUTO3N57jtGQAk/rLSTO3xEhjxP7pE8sNImPBDANjy5Vxs7021/OmpIXjvzNnY6DoYrOsluYjwIYmY+iIxbPE8YMjx1Sxc8DtPROylgmjo91zI5AmcMO7ADXDqH8Fw5zkc3PHMeIz/wcS09dwtaPFJnij1YeLg9tUybPCxtkzzSHkI70izEO40gKzzMbis7BbiHPERWgj7LNwc8MoYJPVWTbz3bKGg8RkrsO1oVPzoKGk07SqnhO7xATTrRGMY8WC+ZPuu+VTxqlQM8VnVAPAPGET2Wp547aCSSPPW1yjtux0c7Sa4tPH4ItzuPjRE7LDeePiY7xDvrV+w7tjmSPK35tzt4CzI8OmwwOxYoNDvD9xs8V2RKOy6/YDs51AA/PIwSPSQ0RDzVuPw88FE6PHiSsDxmMqM6Wb0bOrGktDsXGqk5BIRMOWDcgz5Qnl8+MGYCPGICbTx2EmU8Isc7PP95GToUM944h1NUOyRVkDnCtpg411DNPV8rgT5nPFI8Pw+zPCDOhjzkBfE8TSw8PLbyjTzDKU49yKg0PJL9VDzvRyY9QZsEPJXXcj5h8IY8Jiw5PBSIlTwVGgM8ylgqPMg/mjzk6AU8+NwUPNzZmzxuBPs78nLOPg==\",\"dtype\":\"float32\",\"shape\":[23,23]}]},\"selected\":{\"id\":\"2277\",\"type\":\"Selection\"},\"selection_policy\":{\"id\":\"2278\",\"type\":\"UnionRenderers\"}},\"id\":\"2188\",\"type\":\"ColumnDataSource\"}],\"root_ids\":[\"2178\"]},\"title\":\"Bokeh Application\",\"version\":\"1.4.0\"}};\n",
       "  var render_items = [{\"docid\":\"a5aff2b9-07a3-4ab8-92f5-1295f056388e\",\"roots\":{\"2178\":\"8bc523a5-3e5d-46ca-b791-09564e9601a6\"}}];\n",
       "  root.Bokeh.embed.embed_items_notebook(docs_json, render_items);\n",
       "\n",
       "  }\n",
       "  if (root.Bokeh !== undefined) {\n",
       "    embed_document(root);\n",
       "  } else {\n",
       "    var attempts = 0;\n",
       "    var timer = setInterval(function(root) {\n",
       "      if (root.Bokeh !== undefined) {\n",
       "        clearInterval(timer);\n",
       "        embed_document(root);\n",
       "      } else {\n",
       "        attempts++;\n",
       "        if (attempts > 100) {\n",
       "          clearInterval(timer);\n",
       "          console.log(\"Bokeh: ERROR: Unable to run BokehJS code because BokehJS library is missing\");\n",
       "        }\n",
       "      }\n",
       "    }, 10, root)\n",
       "  }\n",
       "})(window);"
      ],
      "application/vnd.bokehjs_exec.v0+json": ""
     },
     "metadata": {
      "application/vnd.bokehjs_exec.v0+json": {
       "id": "2178"
      }
     },
     "output_type": "display_data"
    }
   ],
   "source": [
    "trans_tokens = tokenized_texts\n",
    "inp_tokens = tokenized_texts\n",
    "for ii in range(11):\n",
    "    probs = answ[2][ii][0][0].detach().numpy()\n",
    "    probs = probs[:len(trans_tokens[0]), :len(inp_tokens[0])]\n",
    "    fig = pl.figure(x_range=(0, len(inp_tokens[0])), y_range=(0, len(trans_tokens[0])),\n",
    "                        x_axis_type=None, y_axis_type=None, tools=[])\n",
    "    fig.image([probs], 0, 0, len(inp_tokens[0]), len(trans_tokens[0]))\n",
    "\n",
    "    fig.add_layout(bm.LinearAxis(axis_label='source tokens'), 'above')\n",
    "    fig.xaxis.ticker = np.arange(len(inp_tokens[0])) + 0.5\n",
    "    fig.xaxis.major_label_overrides = dict(zip(np.arange(len(inp_tokens[0])) + 0.5, inp_tokens[0]))\n",
    "    fig.xaxis.major_label_orientation = 45\n",
    "\n",
    "    fig.add_layout(bm.LinearAxis(axis_label='translation tokens'), 'left')\n",
    "    fig.yaxis.ticker = np.arange(len(trans_tokens[0])) + 0.5\n",
    "    fig.yaxis.major_label_overrides = dict(zip(np.arange(len(trans_tokens[0])) + 0.5, trans_tokens[0]))\n",
    "\n",
    "    show(fig)"
   ]
  },
  {
   "cell_type": "code",
   "execution_count": 59,
   "metadata": {},
   "outputs": [
    {
     "name": "stdout",
     "output_type": "stream",
     "text": [
      "[CLS] Which is better, a laptop or a desktop? [SEP] Just the place for a Snark!\" the Bellman cried [SEP]\n",
      "Tokenize the first sentence:\n",
      "['[CLS]', 'which', 'is', 'better', ',', 'a', 'laptop', 'or', 'a', 'desktop', '?', '[SEP]', 'just', 'the', 'place', 'for', 'a', 's', '##nar', '##k', '!', '\"', 'the', 'bell', '##man', 'cried', '[SEP]']\n"
     ]
    },
    {
     "ename": "RuntimeError",
     "evalue": "The size of tensor a (27) must match the size of tensor b (26) at non-singleton dimension 1",
     "output_type": "error",
     "traceback": [
      "\u001b[0;31m\u001b[0m",
      "\u001b[0;31mRuntimeError\u001b[0mTraceback (most recent call last)",
      "\u001b[0;32m<ipython-input-59-207bd9a804a4>\u001b[0m in \u001b[0;36m<module>\u001b[0;34m\u001b[0m\n\u001b[1;32m     13\u001b[0m \u001b[0mtokens_tensor\u001b[0m \u001b[0;34m=\u001b[0m \u001b[0mtorch\u001b[0m\u001b[0;34m.\u001b[0m\u001b[0mtensor\u001b[0m\u001b[0;34m(\u001b[0m\u001b[0;34m[\u001b[0m\u001b[0mindexed_tokens\u001b[0m\u001b[0;34m]\u001b[0m\u001b[0;34m)\u001b[0m\u001b[0;34m\u001b[0m\u001b[0;34m\u001b[0m\u001b[0m\n\u001b[1;32m     14\u001b[0m \u001b[0msegments_tensors\u001b[0m \u001b[0;34m=\u001b[0m \u001b[0mtorch\u001b[0m\u001b[0;34m.\u001b[0m\u001b[0mtensor\u001b[0m\u001b[0;34m(\u001b[0m\u001b[0;34m[\u001b[0m\u001b[0msegments_ids\u001b[0m\u001b[0;34m]\u001b[0m\u001b[0;34m)\u001b[0m\u001b[0;34m\u001b[0m\u001b[0;34m\u001b[0m\u001b[0m\n\u001b[0;32m---> 15\u001b[0;31m \u001b[0mansw\u001b[0m \u001b[0;34m=\u001b[0m \u001b[0mmodel\u001b[0m\u001b[0;34m(\u001b[0m\u001b[0mtokens_tensor\u001b[0m\u001b[0;34m,\u001b[0m \u001b[0msegments_tensors\u001b[0m\u001b[0;34m)\u001b[0m\u001b[0;34m\u001b[0m\u001b[0;34m\u001b[0m\u001b[0m\n\u001b[0m\u001b[1;32m     16\u001b[0m \u001b[0;34m\u001b[0m\u001b[0m\n\u001b[1;32m     17\u001b[0m \u001b[0mtrans_tokens\u001b[0m \u001b[0;34m=\u001b[0m \u001b[0mtokenized_texts\u001b[0m\u001b[0;34m\u001b[0m\u001b[0;34m\u001b[0m\u001b[0m\n",
      "\u001b[0;32m/opt/.pyenv/versions/3.7.4/lib/python3.7/site-packages/torch/nn/modules/module.py\u001b[0m in \u001b[0;36m__call__\u001b[0;34m(self, *input, **kwargs)\u001b[0m\n\u001b[1;32m    539\u001b[0m             \u001b[0mresult\u001b[0m \u001b[0;34m=\u001b[0m \u001b[0mself\u001b[0m\u001b[0;34m.\u001b[0m\u001b[0m_slow_forward\u001b[0m\u001b[0;34m(\u001b[0m\u001b[0;34m*\u001b[0m\u001b[0minput\u001b[0m\u001b[0;34m,\u001b[0m \u001b[0;34m**\u001b[0m\u001b[0mkwargs\u001b[0m\u001b[0;34m)\u001b[0m\u001b[0;34m\u001b[0m\u001b[0;34m\u001b[0m\u001b[0m\n\u001b[1;32m    540\u001b[0m         \u001b[0;32melse\u001b[0m\u001b[0;34m:\u001b[0m\u001b[0;34m\u001b[0m\u001b[0;34m\u001b[0m\u001b[0m\n\u001b[0;32m--> 541\u001b[0;31m             \u001b[0mresult\u001b[0m \u001b[0;34m=\u001b[0m \u001b[0mself\u001b[0m\u001b[0;34m.\u001b[0m\u001b[0mforward\u001b[0m\u001b[0;34m(\u001b[0m\u001b[0;34m*\u001b[0m\u001b[0minput\u001b[0m\u001b[0;34m,\u001b[0m \u001b[0;34m**\u001b[0m\u001b[0mkwargs\u001b[0m\u001b[0;34m)\u001b[0m\u001b[0;34m\u001b[0m\u001b[0;34m\u001b[0m\u001b[0m\n\u001b[0m\u001b[1;32m    542\u001b[0m         \u001b[0;32mfor\u001b[0m \u001b[0mhook\u001b[0m \u001b[0;32min\u001b[0m \u001b[0mself\u001b[0m\u001b[0;34m.\u001b[0m\u001b[0m_forward_hooks\u001b[0m\u001b[0;34m.\u001b[0m\u001b[0mvalues\u001b[0m\u001b[0;34m(\u001b[0m\u001b[0;34m)\u001b[0m\u001b[0;34m:\u001b[0m\u001b[0;34m\u001b[0m\u001b[0;34m\u001b[0m\u001b[0m\n\u001b[1;32m    543\u001b[0m             \u001b[0mhook_result\u001b[0m \u001b[0;34m=\u001b[0m \u001b[0mhook\u001b[0m\u001b[0;34m(\u001b[0m\u001b[0mself\u001b[0m\u001b[0;34m,\u001b[0m \u001b[0minput\u001b[0m\u001b[0;34m,\u001b[0m \u001b[0mresult\u001b[0m\u001b[0;34m)\u001b[0m\u001b[0;34m\u001b[0m\u001b[0;34m\u001b[0m\u001b[0m\n",
      "\u001b[0;32m/opt/.pyenv/versions/3.7.4/lib/python3.7/site-packages/pytorch_transformers/modeling_bert.py\u001b[0m in \u001b[0;36mforward\u001b[0;34m(self, input_ids, token_type_ids, attention_mask, position_ids, head_mask)\u001b[0m\n\u001b[1;32m    710\u001b[0m             \u001b[0mhead_mask\u001b[0m \u001b[0;34m=\u001b[0m \u001b[0;34m[\u001b[0m\u001b[0;32mNone\u001b[0m\u001b[0;34m]\u001b[0m \u001b[0;34m*\u001b[0m \u001b[0mself\u001b[0m\u001b[0;34m.\u001b[0m\u001b[0mconfig\u001b[0m\u001b[0;34m.\u001b[0m\u001b[0mnum_hidden_layers\u001b[0m\u001b[0;34m\u001b[0m\u001b[0;34m\u001b[0m\u001b[0m\n\u001b[1;32m    711\u001b[0m \u001b[0;34m\u001b[0m\u001b[0m\n\u001b[0;32m--> 712\u001b[0;31m         \u001b[0membedding_output\u001b[0m \u001b[0;34m=\u001b[0m \u001b[0mself\u001b[0m\u001b[0;34m.\u001b[0m\u001b[0membeddings\u001b[0m\u001b[0;34m(\u001b[0m\u001b[0minput_ids\u001b[0m\u001b[0;34m,\u001b[0m \u001b[0mposition_ids\u001b[0m\u001b[0;34m=\u001b[0m\u001b[0mposition_ids\u001b[0m\u001b[0;34m,\u001b[0m \u001b[0mtoken_type_ids\u001b[0m\u001b[0;34m=\u001b[0m\u001b[0mtoken_type_ids\u001b[0m\u001b[0;34m)\u001b[0m\u001b[0;34m\u001b[0m\u001b[0;34m\u001b[0m\u001b[0m\n\u001b[0m\u001b[1;32m    713\u001b[0m         encoder_outputs = self.encoder(embedding_output,\n\u001b[1;32m    714\u001b[0m                                        \u001b[0mextended_attention_mask\u001b[0m\u001b[0;34m,\u001b[0m\u001b[0;34m\u001b[0m\u001b[0;34m\u001b[0m\u001b[0m\n",
      "\u001b[0;32m/opt/.pyenv/versions/3.7.4/lib/python3.7/site-packages/torch/nn/modules/module.py\u001b[0m in \u001b[0;36m__call__\u001b[0;34m(self, *input, **kwargs)\u001b[0m\n\u001b[1;32m    539\u001b[0m             \u001b[0mresult\u001b[0m \u001b[0;34m=\u001b[0m \u001b[0mself\u001b[0m\u001b[0;34m.\u001b[0m\u001b[0m_slow_forward\u001b[0m\u001b[0;34m(\u001b[0m\u001b[0;34m*\u001b[0m\u001b[0minput\u001b[0m\u001b[0;34m,\u001b[0m \u001b[0;34m**\u001b[0m\u001b[0mkwargs\u001b[0m\u001b[0;34m)\u001b[0m\u001b[0;34m\u001b[0m\u001b[0;34m\u001b[0m\u001b[0m\n\u001b[1;32m    540\u001b[0m         \u001b[0;32melse\u001b[0m\u001b[0;34m:\u001b[0m\u001b[0;34m\u001b[0m\u001b[0;34m\u001b[0m\u001b[0m\n\u001b[0;32m--> 541\u001b[0;31m             \u001b[0mresult\u001b[0m \u001b[0;34m=\u001b[0m \u001b[0mself\u001b[0m\u001b[0;34m.\u001b[0m\u001b[0mforward\u001b[0m\u001b[0;34m(\u001b[0m\u001b[0;34m*\u001b[0m\u001b[0minput\u001b[0m\u001b[0;34m,\u001b[0m \u001b[0;34m**\u001b[0m\u001b[0mkwargs\u001b[0m\u001b[0;34m)\u001b[0m\u001b[0;34m\u001b[0m\u001b[0;34m\u001b[0m\u001b[0m\n\u001b[0m\u001b[1;32m    542\u001b[0m         \u001b[0;32mfor\u001b[0m \u001b[0mhook\u001b[0m \u001b[0;32min\u001b[0m \u001b[0mself\u001b[0m\u001b[0;34m.\u001b[0m\u001b[0m_forward_hooks\u001b[0m\u001b[0;34m.\u001b[0m\u001b[0mvalues\u001b[0m\u001b[0;34m(\u001b[0m\u001b[0;34m)\u001b[0m\u001b[0;34m:\u001b[0m\u001b[0;34m\u001b[0m\u001b[0;34m\u001b[0m\u001b[0m\n\u001b[1;32m    543\u001b[0m             \u001b[0mhook_result\u001b[0m \u001b[0;34m=\u001b[0m \u001b[0mhook\u001b[0m\u001b[0;34m(\u001b[0m\u001b[0mself\u001b[0m\u001b[0;34m,\u001b[0m \u001b[0minput\u001b[0m\u001b[0;34m,\u001b[0m \u001b[0mresult\u001b[0m\u001b[0;34m)\u001b[0m\u001b[0;34m\u001b[0m\u001b[0;34m\u001b[0m\u001b[0m\n",
      "\u001b[0;32m/opt/.pyenv/versions/3.7.4/lib/python3.7/site-packages/pytorch_transformers/modeling_bert.py\u001b[0m in \u001b[0;36mforward\u001b[0;34m(self, input_ids, token_type_ids, position_ids)\u001b[0m\n\u001b[1;32m    266\u001b[0m         \u001b[0mtoken_type_embeddings\u001b[0m \u001b[0;34m=\u001b[0m \u001b[0mself\u001b[0m\u001b[0;34m.\u001b[0m\u001b[0mtoken_type_embeddings\u001b[0m\u001b[0;34m(\u001b[0m\u001b[0mtoken_type_ids\u001b[0m\u001b[0;34m)\u001b[0m\u001b[0;34m\u001b[0m\u001b[0;34m\u001b[0m\u001b[0m\n\u001b[1;32m    267\u001b[0m \u001b[0;34m\u001b[0m\u001b[0m\n\u001b[0;32m--> 268\u001b[0;31m         \u001b[0membeddings\u001b[0m \u001b[0;34m=\u001b[0m \u001b[0mwords_embeddings\u001b[0m \u001b[0;34m+\u001b[0m \u001b[0mposition_embeddings\u001b[0m \u001b[0;34m+\u001b[0m \u001b[0mtoken_type_embeddings\u001b[0m\u001b[0;34m\u001b[0m\u001b[0;34m\u001b[0m\u001b[0m\n\u001b[0m\u001b[1;32m    269\u001b[0m         \u001b[0membeddings\u001b[0m \u001b[0;34m=\u001b[0m \u001b[0mself\u001b[0m\u001b[0;34m.\u001b[0m\u001b[0mLayerNorm\u001b[0m\u001b[0;34m(\u001b[0m\u001b[0membeddings\u001b[0m\u001b[0;34m)\u001b[0m\u001b[0;34m\u001b[0m\u001b[0;34m\u001b[0m\u001b[0m\n\u001b[1;32m    270\u001b[0m         \u001b[0membeddings\u001b[0m \u001b[0;34m=\u001b[0m \u001b[0mself\u001b[0m\u001b[0;34m.\u001b[0m\u001b[0mdropout\u001b[0m\u001b[0;34m(\u001b[0m\u001b[0membeddings\u001b[0m\u001b[0;34m)\u001b[0m\u001b[0;34m\u001b[0m\u001b[0;34m\u001b[0m\u001b[0m\n",
      "\u001b[0;31mRuntimeError\u001b[0m: The size of tensor a (27) must match the size of tensor b (26) at non-singleton dimension 1"
     ]
    }
   ],
   "source": [
    "sentences = [\"[CLS] \" + query + \" [SEP] \" + 'Just the place for a Snark!\" the Bellman cried' + \" [SEP]\"]\n",
    "print(sentences[0])\n",
    "\n",
    "# Tokenize with BERT tokenizer\n",
    "tokenizer = BertTokenizer.from_pretrained('bert-base-uncased', do_lower_case=True)\n",
    "tokenized_texts = [tokenizer.tokenize(sent) for sent in sentences]\n",
    "print (\"Tokenize the first sentence:\")\n",
    "print (tokenized_texts[0])\n",
    "indexed_tokens = tokenizer.convert_tokens_to_ids(tokenized_texts[0])\n",
    "# Define sentence A and B indices associated to 1st and 2nd sentences (see paper)\n",
    "segments_ids = [0, 0, 0, 0, 0, 0, 0, 0, 0, 0, 0] + 15*[1]\n",
    "\n",
    "tokens_tensor = torch.tensor([indexed_tokens])\n",
    "segments_tensors = torch.tensor([segments_ids])\n",
    "answ = model(tokens_tensor, segments_tensors)\n",
    "\n",
    "trans_tokens = tokenized_texts\n",
    "inp_tokens = tokenized_texts\n",
    "\n",
    "probs = answ[2][9][0][0].detach().numpy()\n",
    "probs = probs[:len(trans_tokens[0]), :len(inp_tokens[0])]\n",
    "fig = pl.figure(x_range=(0, len(inp_tokens[0])), y_range=(0, len(trans_tokens[0])),\n",
    "                    x_axis_type=None, y_axis_type=None, tools=[])\n",
    "fig.image([probs], 0, 0, len(inp_tokens[0]), len(trans_tokens[0]))\n",
    "\n",
    "fig.add_layout(bm.LinearAxis(axis_label='source tokens'), 'above')\n",
    "fig.xaxis.ticker = np.arange(len(inp_tokens[0])) + 0.5\n",
    "fig.xaxis.major_label_overrides = dict(zip(np.arange(len(inp_tokens[0])) + 0.5, inp_tokens[0]))\n",
    "fig.xaxis.major_label_orientation = 45\n",
    "\n",
    "fig.add_layout(bm.LinearAxis(axis_label='translation tokens'), 'left')\n",
    "fig.yaxis.ticker = np.arange(len(trans_tokens[0])) + 0.5\n",
    "fig.yaxis.major_label_overrides = dict(zip(np.arange(len(trans_tokens[0])) + 0.5, trans_tokens[0]))\n",
    "\n",
    "show(fig)"
   ]
  },
  {
   "cell_type": "code",
   "execution_count": 17,
   "metadata": {},
   "outputs": [],
   "source": [
    "def run_baseline(output_dir = '/notebook/touche/output/', input_dir = '/notebook/touche/', input_file = 'topics-task-2-only-titles.xml'):\n",
    "    list_of_tuples = read_xml(input_dir + input_file)\n",
    "    common_list = []\n",
    "    \n",
    "    with open(output_dir + 'run_example.txt', 'w') as fp:\n",
    "        fp.write('\\n'.join('%s %s %s %s %s %s' % x for x in common_list))\n",
    "        \n",
    "    print (\"lstm\")    \n",
    "    for elem in list_of_tuples:\n",
    "        qid = elem[0]\n",
    "        Q0 = 'Q0'\n",
    "        query = elem[1]\n",
    "        tag = 'Method3'\n",
    "        response = make_a_search_request(query)\n",
    "        try:\n",
    "            getted_request = response.json()\n",
    "        except:\n",
    "            print (\"exept0\")\n",
    "            return getted_request\n",
    "        \n",
    "        n_request = 100\n",
    "        while (n_request > 0 and 'results' not in getted_request):\n",
    "            response = make_a_search_request(query)\n",
    "            getted_request = response.json()\n",
    "            n_request == n_request - 1\n",
    "            print (\"rerequest\", query)\n",
    "            \n",
    "        try:\n",
    "            scores0 = [elem['score'] for elem in getted_request['results']]\n",
    "            print (\"0\")\n",
    "            docs = [elem['trec_id'] for elem in getted_request['results']]\n",
    "            print (\"1\")\n",
    "            titles = [elem['title'] for elem in getted_request['results']]\n",
    "            print (\"2\")\n",
    "            answers_bodies = [cleanhtml(elem['snippet']) for elem in getted_request['results']]\n",
    "            print (\"3\")\n",
    "            # print (scores0, scores3, scores)\n",
    "        except:\n",
    "            print (\"exept1\")\n",
    "            return getted_request\n",
    "        scores = make_scores_lstm(query, answers_bodies)\n",
    "        qids = qid*len(scores)\n",
    "        Q0s = [Q0 for elem in scores]\n",
    "        queries = query*len(scores)\n",
    "        tags = [tag for elem in scores]\n",
    "        part_of_commom_list = list(zip(qids, Q0s, docs, scores, tags))\n",
    "        part_of_commom_list = sorted(part_of_commom_list, key = lambda x: x[3], reverse = True) \n",
    "        \n",
    "        qids, Q0s, docs, scores, tags = zip(*part_of_commom_list)\n",
    "        \n",
    "        ranks = range(1, len(scores) + 1)\n",
    "        part_of_commom_list = list(zip(qids, Q0s, docs, ranks, scores, tags))\n",
    "        common_list = common_list + part_of_commom_list\n",
    "\n",
    "    with open(output_dir + 'run_example1.txt', 'w') as fp:\n",
    "        fp.write('\\n'.join('%s %s %s %s %s %s' % x for x in common_list))"
   ]
  },
  {
   "cell_type": "code",
   "execution_count": null,
   "metadata": {},
   "outputs": [
    {
     "name": "stdout",
     "output_type": "stream",
     "text": [
      "1\n",
      "[<DOM Element: topics at 0x7f327e9e1b90>]\n",
      "50\n",
      "lstm\n",
      "0\n",
      "1\n",
      "2\n",
      "3\n",
      "aa shape (1, 1, 64)\n",
      "bb shape (1, 1, 64)\n",
      "0\n",
      "1\n",
      "2\n",
      "3\n",
      "aa shape (1, 1, 64)\n",
      "bb shape (1, 1, 64)\n",
      "rerequest Which is better, Canon or Nikon?\n",
      "0\n",
      "1\n",
      "2\n",
      "3\n",
      "aa shape (1, 1, 64)\n",
      "bb shape (1, 1, 64)\n",
      "0\n",
      "1\n",
      "2\n",
      "3\n",
      "aa shape (1, 1, 64)\n",
      "bb shape (1, 1, 64)\n",
      "0\n",
      "1\n",
      "2\n",
      "3\n",
      "aa shape (1, 1, 64)\n",
      "bb shape (1, 1, 64)\n",
      "0\n",
      "1\n",
      "2\n",
      "3\n"
     ]
    }
   ],
   "source": [
    "run_baseline()"
   ]
  },
  {
   "cell_type": "code",
   "execution_count": null,
   "metadata": {},
   "outputs": [],
   "source": []
  }
 ],
 "metadata": {
  "kernelspec": {
   "display_name": "Python 3",
   "language": "python",
   "name": "python3"
  },
  "language_info": {
   "codemirror_mode": {
    "name": "ipython",
    "version": 3
   },
   "file_extension": ".py",
   "mimetype": "text/x-python",
   "name": "python",
   "nbconvert_exporter": "python",
   "pygments_lexer": "ipython3",
   "version": "3.7.4"
  }
 },
 "nbformat": 4,
 "nbformat_minor": 4
}

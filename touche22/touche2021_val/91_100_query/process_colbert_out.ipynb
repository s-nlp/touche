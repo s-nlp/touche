{
 "cells": [
  {
   "cell_type": "markdown",
   "metadata": {},
   "source": [
    "Data:"
   ]
  },
  {
   "cell_type": "code",
   "execution_count": 1,
   "metadata": {},
   "outputs": [
    {
     "name": "stdout",
     "output_type": "stream",
     "text": [
      "0\n",
      "[]\n"
     ]
    }
   ],
   "source": [
    "import xml.etree.ElementTree as ET\n",
    "mytree = ET.parse('/notebook/Touche22/touche2021_val/topics-task2-51-100.xml') # this is unzip of topics-task2-2022.zip\n",
    "myroot = mytree.getroot()\n",
    "titles = list()\n",
    "for item in myroot:\n",
    "    for x in item:        \n",
    "        if x.tag == \"objects\": # Specify the field, e.g., title\n",
    "            titles.append(x.text)\n",
    "\n",
    "print(len(titles))\n",
    "print(titles)"
   ]
  },
  {
   "cell_type": "code",
   "execution_count": 2,
   "metadata": {},
   "outputs": [],
   "source": [
    "def read_xml(filename):\n",
    "    # convert file filename to list of tuples (number_of_topic, title_of_topic) \n",
    "    # input: filename string\n",
    "    # output: list of corresponding tuples\n",
    "    answer_list = []\n",
    "    xmldoc = minidom.parse(filename)\n",
    "    itemlist = xmldoc.getElementsByTagName('topics')\n",
    "    print(len(itemlist))\n",
    "    print(itemlist)\n",
    "    topic_list = itemlist[0].getElementsByTagName('topic')\n",
    "    print (len(topic_list))\n",
    "    for topic in topic_list:\n",
    "        tuple_for_add = tuple((topic.getElementsByTagName('number')[0].firstChild.nodeValue, topic.getElementsByTagName('title')[0].firstChild.nodeValue))\n",
    "        answer_list.append(tuple_for_add)\n",
    "    return answer_list\n"
   ]
  },
  {
   "cell_type": "code",
   "execution_count": 6,
   "metadata": {},
   "outputs": [
    {
     "name": "stdout",
     "output_type": "stream",
     "text": [
      "1\n",
      "[<DOM Element: topics at 0x7fc3801337d0>]\n",
      "50\n"
     ]
    }
   ],
   "source": [
    "from xml.dom import minidom\n",
    "import re\n",
    "\n",
    "topics_2021 = read_xml('/notebook/Touche22/touche2021_val/topics-task2-51-100.xml')"
   ]
  },
  {
   "cell_type": "code",
   "execution_count": 7,
   "metadata": {},
   "outputs": [
    {
     "data": {
      "text/plain": [
       "[('51', 'What is better at reducing fever in children, Ibuprofen or Aspirin?'),\n",
       " ('52', 'What are the best rice cookers?'),\n",
       " ('53', 'Should I buy steel or ceramic knives?'),\n",
       " ('54', 'Is morning or afternoon sun the best for fruit trees?'),\n",
       " ('55',\n",
       "  'What is better for back pain, chiropractic therapy or physical therapy?'),\n",
       " ('56', 'Is Kenya or Tanzania better for a safari?'),\n",
       " ('57', \"How is a Master's degree different from a Bachelor's degree?\"),\n",
       " ('58', 'Which is better, Family Guy or The Simpsons?'),\n",
       " ('59', 'Which is more difficult, skiing or snowboarding?'),\n",
       " ('60', 'Why is basketball better than football?'),\n",
       " ('61', 'Who is stronger, Hulk or Superman?'),\n",
       " ('62',\n",
       "  'Plastic pots or ceramic pots, which is better in terms of plant health?'),\n",
       " ('63', 'What is the coldest temperature ever recorded on Earth, and where?'),\n",
       " ('64', 'What is the most popular beer in Australia?'),\n",
       " ('65', 'Are dogs better than humans?'),\n",
       " ('66', 'What diet gives the best result to lose weight?'),\n",
       " ('67', 'Should I take the IELTS or the TOEFL?'),\n",
       " ('68', 'Are online courses better than physical classrooms?'),\n",
       " ('69', 'Who was a better boxer, Muhammad Ali or Joe Frazier?'),\n",
       " ('70', \"Which technology performs better: Apple's or Google's?\"),\n",
       " ('71', 'Is gold equal to platinum?'),\n",
       " ('72', 'Who is better at learning a foreign language, kids or adults?'),\n",
       " ('73',\n",
       "  \"What's the difference between coffee, espresso, cappuccino, and latte?\"),\n",
       " ('74', 'Which city is better, London or Paris?'),\n",
       " ('75', 'What is better, a conditioner or a moisturizer?'),\n",
       " ('76', 'Are artificial sweeteners better than white sugar?'),\n",
       " ('77', 'Is it healthier to bake than to fry food?'),\n",
       " ('78', 'Which algorithm is better, quicksort or merge sort?'),\n",
       " ('79', 'What is more interesting, computer science or computer engineering?'),\n",
       " ('80', 'What is the difference between a vegan and a vegetarian?'),\n",
       " ('81', 'Does unpasteurized cheese taste better than pasteurized cheese?'),\n",
       " ('82', 'Which light bulb is better, incandescent or fluorescent?'),\n",
       " ('83',\n",
       "  'What is the difference between quantum physics and quantum mechanics?'),\n",
       " ('84', 'What is better, cow milk or goat milk?'),\n",
       " ('85', 'Psoriasis vs Eczema: What is the difference?'),\n",
       " ('86', 'I am planning to buy sneakers: Which are better, Adidas or Nike?'),\n",
       " ('87', 'Is Obamacare really any better than Medicare?'),\n",
       " ('88', 'Should I major in philosophy or psychology?'),\n",
       " ('89',\n",
       "  'What are the differences between biodegradable and non-biodegradable wastes?'),\n",
       " ('90', 'What are good business books to read?'),\n",
       " ('91', 'When are random forest classifiers better than decision trees?'),\n",
       " ('92', 'What are the pros and cons of wood vs. stone mulch?'),\n",
       " ('93', 'Is rain water better than tap water for plants?'),\n",
       " ('94', 'Suitcases: hard or soft?'),\n",
       " ('95', 'Which is more environmentally friendly, a hybrid or a diesel?'),\n",
       " ('96', 'Which is healthier to wear, boxers or briefs?'),\n",
       " ('97', 'What is the difference between a blender vs a food processor?'),\n",
       " ('98', 'Which is better, rock or rap?'),\n",
       " ('99', 'Do you think imagination is better than knowledge?'),\n",
       " ('100', 'Should I learn Python or R for data analysis?')]"
      ]
     },
     "execution_count": 7,
     "metadata": {},
     "output_type": "execute_result"
    }
   ],
   "source": [
    "topics_2021"
   ]
  },
  {
   "cell_type": "code",
   "execution_count": 8,
   "metadata": {},
   "outputs": [],
   "source": [
    "import csv\n",
    "with open(\"/notebook/ColBERT/collections/touche21_queries.tsv\", \"w\") as csv_file:\n",
    "        writer = csv.writer(csv_file, delimiter='\\t')\n",
    "        for line in topics_2021:\n",
    "            #print (line)\n",
    "            #print (type(line[0]))\n",
    "            line = [str(int(line[0]) - 51), line[1]]\n",
    "            writer.writerow(line)"
   ]
  },
  {
   "cell_type": "code",
   "execution_count": 9,
   "metadata": {},
   "outputs": [
    {
     "name": "stdout",
     "output_type": "stream",
     "text": [
      "['0', '18', '1']\n",
      "['0', '10', '2']\n",
      "['0', '24', '3']\n",
      "['0', '4', '4']\n",
      "['0', '30', '5']\n",
      "['0', '21', '6']\n",
      "['0', '55', '7']\n",
      "['0', '31', '8']\n",
      "['0', '52', '9']\n",
      "['0', '50', '10']\n"
     ]
    }
   ],
   "source": [
    "tsv_file = open(\"/notebook/ColBERT/experiments/TOUCHE21_psg/retrieve.py/2022-02-15_17.21.46/ranking.tsv\")\n",
    "read_tsv = csv.reader(tsv_file, delimiter=\"\\t\")\n",
    "i = 0\n",
    "for row in read_tsv:\n",
    "    if (i < 10):\n",
    "        print(row)\n",
    "        i = i +1"
   ]
  },
  {
   "cell_type": "code",
   "execution_count": 10,
   "metadata": {},
   "outputs": [
    {
     "name": "stdout",
     "output_type": "stream",
     "text": [
      "['0', 'What is better at reducing fever in children, Ibuprofen or Aspirin?']\n",
      "['1', 'What are the best rice cookers?']\n",
      "['2', 'Should I buy steel or ceramic knives?']\n",
      "['3', 'Is morning or afternoon sun the best for fruit trees?']\n",
      "['4', 'What is better for back pain, chiropractic therapy or physical therapy?']\n",
      "['5', 'Is Kenya or Tanzania better for a safari?']\n",
      "['6', \"How is a Master's degree different from a Bachelor's degree?\"]\n",
      "['7', 'Which is better, Family Guy or The Simpsons?']\n",
      "['8', 'Which is more difficult, skiing or snowboarding?']\n",
      "['9', 'Why is basketball better than football?']\n"
     ]
    }
   ],
   "source": [
    "import csv\n",
    "tsv_file = open(\"/notebook/ColBERT/collections/touche21_queries.tsv\")\n",
    "read_tsv = csv.reader(tsv_file, delimiter=\"\\t\")\n",
    "\n",
    "i = 0\n",
    "for row in read_tsv:\n",
    "    if (i < 10):\n",
    "        print(row)\n",
    "        i = i +1"
   ]
  },
  {
   "cell_type": "code",
   "execution_count": 42,
   "metadata": {},
   "outputs": [],
   "source": [
    "def run_baseline(output_dir = '/notebook/Touche22/touche2021_val/outs', input_dir = '/notebook/Touche22/touche2021_val/', input_file = 'topics-task2-51-100.xml'):\n",
    "    \n",
    "    # load responses for all queries from file \n",
    "    with open('list_of_un_answ_2021.pcl', 'rb') as f:\n",
    "        my_response_list = pickle.load(f)\n",
    "    #my_response_list = create_list_of_unigue_answers(input_dir = input_dir, input_file = input_file)\n",
    "    \n",
    "    print (\"len my responses list\", len(my_response_list))\n",
    "    \n",
    "    print (\"input_dir + '/' + input_file\", input_dir + input_file)\n",
    "    list_of_tuples = read_xml(input_dir + input_file)\n",
    "    common_list = []\n",
    "\n",
    "    print (\"baseline\", flush = True)\n",
    "    for ind_q, elem in enumerate(list_of_tuples):\n",
    "        qid = elem[0]\n",
    "        Q0 = 'Q0'\n",
    "        query = elem[1]\n",
    "        tag = 'MyBaselineFilterResponse'\n",
    "        responses = list(zip(*my_response_list[qid]))\n",
    "        \n",
    "        scores0 = responses[0]\n",
    "        docs = responses[1]\n",
    "        #print (\"1\")\n",
    "        titles = responses[2]\n",
    "        #print (\"2\")\n",
    "        answers_bodies = responses[3]\n",
    "        #print (\"3\")\n",
    "        # print (scores0, scores3, scores)\n",
    "        qids = [qid]*len(scores0)\n",
    "        Q0s = [Q0 for elem in scores0]\n",
    "        tags = [tag for elem in scores0]\n",
    "        part_of_commom_list = list(zip(qids, Q0s, docs, scores0, tags))\n",
    "        part_of_commom_list = sorted(part_of_commom_list, key = lambda x: x[3], reverse = True) \n",
    "\n",
    "        qids, Q0s, docs, scores, tags = zip(*part_of_commom_list)\n",
    "\n",
    "        ranks = range(1, len(scores) + 1)\n",
    "        part_of_commom_list = list(zip(qids, Q0s, docs, ranks, scores, tags))\n",
    "        common_list = common_list + part_of_commom_list\n",
    "        print (\"len(common_list)\", len(common_list))\n",
    "    return common_list\n",
    "    with open('./baseline.qrels', 'w') as fp:\n",
    "        fp.write('\\n'.join('%s %s %s %s %s %s' % x for x in common_list))"
   ]
  },
  {
   "cell_type": "code",
   "execution_count": 64,
   "metadata": {},
   "outputs": [],
   "source": [
    "with open('/notebook/Touche22/touche2021_val/outs/lines[:10].qrels') as file:\n",
    "    lines = file.readlines()"
   ]
  },
  {
   "cell_type": "code",
   "execution_count": null,
   "metadata": {},
   "outputs": [],
   "source": []
  },
  {
   "cell_type": "code",
   "execution_count": 65,
   "metadata": {},
   "outputs": [
    {
     "data": {
      "text/plain": [
       "['80 Q0 clueweb12-0000wb-70-11489 1 1.0 colbert\\n',\n",
       " '80 Q0 clueweb12-0309wb-46-24133 2 0.5 colbert\\n',\n",
       " '80 Q0 clueweb12-1314wb-92-15027 3 0.3333333333333333 colbert\\n',\n",
       " '80 Q0 clueweb12-1200wb-79-17799 4 0.25 colbert\\n',\n",
       " '80 Q0 clueweb12-0105wb-60-22777 5 0.2 colbert\\n',\n",
       " '80 Q0 clueweb12-1516wb-28-23404 6 0.16666666666666666 colbert\\n',\n",
       " '80 Q0 clueweb12-0714wb-55-00453 7 0.14285714285714285 colbert\\n',\n",
       " '80 Q0 clueweb12-1913wb-70-08059 8 0.125 colbert\\n',\n",
       " '80 Q0 clueweb12-1616wb-48-29292 9 0.1111111111111111 colbert\\n',\n",
       " '80 Q0 clueweb12-0108wb-96-17069 10 0.1 colbert\\n']"
      ]
     },
     "execution_count": 65,
     "metadata": {},
     "output_type": "execute_result"
    }
   ],
   "source": [
    "lines[:10]"
   ]
  },
  {
   "cell_type": "code",
   "execution_count": 66,
   "metadata": {},
   "outputs": [],
   "source": [
    "with open('/notebook/Touche22/touche2021_val/outs/colbert_90.qrels') as file:\n",
    "    lines = file.readlines()"
   ]
  },
  {
   "cell_type": "code",
   "execution_count": 67,
   "metadata": {},
   "outputs": [
    {
     "data": {
      "text/plain": [
       "['91 Q0 clueweb12-0700wb-90-19409 1 1.0 colbert\\n',\n",
       " '91 Q0 clueweb12-0011wb-60-27834 2 0.5 colbert\\n',\n",
       " '91 Q0 clueweb12-1306wb-49-06042 3 0.3333333333333333 colbert\\n',\n",
       " '91 Q0 clueweb12-0812wb-61-14830 4 0.25 colbert\\n',\n",
       " '91 Q0 clueweb12-0810wb-00-06776 5 0.2 colbert\\n',\n",
       " '91 Q0 clueweb12-1006wb-58-12637 6 0.16666666666666666 colbert\\n',\n",
       " '91 Q0 clueweb12-1303wb-58-05620 7 0.14285714285714285 colbert\\n',\n",
       " '91 Q0 clueweb12-0500wb-08-20545 8 0.125 colbert\\n',\n",
       " '91 Q0 clueweb12-1413wb-94-04951 9 0.1111111111111111 colbert\\n',\n",
       " '91 Q0 clueweb12-0916wb-34-13384 10 0.1 colbert\\n']"
      ]
     },
     "execution_count": 67,
     "metadata": {},
     "output_type": "execute_result"
    }
   ],
   "source": [
    "lines[:10]"
   ]
  },
  {
   "cell_type": "code",
   "execution_count": 18,
   "metadata": {},
   "outputs": [],
   "source": [
    "import pickle\n",
    "with open('/notebook/Touche22/touche2021_val/list_of_un_answ_2021.pcl', 'rb') as f:\n",
    "        my_response_list = pickle.load(f)"
   ]
  },
  {
   "cell_type": "code",
   "execution_count": 20,
   "metadata": {},
   "outputs": [
    {
     "data": {
      "text/plain": [
       "4905"
      ]
     },
     "execution_count": 20,
     "metadata": {},
     "output_type": "execute_result"
    }
   ],
   "source": [
    "with open('/notebook/Touche22/touche2021_val/list_of_un_answ_2021.pcl', 'rb') as f:\n",
    "        my_response_list = pickle.load(f)\n",
    "\n",
    "big_dict = {}\n",
    "for key in my_response_list.keys():\n",
    "    for elem in my_response_list[key]:\n",
    "        big_dict.update({elem[1]:elem[3]})\n",
    "        \n",
    "len(big_dict)    "
   ]
  },
  {
   "cell_type": "code",
   "execution_count": 22,
   "metadata": {},
   "outputs": [
    {
     "ename": "NameError",
     "evalue": "name 'strr' is not defined",
     "output_type": "error",
     "traceback": [
      "\u001b[0;31m\u001b[0m",
      "\u001b[0;31mNameError\u001b[0mTraceback (most recent call last)",
      "\u001b[0;32m<ipython-input-22-e6142c9ea761>\u001b[0m in \u001b[0;36m<module>\u001b[0;34m\u001b[0m\n\u001b[1;32m      1\u001b[0m \u001b[0;32mimport\u001b[0m \u001b[0mhtml\u001b[0m\u001b[0;34m\u001b[0m\u001b[0;34m\u001b[0m\u001b[0m\n\u001b[0;32m----> 2\u001b[0;31m \u001b[0mhtml\u001b[0m\u001b[0;34m.\u001b[0m\u001b[0munescape\u001b[0m\u001b[0;34m(\u001b[0m\u001b[0mstrr\u001b[0m\u001b[0;34m)\u001b[0m\u001b[0;34m\u001b[0m\u001b[0;34m\u001b[0m\u001b[0m\n\u001b[0m",
      "\u001b[0;31mNameError\u001b[0m: name 'strr' is not defined"
     ]
    }
   ],
   "source": [
    "import html\n",
    "html.unescape(strr)"
   ]
  },
  {
   "cell_type": "code",
   "execution_count": 23,
   "metadata": {},
   "outputs": [],
   "source": [
    "import html\n",
    "list_of_passages1 = []\n",
    "ind = 0\n",
    "mapping_dict = {} # {ind : clue_web_index}\n",
    "for key in my_response_list.keys():\n",
    "    for elem in my_response_list[key]:\n",
    "        list_of_passages1.append(html.unescape(elem[3]))\n",
    "        mapping_dict.update({ind : elem[1]})\n",
    "        ind += 1\n",
    "    \n",
    "    "
   ]
  },
  {
   "cell_type": "code",
   "execution_count": 24,
   "metadata": {},
   "outputs": [],
   "source": [
    "with open('/notebook/Touche22/touche2021_val/outs/colbert_index_match.pickle', 'wb') as handle:\n",
    "    pickle.dump(mapping_dict, handle, protocol=pickle.HIGHEST_PROTOCOL)\n"
   ]
  },
  {
   "cell_type": "code",
   "execution_count": 25,
   "metadata": {},
   "outputs": [
    {
     "ename": "NameError",
     "evalue": "name 'list_of_passages' is not defined",
     "output_type": "error",
     "traceback": [
      "\u001b[0;31m\u001b[0m",
      "\u001b[0;31mNameError\u001b[0mTraceback (most recent call last)",
      "\u001b[0;32m<ipython-input-25-856e07d4abce>\u001b[0m in \u001b[0;36m<module>\u001b[0;34m\u001b[0m\n\u001b[1;32m      1\u001b[0m \u001b[0mstrs\u001b[0m \u001b[0;34m=\u001b[0m \u001b[0;34m[\u001b[0m\u001b[0;34m]\u001b[0m\u001b[0;34m\u001b[0m\u001b[0;34m\u001b[0m\u001b[0m\n\u001b[0;32m----> 2\u001b[0;31m \u001b[0;32mfor\u001b[0m \u001b[0mind\u001b[0m\u001b[0;34m,\u001b[0m \u001b[0melem\u001b[0m \u001b[0;32min\u001b[0m \u001b[0menumerate\u001b[0m\u001b[0;34m(\u001b[0m\u001b[0mlist_of_passages\u001b[0m\u001b[0;34m)\u001b[0m\u001b[0;34m:\u001b[0m\u001b[0;34m\u001b[0m\u001b[0;34m\u001b[0m\u001b[0m\n\u001b[0m\u001b[1;32m      3\u001b[0m     \u001b[0mstrs\u001b[0m\u001b[0;34m.\u001b[0m\u001b[0mappend\u001b[0m\u001b[0;34m(\u001b[0m\u001b[0;34m[\u001b[0m\u001b[0mstr\u001b[0m\u001b[0;34m(\u001b[0m\u001b[0mind\u001b[0m\u001b[0;34m)\u001b[0m\u001b[0;34m,\u001b[0m\u001b[0melem\u001b[0m\u001b[0;34m]\u001b[0m\u001b[0;34m)\u001b[0m\u001b[0;34m\u001b[0m\u001b[0;34m\u001b[0m\u001b[0m\n",
      "\u001b[0;31mNameError\u001b[0m: name 'list_of_passages' is not defined"
     ]
    }
   ],
   "source": [
    "strs = []\n",
    "for ind, elem in enumerate(list_of_passages):\n",
    "    strs.append([str(ind),elem])"
   ]
  },
  {
   "cell_type": "code",
   "execution_count": 190,
   "metadata": {},
   "outputs": [
    {
     "data": {
      "text/plain": [
       "[['0',\n",
       "  'additionally, these medications can become toxic, even at correct dosages, among young children suffering from dehydration due to fever, vomiting and/or diarrhea. excess levels of acetaminophen or nsaids are not harmless.'],\n",
       " ['1',\n",
       "  \"but is your child's fever really a cause for concern, and is lowering it the best choice? in most cases, a simple fever is actually a sign that your child's immune system is working at its best.\"],\n",
       " ['2',\n",
       "  'in children, a fever that is equal to or greater than 102.2° should be treated. children older than two months of age with a fever of 102° or higher that does not respond to fever-reducing medication should be seen by a physician.'],\n",
       " ['3',\n",
       "  'it is effective in reducing fever and is also prescribed for the treatment of arthritic conditions such rheumatoid- and osteoarthritis, muscle injury, and acute attacks of gout.']]"
      ]
     },
     "execution_count": 190,
     "metadata": {},
     "output_type": "execute_result"
    }
   ],
   "source": [
    "strs[:4]"
   ]
  },
  {
   "cell_type": "code",
   "execution_count": 191,
   "metadata": {},
   "outputs": [],
   "source": [
    "import csv\n",
    "with open(\"/notebook/ColBERT/collections/touche21_psgs.tsv\", \"w\") as csv_file:\n",
    "        writer = csv.writer(csv_file, delimiter='\\t')\n",
    "        for line in strs:\n",
    "            #print (line)\n",
    "            #print (type(line[0]))\n",
    "            writer.writerow(line)"
   ]
  },
  {
   "cell_type": "code",
   "execution_count": 192,
   "metadata": {},
   "outputs": [
    {
     "name": "stdout",
     "output_type": "stream",
     "text": [
      "['0', 'additionally, these medications can become toxic, even at correct dosages, among young children suffering from dehydration due to fever, vomiting and/or diarrhea. excess levels of acetaminophen or nsaids are not harmless.']\n",
      "['1', \"but is your child's fever really a cause for concern, and is lowering it the best choice? in most cases, a simple fever is actually a sign that your child's immune system is working at its best.\"]\n",
      "['2', 'in children, a fever that is equal to or greater than 102.2° should be treated. children older than two months of age with a fever of 102° or higher that does not respond to fever-reducing medication should be seen by a physician.']\n",
      "['3', 'it is effective in reducing fever and is also prescribed for the treatment of arthritic conditions such rheumatoid- and osteoarthritis, muscle injury, and acute attacks of gout.']\n",
      "['4', 'ibuprofen (nurofen and others) is another fever-reducing medication that relieves mild to moderate aches and pains. be sure to take the medication with food to prevent irritation of the stomach. ibuprofen is available in liquid or pill form. follow dosage directions on the product label.']\n",
      "['5', 'ibuprofen is a fast acting medicine and nurofen for children is an effective way to help make your child feel better, fast. nurofen for children was the first ibuprofen suspension suitable to give your baby from just three months (weighing over 5kg).']\n",
      "['6', 'for the treatment of migraine headache, this formulation works better than any of its three components taken separately,[22] better than ibuprofen[24] and better than sumatriptan.']\n",
      "['7', \"for those under 12 years of age, the dose previously varied with the age, but aspirin is no longer routinely used in children due to the association with reye's syndrome; paracetamol or other nsaids, such as ibuprofen, are now being used instead.\"]\n",
      "['8', 'patients do not have to be registered at the centre, and can walk in or book an appointment on 01536 204154. the centre is open from 8am-8pm.']\n",
      "['9', 'colds and flu are caused by viruses and antibiotics only work on bacterial infections * keep paracetamol or ibuprofen-based pain and fever treatment or cold remedies in the house.']\n"
     ]
    }
   ],
   "source": [
    "import csv\n",
    "tsv_file = open(\"/notebook/ColBERT/collections/touche21_psgs.tsv\")\n",
    "read_tsv = csv.reader(tsv_file, delimiter=\"\\t\")\n",
    "\n",
    "i = 0\n",
    "for row in read_tsv:\n",
    "    if (i < 10):\n",
    "        print(row)\n",
    "        i = i +1"
   ]
  },
  {
   "cell_type": "markdown",
   "metadata": {},
   "source": [
    "## colbert"
   ]
  },
  {
   "cell_type": "code",
   "execution_count": 69,
   "metadata": {},
   "outputs": [
    {
     "data": {
      "text/plain": [
       "4912"
      ]
     },
     "execution_count": 69,
     "metadata": {},
     "output_type": "execute_result"
    }
   ],
   "source": [
    "len(mapping_dict)"
   ]
  },
  {
   "cell_type": "code",
   "execution_count": 68,
   "metadata": {},
   "outputs": [
    {
     "name": "stdout",
     "output_type": "stream",
     "text": [
      "['91', '25865', '1']\n"
     ]
    },
    {
     "ename": "KeyError",
     "evalue": "25865",
     "output_type": "error",
     "traceback": [
      "\u001b[0;31m\u001b[0m",
      "\u001b[0;31mKeyError\u001b[0mTraceback (most recent call last)",
      "\u001b[0;32m<ipython-input-68-79ba6d7e0e97>\u001b[0m in \u001b[0;36m<module>\u001b[0;34m\u001b[0m\n\u001b[1;32m      9\u001b[0m         \u001b[0mi\u001b[0m \u001b[0;34m=\u001b[0m \u001b[0mi\u001b[0m \u001b[0;34m+\u001b[0m\u001b[0;36m1\u001b[0m\u001b[0;34m\u001b[0m\u001b[0;34m\u001b[0m\u001b[0m\n\u001b[1;32m     10\u001b[0m     \u001b[0mdoq_n\u001b[0m \u001b[0;34m=\u001b[0m \u001b[0mstr\u001b[0m\u001b[0;34m(\u001b[0m\u001b[0mint\u001b[0m\u001b[0;34m(\u001b[0m\u001b[0mrow\u001b[0m\u001b[0;34m[\u001b[0m\u001b[0;36m0\u001b[0m\u001b[0;34m]\u001b[0m\u001b[0;34m)\u001b[0m \u001b[0;34m+\u001b[0m \u001b[0;36m51\u001b[0m\u001b[0;34m)\u001b[0m\u001b[0;34m\u001b[0m\u001b[0;34m\u001b[0m\u001b[0m\n\u001b[0;32m---> 11\u001b[0;31m     \u001b[0mpass_idx\u001b[0m \u001b[0;34m=\u001b[0m \u001b[0mmapping_dict\u001b[0m\u001b[0;34m[\u001b[0m\u001b[0mint\u001b[0m\u001b[0;34m(\u001b[0m\u001b[0mrow\u001b[0m\u001b[0;34m[\u001b[0m\u001b[0;36m1\u001b[0m\u001b[0;34m]\u001b[0m\u001b[0;34m)\u001b[0m\u001b[0;34m]\u001b[0m\u001b[0;34m\u001b[0m\u001b[0;34m\u001b[0m\u001b[0m\n\u001b[0m\u001b[1;32m     12\u001b[0m     \u001b[0mrank\u001b[0m \u001b[0;34m=\u001b[0m \u001b[0mrow\u001b[0m\u001b[0;34m[\u001b[0m\u001b[0;36m2\u001b[0m\u001b[0;34m]\u001b[0m\u001b[0;34m\u001b[0m\u001b[0;34m\u001b[0m\u001b[0m\n\u001b[1;32m     13\u001b[0m \u001b[0;34m\u001b[0m\u001b[0m\n",
      "\u001b[0;31mKeyError\u001b[0m: 25865"
     ]
    }
   ],
   "source": [
    "tsv_file = open(\"/notebook/Touche22/touche2021_val/outs/ranking_l2_90.tsv\")\n",
    "read_tsv = csv.reader(tsv_file, delimiter=\"\\t\")\n",
    "\n",
    "common_list = []\n",
    "i = 0\n",
    "for row in read_tsv:\n",
    "    if (i < 10):\n",
    "        print(row)\n",
    "        i = i +1\n",
    "    doq_n = str(int(row[0]) + 51)\n",
    "    pass_idx = mapping_dict[int(row[1])]\n",
    "    rank = row[2]\n",
    "    \n",
    "    res_str = doq_n + ' Q0 ' + str(pass_idx) + \" \" + str(rank) + \" \" + str(1./int(rank))+ \" colbert\"\n",
    "    \n",
    "    common_list.append(res_str)"
   ]
  },
  {
   "cell_type": "code",
   "execution_count": 53,
   "metadata": {},
   "outputs": [
    {
     "name": "stdout",
     "output_type": "stream",
     "text": [
      "['91', '3976', '1']\n",
      "['91', '4003', '2']\n",
      "['91', '3999', '3']\n",
      "['91', '4019', '4']\n",
      "['91', '3965', '5']\n",
      "['91', '3964', '6']\n",
      "['91', '4027', '7']\n",
      "['91', '3978', '8']\n",
      "['91', '3985', '9']\n",
      "['91', '3959', '10']\n"
     ]
    }
   ],
   "source": [
    "tsv_file = open(\"/notebook/Touche22/touche2021_val/91_100_query/ranking_colbert.tsv\")\n",
    "read_tsv = csv.reader(tsv_file, delimiter=\"\\t\")\n",
    "\n",
    "common_list = []\n",
    "i = 0\n",
    "for row in read_tsv:\n",
    "    if (i < 10):\n",
    "        print(row)\n",
    "        i = i +1\n",
    "    if (int(row[2]) < 101):\n",
    "        doq_n = str(int(row[0]))\n",
    "        pass_idx = mapping_dict[int(row[1])]\n",
    "        rank = row[2]\n",
    "\n",
    "        res_str = doq_n + ' Q0 ' + str(pass_idx) + \" \" + str(rank) + \" \" + str(1./int(rank))+ \" colbert\"\n",
    "\n",
    "        common_list.append(res_str)"
   ]
  },
  {
   "cell_type": "code",
   "execution_count": 33,
   "metadata": {},
   "outputs": [],
   "source": [
    "def print_common_list(common_list, numb, num2doc_ind, doc_ind2pass, big_dict):\n",
    "    ind_set = set()\n",
    "    for elem in common_list[:numb]:\n",
    "        elem = elem.split()\n",
    "        ind = int(elem[0]) - 51\n",
    "        #pass_idx = doc_ind2pass[elem[2]]\n",
    "        if ind not in ind_set:\n",
    "            print (topics_2021[ind])\n",
    "            ind_set.add(ind)\n",
    "            print (\"\\n\")\n",
    "        print (big_dict[elem[2]])\n",
    "        print (\"\\n\")"
   ]
  },
  {
   "cell_type": "markdown",
   "metadata": {},
   "source": [
    "## Colbert output"
   ]
  },
  {
   "cell_type": "code",
   "execution_count": 56,
   "metadata": {},
   "outputs": [
    {
     "name": "stdout",
     "output_type": "stream",
     "text": [
      "('91', 'When are random forest classifiers better than decision trees?')\n",
      "\n",
      "\n",
      "&quot;stochastic discrimination, random forests and boosting tend to form more accurate classifiers than decision trees alone.&quot;\n",
      "\n",
      "\n",
      "; model a: 95% (96% correct), model b: 89% (92% correct), model c: 76% (97% correct)”. * provides a comprehensive set of machine learning algorithms from the weka project including clustering, segmentation, decision trees, random forests, neural networks, and principal component analysis. * pentaho has\n",
      "\n",
      "\n",
      "using decision trees to construct a practical parser. kivinen and m. boosting as entropy projection. in proc. liu and x. ensemble learning via negative correlation. mason, p. bartlett, and j. direct optimization of margins improves generalization in combined classifiers.\n",
      "\n",
      "\n",
      "these methods include: linear discriminant analysis, quadratic discriminant analysis, k-nearest neighbor classifier, bagging and boosting classification trees, support vector machine, and random forest\n",
      "\n",
      "\n",
      "breiman l (2001) random forests. find this article online rodríguez jj, kuncheva li, alonso cj (2006) rotation forest: a new classifier ensemble method. ieee transactions on pattern analysis and machine intelligence 28: 10 1619–1630.\n",
      "\n",
      "\n",
      "breiman, friedman, olshen, stone (1984) classification and regression trees. breiman l (1996) bagging predictors. find this article online breiman l (2001) random forests. find this article online ripley bd (1996) pattern recognition and neural networks. this is a what are corrections?\n",
      "\n",
      "\n",
      "here, we apply these methods, along with their ensemble extensions (bagging, boosting, random forests), and show they provide improved accuracy. both additional properties (qsar derived) and classifiers (svms, anns) are also investigated.\n",
      "\n",
      "\n",
      "in addition, because the internal nodes of the tree test only a single variable, this creates axis-parallel rectangular decision regions that can have high bias. consequently, ensembles of decision tree classifiers perform much better than individual decision trees.\n",
      "\n",
      "\n",
      "the hybrid decision forest with these base classifiers are trained in nine ... systems, man, and cybernetics, part b: cybernetics, ieee transactions on, vol. in this paper, we present a new algorithm for learning oblique decision trees.\n",
      "\n",
      "\n",
      "it has been shown, in different domains, that random subspaces combined with weak classifiers such as decision trees and nearest neighbor classifiers can provide an improvement in accuracy. in this paper, we apply the random subspace methodology to the 2-d face recognition task.\n",
      "\n",
      "\n"
     ]
    }
   ],
   "source": [
    "print_common_list(common_list, 10, {}, mapping_dict, big_dict)"
   ]
  },
  {
   "cell_type": "markdown",
   "metadata": {},
   "source": [
    "## baseline output"
   ]
  },
  {
   "cell_type": "code",
   "execution_count": 279,
   "metadata": {},
   "outputs": [
    {
     "name": "stdout",
     "output_type": "stream",
     "text": [
      "('51', 'What is better at reducing fever in children, Ibuprofen or Aspirin?')\n",
      "\n",
      "\n",
      "additionally, these medications can become toxic, even at correct dosages, among young children suffering from dehydration due to fever, vomiting and&#x2f;or diarrhea. excess levels of acetaminophen or nsaids are not harmless.\n",
      "\n",
      "\n",
      "but is your child&#x27;s fever really a cause for concern, and is lowering it the best choice? in most cases, a simple fever is actually a sign that your child&#x27;s immune system is working at its best.\n",
      "\n",
      "\n",
      "in children, a fever that is equal to or greater than 102.2° should be treated. children older than two months of age with a fever of 102° or higher that does not respond to fever-reducing medication should be seen by a physician.\n",
      "\n",
      "\n",
      "it is effective in reducing fever and is also prescribed for the treatment of arthritic conditions such rheumatoid- and osteoarthritis, muscle injury, and acute attacks of gout.\n",
      "\n",
      "\n",
      "ibuprofen is a fast acting medicine and nurofen for children is an effective way to help make your child feel better, fast. nurofen for children was the first ibuprofen suspension suitable to give your baby from just three months (weighing over 5kg).\n",
      "\n",
      "\n",
      "for the treatment of migraine headache, this formulation works better than any of its three components taken separately,[22] better than ibuprofen[24] and better than sumatriptan.\n",
      "\n",
      "\n",
      "for those under 12 years of age, the dose previously varied with the age, but aspirin is no longer routinely used in children due to the association with reye&#x27;s syndrome; paracetamol or other nsaids, such as ibuprofen, are now being used instead.\n",
      "\n",
      "\n",
      "patients do not have to be registered at the centre, and can walk in or book an appointment on 01536 204154. the centre is open from 8am-8pm.\n",
      "\n",
      "\n",
      "at home, fevers are more of a nuisance than a threat. the key is to get rest and stay hydrated. and if reducing a child&#x27;s fever, it is absolutely necessary use ibuprofen, not aspirin. aspirin should not be taken by anyone under 18 years of age. fever in a newborn.\n",
      "\n",
      "\n",
      "in children, a fever that is equal to or greater than 102.2° f should be treated. children older than two months of age with a fever of 102° or higher that does not respond to fever-reducing medication should be seen by a physician.\n",
      "\n",
      "\n"
     ]
    }
   ],
   "source": [
    "print_common_list(common_list_bsln, 10, {}, mapping_dict, big_dict)"
   ]
  },
  {
   "cell_type": "code",
   "execution_count": 57,
   "metadata": {},
   "outputs": [],
   "source": [
    "with open('./colbert_91_100.qrels', 'w') as fp:\n",
    "    fp.write('\\n'.join(x for x in common_list))"
   ]
  },
  {
   "cell_type": "code",
   "execution_count": 51,
   "metadata": {},
   "outputs": [
    {
     "data": {
      "text/plain": [
       "[]"
      ]
     },
     "execution_count": 51,
     "metadata": {},
     "output_type": "execute_result"
    }
   ],
   "source": [
    "common_list"
   ]
  },
  {
   "cell_type": "markdown",
   "metadata": {},
   "source": [
    "## Cut qrels for 91-100 queries"
   ]
  },
  {
   "cell_type": "code",
   "execution_count": null,
   "metadata": {},
   "outputs": [],
   "source": [
    "qual_query"
   ]
  },
  {
   "cell_type": "code",
   "execution_count": null,
   "metadata": {},
   "outputs": [],
   "source": [
    "tsv_file = open(\"/notebook/Touche22/touche2021_val/touche-task2-51-100-quality.qrels\")\n",
    "read_tsv = csv.reader(tsv_file, delimiter=\"\\n\")\n",
    "\n",
    "common_list = []\n",
    "i = 0\n",
    "\n",
    "with open('/notebook/Touche22/touche2021_val/81_91_query/qual_81_91.qrels', 'w') as fp:\n",
    "    for row in read_tsv:\n",
    "        if (int(row[0].split()[0]) >= 80 and int(row[0].split()[0]) <90):\n",
    "            fp.write(row[0])\n",
    "            fp.write('\\n')\n",
    "            print(row)\n",
    "            i = i +1"
   ]
  },
  {
   "cell_type": "code",
   "execution_count": 59,
   "metadata": {},
   "outputs": [
    {
     "name": "stdout",
     "output_type": "stream",
     "text": [
      "['91 Q0 clueweb12-0700wb-90-19409 1 1.0 colbert']\n",
      "['91 Q0 clueweb12-0011wb-60-27834 2 0.5 colbert']\n",
      "['91 Q0 clueweb12-1306wb-49-06042 3 0.3333333333333333 colbert']\n",
      "['91 Q0 clueweb12-0812wb-61-14830 4 0.25 colbert']\n",
      "['91 Q0 clueweb12-0810wb-00-06776 5 0.2 colbert']\n",
      "['91 Q0 clueweb12-1006wb-58-12637 6 0.16666666666666666 colbert']\n",
      "['91 Q0 clueweb12-1303wb-58-05620 7 0.14285714285714285 colbert']\n",
      "['91 Q0 clueweb12-0500wb-08-20545 8 0.125 colbert']\n",
      "['91 Q0 clueweb12-1413wb-94-04951 9 0.1111111111111111 colbert']\n",
      "['91 Q0 clueweb12-0916wb-34-13384 10 0.1 colbert']\n"
     ]
    }
   ],
   "source": [
    "tsv_file = open(\"/notebook/Touche22/touche2021_val/outs/colbert.qrels\")\n",
    "read_tsv = csv.reader(tsv_file, delimiter=\"\\n\")\n",
    "\n",
    "common_list = []\n",
    "i = 0\n",
    "\n",
    "with open('./colbert_ms_91_100.qrels', 'w') as fp:\n",
    "    for row in read_tsv:\n",
    "        if (int(row[0].split()[0]) > 90 and int(row[0].split()[0]) < 100):\n",
    "            fp.write(row[0])\n",
    "            fp.write('\\n')\n",
    "            if (i < 10):\n",
    "                print(row)\n",
    "                i = i +1"
   ]
  },
  {
   "cell_type": "code",
   "execution_count": null,
   "metadata": {},
   "outputs": [],
   "source": [
    "Touche22/touche2021_val/outs/baseline.qrels"
   ]
  },
  {
   "cell_type": "code",
   "execution_count": null,
   "metadata": {},
   "outputs": [],
   "source": [
    "'51 Q0 clueweb12-0001wb-15-05765 1 1984.913 MyBaselineFilterResponse\\n'"
   ]
  },
  {
   "cell_type": "code",
   "execution_count": 35,
   "metadata": {},
   "outputs": [
    {
     "data": {
      "text/plain": [
       "['91 Q0 clueweb12-0700wb-90-19409 1 1.0 colbert',\n",
       " '91 Q0 clueweb12-1607wb-17-29270 2 0.5 colbert',\n",
       " '91 Q0 clueweb12-0809wb-99-02855 3 0.3333333333333333 colbert',\n",
       " '91 Q0 clueweb12-0309wb-14-10310 4 0.25 colbert']"
      ]
     },
     "execution_count": 35,
     "metadata": {},
     "output_type": "execute_result"
    }
   ],
   "source": [
    "common_list[:4]"
   ]
  },
  {
   "cell_type": "code",
   "execution_count": 232,
   "metadata": {},
   "outputs": [
    {
     "data": {
      "text/plain": [
       "['51 Q0 clueweb12-0905wb-28-28011 1 1.0 colbert\\n',\n",
       " '51 Q0 clueweb12-0504wb-21-02022 2 0.5 colbert\\n',\n",
       " '51 Q0 clueweb12-0010wb-17-25926 3 0.3333333333333333 colbert\\n',\n",
       " '51 Q0 clueweb12-0003wb-21-31533 4 0.25 colbert\\n']"
      ]
     },
     "execution_count": 232,
     "metadata": {},
     "output_type": "execute_result"
    }
   ],
   "source": [
    "common_list[:4]"
   ]
  },
  {
   "cell_type": "code",
   "execution_count": null,
   "metadata": {},
   "outputs": [],
   "source": [
    "common_list = []\n",
    "\n",
    "print (\"baseline\", flush = True)\n",
    "for ind_q, elem in enumerate(list_of_tuples):\n",
    "    qid = elem[0]\n",
    "    Q0 = 'Q0'\n",
    "    query = elem[1]\n",
    "    tag = 'MyBaselineFilterResponse'\n",
    "    responses = list(zip(*my_response_list[qid]))\n",
    "        \n",
    "    scores0 = responses[0]\n",
    "    docs = responses[1]\n",
    "    #print (\"1\")\n",
    "    titles = responses[2]\n",
    "    #print (\"2\")\n",
    "    answers_bodies = responses[3]\n",
    "    #print (\"3\")\n",
    "    # print (scores0, scores3, scores)\n",
    "    qids = [qid]*len(scores0)\n",
    "    Q0s = [Q0 for elem in scores0]\n",
    "    tags = [tag for elem in scores0]\n",
    "    part_of_commom_list = list(zip(qids, Q0s, docs, scores0, tags))\n",
    "    part_of_commom_list = sorted(part_of_commom_list, key = lambda x: x[3], reverse = True) \n",
    "\n",
    "    qids, Q0s, docs, scores, tags = zip(*part_of_commom_list)\n",
    "\n",
    "    ranks = range(1, len(scores) + 1)\n",
    "    part_of_commom_list = list(zip(qids, Q0s, docs, ranks, scores, tags))\n",
    "    common_list = common_list + part_of_commom_list\n",
    "    print (\"len(common_list)\", len(common_list))"
   ]
  },
  {
   "cell_type": "code",
   "execution_count": 67,
   "metadata": {},
   "outputs": [],
   "source": [
    "from transformers import AutoModel, AutoTokenizer"
   ]
  },
  {
   "cell_type": "code",
   "execution_count": 68,
   "metadata": {},
   "outputs": [
    {
     "data": {
      "application/vnd.jupyter.widget-view+json": {
       "model_id": "1129176f1af64d47be7529ad58177bb5",
       "version_major": 2,
       "version_minor": 0
      },
      "text/plain": [
       "Downloading:   0%|          | 0.00/541 [00:00<?, ?B/s]"
      ]
     },
     "metadata": {},
     "output_type": "display_data"
    },
    {
     "data": {
      "application/vnd.jupyter.widget-view+json": {
       "model_id": "ea738c781ed941819eb4e11aec693598",
       "version_major": 2,
       "version_minor": 0
      },
      "text/plain": [
       "Downloading:   0%|          | 0.00/158M [00:00<?, ?B/s]"
      ]
     },
     "metadata": {},
     "output_type": "display_data"
    }
   ],
   "source": [
    "from transformers import BertModel\n",
    "from transformers import BertPreTrainedModel\n",
    "from transformers import BertConfig\n",
    "import torch \n",
    "import torch.nn as nn\n",
    "\n",
    "class VespaColBERT(BertPreTrainedModel):\n",
    "   \n",
    "    def __init__(self,config):\n",
    "        super().__init__(config)\n",
    "        self.bert = BertModel(config)\n",
    "        self.linear = nn.Linear(config.hidden_size, 32, bias=False)\n",
    "        self.init_weights()\n",
    "        \n",
    "    def forward(self, input_ids, attention_mask):\n",
    "        Q = self.bert(input_ids,attention_mask=attention_mask)[0]\n",
    "        Q = self.linear(Q)\n",
    "        return torch.nn.functional.normalize(Q, p=2, dim=2)  \n",
    "\n",
    "colbert_query_encoder = VespaColBERT.from_pretrained(\"vespa-engine/colbert-medium\") \n",
    "\n",
    "#Export model to ONNX for serving in Vespa \n",
    "\n",
    "input_names = [\"input_ids\", \"attention_mask\"]\n",
    "output_names = [\"contextual\"]\n",
    "#input, max 32 query term\n",
    "input_ids = torch.ones(1,32, dtype=torch.int64)\n",
    "attention_mask = torch.ones(1,32,dtype=torch.int64)\n",
    "args = (input_ids, attention_mask)\n",
    "torch.onnx.export(colbert_query_encoder,\n",
    "                args=args,\n",
    "                f=\"query_encoder_colbert.onnx\",\n",
    "                input_names = input_names,\n",
    "                output_names = output_names,\n",
    "                dynamic_axes = {\n",
    "                    \"input_ids\": {0: \"batch\"},\n",
    "                    \"attention_mask\": {0: \"batch\"},\n",
    "                    \"contextual\": {0: \"batch\"},\n",
    "                },\n",
    "                opset_version=11)"
   ]
  },
  {
   "cell_type": "code",
   "execution_count": 72,
   "metadata": {},
   "outputs": [
    {
     "name": "stderr",
     "output_type": "stream",
     "text": [
      "Some weights of the model checkpoint at vespa-engine/colbert-medium were not used when initializing BertModel: ['linear.weight']\n",
      "- This IS expected if you are initializing BertModel from the checkpoint of a model trained on another task or with another architecture (e.g. initializing a BertForSequenceClassification model from a BertForPreTraining model).\n",
      "- This IS NOT expected if you are initializing BertModel from the checkpoint of a model that you expect to be exactly identical (initializing a BertForSequenceClassification model from a BertForSequenceClassification model).\n"
     ]
    }
   ],
   "source": [
    "model_name = \"vespa-engine/colbert-medium\" \n",
    "\n",
    "\n",
    "# Download pytorch model\n",
    "model = AutoModel.from_pretrained(model_name)\n",
    "tokenizer = AutoTokenizer.from_pretrained(model_name)\n",
    "\n",
    "\n",
    "# Transform input tokens \n",
    "inputs = tokenizer(\"Hello world!\", return_tensors=\"pt\")\n",
    "\n",
    "# Model apply\n",
    "outputs = model(**inputs)"
   ]
  },
  {
   "cell_type": "code",
   "execution_count": 74,
   "metadata": {},
   "outputs": [
    {
     "data": {
      "text/plain": [
       "transformers.models.bert.modeling_bert.BertModel"
      ]
     },
     "execution_count": 74,
     "metadata": {},
     "output_type": "execute_result"
    }
   ],
   "source": [
    "type(model)"
   ]
  },
  {
   "cell_type": "code",
   "execution_count": 73,
   "metadata": {},
   "outputs": [
    {
     "ename": "AttributeError",
     "evalue": "'BaseModelOutputWithPoolingAndCrossAttentions' object has no attribute 'shape'",
     "output_type": "error",
     "traceback": [
      "\u001b[0;31m\u001b[0m",
      "\u001b[0;31mAttributeError\u001b[0mTraceback (most recent call last)",
      "\u001b[0;32m<ipython-input-73-25d6d9042fb3>\u001b[0m in \u001b[0;36m<module>\u001b[0;34m\u001b[0m\n\u001b[0;32m----> 1\u001b[0;31m \u001b[0moutputs\u001b[0m\u001b[0;34m.\u001b[0m\u001b[0mshape\u001b[0m\u001b[0;34m\u001b[0m\u001b[0;34m\u001b[0m\u001b[0m\n\u001b[0m",
      "\u001b[0;31mAttributeError\u001b[0m: 'BaseModelOutputWithPoolingAndCrossAttentions' object has no attribute 'shape'"
     ]
    }
   ],
   "source": [
    "outputs.shape"
   ]
  },
  {
   "cell_type": "code",
   "execution_count": 283,
   "metadata": {},
   "outputs": [],
   "source": [
    "import requests\n",
    "params = {\n",
    "            \"apikey\": \"0833a307-97d3-462a-99d9-27db400c70da\",\n",
    "            \"query\": 'When are random forest classifiers better than decision trees?',\n",
    "            \"index\": [\"cw12\"],\n",
    "            \"size\": 50,\n",
    "            \"pretty\": True\n",
    "        }\n",
    "response = requests.get(url = \"http://www.chatnoir.eu/api/v1/_search\", params = params)"
   ]
  },
  {
   "cell_type": "code",
   "execution_count": 286,
   "metadata": {},
   "outputs": [
    {
     "data": {
      "text/plain": [
       "{'error': {'code': 401, 'message': 'API key has expired'}}"
      ]
     },
     "execution_count": 286,
     "metadata": {},
     "output_type": "execute_result"
    }
   ],
   "source": [
    "response.json()"
   ]
  },
  {
   "cell_type": "code",
   "execution_count": null,
   "metadata": {},
   "outputs": [],
   "source": []
  }
 ],
 "metadata": {
  "kernelspec": {
   "display_name": "Python 3",
   "language": "python",
   "name": "python3"
  },
  "language_info": {
   "codemirror_mode": {
    "name": "ipython",
    "version": 3
   },
   "file_extension": ".py",
   "mimetype": "text/x-python",
   "name": "python",
   "nbconvert_exporter": "python",
   "pygments_lexer": "ipython3",
   "version": "3.7.4"
  }
 },
 "nbformat": 4,
 "nbformat_minor": 4
}

{
 "cells": [
  {
   "cell_type": "markdown",
   "metadata": {},
   "source": [
    "Data:"
   ]
  },
  {
   "cell_type": "code",
   "execution_count": 1,
   "metadata": {},
   "outputs": [
    {
     "name": "stdout",
     "output_type": "stream",
     "text": [
      "0\n",
      "[]\n"
     ]
    }
   ],
   "source": [
    "import xml.etree.ElementTree as ET\n",
    "mytree = ET.parse('/notebook/Touche22/touche2021_val/topics-task2-51-100_21.xml') # this is unzip of topics-task2-2022.zip\n",
    "myroot = mytree.getroot()\n",
    "titles = list()\n",
    "for item in myroot:\n",
    "    for x in item:        \n",
    "        if x.tag == \"\": # Specify the field, e.g., title\n",
    "            titles.append(x.text)\n",
    "\n",
    "print(len(titles))\n",
    "print(titles)"
   ]
  },
  {
   "cell_type": "code",
   "execution_count": 3,
   "metadata": {},
   "outputs": [],
   "source": [
    "def read_xml(filename):\n",
    "    # convert file filename to list of tuples (number_of_topic, title_of_topic) \n",
    "    # input: filename string\n",
    "    # output: list of corresponding tuples\n",
    "    answer_list = []\n",
    "    xmldoc = minidom.parse(filename)\n",
    "    itemlist = xmldoc.getElementsByTagName('topics')\n",
    "    print(len(itemlist))\n",
    "    print(itemlist)\n",
    "    topic_list = itemlist[0].getElementsByTagName('topic')\n",
    "    print (len(topic_list))\n",
    "    for topic in topic_list:\n",
    "        tuple_for_add = tuple((topic.getElementsByTagName('number')[0].firstChild.nodeValue, topic.getElementsByTagName('title')[0].firstChild.nodeValue))\n",
    "        answer_list.append(tuple_for_add)\n",
    "    return answer_list\n"
   ]
  },
  {
   "cell_type": "code",
   "execution_count": 4,
   "metadata": {},
   "outputs": [
    {
     "name": "stdout",
     "output_type": "stream",
     "text": [
      "1\n",
      "[<DOM Element: topics at 0x7f655c0dc550>]\n",
      "50\n"
     ]
    }
   ],
   "source": [
    "from xml.dom import minidom\n",
    "import re\n",
    "\n",
    "topics_2021 = read_xml('topics-task2-51-100_21.xml')"
   ]
  },
  {
   "cell_type": "code",
   "execution_count": 5,
   "metadata": {},
   "outputs": [
    {
     "data": {
      "text/plain": [
       "[('51', 'What is better at reducing fever in children, Ibuprofen or Aspirin?'),\n",
       " ('52', 'What are the best rice cookers?'),\n",
       " ('53', 'Should I buy steel or ceramic knives?'),\n",
       " ('54', 'Is morning or afternoon sun the best for fruit trees?'),\n",
       " ('55',\n",
       "  'What is better for back pain, chiropractic therapy or physical therapy?'),\n",
       " ('56', 'Is Kenya or Tanzania better for a safari?'),\n",
       " ('57', \"How is a Master's degree different from a Bachelor's degree?\"),\n",
       " ('58', 'Which is better, Family Guy or The Simpsons?'),\n",
       " ('59', 'Which is more difficult, skiing or snowboarding?'),\n",
       " ('60', 'Why is basketball better than football?'),\n",
       " ('61', 'Who is stronger, Hulk or Superman?'),\n",
       " ('62',\n",
       "  'Plastic pots or ceramic pots, which is better in terms of plant health?'),\n",
       " ('63', 'What is the coldest temperature ever recorded on Earth, and where?'),\n",
       " ('64', 'What is the most popular beer in Australia?'),\n",
       " ('65', 'Are dogs better than humans?'),\n",
       " ('66', 'What diet gives the best result to lose weight?'),\n",
       " ('67', 'Should I take the IELTS or the TOEFL?'),\n",
       " ('68', 'Are online courses better than physical classrooms?'),\n",
       " ('69', 'Who was a better boxer, Muhammad Ali or Joe Frazier?'),\n",
       " ('70', \"Which technology performs better: Apple's or Google's?\"),\n",
       " ('71', 'Is gold equal to platinum?'),\n",
       " ('72', 'Who is better at learning a foreign language, kids or adults?'),\n",
       " ('73',\n",
       "  \"What's the difference between coffee, espresso, cappuccino, and latte?\"),\n",
       " ('74', 'Which city is better, London or Paris?'),\n",
       " ('75', 'What is better, a conditioner or a moisturizer?'),\n",
       " ('76', 'Are artificial sweeteners better than white sugar?'),\n",
       " ('77', 'Is it healthier to bake than to fry food?'),\n",
       " ('78', 'Which algorithm is better, quicksort or merge sort?'),\n",
       " ('79', 'What is more interesting, computer science or computer engineering?'),\n",
       " ('80', 'What is the difference between a vegan and a vegetarian?'),\n",
       " ('81', 'Does unpasteurized cheese taste better than pasteurized cheese?'),\n",
       " ('82', 'Which light bulb is better, incandescent or fluorescent?'),\n",
       " ('83',\n",
       "  'What is the difference between quantum physics and quantum mechanics?'),\n",
       " ('84', 'What is better, cow milk or goat milk?'),\n",
       " ('85', 'Psoriasis vs Eczema: What is the difference?'),\n",
       " ('86', 'I am planning to buy sneakers: Which are better, Adidas or Nike?'),\n",
       " ('87', 'Is Obamacare really any better than Medicare?'),\n",
       " ('88', 'Should I major in philosophy or psychology?'),\n",
       " ('89',\n",
       "  'What are the differences between biodegradable and non-biodegradable wastes?'),\n",
       " ('90', 'What are good business books to read?'),\n",
       " ('91', 'When are random forest classifiers better than decision trees?'),\n",
       " ('92', 'What are the pros and cons of wood vs. stone mulch?'),\n",
       " ('93', 'Is rain water better than tap water for plants?'),\n",
       " ('94', 'Suitcases: hard or soft?'),\n",
       " ('95', 'Which is more environmentally friendly, a hybrid or a diesel?'),\n",
       " ('96', 'Which is healthier to wear, boxers or briefs?'),\n",
       " ('97', 'What is the difference between a blender vs a food processor?'),\n",
       " ('98', 'Which is better, rock or rap?'),\n",
       " ('99', 'Do you think imagination is better than knowledge?'),\n",
       " ('100', 'Should I learn Python or R for data analysis?')]"
      ]
     },
     "execution_count": 5,
     "metadata": {},
     "output_type": "execute_result"
    }
   ],
   "source": [
    "topics_2021"
   ]
  },
  {
   "cell_type": "code",
   "execution_count": 414,
   "metadata": {},
   "outputs": [
    {
     "name": "stdout",
     "output_type": "stream",
     "text": [
      "('81', 'Does unpasteurized cheese taste better than pasteurized cheese?')\n",
      "('82', 'Which light bulb is better, incandescent or fluorescent?')\n",
      "('83', 'What is the difference between quantum physics and quantum mechanics?')\n",
      "('84', 'What is better, cow milk or goat milk?')\n",
      "('85', 'Psoriasis vs Eczema: What is the difference?')\n",
      "('86', 'I am planning to buy sneakers: Which are better, Adidas or Nike?')\n",
      "('87', 'Is Obamacare really any better than Medicare?')\n",
      "('88', 'Should I major in philosophy or psychology?')\n",
      "('89', 'What are the differences between biodegradable and non-biodegradable wastes?')\n",
      "('90', 'What are good business books to read?')\n"
     ]
    }
   ],
   "source": [
    "import csv\n",
    "with open(\"/notebook/ColBERT/collections/touche21_queries_81_90.tsv\", \"w\") as csv_file:\n",
    "        writer = csv.writer(csv_file, delimiter='\\t')\n",
    "        for line in topics_2021:\n",
    "            if (int(line[0]) < 91 and int(line[0]) > 80):\n",
    "                print (line)\n",
    "                #print (type(line[0]))\n",
    "                line = [str(int(line[0]) - 51), line[1]]\n",
    "                writer.writerow(line)"
   ]
  },
  {
   "cell_type": "code",
   "execution_count": 415,
   "metadata": {},
   "outputs": [
    {
     "ename": "FileNotFoundError",
     "evalue": "[Errno 2] No such file or directory: '/notebook/ColBERT/experiments/TOUCHE21_psg/retrieve.py/2022-02-15_17.21.46/ranking.tsv'",
     "output_type": "error",
     "traceback": [
      "\u001b[0;31m\u001b[0m",
      "\u001b[0;31mFileNotFoundError\u001b[0mTraceback (most recent call last)",
      "\u001b[0;32m<ipython-input-415-6009983a5120>\u001b[0m in \u001b[0;36m<module>\u001b[0;34m\u001b[0m\n\u001b[0;32m----> 1\u001b[0;31m \u001b[0mtsv_file\u001b[0m \u001b[0;34m=\u001b[0m \u001b[0mopen\u001b[0m\u001b[0;34m(\u001b[0m\u001b[0;34m\"/notebook/ColBERT/experiments/TOUCHE21_psg/retrieve.py/2022-02-15_17.21.46/ranking.tsv\"\u001b[0m\u001b[0;34m)\u001b[0m\u001b[0;34m\u001b[0m\u001b[0;34m\u001b[0m\u001b[0m\n\u001b[0m\u001b[1;32m      2\u001b[0m \u001b[0mread_tsv\u001b[0m \u001b[0;34m=\u001b[0m \u001b[0mcsv\u001b[0m\u001b[0;34m.\u001b[0m\u001b[0mreader\u001b[0m\u001b[0;34m(\u001b[0m\u001b[0mtsv_file\u001b[0m\u001b[0;34m,\u001b[0m \u001b[0mdelimiter\u001b[0m\u001b[0;34m=\u001b[0m\u001b[0;34m\"\\t\"\u001b[0m\u001b[0;34m)\u001b[0m\u001b[0;34m\u001b[0m\u001b[0;34m\u001b[0m\u001b[0m\n\u001b[1;32m      3\u001b[0m \u001b[0mi\u001b[0m \u001b[0;34m=\u001b[0m \u001b[0;36m0\u001b[0m\u001b[0;34m\u001b[0m\u001b[0;34m\u001b[0m\u001b[0m\n\u001b[1;32m      4\u001b[0m \u001b[0;32mfor\u001b[0m \u001b[0mrow\u001b[0m \u001b[0;32min\u001b[0m \u001b[0mread_tsv\u001b[0m\u001b[0;34m:\u001b[0m\u001b[0;34m\u001b[0m\u001b[0;34m\u001b[0m\u001b[0m\n\u001b[1;32m      5\u001b[0m     \u001b[0;32mif\u001b[0m \u001b[0;34m(\u001b[0m\u001b[0mi\u001b[0m \u001b[0;34m<\u001b[0m \u001b[0;36m10\u001b[0m\u001b[0;34m)\u001b[0m\u001b[0;34m:\u001b[0m\u001b[0;34m\u001b[0m\u001b[0;34m\u001b[0m\u001b[0m\n",
      "\u001b[0;31mFileNotFoundError\u001b[0m: [Errno 2] No such file or directory: '/notebook/ColBERT/experiments/TOUCHE21_psg/retrieve.py/2022-02-15_17.21.46/ranking.tsv'"
     ]
    }
   ],
   "source": [
    "tsv_file = open(\"/notebook/Touche22/touche2021_val/outs/ranking_21_ft.tsv\")\n",
    "read_tsv = csv.reader(tsv_file, delimiter=\"\\t\")\n",
    "i = 0\n",
    "for row in read_tsv:\n",
    "    if (i < 10):\n",
    "        print(row)\n",
    "        i = i +1"
   ]
  },
  {
   "cell_type": "code",
   "execution_count": 24,
   "metadata": {},
   "outputs": [],
   "source": [
    "import csv\n",
    "tsv_file = open(\"/notebook/ColBERT/collections/triples.train.small.tsv\")\n",
    "read_tsv = csv.reader(tsv_file, delimiter=\"\\t\")"
   ]
  },
  {
   "cell_type": "code",
   "execution_count": 25,
   "metadata": {},
   "outputs": [
    {
     "ename": "TypeError",
     "evalue": "object of type '_csv.reader' has no len()",
     "output_type": "error",
     "traceback": [
      "\u001b[0;31m\u001b[0m",
      "\u001b[0;31mTypeError\u001b[0mTraceback (most recent call last)",
      "\u001b[0;32m<ipython-input-25-6eac5903b467>\u001b[0m in \u001b[0;36m<module>\u001b[0;34m\u001b[0m\n\u001b[0;32m----> 1\u001b[0;31m \u001b[0mlen\u001b[0m\u001b[0;34m(\u001b[0m\u001b[0mread_tsv\u001b[0m\u001b[0;34m)\u001b[0m\u001b[0;34m\u001b[0m\u001b[0;34m\u001b[0m\u001b[0m\n\u001b[0m",
      "\u001b[0;31mTypeError\u001b[0m: object of type '_csv.reader' has no len()"
     ]
    }
   ],
   "source": [
    "len(read_tsv)"
   ]
  },
  {
   "cell_type": "code",
   "execution_count": 503,
   "metadata": {},
   "outputs": [
    {
     "name": "stdout",
     "output_type": "stream",
     "text": [
      "1000000\n",
      "2000000\n",
      "3000000\n",
      "4000000\n",
      "5000000\n",
      "6000000\n",
      "7000000\n",
      "8000000\n",
      "9000000\n",
      "10000000\n",
      "11000000\n",
      "12000000\n",
      "13000000\n",
      "14000000\n",
      "15000000\n",
      "16000000\n",
      "17000000\n",
      "18000000\n",
      "19000000\n",
      "20000000\n",
      "21000000\n",
      "22000000\n",
      "23000000\n",
      "24000000\n",
      "25000000\n",
      "26000000\n",
      "27000000\n",
      "28000000\n",
      "29000000\n",
      "30000000\n",
      "31000000\n",
      "32000000\n",
      "33000000\n",
      "34000000\n",
      "35000000\n",
      "36000000\n",
      "37000000\n",
      "38000000\n",
      "39000000\n"
     ]
    }
   ],
   "source": [
    "i = 0\n",
    "for row in read_tsv:\n",
    "    i = i +1\n",
    "    if (i%1000000 == 0):\n",
    "        print (i)"
   ]
  },
  {
   "cell_type": "code",
   "execution_count": 500,
   "metadata": {},
   "outputs": [
    {
     "data": {
      "text/plain": [
       "23709993"
      ]
     },
     "execution_count": 500,
     "metadata": {},
     "output_type": "execute_result"
    }
   ],
   "source": [
    "i"
   ]
  },
  {
   "cell_type": "code",
   "execution_count": 198,
   "metadata": {},
   "outputs": [
    {
     "name": "stdout",
     "output_type": "stream",
     "text": [
      "['0', 'What is better at reducing fever in children, Ibuprofen or Aspirin?']\n",
      "['1', 'What are the best rice cookers?']\n",
      "['2', 'Should I buy steel or ceramic knives?']\n",
      "['3', 'Is morning or afternoon sun the best for fruit trees?']\n",
      "['4', 'What is better for back pain, chiropractic therapy or physical therapy?']\n",
      "['5', 'Is Kenya or Tanzania better for a safari?']\n",
      "['6', \"How is a Master's degree different from a Bachelor's degree?\"]\n",
      "['7', 'Which is better, Family Guy or The Simpsons?']\n",
      "['8', 'Which is more difficult, skiing or snowboarding?']\n",
      "['9', 'Why is basketball better than football?']\n"
     ]
    }
   ],
   "source": [
    "import csv\n",
    "tsv_file = open(\"/notebook/ColBERT/collections/touche21_queries.tsv\")\n",
    "read_tsv = csv.reader(tsv_file, delimiter=\"\\t\")\n",
    "\n",
    "i = 0\n",
    "for row in read_tsv:\n",
    "    if (i < 10):\n",
    "        print(row)\n",
    "        i = i +1"
   ]
  },
  {
   "cell_type": "code",
   "execution_count": 274,
   "metadata": {},
   "outputs": [],
   "source": [
    "def run_baseline(output_dir = '/notebook/Touche22/touche2021_val/outs', input_dir = '/notebook/Touche22/touche2021_val/', input_file = 'topics-task2-51-100.xml'):\n",
    "    \n",
    "    # load responses for all queries from file \n",
    "    with open('list_of_un_answ_2021.pcl', 'rb') as f:\n",
    "        my_response_list = pickle.load(f)\n",
    "    #my_response_list = create_list_of_unigue_answers(input_dir = input_dir, input_file = input_file)\n",
    "    \n",
    "    print (\"len my responses list\", len(my_response_list))\n",
    "    \n",
    "    print (\"input_dir + '/' + input_file\", input_dir + input_file)\n",
    "    list_of_tuples = read_xml(input_dir + input_file)\n",
    "    common_list = []\n",
    "\n",
    "    print (\"baseline\", flush = True)\n",
    "    for ind_q, elem in enumerate(list_of_tuples):\n",
    "        qid = elem[0]\n",
    "        Q0 = 'Q0'\n",
    "        query = elem[1]\n",
    "        tag = 'MyBaselineFilterResponse'\n",
    "        responses = list(zip(*my_response_list[qid]))\n",
    "        \n",
    "        scores0 = responses[0]\n",
    "        docs = responses[1]\n",
    "        #print (\"1\")\n",
    "        titles = responses[2]\n",
    "        #print (\"2\")\n",
    "        answers_bodies = responses[3]\n",
    "        #print (\"3\")\n",
    "        # print (scores0, scores3, scores)\n",
    "        qids = [qid]*len(scores0)\n",
    "        Q0s = [Q0 for elem in scores0]\n",
    "        tags = [tag for elem in scores0]\n",
    "        part_of_commom_list = list(zip(qids, Q0s, docs, scores0, tags))\n",
    "        part_of_commom_list = sorted(part_of_commom_list, key = lambda x: x[3], reverse = True) \n",
    "\n",
    "        qids, Q0s, docs, scores, tags = zip(*part_of_commom_list)\n",
    "\n",
    "        ranks = range(1, len(scores) + 1)\n",
    "        part_of_commom_list = list(zip(qids, Q0s, docs, ranks, scores, tags))\n",
    "        common_list = common_list + part_of_commom_list\n",
    "        print (\"len(common_list)\", len(common_list))\n",
    "    return common_list\n",
    "    with open('./baseline.qrels', 'w') as fp:\n",
    "        fp.write('\\n'.join('%s %s %s %s %s %s' % x for x in common_list))"
   ]
  },
  {
   "cell_type": "code",
   "execution_count": 211,
   "metadata": {},
   "outputs": [],
   "source": [
    "with open('./baseline.qrels') as file:\n",
    "    lines = file.readlines()"
   ]
  },
  {
   "cell_type": "code",
   "execution_count": 212,
   "metadata": {},
   "outputs": [
    {
     "data": {
      "text/plain": [
       "['51 Q0 clueweb12-0001wb-15-05765 1 1984.913 MyBaselineFilterResponse\\n',\n",
       " '51 Q0 clueweb12-0904wb-53-21907 2 1700.4545 MyBaselineFilterResponse\\n',\n",
       " '51 Q0 clueweb12-1314wb-72-19073 3 1472.7758 MyBaselineFilterResponse\\n',\n",
       " '51 Q0 clueweb12-0311wb-02-29958 4 1469.3533 MyBaselineFilterResponse\\n',\n",
       " '51 Q0 clueweb12-1807wb-60-03455 5 1416.9513 MyBaselineFilterResponse\\n',\n",
       " '51 Q0 clueweb12-0410wb-53-17878 6 1360.454 MyBaselineFilterResponse\\n',\n",
       " '51 Q0 clueweb12-0005wb-53-01372 7 1352.8683 MyBaselineFilterResponse\\n',\n",
       " '51 Q0 clueweb12-0301wb-20-17154 8 1342.9778 MyBaselineFilterResponse\\n',\n",
       " '51 Q0 clueweb12-0504wb-21-02022 9 1301.0448 MyBaselineFilterResponse\\n',\n",
       " '51 Q0 clueweb12-0302wb-90-11598 10 1298.7932 MyBaselineFilterResponse\\n']"
      ]
     },
     "execution_count": 212,
     "metadata": {},
     "output_type": "execute_result"
    }
   ],
   "source": [
    "lines[:10]"
   ]
  },
  {
   "cell_type": "code",
   "execution_count": 280,
   "metadata": {},
   "outputs": [],
   "source": [
    "with open('list_of_un_answ_2021.pcl', 'rb') as f:\n",
    "        my_response_list = pickle.load(f)"
   ]
  },
  {
   "cell_type": "code",
   "execution_count": 237,
   "metadata": {},
   "outputs": [
    {
     "data": {
      "text/plain": [
       "4905"
      ]
     },
     "execution_count": 237,
     "metadata": {},
     "output_type": "execute_result"
    }
   ],
   "source": [
    "with open('list_of_un_answ_2021.pcl', 'rb') as f:\n",
    "        my_response_list = pickle.load(f)\n",
    "\n",
    "big_dict = {}\n",
    "for key in my_response_list.keys():\n",
    "    for elem in my_response_list[key]:\n",
    "        big_dict.update({elem[1]:elem[3]})\n",
    "        \n",
    "len(big_dict)    "
   ]
  },
  {
   "cell_type": "code",
   "execution_count": null,
   "metadata": {},
   "outputs": [],
   "source": [
    "my_response_list"
   ]
  },
  {
   "cell_type": "code",
   "execution_count": 185,
   "metadata": {},
   "outputs": [
    {
     "data": {
      "text/plain": [
       "'at home, fevers are more of a nuisance than a threat. the key is to get rest and stay hydrated. and if reducing a childs fever, it is absolutely necessary use ibuprofen, not aspirin. aspirin should not be taken by anyone under 18 years of age. fever in a newborn.'"
      ]
     },
     "execution_count": 185,
     "metadata": {},
     "output_type": "execute_result"
    }
   ],
   "source": [
    "import html\n",
    "html.unescape(strr)"
   ]
  },
  {
   "cell_type": "code",
   "execution_count": 206,
   "metadata": {},
   "outputs": [],
   "source": [
    "import html\n",
    "list_of_passages1 = []\n",
    "ind = 0\n",
    "mapping_dict = {} # {ind : clue_web_index}\n",
    "for key in my_response_list.keys():\n",
    "    for elem in my_response_list[key]:\n",
    "        list_of_passages1.append(html.unescape(elem[3]))\n",
    "        mapping_dict.update({ind : elem[1]})\n",
    "        ind += 1\n",
    "    \n",
    "with open('/notebook/Touche22/touche2021_val/outs/colbert_index_match.pickle', 'wb') as handle:\n",
    "    pickle.dump(mapping_dict, handle, protocol=pickle.HIGHEST_PROTOCOL)\n",
    "\n",
    "strs = []\n",
    "for ind, elem in enumerate(list_of_passages):\n",
    "    strs.append([str(ind),elem])"
   ]
  },
  {
   "cell_type": "code",
   "execution_count": 209,
   "metadata": {},
   "outputs": [],
   "source": [
    "with open('/notebook/Touche22/touche2021_val/outs/colbert_index_match.pickle', 'wb') as handle:\n",
    "    pickle.dump(mapping_dict, handle, protocol=pickle.HIGHEST_PROTOCOL)\n"
   ]
  },
  {
   "cell_type": "code",
   "execution_count": 189,
   "metadata": {},
   "outputs": [],
   "source": [
    "strs = []\n",
    "for ind, elem in enumerate(list_of_passages):\n",
    "    strs.append([str(ind),elem])"
   ]
  },
  {
   "cell_type": "code",
   "execution_count": 293,
   "metadata": {},
   "outputs": [
    {
     "data": {
      "text/plain": [
       "[['0',\n",
       "  'additionally, these medications can become toxic, even at correct dosages, among young children suffering from dehydration due to fever, vomiting and/or diarrhea. excess levels of acetaminophen or nsaids are not harmless.'],\n",
       " ['1',\n",
       "  \"but is your child's fever really a cause for concern, and is lowering it the best choice? in most cases, a simple fever is actually a sign that your child's immune system is working at its best.\"],\n",
       " ['2',\n",
       "  'in children, a fever that is equal to or greater than 102.2° should be treated. children older than two months of age with a fever of 102° or higher that does not respond to fever-reducing medication should be seen by a physician.'],\n",
       " ['3',\n",
       "  'it is effective in reducing fever and is also prescribed for the treatment of arthritic conditions such rheumatoid- and osteoarthritis, muscle injury, and acute attacks of gout.']]"
      ]
     },
     "execution_count": 293,
     "metadata": {},
     "output_type": "execute_result"
    }
   ],
   "source": [
    "strs[:4]"
   ]
  },
  {
   "cell_type": "code",
   "execution_count": null,
   "metadata": {},
   "outputs": [],
   "source": [
    "import csv\n",
    "with open(\"/notebook/ColBERT/collections/touche21_psgs.tsv\", \"w\") as csv_file:\n",
    "        writer = csv.writer(csv_file, delimiter='\\t')\n",
    "        for line in strs:\n",
    "            #print (line)\n",
    "            #print (type(line[0]))\n",
    "            writer.writerow(line)"
   ]
  },
  {
   "cell_type": "code",
   "execution_count": 192,
   "metadata": {},
   "outputs": [
    {
     "name": "stdout",
     "output_type": "stream",
     "text": [
      "['0', 'additionally, these medications can become toxic, even at correct dosages, among young children suffering from dehydration due to fever, vomiting and/or diarrhea. excess levels of acetaminophen or nsaids are not harmless.']\n",
      "['1', \"but is your child's fever really a cause for concern, and is lowering it the best choice? in most cases, a simple fever is actually a sign that your child's immune system is working at its best.\"]\n",
      "['2', 'in children, a fever that is equal to or greater than 102.2° should be treated. children older than two months of age with a fever of 102° or higher that does not respond to fever-reducing medication should be seen by a physician.']\n",
      "['3', 'it is effective in reducing fever and is also prescribed for the treatment of arthritic conditions such rheumatoid- and osteoarthritis, muscle injury, and acute attacks of gout.']\n",
      "['4', 'ibuprofen (nurofen and others) is another fever-reducing medication that relieves mild to moderate aches and pains. be sure to take the medication with food to prevent irritation of the stomach. ibuprofen is available in liquid or pill form. follow dosage directions on the product label.']\n",
      "['5', 'ibuprofen is a fast acting medicine and nurofen for children is an effective way to help make your child feel better, fast. nurofen for children was the first ibuprofen suspension suitable to give your baby from just three months (weighing over 5kg).']\n",
      "['6', 'for the treatment of migraine headache, this formulation works better than any of its three components taken separately,[22] better than ibuprofen[24] and better than sumatriptan.']\n",
      "['7', \"for those under 12 years of age, the dose previously varied with the age, but aspirin is no longer routinely used in children due to the association with reye's syndrome; paracetamol or other nsaids, such as ibuprofen, are now being used instead.\"]\n",
      "['8', 'patients do not have to be registered at the centre, and can walk in or book an appointment on 01536 204154. the centre is open from 8am-8pm.']\n",
      "['9', 'colds and flu are caused by viruses and antibiotics only work on bacterial infections * keep paracetamol or ibuprofen-based pain and fever treatment or cold remedies in the house.']\n"
     ]
    }
   ],
   "source": [
    "import csv\n",
    "tsv_file = open(\"/notebook/ColBERT/collections/touche21_psgs.tsv\")\n",
    "read_tsv = csv.reader(tsv_file, delimiter=\"\\t\")\n",
    "\n",
    "i = 0\n",
    "for row in read_tsv:\n",
    "    if (i < 10):\n",
    "        print(row)\n",
    "        i = i +1"
   ]
  },
  {
   "cell_type": "markdown",
   "metadata": {},
   "source": [
    "## colbert"
   ]
  },
  {
   "cell_type": "code",
   "execution_count": 18,
   "metadata": {},
   "outputs": [],
   "source": [
    "import pickle\n",
    "import csv\n",
    "with open('/notebook/Touche22/touche2021_val/outs/big_dict.pickle', 'rb') as handle:\n",
    "    big_dict = pickle.load(handle)"
   ]
  },
  {
   "cell_type": "code",
   "execution_count": 19,
   "metadata": {},
   "outputs": [
    {
     "name": "stdout",
     "output_type": "stream",
     "text": [
      "['0', '27320', '1']\n",
      "['0', '27734', '2']\n",
      "['0', '27425', '3']\n",
      "['0', '27303', '4']\n",
      "['0', '40055', '5']\n",
      "['0', '52648', '6']\n",
      "['0', '27658', '7']\n",
      "['0', '27961', '8']\n",
      "['0', '41685', '9']\n",
      "['0', '27922', '10']\n"
     ]
    }
   ],
   "source": [
    "with open('/notebook/Touche22/touche2021_val/outs/colbert_index_id.pickle', 'rb') as handle:\n",
    "    mapping_dict = pickle.load(handle)\n",
    "\n",
    "tsv_file = open(\"/notebook/Touche22/touche2021_val/outs/ranking_msmarco_trained_by_me.tsv\")\n",
    "read_tsv = csv.reader(tsv_file, delimiter=\"\\t\")\n",
    "\n",
    "common_list = []\n",
    "i = 0\n",
    "for row in read_tsv:\n",
    "    if (i < 10):\n",
    "        print(row)\n",
    "        i = i +1\n",
    "    doq_n = str(int(row[0]) + 51)\n",
    "    pass_idx = mapping_dict[int(row[1])]\n",
    "    rank = row[2]\n",
    "    \n",
    "    res_str = doq_n + ' Q0 ' + str(pass_idx) + \" \" + str(rank) + \" \" + str(1./int(rank))+ \" colbert\"\n",
    "    \n",
    "    common_list.append(res_str)"
   ]
  },
  {
   "cell_type": "code",
   "execution_count": 20,
   "metadata": {},
   "outputs": [
    {
     "data": {
      "text/plain": [
       "['51 Q0 clueweb12-1904wb-64-15725 1 1.0 colbert',\n",
       " '51 Q0 clueweb12-1612wb-13-07110 2 0.5 colbert',\n",
       " '51 Q0 clueweb12-0013wb-19-15392 3 0.3333333333333333 colbert',\n",
       " '51 Q0 clueweb12-0306wb-77-05626 4 0.25 colbert']"
      ]
     },
     "execution_count": 20,
     "metadata": {},
     "output_type": "execute_result"
    }
   ],
   "source": [
    "common_list[:4]"
   ]
  },
  {
   "cell_type": "code",
   "execution_count": 490,
   "metadata": {},
   "outputs": [
    {
     "data": {
      "text/plain": [
       "[('51', 'What is better at reducing fever in children, Ibuprofen or Aspirin?'),\n",
       " ('52', 'What are the best rice cookers?'),\n",
       " ('53', 'Should I buy steel or ceramic knives?'),\n",
       " ('54', 'Is morning or afternoon sun the best for fruit trees?'),\n",
       " ('55',\n",
       "  'What is better for back pain, chiropractic therapy or physical therapy?'),\n",
       " ('56', 'Is Kenya or Tanzania better for a safari?'),\n",
       " ('57', \"How is a Master's degree different from a Bachelor's degree?\"),\n",
       " ('58', 'Which is better, Family Guy or The Simpsons?'),\n",
       " ('59', 'Which is more difficult, skiing or snowboarding?'),\n",
       " ('60', 'Why is basketball better than football?'),\n",
       " ('61', 'Who is stronger, Hulk or Superman?'),\n",
       " ('62',\n",
       "  'Plastic pots or ceramic pots, which is better in terms of plant health?'),\n",
       " ('63', 'What is the coldest temperature ever recorded on Earth, and where?'),\n",
       " ('64', 'What is the most popular beer in Australia?'),\n",
       " ('65', 'Are dogs better than humans?'),\n",
       " ('66', 'What diet gives the best result to lose weight?'),\n",
       " ('67', 'Should I take the IELTS or the TOEFL?'),\n",
       " ('68', 'Are online courses better than physical classrooms?'),\n",
       " ('69', 'Who was a better boxer, Muhammad Ali or Joe Frazier?'),\n",
       " ('70', \"Which technology performs better: Apple's or Google's?\"),\n",
       " ('71', 'Is gold equal to platinum?'),\n",
       " ('72', 'Who is better at learning a foreign language, kids or adults?'),\n",
       " ('73',\n",
       "  \"What's the difference between coffee, espresso, cappuccino, and latte?\"),\n",
       " ('74', 'Which city is better, London or Paris?'),\n",
       " ('75', 'What is better, a conditioner or a moisturizer?'),\n",
       " ('76', 'Are artificial sweeteners better than white sugar?'),\n",
       " ('77', 'Is it healthier to bake than to fry food?'),\n",
       " ('78', 'Which algorithm is better, quicksort or merge sort?'),\n",
       " ('79', 'What is more interesting, computer science or computer engineering?'),\n",
       " ('80', 'What is the difference between a vegan and a vegetarian?'),\n",
       " ('81', 'Does unpasteurized cheese taste better than pasteurized cheese?'),\n",
       " ('82', 'Which light bulb is better, incandescent or fluorescent?'),\n",
       " ('83',\n",
       "  'What is the difference between quantum physics and quantum mechanics?'),\n",
       " ('84', 'What is better, cow milk or goat milk?'),\n",
       " ('85', 'Psoriasis vs Eczema: What is the difference?'),\n",
       " ('86', 'I am planning to buy sneakers: Which are better, Adidas or Nike?'),\n",
       " ('87', 'Is Obamacare really any better than Medicare?'),\n",
       " ('88', 'Should I major in philosophy or psychology?'),\n",
       " ('89',\n",
       "  'What are the differences between biodegradable and non-biodegradable wastes?'),\n",
       " ('90', 'What are good business books to read?'),\n",
       " ('91', 'When are random forest classifiers better than decision trees?'),\n",
       " ('92', 'What are the pros and cons of wood vs. stone mulch?'),\n",
       " ('93', 'Is rain water better than tap water for plants?'),\n",
       " ('94', 'Suitcases: hard or soft?'),\n",
       " ('95', 'Which is more environmentally friendly, a hybrid or a diesel?'),\n",
       " ('96', 'Which is healthier to wear, boxers or briefs?'),\n",
       " ('97', 'What is the difference between a blender vs a food processor?'),\n",
       " ('98', 'Which is better, rock or rap?'),\n",
       " ('99', 'Do you think imagination is better than knowledge?'),\n",
       " ('100', 'Should I learn Python or R for data analysis?')]"
      ]
     },
     "execution_count": 490,
     "metadata": {},
     "output_type": "execute_result"
    }
   ],
   "source": [
    "topics_2021"
   ]
  },
  {
   "cell_type": "code",
   "execution_count": 476,
   "metadata": {},
   "outputs": [],
   "source": [
    "def print_common_list(common_list, numb, num2doc_ind, doc_ind2pass, big_dict):\n",
    "    ind_set = set()\n",
    "    for elem in common_list[:numb]:\n",
    "        elem = elem.split()\n",
    "        ind = int(elem[0])\n",
    "        #pass_idx = doc_ind2pass[elem[2]]\n",
    "        if ind not in ind_set:\n",
    "            print (topics_2021[ind-51])\n",
    "            ind_set.add(ind)\n",
    "            print (\"\\n\")\n",
    "        try:\n",
    "            print (big_dict[elem[2]])\n",
    "        except:\n",
    "            print (\"bls\")\n",
    "        print (\"\\n\")"
   ]
  },
  {
   "cell_type": "markdown",
   "metadata": {},
   "source": [
    "## Colbert output"
   ]
  },
  {
   "cell_type": "code",
   "execution_count": 427,
   "metadata": {},
   "outputs": [
    {
     "data": {
      "text/plain": [
       "False"
      ]
     },
     "execution_count": 427,
     "metadata": {},
     "output_type": "execute_result"
    }
   ],
   "source": [
    "'clueweb12-1516wb-28-23404' in my_response_list.keys()"
   ]
  },
  {
   "cell_type": "code",
   "execution_count": 489,
   "metadata": {},
   "outputs": [
    {
     "name": "stdout",
     "output_type": "stream",
     "text": [
      "('91', 'When are random forest classifiers better than decision trees?')\n",
      "\n",
      "\n",
      "“what principles should inform our designs for showing data? where do those principles come from? how can the integrity of quantitative descriptions be maintained in the face of complex and animated representation of data? \n",
      "\n",
      "\n",
      "when linux hosting is better than windows hosting? linux web hosting is better than windows hosting when you are looking for a simple, cheap and reliable web hosting solution.\n",
      "\n",
      "\n",
      "how do i compute the intersec- how do i test whether two arrays or hashes are equal? how do i find the first array element for which a condition is true? why does defined() return true on empty arrays and hashes? how do i sort a hash (optionally by value instead of key)?\n",
      "\n",
      "\n",
      "what are the nuclear reactions that drive stars and stellar explosions? what is the heaviest possible stable or metastable nucleus? quantum mechanics in the correspondence limit (sometimes called quantum chaos) is there a preferred interpretation of quantum mechanics?\n",
      "\n",
      "\n",
      "what's the difference between not in and not exists in sql? which is better to use in sql queries for the performance aspects?\n",
      "\n",
      "\n",
      "\"stochastic discrimination, random forests and boosting tend to form more accurate classifiers than decision trees alone.\"\n",
      "\n",
      "\n",
      "what is the informative system of the metal-earth, the unit, bit of information that evolves, the economic ecosystem?\n",
      "\n",
      "\n",
      "is there a gui/ide interface for mysql like we have for microsoft sql server and most other windows packages? lamp with suse or red hat? sizing up server upgrade options apache modules and cgi functionality? are there xml documents? is there a back-end database and/or middleware requirements?\n",
      "\n",
      "\n",
      "what is the minimum photon energy in joule to emit an electron from this metal through the photo-electric effect? what are the photon frequency in terahertz and the photon wavelength in micrometer? what is the corresponding photon momentum?\n",
      "\n",
      "\n",
      "walks (a random walk through spectral graph theory) * more unknowns than equations?\n",
      "\n",
      "\n"
     ]
    }
   ],
   "source": [
    "print_common_list(common_list, 10, {}, mapping_dict, big_dict)"
   ]
  },
  {
   "cell_type": "markdown",
   "metadata": {},
   "source": [
    "## Trained cos"
   ]
  },
  {
   "cell_type": "code",
   "execution_count": 466,
   "metadata": {},
   "outputs": [
    {
     "name": "stdout",
     "output_type": "stream",
     "text": [
      "('81', 'Does unpasteurized cheese taste better than pasteurized cheese?')\n",
      "\n",
      "\n",
      "why is the shelf life for unpasteurized yogurt longer than that for pasteurized milk? tamime, a. y. and deeth, h. c. yogurt: technology and biochemistry, j. driessen, f. m., ubbels, j., and stadhouders, j., continuous manufacture of yogurt. i.\n",
      "\n",
      "\n",
      "is cheese made from unpasteurized (raw) milk superior to cheese made with pasteurized milk? or have modern artisanal cheesemakers proven that pasteurized cheese can be just as amazing? receive a one-time notification when your response is published.\n",
      "\n",
      "\n",
      "have you experimented with milk from different sources? sometimes the goats or cows eat allergenic things, or have bacteria that disturb the intestine. have you tried boiled or ultrapasteurized milk? is the cheese the original parmigiano reggiano?\n",
      "\n",
      "\n",
      "how about breaking down each item of milk; pasteurized vs raw? is that pasteurized milk just milk from the cow that is just pasteurized? or is it adulterated in some way?\n",
      "\n",
      "\n",
      "pasteurization does change the flavor of cheeses, and unpasteurized cheeses are often considered to have better flavor, so there are reasons not to pasteurize all cheeses.\n",
      "\n",
      "\n",
      "why is the shelf life for unpasteurized yogurt longer than that for pasteurized milk? i have two opened jars of peanuts butter and 1 jar that has not been opened. all are in my food pantry and all have the same expiry date of 06 au 07. are they still good?\n",
      "\n",
      "\n",
      ", unpasteurized or inadequately pasteurized milk, ready-to eat deli meats and hot dogs salmonella 6 hours to 10 days; usually 5-48 hours nausea, diarrhea, cramps, fever 4-7 days poultry, eggs, meat, unpasteurized milk or juice, raw fruits and vegetables (e.g., sprouts), person to person shigella 12 hours\n",
      "\n",
      "\n",
      "his patented, pasteurized cheese had a much longer shelf life than ordinary cheese, though connoisseurs complained that kraft had literally \"killed the cheese\", and makers of what is now called \"natural cheese\" -- unpasteurized -- demanded that kraft be forced to sell its product as \"embalmed cheese\"\n",
      "\n",
      "\n",
      "fermented dairy products such as yogurt would be better, and fermented cheese such as feta is better than typical cheddar cheese. goat milk is also easier to digest than cows milk, she said.\n",
      "\n",
      "\n",
      "these dressed up cheeses, pure inventions of the dairy industry, usually come from pasteurized milk and have a standardized taste...\n",
      "\n",
      "\n"
     ]
    }
   ],
   "source": [
    "print_common_list(common_list, 10, {}, mapping_dict, big_dict)"
   ]
  },
  {
   "cell_type": "markdown",
   "metadata": {},
   "source": [
    "## Trained l2"
   ]
  },
  {
   "cell_type": "code",
   "execution_count": 468,
   "metadata": {},
   "outputs": [
    {
     "name": "stdout",
     "output_type": "stream",
     "text": [
      "('81', 'Does unpasteurized cheese taste better than pasteurized cheese?')\n",
      "\n",
      "\n",
      "why is the shelf life for unpasteurized yogurt longer than that for pasteurized milk? tamime, a. y. and deeth, h. c. yogurt: technology and biochemistry, j. driessen, f. m., ubbels, j., and stadhouders, j., continuous manufacture of yogurt. i.\n",
      "\n",
      "\n",
      "is cheese made from unpasteurized (raw) milk superior to cheese made with pasteurized milk? or have modern artisanal cheesemakers proven that pasteurized cheese can be just as amazing? receive a one-time notification when your response is published.\n",
      "\n",
      "\n",
      "have you experimented with milk from different sources? sometimes the goats or cows eat allergenic things, or have bacteria that disturb the intestine. have you tried boiled or ultrapasteurized milk? is the cheese the original parmigiano reggiano?\n",
      "\n",
      "\n",
      "how about breaking down each item of milk; pasteurized vs raw? is that pasteurized milk just milk from the cow that is just pasteurized? or is it adulterated in some way?\n",
      "\n",
      "\n",
      "why is the shelf life for unpasteurized yogurt longer than that for pasteurized milk? i have two opened jars of peanuts butter and 1 jar that has not been opened. all are in my food pantry and all have the same expiry date of 06 au 07. are they still good?\n",
      "\n",
      "\n",
      "his patented, pasteurized cheese had a much longer shelf life than ordinary cheese, though connoisseurs complained that kraft had literally \"killed the cheese\", and makers of what is now called \"natural cheese\" -- unpasteurized -- demanded that kraft be forced to sell its product as \"embalmed cheese\"\n",
      "\n",
      "\n",
      "is turkey healthier and does it have less calories compared to chicken? i love whole wheat pasta - it's proof that healthy can taste delish. do you have the secret on sleeping at night?? it really depends on the sausage.\n",
      "\n",
      "\n",
      "pasteurization does change the flavor of cheeses, and unpasteurized cheeses are often considered to have better flavor, so there are reasons not to pasteurize all cheeses.\n",
      "\n",
      "\n",
      "these dressed up cheeses, pure inventions of the dairy industry, usually come from pasteurized milk and have a standardized taste...\n",
      "\n",
      "\n",
      ", unpasteurized or inadequately pasteurized milk, ready-to eat deli meats and hot dogs salmonella 6 hours to 10 days; usually 5-48 hours nausea, diarrhea, cramps, fever 4-7 days poultry, eggs, meat, unpasteurized milk or juice, raw fruits and vegetables (e.g., sprouts), person to person shigella 12 hours\n",
      "\n",
      "\n"
     ]
    }
   ],
   "source": [
    "print_common_list(common_list, 10, {}, mapping_dict, big_dict)"
   ]
  },
  {
   "cell_type": "markdown",
   "metadata": {},
   "source": [
    "## unTrained"
   ]
  },
  {
   "cell_type": "code",
   "execution_count": 461,
   "metadata": {},
   "outputs": [
    {
     "name": "stdout",
     "output_type": "stream",
     "text": [
      "('81', 'Does unpasteurized cheese taste better than pasteurized cheese?')\n",
      "\n",
      "\n",
      "pasteurization does change the flavor of cheeses, and unpasteurized cheeses are often considered to have better flavor, so there are reasons not to pasteurize all cheeses.\n",
      "\n",
      "\n",
      "is cheese made from unpasteurized (raw) milk superior to cheese made with pasteurized milk? or have modern artisanal cheesemakers proven that pasteurized cheese can be just as amazing? receive a one-time notification when your response is published.\n",
      "\n",
      "\n",
      "his patented, pasteurized cheese had a much longer shelf life than ordinary cheese, though connoisseurs complained that kraft had literally \"killed the cheese\", and makers of what is now called \"natural cheese\" -- unpasteurized -- demanded that kraft be forced to sell its product as \"embalmed cheese\"\n",
      "\n",
      "\n",
      "lately, we’ve heard a lot of buzz on the virtues of raw milk cheese, but does it really taste better? raw milk cheeses are not pasteurized.\n",
      "\n",
      "\n",
      "these days, double glouster and cotswold are made in both pasteurized and unpasteurized varieties. like most hard cheeses, this cheese can be stored for at least a month in the refrigerator so you needn't be in a hurry to finish it off, though we suspect you just might after you taste it.\n",
      "\n",
      "\n",
      "regardless, raw, unpasteurized milk has been gaining in popularity as part of the growing organic and natural foods movement. proponents say raw milk is healthier and better tasting than pasteurized, milk. the glowing media coverage of all things natural abounds.\n",
      "\n",
      "\n",
      "interest in raw, unpasteurized milk has been on the rise across the nation, part of the growing organic and natural foods movement. proponents say raw milk is healthier and better tasting than the pasteurized, homogenized milk on supermarket shelves.\n",
      "\n",
      "\n",
      "raw milk advocates claim that the unpasteurized stuff contains natural enzymes and beneficial bacteria that are removed during the pasteurization process. they also often claim that it just tastes better. \n",
      "\n",
      "\n",
      "raw milk cheeses and very high-quality pasteurized cheeses taste full and grassy, an indication of what the animals had been eating. and this is what gets at the heart of raw milk cheese. the milk is flavorful because of the beta carotene in the plants that the cows, goats and sheep eat.\n",
      "\n",
      "\n",
      "(so, too, do europeans like the taste of real brie, camembert, and other young cheeses made from unpasteurized milk. they accept the small risk from e. coli and other pathogensa risk that has prompted the fda to allow only ersatz versions into the united states.)\n",
      "\n",
      "\n"
     ]
    }
   ],
   "source": [
    "print_common_list(common_list, 10, {}, mapping_dict, big_dict)"
   ]
  },
  {
   "cell_type": "markdown",
   "metadata": {},
   "source": [
    "## baseline output"
   ]
  },
  {
   "cell_type": "code",
   "execution_count": 380,
   "metadata": {},
   "outputs": [
    {
     "ename": "AttributeError",
     "evalue": "'tuple' object has no attribute 'split'",
     "output_type": "error",
     "traceback": [
      "\u001b[0;31m\u001b[0m",
      "\u001b[0;31mAttributeError\u001b[0mTraceback (most recent call last)",
      "\u001b[0;32m<ipython-input-380-5570a1e251d5>\u001b[0m in \u001b[0;36m<module>\u001b[0;34m\u001b[0m\n\u001b[0;32m----> 1\u001b[0;31m \u001b[0mprint_common_list\u001b[0m\u001b[0;34m(\u001b[0m\u001b[0mcommon_list_bsln\u001b[0m\u001b[0;34m,\u001b[0m \u001b[0;36m10\u001b[0m\u001b[0;34m,\u001b[0m \u001b[0;34m{\u001b[0m\u001b[0;34m}\u001b[0m\u001b[0;34m,\u001b[0m \u001b[0mmapping_dict\u001b[0m\u001b[0;34m,\u001b[0m \u001b[0mbig_dict\u001b[0m\u001b[0;34m)\u001b[0m\u001b[0;34m\u001b[0m\u001b[0;34m\u001b[0m\u001b[0m\n\u001b[0m",
      "\u001b[0;32m<ipython-input-374-9186333a2baa>\u001b[0m in \u001b[0;36mprint_common_list\u001b[0;34m(common_list, numb, num2doc_ind, doc_ind2pass, big_dict)\u001b[0m\n\u001b[1;32m      2\u001b[0m     \u001b[0mind_set\u001b[0m \u001b[0;34m=\u001b[0m \u001b[0mset\u001b[0m\u001b[0;34m(\u001b[0m\u001b[0;34m)\u001b[0m\u001b[0;34m\u001b[0m\u001b[0;34m\u001b[0m\u001b[0m\n\u001b[1;32m      3\u001b[0m     \u001b[0;32mfor\u001b[0m \u001b[0melem\u001b[0m \u001b[0;32min\u001b[0m \u001b[0mcommon_list\u001b[0m\u001b[0;34m[\u001b[0m\u001b[0;34m:\u001b[0m\u001b[0mnumb\u001b[0m\u001b[0;34m]\u001b[0m\u001b[0;34m:\u001b[0m\u001b[0;34m\u001b[0m\u001b[0;34m\u001b[0m\u001b[0m\n\u001b[0;32m----> 4\u001b[0;31m         \u001b[0melem\u001b[0m \u001b[0;34m=\u001b[0m \u001b[0melem\u001b[0m\u001b[0;34m.\u001b[0m\u001b[0msplit\u001b[0m\u001b[0;34m(\u001b[0m\u001b[0;34m)\u001b[0m\u001b[0;34m\u001b[0m\u001b[0;34m\u001b[0m\u001b[0m\n\u001b[0m\u001b[1;32m      5\u001b[0m         \u001b[0mind\u001b[0m \u001b[0;34m=\u001b[0m \u001b[0mint\u001b[0m\u001b[0;34m(\u001b[0m\u001b[0melem\u001b[0m\u001b[0;34m[\u001b[0m\u001b[0;36m0\u001b[0m\u001b[0;34m]\u001b[0m\u001b[0;34m)\u001b[0m \u001b[0;34m-\u001b[0m \u001b[0;36m51\u001b[0m\u001b[0;34m\u001b[0m\u001b[0;34m\u001b[0m\u001b[0m\n\u001b[1;32m      6\u001b[0m         \u001b[0;31m#pass_idx = doc_ind2pass[elem[2]]\u001b[0m\u001b[0;34m\u001b[0m\u001b[0;34m\u001b[0m\u001b[0;34m\u001b[0m\u001b[0m\n",
      "\u001b[0;31mAttributeError\u001b[0m: 'tuple' object has no attribute 'split'"
     ]
    }
   ],
   "source": [
    "print_common_list(common_list_bsln, 10, {}, mapping_dict, big_dict)"
   ]
  },
  {
   "cell_type": "code",
   "execution_count": 23,
   "metadata": {},
   "outputs": [],
   "source": [
    "with open('./outs/colbert_finetune_msmarco_by_me.qrels', 'w') as fp:\n",
    "    fp.write('\\n'.join(x for x in common_list))"
   ]
  },
  {
   "cell_type": "code",
   "execution_count": 12,
   "metadata": {},
   "outputs": [
    {
     "data": {
      "text/plain": [
       "'51 Q0 clueweb12-0001wb-15-05765 1 1984.913 MyBaselineFilterResponse\\n'"
      ]
     },
     "execution_count": 12,
     "metadata": {},
     "output_type": "execute_result"
    }
   ],
   "source": [
    "'51 Q0 clueweb12-0001wb-15-05765 1 1984.913 MyBaselineFilterResponse\\n'"
   ]
  },
  {
   "cell_type": "code",
   "execution_count": 325,
   "metadata": {},
   "outputs": [
    {
     "data": {
      "text/plain": [
       "['91 Q0 clueweb12-0700wb-90-19409 1 1.0 colbert',\n",
       " '91 Q0 clueweb12-0011wb-60-27834 2 0.5 colbert',\n",
       " '91 Q0 clueweb12-1306wb-49-06042 3 0.3333333333333333 colbert',\n",
       " '91 Q0 clueweb12-0812wb-61-14830 4 0.25 colbert']"
      ]
     },
     "execution_count": 325,
     "metadata": {},
     "output_type": "execute_result"
    }
   ],
   "source": [
    "common_list[:4]"
   ]
  },
  {
   "cell_type": "code",
   "execution_count": null,
   "metadata": {},
   "outputs": [],
   "source": [
    "common_list = []\n",
    "\n",
    "print (\"baseline\", flush = True)\n",
    "for ind_q, elem in enumerate(list_of_tuples):\n",
    "    qid = elem[0]\n",
    "    Q0 = 'Q0'\n",
    "    query = elem[1]\n",
    "    tag = 'MyBaselineFilterResponse'\n",
    "    responses = list(zip(*my_response_list[qid]))\n",
    "        \n",
    "    scores0 = responses[0]\n",
    "    docs = responses[1]\n",
    "    #print (\"1\")\n",
    "    titles = responses[2]\n",
    "    #print (\"2\")\n",
    "    answers_bodies = responses[3]\n",
    "    #print (\"3\")\n",
    "    # print (scores0, scores3, scores)\n",
    "    qids = [qid]*len(scores0)\n",
    "    Q0s = [Q0 for elem in scores0]\n",
    "    tags = [tag for elem in scores0]\n",
    "    part_of_commom_list = list(zip(qids, Q0s, docs, scores0, tags))\n",
    "    part_of_commom_list = sorted(part_of_commom_list, key = lambda x: x[3], reverse = True) \n",
    "\n",
    "    qids, Q0s, docs, scores, tags = zip(*part_of_commom_list)\n",
    "\n",
    "    ranks = range(1, len(scores) + 1)\n",
    "    part_of_commom_list = list(zip(qids, Q0s, docs, ranks, scores, tags))\n",
    "    common_list = common_list + part_of_commom_list\n",
    "    print (\"len(common_list)\", len(common_list))"
   ]
  },
  {
   "cell_type": "code",
   "execution_count": 67,
   "metadata": {},
   "outputs": [],
   "source": [
    "from transformers import AutoModel, AutoTokenizer"
   ]
  },
  {
   "cell_type": "code",
   "execution_count": 68,
   "metadata": {},
   "outputs": [
    {
     "data": {
      "application/vnd.jupyter.widget-view+json": {
       "model_id": "1129176f1af64d47be7529ad58177bb5",
       "version_major": 2,
       "version_minor": 0
      },
      "text/plain": [
       "Downloading:   0%|          | 0.00/541 [00:00<?, ?B/s]"
      ]
     },
     "metadata": {},
     "output_type": "display_data"
    },
    {
     "data": {
      "application/vnd.jupyter.widget-view+json": {
       "model_id": "ea738c781ed941819eb4e11aec693598",
       "version_major": 2,
       "version_minor": 0
      },
      "text/plain": [
       "Downloading:   0%|          | 0.00/158M [00:00<?, ?B/s]"
      ]
     },
     "metadata": {},
     "output_type": "display_data"
    }
   ],
   "source": [
    "from transformers import BertModel\n",
    "from transformers import BertPreTrainedModel\n",
    "from transformers import BertConfig\n",
    "import torch \n",
    "import torch.nn as nn\n",
    "\n",
    "class VespaColBERT(BertPreTrainedModel):\n",
    "   \n",
    "    def __init__(self,config):\n",
    "        super().__init__(config)\n",
    "        self.bert = BertModel(config)\n",
    "        self.linear = nn.Linear(config.hidden_size, 32, bias=False)\n",
    "        self.init_weights()\n",
    "        \n",
    "    def forward(self, input_ids, attention_mask):\n",
    "        Q = self.bert(input_ids,attention_mask=attention_mask)[0]\n",
    "        Q = self.linear(Q)\n",
    "        return torch.nn.functional.normalize(Q, p=2, dim=2)  \n",
    "\n",
    "colbert_query_encoder = VespaColBERT.from_pretrained(\"vespa-engine/colbert-medium\") \n",
    "\n",
    "#Export model to ONNX for serving in Vespa \n",
    "\n",
    "input_names = [\"input_ids\", \"attention_mask\"]\n",
    "output_names = [\"contextual\"]\n",
    "#input, max 32 query term\n",
    "input_ids = torch.ones(1,32, dtype=torch.int64)\n",
    "attention_mask = torch.ones(1,32,dtype=torch.int64)\n",
    "args = (input_ids, attention_mask)\n",
    "torch.onnx.export(colbert_query_encoder,\n",
    "                args=args,\n",
    "                f=\"query_encoder_colbert.onnx\",\n",
    "                input_names = input_names,\n",
    "                output_names = output_names,\n",
    "                dynamic_axes = {\n",
    "                    \"input_ids\": {0: \"batch\"},\n",
    "                    \"attention_mask\": {0: \"batch\"},\n",
    "                    \"contextual\": {0: \"batch\"},\n",
    "                },\n",
    "                opset_version=11)"
   ]
  },
  {
   "cell_type": "code",
   "execution_count": 72,
   "metadata": {},
   "outputs": [
    {
     "name": "stderr",
     "output_type": "stream",
     "text": [
      "Some weights of the model checkpoint at vespa-engine/colbert-medium were not used when initializing BertModel: ['linear.weight']\n",
      "- This IS expected if you are initializing BertModel from the checkpoint of a model trained on another task or with another architecture (e.g. initializing a BertForSequenceClassification model from a BertForPreTraining model).\n",
      "- This IS NOT expected if you are initializing BertModel from the checkpoint of a model that you expect to be exactly identical (initializing a BertForSequenceClassification model from a BertForSequenceClassification model).\n"
     ]
    }
   ],
   "source": [
    "model_name = \"vespa-engine/colbert-medium\" \n",
    "\n",
    "\n",
    "# Download pytorch model\n",
    "model = AutoModel.from_pretrained(model_name)\n",
    "tokenizer = AutoTokenizer.from_pretrained(model_name)\n",
    "\n",
    "\n",
    "# Transform input tokens \n",
    "inputs = tokenizer(\"Hello world!\", return_tensors=\"pt\")\n",
    "\n",
    "# Model apply\n",
    "outputs = model(**inputs)"
   ]
  },
  {
   "cell_type": "code",
   "execution_count": 74,
   "metadata": {},
   "outputs": [
    {
     "data": {
      "text/plain": [
       "transformers.models.bert.modeling_bert.BertModel"
      ]
     },
     "execution_count": 74,
     "metadata": {},
     "output_type": "execute_result"
    }
   ],
   "source": [
    "type(model)"
   ]
  },
  {
   "cell_type": "code",
   "execution_count": 73,
   "metadata": {},
   "outputs": [
    {
     "ename": "AttributeError",
     "evalue": "'BaseModelOutputWithPoolingAndCrossAttentions' object has no attribute 'shape'",
     "output_type": "error",
     "traceback": [
      "\u001b[0;31m\u001b[0m",
      "\u001b[0;31mAttributeError\u001b[0mTraceback (most recent call last)",
      "\u001b[0;32m<ipython-input-73-25d6d9042fb3>\u001b[0m in \u001b[0;36m<module>\u001b[0;34m\u001b[0m\n\u001b[0;32m----> 1\u001b[0;31m \u001b[0moutputs\u001b[0m\u001b[0;34m.\u001b[0m\u001b[0mshape\u001b[0m\u001b[0;34m\u001b[0m\u001b[0;34m\u001b[0m\u001b[0m\n\u001b[0m",
      "\u001b[0;31mAttributeError\u001b[0m: 'BaseModelOutputWithPoolingAndCrossAttentions' object has no attribute 'shape'"
     ]
    }
   ],
   "source": [
    "outputs.shape"
   ]
  },
  {
   "cell_type": "code",
   "execution_count": 283,
   "metadata": {},
   "outputs": [],
   "source": [
    "import requests\n",
    "params = {\n",
    "            \"apikey\": \"0833a307-97d3-462a-99d9-27db400c70da\",\n",
    "            \"query\": 'When are random forest classifiers better than decision trees?',\n",
    "            \"index\": [\"cw12\"],\n",
    "            \"size\": 50,\n",
    "            \"pretty\": True\n",
    "        }\n",
    "response = requests.get(url = \"http://www.chatnoir.eu/api/v1/_search\", params = params)"
   ]
  },
  {
   "cell_type": "code",
   "execution_count": 286,
   "metadata": {},
   "outputs": [
    {
     "data": {
      "text/plain": [
       "{'error': {'code': 401, 'message': 'API key has expired'}}"
      ]
     },
     "execution_count": 286,
     "metadata": {},
     "output_type": "execute_result"
    }
   ],
   "source": [
    "response.json()"
   ]
  },
  {
   "cell_type": "code",
   "execution_count": null,
   "metadata": {},
   "outputs": [],
   "source": []
  }
 ],
 "metadata": {
  "kernelspec": {
   "display_name": "Python 3",
   "language": "python",
   "name": "python3"
  },
  "language_info": {
   "codemirror_mode": {
    "name": "ipython",
    "version": 3
   },
   "file_extension": ".py",
   "mimetype": "text/x-python",
   "name": "python",
   "nbconvert_exporter": "python",
   "pygments_lexer": "ipython3",
   "version": "3.7.4"
  }
 },
 "nbformat": 4,
 "nbformat_minor": 4
}

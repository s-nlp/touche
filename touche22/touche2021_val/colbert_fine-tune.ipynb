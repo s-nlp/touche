{
 "cells": [
  {
   "cell_type": "code",
   "execution_count": 155,
   "metadata": {},
   "outputs": [],
   "source": [
    "qual_query = []\n",
    "with open('touche-task2-51-100-quality.qrels', 'r') as fp:\n",
    "    Lines = fp.readlines()\n",
    "    for line in Lines:\n",
    "      # The line below may need to be changed based on the type of data in the qrel file\n",
    "      qual_query.append(line.split())"
   ]
  },
  {
   "cell_type": "code",
   "execution_count": 156,
   "metadata": {},
   "outputs": [],
   "source": [
    "rel_query = []\n",
    "with open('touche-task2-51-100-relevance.qrels', 'r') as fp:\n",
    "    Lines = fp.readlines()\n",
    "    for line in Lines:\n",
    "      # The line below may need to be changed based on the type of data in the qrel file\n",
    "      rel_query.append(line.split())"
   ]
  },
  {
   "cell_type": "code",
   "execution_count": 159,
   "metadata": {},
   "outputs": [],
   "source": [
    "rel_query20 = []\n",
    "with open('touche2020-task2-relevance-withbaseline.qrels', 'r') as fp:\n",
    "    Lines = fp.readlines()\n",
    "    for line in Lines:\n",
    "      # The line below may need to be changed based on the type of data in the qrel file\n",
    "      rel_query20.append(line.split())\n",
    "\n"
   ]
  },
  {
   "cell_type": "markdown",
   "metadata": {},
   "source": [
    "## Passages of 22 years"
   ]
  },
  {
   "cell_type": "code",
   "execution_count": null,
   "metadata": {},
   "outputs": [],
   "source": [
    "ids = [elem[2] for elem in qual_query]"
   ]
  },
  {
   "cell_type": "code",
   "execution_count": 143,
   "metadata": {},
   "outputs": [
    {
     "name": "stdout",
     "output_type": "stream",
     "text": [
      "/opt/.pyenv/versions/3.7.4/bin:/opt/.pyenv/libexec:/opt/.pyenv/plugins/python-build/bin:/opt/.pyenv/plugins/pyenv-virtualenv/bin:/opt/.pyenv/plugins/pyenv-update/bin:/opt/.pyenv/plugins/pyenv-installer/bin:/opt/.pyenv/plugins/pyenv-doctor/bin:/opt/.pyenv/shims:/opt/.pyenv/bin:/usr/local/sbin:/usr/local/bin:/usr/sbin:/usr/bin:/sbin:/bin\n"
     ]
    }
   ],
   "source": [
    "!echo $PATH"
   ]
  },
  {
   "cell_type": "code",
   "execution_count": null,
   "metadata": {},
   "outputs": [],
   "source": [
    "'clueweb12-0000tw-14-21168'"
   ]
  },
  {
   "cell_type": "code",
   "execution_count": 5,
   "metadata": {},
   "outputs": [
    {
     "name": "stdout",
     "output_type": "stream",
     "text": [
      "868655\n",
      "result: {'id': 'clueweb12-0000tw-14-21168___1', 'contents': 'Shuga: Love, Sex, Money MTV Shuga Home Swag Blog Cast Swag Video Team Shuga Partners Shuga Talks (NEW!) Unicef G-PANGE MTV Base MTV Staying Alive Shuga Premiere: Today Is The Day! Today is the day! #ShugaPremiere. We talk Twitter hashtags, competition winners and of course the FREE d/l of the official Shuga: Love, Sex, Money track feat Banky W, WizKid, L-Tido and Bon’eye Download The Official Shuga: Love, Sex, Money Track HERE For Free! Be the first to download the Shuga: Love, Sex, Money track featuring Banky W, WizKid, L-Tido and Bon’eye exclusively here! That Shuga Love Sex Money Premiere The Shuga Track, worldwide Twitter trending and how YOU can win a ticket to the OFFICIAL Shuga: Love, Sex, Money premiere… The Official Shuga: Love, Sex, Money Trailer The Official Shuga: Love, Sex, Money trailer is here!', 'chatNoirUrl': 'https://chatnoir.eu/cache?uuid=f338e91e-a3e9-52ec-bb4c-cac853f4df55&index=cw12&raw&plain'}\n",
      "result: {'id': 'clueweb12-0000tw-14-21168___2', 'contents': 'We LOVE sending #TeamShuga the exclusives. Banky W, Wizkid L-Tido And Bon’eye To Record Official Shuga: Love, Sex, Money Track Some of Africa’s finest artists have got together to record the official title track for Shuga: Love, Sex, Money. First off a BIG shout out to Banky W, Wizkid L-Tido And Bon’eye for jumping on board – we are so hyped to announce their involvement in Shuga Video Shuga: Love, Sex, Money Promo The wait is over – check out this exclusive sneak peek of Nairobi drama Shuga: Love, Sex, Money. Meet the cast Violet Angelo Kennedy Rayban Miss B’Have Femi Dala Kipepeo Baby Skola Leo Ayira Meet the Rising Stars MTV Staying Alive have selected 11 exceptionally talented young Kenyan \"Rising Stars\" to shadow and contribute to all aspects of the Shuga: Love, Sex, Money production.', 'chatNoirUrl': 'https://chatnoir.eu/cache?uuid=f338e91e-a3e9-52ec-bb4c-cac853f4df55&index=cw12&raw&plain'}\n",
      "result: {'id': 'clueweb12-0000tw-14-21168___3', 'contents': 'Now take note.. because you will be seeing a whole lot more of these #RisingStars over the next 7 months.. What is Shuga? Set in Nairobi, Kenya, and back for a hotly anticipated second series, Shuga is a hard-hitting drama that follows the lives, loves and ambitions of a group of young people whose bright lives and fabulous futures are balanced on a knife edge due to their love of living dangerously. Tweet Latest @MTVShuga Tweets Follow @mtvshuga Sites we like G-Pange Homeboyz Hotsecretz MTV Base Staying Alive Foundation This is creme © MTV Staying Alive 2011. All rights reserved. Contact Us Unicef National Youth Talent Academy G-PANGE MTV Base MTV Staying Alive HIV Free Generation Pepfar', 'chatNoirUrl': 'https://chatnoir.eu/cache?uuid=f338e91e-a3e9-52ec-bb4c-cac853f4df55&index=cw12&raw&plain'}\n",
      "result: {'id': 'clueweb12-0000tw-22-19226___1', 'contents': \"Sex and love: The modern matchmakers | The Economist Log in Register Subscribe Digital & mobile Events Topics A-Z Newsletters Jobs RSS feed Facebook Twitter More social links Google plus Linked in Tumblr Search this site: Saturday February 11th 2012 World politics United States US Elections 2012 Britain Europe China Asia Americas Middle East & Africa Business & finance All Business & finance Which MBA? Business Books Quarterly Economics All Economics Economics by invitation Markets & data Economics A-Z Science & technology All Science & technology Technology Quarterly Culture All Culture More Intelligent Life The Economist Quiz The World in 2012 Blogs Latest blog posts Eastern approaches Americas view Free exchange Babbage Game theory Bagehot's notebook Graphic detail Banyan Gulliver Baobab Johnson Blighty Leviathan Buttonwood's notebook Lexington's notebook Cassandra Multimedia Charlemagne's notebook Newsbook Clausewitz Prospero Democracy in America Schumpeter Debate Economist debates Economics by invitation Ideas arena: Women & work Letters to the editor What the world thinks Multimedia World Business & economics Science & technology Culture The World in 2012 The Economist in audio Print edition Current issue Previous issues Special reports Politics this week Business this week Leaders KAL's cartoon Sex and love The modern matchmakers Internet dating sites claim to have brought science to the age-old question of how to pair off successfully.\", 'chatNoirUrl': 'https://chatnoir.eu/cache?uuid=2bf4b08d-2f65-5741-80b2-0e6ec18d5505&index=cw12&raw&plain'}\n",
      "result: {'id': 'clueweb12-0000tw-22-19226___2', 'contents': 'But have they? Feb 11th 2012 | from the print edition Tweet FOR as long as humans have romanced each other, others have wanted to meddle. Whether those others were parents, priests, friends or bureaucrats, their motive was largely the same: they thought they knew what it took to pair people off better than those people knew themselves. Today, though, there is a new matchmaker in the village: the internet. It differs from the old ones in two ways. First, its motive is purely profit. Second, single wannabe lovers are queuing up to use it, rather than resenting its nagging. For internet dating sites promise two things that neither traditional matchmakers nor chance encounters at bars, bus-stops and bar mitzvahs offer. One is a vastly greater choice of potential partners. The other is a scientifically proven way of matching suitable people together, enhancing the chance of “happily ever after”.', 'chatNoirUrl': 'https://chatnoir.eu/cache?uuid=2bf4b08d-2f65-5741-80b2-0e6ec18d5505&index=cw12&raw&plain'}\n"
     ]
    }
   ],
   "source": [
    "import json\n",
    "\n",
    "with open('/notebook/Touche22/touche-task2-passages-version-002.jsonl', 'r') as json_file:\n",
    "    json_list = list(json_file)\n",
    "\n",
    "print (len(json_list))\n",
    "for json_str in json_list[:5]:\n",
    "    result = json.loads(json_str)\n",
    "    print(f\"result: {result}\")"
   ]
  },
  {
   "cell_type": "code",
   "execution_count": 140,
   "metadata": {},
   "outputs": [
    {
     "data": {
      "text/plain": [
       "76536"
      ]
     },
     "execution_count": 140,
     "metadata": {},
     "output_type": "execute_result"
    }
   ],
   "source": [
    "len(big_dict)"
   ]
  },
  {
   "cell_type": "code",
   "execution_count": 142,
   "metadata": {},
   "outputs": [],
   "source": [
    "with open('/notebook/Touche22/touche2021_val/outs/big_dict.pickle', 'wb') as handle:\n",
    "    pickle.dump(big_dict, handle, protocol=pickle.HIGHEST_PROTOCOL)"
   ]
  },
  {
   "cell_type": "code",
   "execution_count": 115,
   "metadata": {},
   "outputs": [],
   "source": [
    "import html\n",
    "list_of_passages1 = []\n",
    "ind = 0\n",
    "mapping_dict = {} # {ind : clue_web_index}\n",
    "set_of_string = set()\n",
    "for key in big_dict.keys():\n",
    "    line = cleanhtml(html.unescape(big_dict[key]))\n",
    "    if (line not in set_of_string):\n",
    "        set_of_string.add(line)\n",
    "        list_of_passages1.append(line)\n",
    "        mapping_dict.update({ind : key})\n",
    "        ind += 1\n",
    "    \n",
    "with open('/notebook/Touche22/touche2021_val/outs/colbert_index_id.pickle', 'wb') as handle:\n",
    "    pickle.dump(mapping_dict, handle, protocol=pickle.HIGHEST_PROTOCOL)\n",
    "\n",
    "strs = []\n",
    "for ind, elem in enumerate(list_of_passages1):\n",
    "    strs.append([str(ind),elem])"
   ]
  },
  {
   "cell_type": "code",
   "execution_count": 116,
   "metadata": {},
   "outputs": [
    {
     "data": {
      "text/plain": [
       "[['7017',\n",
       "  'anyway, over the last 9 days or so, it has cooled off a great deal. the delta breeze is back and kicking ass!'],\n",
       " ['7018',\n",
       "  'evan: well, this is kind of like a small press \"who\\'s stronger, thor or the hulk?\" type deal, isn\\'t it? and like that imponderable, i have to say i have no clear answer. m&c might see johnny as a kindred spirit and just walk away.'],\n",
       " ['7019',\n",
       "  \"for whatever reason however the women who invent things, or create great works of art, aren't treated like geniuses the same way men are.\"],\n",
       " ['7020',\n",
       "  'if the people or race who created and sustained the civilization of the west should die, then the civilization also will die.'],\n",
       " ['7021', 'you need to log in or register to participate in this discussion.'],\n",
       " ['7022',\n",
       "  'maybe the quintessential example of such a comic-book psychic assault is alan moore and dave gibbons\\' \"for the man who has everything\" (superman annual #11, 1985), where the alien conqueror mongul uses a plant to immobilize superman with false images of a restored krypton where kal-el marries and has'],\n",
       " ['7023',\n",
       "  'bigger field area at citi will raise his career numbers, especially since most of the 2010 data is probably slightly stunted due to lack of spring training. by ceetar on jun 14, 2011 1:54 pm edt reply actions are there pro ball-players who have maintained a high babip (say .350 or higher) through long']]"
      ]
     },
     "execution_count": 116,
     "metadata": {},
     "output_type": "execute_result"
    }
   ],
   "source": [
    "strs[7017:7024]"
   ]
  },
  {
   "cell_type": "code",
   "execution_count": 117,
   "metadata": {},
   "outputs": [
    {
     "data": {
      "text/plain": [
       "'clueweb12-0407wb-31-33543'"
      ]
     },
     "execution_count": 117,
     "metadata": {},
     "output_type": "execute_result"
    }
   ],
   "source": [
    "mapping_dict[7017]"
   ]
  },
  {
   "cell_type": "code",
   "execution_count": 118,
   "metadata": {},
   "outputs": [
    {
     "data": {
      "text/plain": [
       "'anyway, over the last 9 days or so, it has cooled off a great deal. the delta breeze is back and kicking ass!'"
      ]
     },
     "execution_count": 118,
     "metadata": {},
     "output_type": "execute_result"
    }
   ],
   "source": [
    "big_dict['clueweb12-0407wb-31-33543']"
   ]
  },
  {
   "cell_type": "code",
   "execution_count": 122,
   "metadata": {},
   "outputs": [
    {
     "data": {
      "text/plain": [
       "[['3',\n",
       "  'it is effective in reducing fever and is also prescribed for the treatment of arthritic conditions such rheumatoid- and osteoarthritis, muscle injury, and acute attacks of gout.'],\n",
       " ['4',\n",
       "  'ibuprofen (nurofen and others) is another fever-reducing medication that relieves mild to moderate aches and pains. be sure to take the medication with food to prevent irritation of the stomach. ibuprofen is available in liquid or pill form. follow dosage directions on the product label.'],\n",
       " ['5',\n",
       "  'over-the-counter (otc) pain relievers: for an acute (immediate) shingles attack, individuals may take over-the-counter (otc) pain relievers, including acetaminophen (tylenol©) or ibuprofen (motrin©, advil©). children should take acetaminophen, not aspirin. adults may take aspirin.']]"
      ]
     },
     "execution_count": 122,
     "metadata": {},
     "output_type": "execute_result"
    }
   ],
   "source": [
    "strs[3:6]"
   ]
  },
  {
   "cell_type": "code",
   "execution_count": 119,
   "metadata": {},
   "outputs": [],
   "source": [
    "import csv\n",
    "with open(\"/notebook/ColBERT/collections/touche21_psgs.tsv\", \"w\") as csv_file:\n",
    "        writer = csv.writer(csv_file, delimiter='\\t')\n",
    "        for line in strs:\n",
    "            #print (line)\n",
    "            #print (type(line[0]))\n",
    "            writer.writerow(line)"
   ]
  },
  {
   "cell_type": "code",
   "execution_count": 123,
   "metadata": {},
   "outputs": [
    {
     "data": {
      "text/plain": [
       "76536"
      ]
     },
     "execution_count": 123,
     "metadata": {},
     "output_type": "execute_result"
    }
   ],
   "source": [
    "len(big_dict)"
   ]
  },
  {
   "cell_type": "markdown",
   "metadata": {},
   "source": [
    "## Topics of 21 year\n",
    "**evaluate on 90-100 topics of 21 year**"
   ]
  },
  {
   "cell_type": "code",
   "execution_count": 86,
   "metadata": {},
   "outputs": [],
   "source": [
    "def read_xml(filename):\n",
    "    # convert file filename to list of tuples (number_of_topic, title_of_topic) \n",
    "    # input: filename string\n",
    "    # output: list of corresponding tuples\n",
    "    answer_list = []\n",
    "    xmldoc = minidom.parse(filename)\n",
    "    itemlist = xmldoc.getElementsByTagName('topics')\n",
    "    print(len(itemlist))\n",
    "    print(itemlist)\n",
    "    topic_list = itemlist[0].getElementsByTagName('topic')\n",
    "    print (len(topic_list))\n",
    "    for topic in topic_list:\n",
    "        tuple_for_add = tuple((topic.getElementsByTagName('number')[0].firstChild.nodeValue, topic.getElementsByTagName('title')[0].firstChild.nodeValue))\n",
    "        answer_list.append(tuple_for_add)\n",
    "    return answer_list"
   ]
  },
  {
   "cell_type": "code",
   "execution_count": 87,
   "metadata": {},
   "outputs": [
    {
     "name": "stdout",
     "output_type": "stream",
     "text": [
      "1\n",
      "[<DOM Element: topics at 0x7f9aa44744b0>]\n",
      "50\n",
      "1\n",
      "[<DOM Element: topics at 0x7f9a7de955f0>]\n",
      "50\n"
     ]
    }
   ],
   "source": [
    "from xml.dom import minidom\n",
    "import re\n",
    "\n",
    "topics_2021 = read_xml('topics-task2-51-100.xml')\n",
    "topics_2020 = read_xml('topics-task-2.xml')"
   ]
  },
  {
   "cell_type": "code",
   "execution_count": 88,
   "metadata": {},
   "outputs": [],
   "source": [
    "topics_2020 = [(elem[0], elem[1].strip()) for elem in topics_2020]"
   ]
  },
  {
   "cell_type": "code",
   "execution_count": 89,
   "metadata": {},
   "outputs": [
    {
     "data": {
      "text/plain": [
       "[('51', 'What is better at reducing fever in children, Ibuprofen or Aspirin?'),\n",
       " ('52', 'What are the best rice cookers?'),\n",
       " ('53', 'Should I buy steel or ceramic knives?'),\n",
       " ('54', 'Is morning or afternoon sun the best for fruit trees?'),\n",
       " ('55',\n",
       "  'What is better for back pain, chiropractic therapy or physical therapy?'),\n",
       " ('56', 'Is Kenya or Tanzania better for a safari?'),\n",
       " ('57', \"How is a Master's degree different from a Bachelor's degree?\"),\n",
       " ('58', 'Which is better, Family Guy or The Simpsons?'),\n",
       " ('59', 'Which is more difficult, skiing or snowboarding?'),\n",
       " ('60', 'Why is basketball better than football?'),\n",
       " ('61', 'Who is stronger, Hulk or Superman?'),\n",
       " ('62',\n",
       "  'Plastic pots or ceramic pots, which is better in terms of plant health?'),\n",
       " ('63', 'What is the coldest temperature ever recorded on Earth, and where?'),\n",
       " ('64', 'What is the most popular beer in Australia?'),\n",
       " ('65', 'Are dogs better than humans?'),\n",
       " ('66', 'What diet gives the best result to lose weight?'),\n",
       " ('67', 'Should I take the IELTS or the TOEFL?'),\n",
       " ('68', 'Are online courses better than physical classrooms?'),\n",
       " ('69', 'Who was a better boxer, Muhammad Ali or Joe Frazier?'),\n",
       " ('70', \"Which technology performs better: Apple's or Google's?\"),\n",
       " ('71', 'Is gold equal to platinum?'),\n",
       " ('72', 'Who is better at learning a foreign language, kids or adults?'),\n",
       " ('73',\n",
       "  \"What's the difference between coffee, espresso, cappuccino, and latte?\"),\n",
       " ('74', 'Which city is better, London or Paris?'),\n",
       " ('75', 'What is better, a conditioner or a moisturizer?'),\n",
       " ('76', 'Are artificial sweeteners better than white sugar?'),\n",
       " ('77', 'Is it healthier to bake than to fry food?'),\n",
       " ('78', 'Which algorithm is better, quicksort or merge sort?'),\n",
       " ('79', 'What is more interesting, computer science or computer engineering?'),\n",
       " ('80', 'What is the difference between a vegan and a vegetarian?'),\n",
       " ('81', 'Does unpasteurized cheese taste better than pasteurized cheese?'),\n",
       " ('82', 'Which light bulb is better, incandescent or fluorescent?'),\n",
       " ('83',\n",
       "  'What is the difference between quantum physics and quantum mechanics?'),\n",
       " ('84', 'What is better, cow milk or goat milk?'),\n",
       " ('85', 'Psoriasis vs Eczema: What is the difference?'),\n",
       " ('86', 'I am planning to buy sneakers: Which are better, Adidas or Nike?'),\n",
       " ('87', 'Is Obamacare really any better than Medicare?'),\n",
       " ('88', 'Should I major in philosophy or psychology?'),\n",
       " ('89',\n",
       "  'What are the differences between biodegradable and non-biodegradable wastes?'),\n",
       " ('90', 'What are good business books to read?'),\n",
       " ('91', 'When are random forest classifiers better than decision trees?'),\n",
       " ('92', 'What are the pros and cons of wood vs. stone mulch?'),\n",
       " ('93', 'Is rain water better than tap water for plants?'),\n",
       " ('94', 'Suitcases: hard or soft?'),\n",
       " ('95', 'Which is more environmentally friendly, a hybrid or a diesel?'),\n",
       " ('96', 'Which is healthier to wear, boxers or briefs?'),\n",
       " ('97', 'What is the difference between a blender vs a food processor?'),\n",
       " ('98', 'Which is better, rock or rap?'),\n",
       " ('99', 'Do you think imagination is better than knowledge?'),\n",
       " ('100', 'Should I learn Python or R for data analysis?')]"
      ]
     },
     "execution_count": 89,
     "metadata": {},
     "output_type": "execute_result"
    }
   ],
   "source": [
    "topics_2021"
   ]
  },
  {
   "cell_type": "markdown",
   "metadata": {},
   "source": [
    "## Create unique answers over it"
   ]
  },
  {
   "cell_type": "code",
   "execution_count": null,
   "metadata": {},
   "outputs": [],
   "source": [
    "#custom request and preprocessing\n",
    "from help_response import create_list_of_unigue_answers, cleanhtml, clean_punct, read_xml\n",
    "\n",
    "my_response_list = create_list_of_unigue_answers(input_dir = '', input_file = 'topics-task2-51-100.xml')\n",
    "print (\"len my responses list\", len(my_response_list))"
   ]
  },
  {
   "cell_type": "code",
   "execution_count": 38,
   "metadata": {},
   "outputs": [
    {
     "name": "stdout",
     "output_type": "stream",
     "text": [
      "22472\n"
     ]
    }
   ],
   "source": [
    "import html\n",
    "\n",
    "import pickle\n",
    "import numpy as np\n",
    "\n",
    "print (np.sum(np.array([len(my_response_list1[key]) for key in my_response_list1.keys()])))\n",
    "#big_dict = {}\n",
    "for key in my_response_list1.keys():\n",
    "    for elem in my_response_list1[key]:\n",
    "        big_dict.update({elem[1]:html.unescape(elem[3])})"
   ]
  },
  {
   "cell_type": "code",
   "execution_count": 67,
   "metadata": {},
   "outputs": [
    {
     "data": {
      "text/plain": [
       "696"
      ]
     },
     "execution_count": 67,
     "metadata": {},
     "output_type": "execute_result"
    }
   ],
   "source": []
  },
  {
   "cell_type": "code",
   "execution_count": null,
   "metadata": {},
   "outputs": [],
   "source": [
    "%load_ext autoreload\n",
    "%autoreload 2\n",
    "\n",
    "from help_response import create_list_of_unigue_answers, cleanhtml, clean_punct, read_xml\n",
    "\n",
    "\n",
    "my_response_list1 = create_list_of_unigue_answers(input_dir = '', input_file = 'topics-task2-51-100.xml')\n",
    "print (\"len my responses list\", len(my_response_list))"
   ]
  },
  {
   "cell_type": "code",
   "execution_count": 17,
   "metadata": {},
   "outputs": [],
   "source": [
    "def make_a_search_request(query, size=1000):\n",
    "    # return json\n",
    "    # json will be processed further\n",
    "    params = {\n",
    "            \"apikey\": \"0833a307-97d3-462a-99d9-27db400c70da\",\n",
    "            \"query\": query,\n",
    "            \"index\": [\"cw12\"],\n",
    "            \"size\": size,\n",
    "            \"pretty\": True\n",
    "        }\n",
    "    response = requests.get(url = \"http://www.chatnoir.eu/api/v1/_search\", params = params)\n",
    "    return response"
   ]
  },
  {
   "cell_type": "code",
   "execution_count": 21,
   "metadata": {},
   "outputs": [
    {
     "data": {
      "text/plain": [
       "{'error': {'code': 500,\n",
       "  'message': 'An internal server error occurred. Please try again later.'}}"
      ]
     },
     "execution_count": 21,
     "metadata": {},
     "output_type": "execute_result"
    }
   ],
   "source": [
    "import requests\n",
    "make_a_search_request('What is the coldest temperature ever recorded on Earth, and where ?').json()"
   ]
  },
  {
   "cell_type": "code",
   "execution_count": null,
   "metadata": {},
   "outputs": [],
   "source": [
    "import html\n",
    "for key in my_response_list.keys():\n",
    "    for elem in my_response_list[key]:\n",
    "        big_dict.update({elem[1]:html.unescape(elem[3])})"
   ]
  },
  {
   "cell_type": "markdown",
   "metadata": {},
   "source": [
    "**Create validation part - fron 90 to 100**"
   ]
  },
  {
   "cell_type": "code",
   "execution_count": 211,
   "metadata": {},
   "outputs": [
    {
     "name": "stdout",
     "output_type": "stream",
     "text": [
      "('91', 'When are random forest classifiers better than decision trees?')\n",
      "('92', 'What are the pros and cons of wood vs. stone mulch?')\n",
      "('93', 'Is rain water better than tap water for plants?')\n",
      "('94', 'Suitcases: hard or soft?')\n",
      "('95', 'Which is more environmentally friendly, a hybrid or a diesel?')\n",
      "('96', 'Which is healthier to wear, boxers or briefs?')\n",
      "('97', 'What is the difference between a blender vs a food processor?')\n",
      "('98', 'Which is better, rock or rap?')\n",
      "('99', 'Do you think imagination is better than knowledge?')\n",
      "('100', 'Should I learn Python or R for data analysis?')\n"
     ]
    }
   ],
   "source": [
    "import csv\n",
    "with open(\"/notebook/ColBERT/collections/touche21_queries_val.tsv\", \"w\") as csv_file:\n",
    "        writer = csv.writer(csv_file, delimiter='\\t')\n",
    "        for line in topics_2021[40:]:\n",
    "            print (line)\n",
    "            #print (type(line[0]))\n",
    "            writer.writerow(line)"
   ]
  },
  {
   "cell_type": "code",
   "execution_count": 57,
   "metadata": {},
   "outputs": [],
   "source": [
    "t2021_dict = {}\n",
    "for elem in topics_2021:\n",
    "    t2021_dict.update({elem[0]:elem[1]})\n",
    "    \n",
    "\n",
    "for elem in topics_2020:\n",
    "    t2021_dict.update({elem[0]:elem[1]})"
   ]
  },
  {
   "cell_type": "code",
   "execution_count": 40,
   "metadata": {},
   "outputs": [
    {
     "name": "stdout",
     "output_type": "stream",
     "text": [
      "4912\n",
      "100\n",
      "1000\n"
     ]
    },
    {
     "data": {
      "text/plain": [
       "76536"
      ]
     },
     "execution_count": 40,
     "metadata": {},
     "output_type": "execute_result"
    }
   ],
   "source": [
    "import html\n",
    "\n",
    "import pickle\n",
    "with open('list_of_un_answ_2021.pcl', 'rb') as f:\n",
    "        my_response_list = pickle.load(f)\n",
    "\n",
    "print (np.sum(np.array([len(my_response_list[key]) for key in my_response_list.keys()])))\n",
    "#big_dict = {}\n",
    "for key in my_response_list.keys():\n",
    "    for elem in my_response_list[key]:\n",
    "        big_dict.update({elem[1]:html.unescape(elem[3])})\n",
    "\n",
    "print (len(my_response_list['56']))        \n",
    "        \n",
    "with open('list_of_un_answ_2020.pkl', 'rb') as f:\n",
    "        my_response_list = pickle.load(f)\n",
    "        \n",
    "for key in my_response_list.keys():\n",
    "    for elem in my_response_list[key]:\n",
    "        big_dict.update({elem[1]:html.unescape(elem[3])})\n",
    "        \n",
    "print (len(my_response_list['2'])) \n",
    "        \n",
    "len(big_dict)    "
   ]
  },
  {
   "cell_type": "code",
   "execution_count": 158,
   "metadata": {},
   "outputs": [
    {
     "data": {
      "text/plain": [
       "50"
      ]
     },
     "execution_count": 158,
     "metadata": {},
     "output_type": "execute_result"
    }
   ],
   "source": [
    "fails = 0\n",
    "for elem in topics_2021:\n",
    "    try:\n",
    "        a = big_dict[elem[0]]\n",
    "    except:\n",
    "        fails += 1\n",
    "    \n",
    "fails"
   ]
  },
  {
   "cell_type": "code",
   "execution_count": 169,
   "metadata": {},
   "outputs": [
    {
     "ename": "KeyError",
     "evalue": "'clueweb12-0000tw-14-21168'",
     "output_type": "error",
     "traceback": [
      "\u001b[0;31m\u001b[0m",
      "\u001b[0;31mKeyError\u001b[0mTraceback (most recent call last)",
      "\u001b[0;32m<ipython-input-169-1b483617aab2>\u001b[0m in \u001b[0;36m<module>\u001b[0;34m\u001b[0m\n\u001b[0;32m----> 1\u001b[0;31m \u001b[0mbig_dict\u001b[0m\u001b[0;34m[\u001b[0m\u001b[0;34m'clueweb12-0000tw-14-21168'\u001b[0m\u001b[0;34m]\u001b[0m\u001b[0;34m\u001b[0m\u001b[0;34m\u001b[0m\u001b[0m\n\u001b[0m",
      "\u001b[0;31mKeyError\u001b[0m: 'clueweb12-0000tw-14-21168'"
     ]
    }
   ],
   "source": [
    "big_dict['clueweb12-0000tw-14-21168']"
   ]
  },
  {
   "cell_type": "markdown",
   "metadata": {},
   "source": [
    "## Create a set of all topic ids"
   ]
  },
  {
   "cell_type": "code",
   "execution_count": null,
   "metadata": {},
   "outputs": [],
   "source": [
    "all_topics_set"
   ]
  },
  {
   "cell_type": "code",
   "execution_count": 43,
   "metadata": {},
   "outputs": [],
   "source": [
    "dict_rels = {}\n",
    "\n",
    "for elem in rel_query:\n",
    "    if (int(elem[0]) < 91):\n",
    "        dict_rels[elem[0]] ={}\n",
    "maxx = 0.0\n",
    "fails = 0\n",
    "for elem in rel_query:\n",
    "    if (int(elem[0]) < 91):\n",
    "        try:\n",
    "            dict_rels[elem[0]][elem[2]] = int(elem[3])\n",
    "            if (dict_rels[elem[0]][elem[2]] > maxx):\n",
    "                maxx = dict_rels[elem[0]][elem[2]]\n",
    "        except:\n",
    "            fails+=1\n",
    "            continue"
   ]
  },
  {
   "cell_type": "code",
   "execution_count": 44,
   "metadata": {},
   "outputs": [
    {
     "data": {
      "text/plain": [
       "2"
      ]
     },
     "execution_count": 44,
     "metadata": {},
     "output_type": "execute_result"
    }
   ],
   "source": [
    "maxx"
   ]
  },
  {
   "cell_type": "code",
   "execution_count": 128,
   "metadata": {},
   "outputs": [],
   "source": [
    "maxx = 0.0\n",
    "for elem in qual_query:\n",
    "    if (int(elem[0]) < 91):\n",
    "        try:\n",
    "            dict_rels[elem[0]][elem[2]] += int(elem[3])\n",
    "            if (dict_rels[elem[0]][elem[2]] > maxx):\n",
    "                maxx = dict_rels[elem[0]][elem[2]]\n",
    "        except:\n",
    "            fails+=1\n",
    "            continue"
   ]
  },
  {
   "cell_type": "markdown",
   "metadata": {},
   "source": [
    "## list of documents id"
   ]
  },
  {
   "cell_type": "code",
   "execution_count": 60,
   "metadata": {},
   "outputs": [],
   "source": [
    "thirds = [int(elem[3]) for elem in rel_query]"
   ]
  },
  {
   "cell_type": "code",
   "execution_count": 61,
   "metadata": {},
   "outputs": [
    {
     "data": {
      "text/plain": [
       "2"
      ]
     },
     "execution_count": 61,
     "metadata": {},
     "output_type": "execute_result"
    }
   ],
   "source": [
    "import numpy as np\n",
    "np.max(np.array(thirds))"
   ]
  },
  {
   "cell_type": "markdown",
   "metadata": {},
   "source": [
    "## Add 2020 year topics"
   ]
  },
  {
   "cell_type": "code",
   "execution_count": 53,
   "metadata": {},
   "outputs": [
    {
     "ename": "KeyError",
     "evalue": "'clueweb12-0100tw-32-11180'",
     "output_type": "error",
     "traceback": [
      "\u001b[0;31m\u001b[0m",
      "\u001b[0;31mKeyError\u001b[0mTraceback (most recent call last)",
      "\u001b[0;32m<ipython-input-53-5de5466c6143>\u001b[0m in \u001b[0;36m<module>\u001b[0;34m\u001b[0m\n\u001b[0;32m----> 1\u001b[0;31m \u001b[0mbig_dict\u001b[0m\u001b[0;34m[\u001b[0m\u001b[0;34m'clueweb12-0100tw-32-11180'\u001b[0m\u001b[0;34m]\u001b[0m\u001b[0;34m\u001b[0m\u001b[0;34m\u001b[0m\u001b[0m\n\u001b[0m",
      "\u001b[0;31mKeyError\u001b[0m: 'clueweb12-0100tw-32-11180'"
     ]
    }
   ],
   "source": [
    "big_dict['clueweb12-0100tw-32-11180']"
   ]
  },
  {
   "cell_type": "code",
   "execution_count": 146,
   "metadata": {},
   "outputs": [],
   "source": [
    "rel_query20 = []\n",
    "with open('touche2020-task2-relevance-withbaseline.qrels', 'r') as fp:\n",
    "    Lines = fp.readlines()\n",
    "    for line in Lines:\n",
    "      # The line below may need to be changed based on the type of data in the qrel file\n",
    "      rel_query20.append(line.split())"
   ]
  },
  {
   "cell_type": "code",
   "execution_count": 147,
   "metadata": {},
   "outputs": [
    {
     "data": {
      "text/plain": [
       "[['54', '0', 'clueweb12-0205wb-64-11095', '0'],\n",
       " ['54', '0', 'clueweb12-0501wb-64-06459', '1'],\n",
       " ['54', '0', 'clueweb12-0207wb-30-15337', '2'],\n",
       " ['54', '0', 'clueweb12-0906wb-38-27123', '2'],\n",
       " ['54', '0', 'clueweb12-0907wb-55-11510', '1'],\n",
       " ['54', '0', 'clueweb12-0207wb-04-07438', '2'],\n",
       " ['54', '0', 'clueweb12-0906wb-38-27122', '1'],\n",
       " ['54', '0', 'clueweb12-0100tw-32-11180', '2'],\n",
       " ['54', '0', 'clueweb12-1104wb-00-11207', '1'],\n",
       " ['54', '0', 'clueweb12-0205wb-64-11110', '2'],\n",
       " ['54', '0', 'clueweb12-0901tw-08-02614', '1'],\n",
       " ['54', '0', 'clueweb12-1900tw-56-19024', '1'],\n",
       " ['54', '0', 'clueweb12-1500wb-27-28366', '1'],\n",
       " ['54', '0', 'clueweb12-0408wb-28-26620', '2'],\n",
       " ['54', '0', 'clueweb12-1614wb-95-19726', '1'],\n",
       " ['54', '0', 'clueweb12-0510wb-61-21259', '2'],\n",
       " ['54', '0', 'clueweb12-0207wb-04-07436', '2'],\n",
       " ['54', '0', 'clueweb12-0704wb-39-05532', '1'],\n",
       " ['54', '0', 'clueweb12-1200tw-35-15476', '2'],\n",
       " ['54', '0', 'clueweb12-0001wb-41-32252', '2']]"
      ]
     },
     "execution_count": 147,
     "metadata": {},
     "output_type": "execute_result"
    }
   ],
   "source": [
    "qual_query[:20]"
   ]
  },
  {
   "cell_type": "code",
   "execution_count": null,
   "metadata": {},
   "outputs": [],
   "source": [
    "#dict_rels = {}\n",
    "\n",
    "maxx = 0\n",
    "fails = 0\n",
    "tries = 0\n",
    "for elem in qual_query:\n",
    "    dict_rels[elem[0]] ={}\n",
    "\n",
    "for elem in qual_query:\n",
    "    if (int(elem[0]) > 81 and int(elem[0]) < 91):\n",
    "        try:\n",
    "            tries += 1\n",
    "            a = big_dict[elem[2]]\n",
    "            try:\n",
    "                dict_rels[elem[0]][elem[2]] = int(elem[3])*2\n",
    "                if (dict_rels[elem[0]][elem[2]] > maxx):\n",
    "                    maxx = dict_rels[elem[0]][elem[2]]\n",
    "            except:\n",
    "                continue          \n",
    "        except:\n",
    "            print (elem)\n",
    "            fails += 1"
   ]
  },
  {
   "cell_type": "code",
   "execution_count": 126,
   "metadata": {},
   "outputs": [
    {
     "data": {
      "text/plain": [
       "100"
      ]
     },
     "execution_count": 126,
     "metadata": {},
     "output_type": "execute_result"
    }
   ],
   "source": [
    "len(dict_rels)"
   ]
  },
  {
   "cell_type": "code",
   "execution_count": 149,
   "metadata": {},
   "outputs": [
    {
     "name": "stdout",
     "output_type": "stream",
     "text": [
      "378 113\n"
     ]
    }
   ],
   "source": [
    "print (tries, fails)"
   ]
  },
  {
   "cell_type": "code",
   "execution_count": 150,
   "metadata": {},
   "outputs": [],
   "source": [
    "maxx = 0\n",
    "fails = 0\n",
    "tries = 0\n",
    "for elem in rel_query20:\n",
    "    dict_rels[elem[0]] ={}\n",
    "\n",
    "for elem in rel_query20:\n",
    "    if (int(elem[0]) > 81 and int(elem[0]) < 91):\n",
    "        try:\n",
    "            tries += 1\n",
    "            a = big_dict[elem[2]]\n",
    "            try:\n",
    "                dict_rels[elem[0]][elem[2]] = int(elem[3])*2\n",
    "                if (dict_rels[elem[0]][elem[2]] > maxx):\n",
    "                    maxx = dict_rels[elem[0]][elem[2]]\n",
    "            except:\n",
    "                continue           \n",
    "        except:\n",
    "            fails += 1"
   ]
  },
  {
   "cell_type": "code",
   "execution_count": 151,
   "metadata": {},
   "outputs": [
    {
     "name": "stdout",
     "output_type": "stream",
     "text": [
      "0 0\n"
     ]
    }
   ],
   "source": [
    "print (tries, fails)"
   ]
  },
  {
   "cell_type": "code",
   "execution_count": 151,
   "metadata": {},
   "outputs": [
    {
     "data": {
      "text/plain": [
       "1778"
      ]
     },
     "execution_count": 151,
     "metadata": {},
     "output_type": "execute_result"
    }
   ],
   "source": [
    "fails"
   ]
  },
  {
   "cell_type": "code",
   "execution_count": 127,
   "metadata": {},
   "outputs": [],
   "source": [
    "def split_to_rel_unrel(dct, all_topics_set):\n",
    "    relevant = [k for k, v in dct.items() if v >= 2]\n",
    "    unrelevant = [k for k, v in dct.items() if v < 2]\n",
    "    while (len(relevant) > len(unrelevant)):\n",
    "        unrel_cand = all_topics_set.pop()\n",
    "        if (unrel_cand not in dct.keys()):\n",
    "            unrelevant.append(unrel_cand)\n",
    "    while (len(relevant) < len(unrelevant)):\n",
    "        relevant.append(relevant[0])\n",
    "    return relevant, unrelevant\n",
    "        "
   ]
  },
  {
   "cell_type": "code",
   "execution_count": 128,
   "metadata": {},
   "outputs": [
    {
     "data": {
      "text/plain": [
       "(['clueweb12-0602wb-96-07365',\n",
       "  'clueweb12-0607wb-15-00350',\n",
       "  'clueweb12-1714wb-35-25150',\n",
       "  'clueweb12-0713wb-38-13773',\n",
       "  'clueweb12-0100tw-74-09753',\n",
       "  'clueweb12-0509wb-89-02848',\n",
       "  'clueweb12-0602wb-53-07322',\n",
       "  'clueweb12-1717wb-42-20197',\n",
       "  'clueweb12-1306wb-00-08922',\n",
       "  'clueweb12-0111wb-51-26137',\n",
       "  'clueweb12-0201wb-23-01936',\n",
       "  'clueweb12-1100tw-28-16509',\n",
       "  'clueweb12-0602wb-58-24867',\n",
       "  'clueweb12-1020wb-66-06020',\n",
       "  'clueweb12-1717wb-39-02540',\n",
       "  'clueweb12-0011wb-86-27544',\n",
       "  'clueweb12-1306wb-44-27172',\n",
       "  'clueweb12-0200wb-51-13773',\n",
       "  'clueweb12-0204wb-50-08373',\n",
       "  'clueweb12-0406wb-68-15515'],\n",
       " ['clueweb12-0714wb-51-05387',\n",
       "  'clueweb12-0700tw-70-20539',\n",
       "  'clueweb12-0510wb-65-20526',\n",
       "  'clueweb12-0001wb-27-24605',\n",
       "  'clueweb12-1306wb-09-00836',\n",
       "  'clueweb12-0709wb-85-11475',\n",
       "  'clueweb12-0508wb-75-27785',\n",
       "  'clueweb12-1006wb-02-18987',\n",
       "  'clueweb12-1019wb-55-18070',\n",
       "  'clueweb12-0201wb-47-24560',\n",
       "  'clueweb12-0205wb-50-25169',\n",
       "  'clueweb12-0309wb-63-09055',\n",
       "  'clueweb12-0508wb-29-21600',\n",
       "  'clueweb12-0904wb-31-08690',\n",
       "  'clueweb12-1804wb-68-17559',\n",
       "  'clueweb12-1713wb-09-17264',\n",
       "  'clueweb12-0011wb-11-06679',\n",
       "  'clueweb12-0502wb-46-28826',\n",
       "  'clueweb12-0912wb-42-04103',\n",
       "  'clueweb12-1904wb-28-07614'])"
      ]
     },
     "execution_count": 128,
     "metadata": {},
     "output_type": "execute_result"
    }
   ],
   "source": [
    "split_to_rel_unrel(dict_rels['7'], set(big_dict.keys()))"
   ]
  },
  {
   "cell_type": "code",
   "execution_count": 131,
   "metadata": {},
   "outputs": [],
   "source": [
    "list_of_pass = []\n",
    "fails = 0\n",
    "for key in list(dict_rels.keys()):\n",
    "    topic = t2021_dict[key]\n",
    "    try:\n",
    "        relevant, unrelevant = split_to_rel_unrel(dict_rels[key], set(big_dict.keys()))\n",
    "    except:\n",
    "        print (key)\n",
    "    for ind, elem in enumerate(relevant):\n",
    "        for jnd, elem in enumerate(unrelevant):\n",
    "            try:\n",
    "                list_of_pass.append((topic, big_dict[relevant[ind]], big_dict[unrelevant[jnd]]))\n",
    "            except:\n",
    "                fails+=1\n",
    "                continue\n",
    "        "
   ]
  },
  {
   "cell_type": "code",
   "execution_count": 132,
   "metadata": {},
   "outputs": [
    {
     "data": {
      "text/plain": [
       "46450"
      ]
     },
     "execution_count": 132,
     "metadata": {},
     "output_type": "execute_result"
    }
   ],
   "source": [
    "len(list_of_pass)"
   ]
  },
  {
   "cell_type": "code",
   "execution_count": 154,
   "metadata": {},
   "outputs": [
    {
     "data": {
      "text/plain": [
       "[('What diet gives the best result to lose weight?',\n",
       "  \"in the meantime the best diets to lose weight, are the ones you plan to follow. weight loss: want to lose weight? buy a food scale! i can never find a diet that i like - i know atkins really works but i'm vegetarian so it isn't really an option. nice hub, gives me some ideas.\",\n",
       "  'items will be delivered to a ground floor room of your choice providing access is available, unless delivered using our pallet service which will be to your doorstep only.'),\n",
       " ('What diet gives the best result to lose weight?',\n",
       "  'want easy weight loss? lose weight by cutting your food by just 10 per cent or by eating more meals. weight loss programs and diets? how to lose weight easily! what is the best and easist way to lose weight and show a weight loss?',\n",
       "  '@jill--thanks a bunch for that visual--i will have to remember why it is so important to do that chair pose i hate some much ;-p i havent had a bone density test yet either. i would be curious to see what the results would be. i have read different views as to when to begin getting them done. '),\n",
       " ('What diet gives the best result to lose weight?',\n",
       "  'want easy weight loss? lose weight by cutting your food by just 10 per cent or by eating more meals. weight loss programs and diets? how to lose weight easily! what is the best and easist way to lose weight and show a weight loss?',\n",
       "  'it can is not important just how much pounds you will need to shed, the best way to lose weight fast i will reveal can be quite efficient and is proven to dedicate yourself to long lasting fat loss. looking for the best diets to lose weight fast?'),\n",
       " ('What diet gives the best result to lose weight?',\n",
       "  'want easy weight loss? lose weight by cutting your food by just 10 per cent or by eating more meals. weight loss programs and diets? how to lose weight easily! what is the best and easist way to lose weight and show a weight loss?',\n",
       "  \"using such distributions isn't much better than using windows. we value your freedom and recommend you choose carefully! do all the reasons for avoiding windows apply to mac os? it's quite common for mac users to believe they are exempt from restrictions associated with windows.\"),\n",
       " ('What diet gives the best result to lose weight?',\n",
       "  'want easy weight loss? lose weight by cutting your food by just 10 per cent or by eating more meals. weight loss programs and diets? how to lose weight easily! what is the best and easist way to lose weight and show a weight loss?',\n",
       "  'kenya lies astride the equator on the eastern coast . it is bordered by tanzania, uganda, ethiopia, sudan and somalia. it is probably most famous for the wildlife and game. it is also considered an ornithologist paradise.'),\n",
       " ('What diet gives the best result to lose weight?',\n",
       "  'want easy weight loss? lose weight by cutting your food by just 10 per cent or by eating more meals. weight loss programs and diets? how to lose weight easily! what is the best and easist way to lose weight and show a weight loss?',\n",
       "  \". * cfeclipse: the developer's ide, eclipse for coldfusion * top-level eclipse project proposed by wind river approved ed burnette is the author of the eclipse ide pocket guide (to be published later this year by o'reilly), co-author of eclipse in action, and editor of the articles section at eclipse.org\"),\n",
       " ('What diet gives the best result to lose weight?',\n",
       "  'want easy weight loss? lose weight by cutting your food by just 10 per cent or by eating more meals. weight loss programs and diets? how to lose weight easily! what is the best and easist way to lose weight and show a weight loss?',\n",
       "  'there is no better place to enjoy an enriching african wildlife safari experience than tanzania. the serengeti national park is probably the best known wildlife sanctuary in the world.'),\n",
       " ('What diet gives the best result to lose weight?',\n",
       "  'want easy weight loss? lose weight by cutting your food by just 10 per cent or by eating more meals. weight loss programs and diets? how to lose weight easily! what is the best and easist way to lose weight and show a weight loss?',\n",
       "  \"thanks for pointing out that steve at 37 is still in business. he says baring injury that he wants to play in his forties. i love watching him perform. you know,him being a soccer player that he feels using his hands isn’t fair! happy days are here again! wildcat's have #1 recruiting class again!\"),\n",
       " ('What diet gives the best result to lose weight?',\n",
       "  'want easy weight loss? lose weight by cutting your food by just 10 per cent or by eating more meals. weight loss programs and diets? how to lose weight easily! what is the best and easist way to lose weight and show a weight loss?',\n",
       "  'i haven’t seen performance numbers for synchronous replication yet, but the hit will presumably be in excess of 50%, since we have to wait for two disks to write the commit record, one after another, with some network delay in between and a little more at the end.'),\n",
       " ('What diet gives the best result to lose weight?',\n",
       "  'want easy weight loss? lose weight by cutting your food by just 10 per cent or by eating more meals. weight loss programs and diets? how to lose weight easily! what is the best and easist way to lose weight and show a weight loss?',\n",
       "  \"existence of patent info and a cold shoulder. * what's the difference between biodegradable vs. compostable?\")]"
      ]
     },
     "execution_count": 154,
     "metadata": {},
     "output_type": "execute_result"
    }
   ],
   "source": [
    "list_of_pass[1000:1010]"
   ]
  },
  {
   "cell_type": "code",
   "execution_count": 153,
   "metadata": {},
   "outputs": [
    {
     "data": {
      "text/plain": [
       "[('Is morning or afternoon sun the best for fruit trees?',\n",
       "  'mike: i have a vegetable garden, but not much sun. i get tomatoes and eggplants but the yield is low and late, although herbs do well. can you recommend vegetable or fruit plants that require less light? i get maybe five hours a day in the best spots.',\n",
       "  'this letter is in response to the letter (by barbara bohl) in last week\\'s sun entitled \"ridiculous contract.\" the contract with colorado management associates is probably one of the best contracts that plpoa ever signed. i became treasurer of plpoa in mid december 1998.'),\n",
       " ('Is morning or afternoon sun the best for fruit trees?',\n",
       "  'mike: i have a vegetable garden, but not much sun. i get tomatoes and eggplants but the yield is low and late, although herbs do well. can you recommend vegetable or fruit plants that require less light? i get maybe five hours a day in the best spots.',\n",
       "  'it is a more reliable bloomer among the variegated varieties. inner blooms can be pink or blue, surrounded by white. it is a lacecap mutation of endless summer, but will not rebloom. for best bloom production, plant in lightn shade, dappled shade, or morning sun with afternoon shade.'),\n",
       " ('Is morning or afternoon sun the best for fruit trees?',\n",
       "  'mike: i have a vegetable garden, but not much sun. i get tomatoes and eggplants but the yield is low and late, although herbs do well. can you recommend vegetable or fruit plants that require less light? i get maybe five hours a day in the best spots.',\n",
       "  \"a big change after sun and heat for weeks! * the best food & restaurants in san pedro belize 2011. * carnaval in san pedro: dancing and lots & lots of paint expat's around the world funny or interesting to me + the friendliest people i've ever met, really: ken... + getting married in belize!\"),\n",
       " ('Is morning or afternoon sun the best for fruit trees?',\n",
       "  'mike: i have a vegetable garden, but not much sun. i get tomatoes and eggplants but the yield is low and late, although herbs do well. can you recommend vegetable or fruit plants that require less light? i get maybe five hours a day in the best spots.',\n",
       "  'the circle (like a ring) is a glyph for the sun and was the symbol of ra, the infinite one, the monotheistic deity. other cultures modified the glyph, such as adding a dot or a smaller circle within. the name for the physical sun or celestial orb was kin, often represented as an eight-rayed sun.'),\n",
       " ('Is morning or afternoon sun the best for fruit trees?',\n",
       "  'mike: i have a vegetable garden, but not much sun. i get tomatoes and eggplants but the yield is low and late, although herbs do well. can you recommend vegetable or fruit plants that require less light? i get maybe five hours a day in the best spots.',\n",
       "  \"using such distributions isn't much better than using windows. we value your freedom and recommend you choose carefully! do all the reasons for avoiding windows apply to mac os? it's quite common for mac users to believe they are exempt from restrictions associated with windows.\"),\n",
       " ('Is morning or afternoon sun the best for fruit trees?',\n",
       "  'mike: i have a vegetable garden, but not much sun. i get tomatoes and eggplants but the yield is low and late, although herbs do well. can you recommend vegetable or fruit plants that require less light? i get maybe five hours a day in the best spots.',\n",
       "  'kenya lies astride the equator on the eastern coast . it is bordered by tanzania, uganda, ethiopia, sudan and somalia. it is probably most famous for the wildlife and game. it is also considered an ornithologist paradise.'),\n",
       " ('Is morning or afternoon sun the best for fruit trees?',\n",
       "  'mike: i have a vegetable garden, but not much sun. i get tomatoes and eggplants but the yield is low and late, although herbs do well. can you recommend vegetable or fruit plants that require less light? i get maybe five hours a day in the best spots.',\n",
       "  \". * cfeclipse: the developer's ide, eclipse for coldfusion * top-level eclipse project proposed by wind river approved ed burnette is the author of the eclipse ide pocket guide (to be published later this year by o'reilly), co-author of eclipse in action, and editor of the articles section at eclipse.org\"),\n",
       " ('Is morning or afternoon sun the best for fruit trees?',\n",
       "  'mike: i have a vegetable garden, but not much sun. i get tomatoes and eggplants but the yield is low and late, although herbs do well. can you recommend vegetable or fruit plants that require less light? i get maybe five hours a day in the best spots.',\n",
       "  'there is no better place to enjoy an enriching african wildlife safari experience than tanzania. the serengeti national park is probably the best known wildlife sanctuary in the world.'),\n",
       " ('Is morning or afternoon sun the best for fruit trees?',\n",
       "  'mike: i have a vegetable garden, but not much sun. i get tomatoes and eggplants but the yield is low and late, although herbs do well. can you recommend vegetable or fruit plants that require less light? i get maybe five hours a day in the best spots.',\n",
       "  \"thanks for pointing out that steve at 37 is still in business. he says baring injury that he wants to play in his forties. i love watching him perform. you know,him being a soccer player that he feels using his hands isn’t fair! happy days are here again! wildcat's have #1 recruiting class again!\"),\n",
       " ('Is morning or afternoon sun the best for fruit trees?',\n",
       "  'mike: i have a vegetable garden, but not much sun. i get tomatoes and eggplants but the yield is low and late, although herbs do well. can you recommend vegetable or fruit plants that require less light? i get maybe five hours a day in the best spots.',\n",
       "  'i haven’t seen performance numbers for synchronous replication yet, but the hit will presumably be in excess of 50%, since we have to wait for two disks to write the commit record, one after another, with some network delay in between and a little more at the end.')]"
      ]
     },
     "execution_count": 153,
     "metadata": {},
     "output_type": "execute_result"
    }
   ],
   "source": [
    "list_of_pass[:10]"
   ]
  },
  {
   "cell_type": "code",
   "execution_count": 137,
   "metadata": {},
   "outputs": [],
   "source": [
    "import csv\n",
    "\n",
    "label_file = \"/notebook/ColBERT/collections/triples.train.small2.tsv\"\n",
    "\n",
    "with open(label_file, 'w', newline='') as f_output:\n",
    "    tsv_output = csv.writer(f_output, delimiter='\\t')\n",
    "    for elem in list_of_pass:\n",
    "        tsv_output.writerow(elem)"
   ]
  },
  {
   "cell_type": "code",
   "execution_count": 136,
   "metadata": {},
   "outputs": [
    {
     "name": "stdout",
     "output_type": "stream",
     "text": [
      "/notebook/Touche22/touche2021_val\n"
     ]
    }
   ],
   "source": [
    "!pwd"
   ]
  },
  {
   "cell_type": "code",
   "execution_count": 70,
   "metadata": {},
   "outputs": [
    {
     "data": {
      "text/plain": [
       "6"
      ]
     },
     "execution_count": 70,
     "metadata": {},
     "output_type": "execute_result"
    }
   ],
   "source": [
    "6"
   ]
  },
  {
   "cell_type": "code",
   "execution_count": 202,
   "metadata": {},
   "outputs": [
    {
     "data": {
      "text/plain": [
       "{'error': {'code': 401, 'message': 'API key has expired'}}"
      ]
     },
     "execution_count": 202,
     "metadata": {},
     "output_type": "execute_result"
    }
   ],
   "source": [
    "import requests\n",
    "pms = {\n",
    "    \"apikey\": \"0833a307-97d3-462a-99d9-27db400c70da\",\n",
    "    \"query\": \"Is morning or afternoon sun the best for fruit trees?\",\n",
    "    \"index\": [\"cw12\"],\n",
    "    \"size\": 1,\n",
    "    \"pretty\": True\n",
    "}\n",
    "\n",
    "response = requests.get(url = \"http://www.chatnoir.eu/api/v1/_search\", params = pms)\n",
    "response.json()"
   ]
  },
  {
   "cell_type": "code",
   "execution_count": null,
   "metadata": {},
   "outputs": [],
   "source": []
  }
 ],
 "metadata": {
  "kernelspec": {
   "display_name": "Python 3",
   "language": "python",
   "name": "python3"
  },
  "language_info": {
   "codemirror_mode": {
    "name": "ipython",
    "version": 3
   },
   "file_extension": ".py",
   "mimetype": "text/x-python",
   "name": "python",
   "nbconvert_exporter": "python",
   "pygments_lexer": "ipython3",
   "version": "3.7.4"
  }
 },
 "nbformat": 4,
 "nbformat_minor": 4
}

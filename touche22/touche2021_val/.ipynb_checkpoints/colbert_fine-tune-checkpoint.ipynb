{
 "cells": [
  {
   "cell_type": "code",
   "execution_count": null,
   "metadata": {},
   "outputs": [],
   "source": [
    "qual_query = []\n",
    "with open('touche-task2-51-100-quality.qrels', 'r') as fp:\n",
    "    Lines = fp.readlines()\n",
    "    for line in Lines:\n",
    "      # The line below may need to be changed based on the type of data in the qrel file\n",
    "      qual_query.append(line.split())"
   ]
  },
  {
   "cell_type": "code",
   "execution_count": null,
   "metadata": {},
   "outputs": [],
   "source": [
    "rel_query = []\n",
    "with open('touche-task2-51-100-relevance.qrels', 'r') as fp:\n",
    "    Lines = fp.readlines()\n",
    "    for line in Lines:\n",
    "      # The line below may need to be changed based on the type of data in the qrel file\n",
    "      rel_query.append(line.split())"
   ]
  },
  {
   "cell_type": "markdown",
   "metadata": {},
   "source": [
    "## Passages of 22 years"
   ]
  },
  {
   "cell_type": "code",
   "execution_count": null,
   "metadata": {},
   "outputs": [],
   "source": [
    "ids = [elem[2] for elem in qual_query]"
   ]
  },
  {
   "cell_type": "code",
   "execution_count": null,
   "metadata": {},
   "outputs": [],
   "source": []
  },
  {
   "cell_type": "code",
   "execution_count": null,
   "metadata": {},
   "outputs": [],
   "source": [
    "'clueweb12-0000tw-14-21168'"
   ]
  },
  {
   "cell_type": "code",
   "execution_count": 5,
   "metadata": {},
   "outputs": [
    {
     "name": "stdout",
     "output_type": "stream",
     "text": [
      "868655\n",
      "result: {'id': 'clueweb12-0000tw-14-21168___1', 'contents': 'Shuga: Love, Sex, Money MTV Shuga Home Swag Blog Cast Swag Video Team Shuga Partners Shuga Talks (NEW!) Unicef G-PANGE MTV Base MTV Staying Alive Shuga Premiere: Today Is The Day! Today is the day! #ShugaPremiere. We talk Twitter hashtags, competition winners and of course the FREE d/l of the official Shuga: Love, Sex, Money track feat Banky W, WizKid, L-Tido and Bon’eye Download The Official Shuga: Love, Sex, Money Track HERE For Free! Be the first to download the Shuga: Love, Sex, Money track featuring Banky W, WizKid, L-Tido and Bon’eye exclusively here! That Shuga Love Sex Money Premiere The Shuga Track, worldwide Twitter trending and how YOU can win a ticket to the OFFICIAL Shuga: Love, Sex, Money premiere… The Official Shuga: Love, Sex, Money Trailer The Official Shuga: Love, Sex, Money trailer is here!', 'chatNoirUrl': 'https://chatnoir.eu/cache?uuid=f338e91e-a3e9-52ec-bb4c-cac853f4df55&index=cw12&raw&plain'}\n",
      "result: {'id': 'clueweb12-0000tw-14-21168___2', 'contents': 'We LOVE sending #TeamShuga the exclusives. Banky W, Wizkid L-Tido And Bon’eye To Record Official Shuga: Love, Sex, Money Track Some of Africa’s finest artists have got together to record the official title track for Shuga: Love, Sex, Money. First off a BIG shout out to Banky W, Wizkid L-Tido And Bon’eye for jumping on board – we are so hyped to announce their involvement in Shuga Video Shuga: Love, Sex, Money Promo The wait is over – check out this exclusive sneak peek of Nairobi drama Shuga: Love, Sex, Money. Meet the cast Violet Angelo Kennedy Rayban Miss B’Have Femi Dala Kipepeo Baby Skola Leo Ayira Meet the Rising Stars MTV Staying Alive have selected 11 exceptionally talented young Kenyan \"Rising Stars\" to shadow and contribute to all aspects of the Shuga: Love, Sex, Money production.', 'chatNoirUrl': 'https://chatnoir.eu/cache?uuid=f338e91e-a3e9-52ec-bb4c-cac853f4df55&index=cw12&raw&plain'}\n",
      "result: {'id': 'clueweb12-0000tw-14-21168___3', 'contents': 'Now take note.. because you will be seeing a whole lot more of these #RisingStars over the next 7 months.. What is Shuga? Set in Nairobi, Kenya, and back for a hotly anticipated second series, Shuga is a hard-hitting drama that follows the lives, loves and ambitions of a group of young people whose bright lives and fabulous futures are balanced on a knife edge due to their love of living dangerously. Tweet Latest @MTVShuga Tweets Follow @mtvshuga Sites we like G-Pange Homeboyz Hotsecretz MTV Base Staying Alive Foundation This is creme © MTV Staying Alive 2011. All rights reserved. Contact Us Unicef National Youth Talent Academy G-PANGE MTV Base MTV Staying Alive HIV Free Generation Pepfar', 'chatNoirUrl': 'https://chatnoir.eu/cache?uuid=f338e91e-a3e9-52ec-bb4c-cac853f4df55&index=cw12&raw&plain'}\n",
      "result: {'id': 'clueweb12-0000tw-22-19226___1', 'contents': \"Sex and love: The modern matchmakers | The Economist Log in Register Subscribe Digital & mobile Events Topics A-Z Newsletters Jobs RSS feed Facebook Twitter More social links Google plus Linked in Tumblr Search this site: Saturday February 11th 2012 World politics United States US Elections 2012 Britain Europe China Asia Americas Middle East & Africa Business & finance All Business & finance Which MBA? Business Books Quarterly Economics All Economics Economics by invitation Markets & data Economics A-Z Science & technology All Science & technology Technology Quarterly Culture All Culture More Intelligent Life The Economist Quiz The World in 2012 Blogs Latest blog posts Eastern approaches Americas view Free exchange Babbage Game theory Bagehot's notebook Graphic detail Banyan Gulliver Baobab Johnson Blighty Leviathan Buttonwood's notebook Lexington's notebook Cassandra Multimedia Charlemagne's notebook Newsbook Clausewitz Prospero Democracy in America Schumpeter Debate Economist debates Economics by invitation Ideas arena: Women & work Letters to the editor What the world thinks Multimedia World Business & economics Science & technology Culture The World in 2012 The Economist in audio Print edition Current issue Previous issues Special reports Politics this week Business this week Leaders KAL's cartoon Sex and love The modern matchmakers Internet dating sites claim to have brought science to the age-old question of how to pair off successfully.\", 'chatNoirUrl': 'https://chatnoir.eu/cache?uuid=2bf4b08d-2f65-5741-80b2-0e6ec18d5505&index=cw12&raw&plain'}\n",
      "result: {'id': 'clueweb12-0000tw-22-19226___2', 'contents': 'But have they? Feb 11th 2012 | from the print edition Tweet FOR as long as humans have romanced each other, others have wanted to meddle. Whether those others were parents, priests, friends or bureaucrats, their motive was largely the same: they thought they knew what it took to pair people off better than those people knew themselves. Today, though, there is a new matchmaker in the village: the internet. It differs from the old ones in two ways. First, its motive is purely profit. Second, single wannabe lovers are queuing up to use it, rather than resenting its nagging. For internet dating sites promise two things that neither traditional matchmakers nor chance encounters at bars, bus-stops and bar mitzvahs offer. One is a vastly greater choice of potential partners. The other is a scientifically proven way of matching suitable people together, enhancing the chance of “happily ever after”.', 'chatNoirUrl': 'https://chatnoir.eu/cache?uuid=2bf4b08d-2f65-5741-80b2-0e6ec18d5505&index=cw12&raw&plain'}\n"
     ]
    }
   ],
   "source": [
    "import json\n",
    "\n",
    "with open('/notebook/Touche22/touche-task2-passages-version-002.jsonl', 'r') as json_file:\n",
    "    json_list = list(json_file)\n",
    "\n",
    "print (len(json_list))\n",
    "for json_str in json_list[:5]:\n",
    "    result = json.loads(json_str)\n",
    "    print(f\"result: {result}\")"
   ]
  },
  {
   "cell_type": "code",
   "execution_count": 6,
   "metadata": {},
   "outputs": [
    {
     "ename": "NameError",
     "evalue": "name 'big_dict' is not defined",
     "output_type": "error",
     "traceback": [
      "\u001b[0;31m\u001b[0m",
      "\u001b[0;31mNameError\u001b[0mTraceback (most recent call last)",
      "\u001b[0;32m<ipython-input-6-1b483617aab2>\u001b[0m in \u001b[0;36m<module>\u001b[0;34m\u001b[0m\n\u001b[0;32m----> 1\u001b[0;31m \u001b[0mbig_dict\u001b[0m\u001b[0;34m[\u001b[0m\u001b[0;34m'clueweb12-0000tw-14-21168'\u001b[0m\u001b[0;34m]\u001b[0m\u001b[0;34m\u001b[0m\u001b[0;34m\u001b[0m\u001b[0m\n\u001b[0m",
      "\u001b[0;31mNameError\u001b[0m: name 'big_dict' is not defined"
     ]
    }
   ],
   "source": [
    "big_dict['clueweb12-0000tw-14-21168']"
   ]
  },
  {
   "cell_type": "markdown",
   "metadata": {},
   "source": [
    "## Topics of 21 year\n",
    "**evaluate on 90-100 topics of 21 year**"
   ]
  },
  {
   "cell_type": "code",
   "execution_count": 8,
   "metadata": {},
   "outputs": [],
   "source": [
    "def read_xml(filename):\n",
    "    # convert file filename to list of tuples (number_of_topic, title_of_topic) \n",
    "    # input: filename string\n",
    "    # output: list of corresponding tuples\n",
    "    answer_list = []\n",
    "    xmldoc = minidom.parse(filename)\n",
    "    itemlist = xmldoc.getElementsByTagName('topics')\n",
    "    print(len(itemlist))\n",
    "    print(itemlist)\n",
    "    topic_list = itemlist[0].getElementsByTagName('topic')\n",
    "    print (len(topic_list))\n",
    "    for topic in topic_list:\n",
    "        tuple_for_add = tuple((topic.getElementsByTagName('number')[0].firstChild.nodeValue, topic.getElementsByTagName('title')[0].firstChild.nodeValue))\n",
    "        answer_list.append(tuple_for_add)\n",
    "    return answer_list"
   ]
  },
  {
   "cell_type": "code",
   "execution_count": 9,
   "metadata": {},
   "outputs": [
    {
     "name": "stdout",
     "output_type": "stream",
     "text": [
      "1\n",
      "[<DOM Element: topics at 0x7f9a95fbceb0>]\n",
      "50\n",
      "1\n",
      "[<DOM Element: topics at 0x7f9a95d43f50>]\n",
      "50\n"
     ]
    }
   ],
   "source": [
    "from xml.dom import minidom\n",
    "import re\n",
    "\n",
    "topics_2021 = read_xml('topics-task2-51-100.xml')\n",
    "topics_2020 = read_xml('topics-task-2.xml')"
   ]
  },
  {
   "cell_type": "code",
   "execution_count": 10,
   "metadata": {},
   "outputs": [],
   "source": [
    "topics_2020 = [(elem[0], elem[1].strip()) for elem in topics_2020]"
   ]
  },
  {
   "cell_type": "code",
   "execution_count": 11,
   "metadata": {},
   "outputs": [
    {
     "data": {
      "text/plain": [
       "[('51', 'What is better at reducing fever in children, Ibuprofen or Aspirin?'),\n",
       " ('52', 'What are the best rice cookers?'),\n",
       " ('53', 'Should I buy steel or ceramic knives?'),\n",
       " ('54', 'Is morning or afternoon sun the best for fruit trees?'),\n",
       " ('55',\n",
       "  'What is better for back pain, chiropractic therapy or physical therapy?'),\n",
       " ('56', 'Is Kenya or Tanzania better for a safari?'),\n",
       " ('57', \"How is a Master's degree different from a Bachelor's degree?\"),\n",
       " ('58', 'Which is better, Family Guy or The Simpsons?'),\n",
       " ('59', 'Which is more difficult, skiing or snowboarding?'),\n",
       " ('60', 'Why is basketball better than football?'),\n",
       " ('61', 'Who is stronger, Hulk or Superman?'),\n",
       " ('62',\n",
       "  'Plastic pots or ceramic pots, which is better in terms of plant health?'),\n",
       " ('63', 'What is the coldest temperature ever recorded on Earth, and where?'),\n",
       " ('64', 'What is the most popular beer in Australia?'),\n",
       " ('65', 'Are dogs better than humans?'),\n",
       " ('66', 'What diet gives the best result to lose weight?'),\n",
       " ('67', 'Should I take the IELTS or the TOEFL?'),\n",
       " ('68', 'Are online courses better than physical classrooms?'),\n",
       " ('69', 'Who was a better boxer, Muhammad Ali or Joe Frazier?'),\n",
       " ('70', \"Which technology performs better: Apple's or Google's?\"),\n",
       " ('71', 'Is gold equal to platinum?'),\n",
       " ('72', 'Who is better at learning a foreign language, kids or adults?'),\n",
       " ('73',\n",
       "  \"What's the difference between coffee, espresso, cappuccino, and latte?\"),\n",
       " ('74', 'Which city is better, London or Paris?'),\n",
       " ('75', 'What is better, a conditioner or a moisturizer?'),\n",
       " ('76', 'Are artificial sweeteners better than white sugar?'),\n",
       " ('77', 'Is it healthier to bake than to fry food?'),\n",
       " ('78', 'Which algorithm is better, quicksort or merge sort?'),\n",
       " ('79', 'What is more interesting, computer science or computer engineering?'),\n",
       " ('80', 'What is the difference between a vegan and a vegetarian?'),\n",
       " ('81', 'Does unpasteurized cheese taste better than pasteurized cheese?'),\n",
       " ('82', 'Which light bulb is better, incandescent or fluorescent?'),\n",
       " ('83',\n",
       "  'What is the difference between quantum physics and quantum mechanics?'),\n",
       " ('84', 'What is better, cow milk or goat milk?'),\n",
       " ('85', 'Psoriasis vs Eczema: What is the difference?'),\n",
       " ('86', 'I am planning to buy sneakers: Which are better, Adidas or Nike?'),\n",
       " ('87', 'Is Obamacare really any better than Medicare?'),\n",
       " ('88', 'Should I major in philosophy or psychology?'),\n",
       " ('89',\n",
       "  'What are the differences between biodegradable and non-biodegradable wastes?'),\n",
       " ('90', 'What are good business books to read?'),\n",
       " ('91', 'When are random forest classifiers better than decision trees?'),\n",
       " ('92', 'What are the pros and cons of wood vs. stone mulch?'),\n",
       " ('93', 'Is rain water better than tap water for plants?'),\n",
       " ('94', 'Suitcases: hard or soft?'),\n",
       " ('95', 'Which is more environmentally friendly, a hybrid or a diesel?'),\n",
       " ('96', 'Which is healthier to wear, boxers or briefs?'),\n",
       " ('97', 'What is the difference between a blender vs a food processor?'),\n",
       " ('98', 'Which is better, rock or rap?'),\n",
       " ('99', 'Do you think imagination is better than knowledge?'),\n",
       " ('100', 'Should I learn Python or R for data analysis?')]"
      ]
     },
     "execution_count": 11,
     "metadata": {},
     "output_type": "execute_result"
    }
   ],
   "source": [
    "topics_2021"
   ]
  },
  {
   "cell_type": "markdown",
   "metadata": {},
   "source": [
    "## Create unique answers over it"
   ]
  },
  {
   "cell_type": "code",
   "execution_count": 12,
   "metadata": {},
   "outputs": [
    {
     "name": "stdout",
     "output_type": "stream",
     "text": [
      "1\n",
      "[<DOM Element: topics at 0x7f9a9542e910>]\n",
      "50\n",
      "query What is better at reducing fever in children, Ibuprofen or Aspirin?\n",
      "request_more_unique_titles What is better at reducing fever in children, Ibuprofen or Aspirin? 1000 631\n",
      "in request_more_unique_titles len(additional_list) 0\n",
      "in request_more_unique_titles len(additional_list) 0\n",
      "in request_more_unique_titles len(additional_list) 0\n",
      "in request_more_unique_titles len(additional_list) 0\n",
      "in request_more_unique_titles len(additional_list) 0\n",
      "in request_more_unique_titles len(additional_list) 0\n",
      "in request_more_unique_titles len(additional_list) 0\n",
      "in request_more_unique_titles len(additional_list) 0\n",
      "in request_more_unique_titles len(additional_list) 0\n",
      "in request_more_unique_titles len(additional_list) 0\n",
      "add list!! 0\n",
      "len(vocabulary_of_all_answers[qid]) < 1000 631\n",
      "len(vocabulary_of_all_answers[qid]) < 1000 976\n",
      "query What are the best rice cookers?\n",
      "request_more_unique_titles What are the best rice cookers? 1000 622\n",
      "in request_more_unique_titles len(additional_list) 0\n",
      "in request_more_unique_titles len(additional_list) 0\n",
      "in request_more_unique_titles len(additional_list) 0\n",
      "in request_more_unique_titles len(additional_list) 0\n",
      "in request_more_unique_titles len(additional_list) 0\n",
      "in request_more_unique_titles len(additional_list) 0\n",
      "in request_more_unique_titles len(additional_list) 0\n",
      "in request_more_unique_titles len(additional_list) 0\n",
      "in request_more_unique_titles len(additional_list) 0\n",
      "in request_more_unique_titles len(additional_list) 0\n",
      "add list!! 0\n",
      "len(vocabulary_of_all_answers[qid]) < 1000 622\n",
      "len(vocabulary_of_all_answers[qid]) < 1000 1000\n",
      "query Should I buy steel or ceramic knives?\n",
      "request_more_unique_titles Should I buy steel or ceramic knives? 1000 608\n",
      "in request_more_unique_titles len(additional_list) 0\n",
      "in request_more_unique_titles len(additional_list) 0\n",
      "in request_more_unique_titles len(additional_list) 0\n",
      "in request_more_unique_titles len(additional_list) 0\n",
      "in request_more_unique_titles len(additional_list) 0\n",
      "in request_more_unique_titles len(additional_list) 0\n",
      "in request_more_unique_titles len(additional_list) 0\n",
      "in request_more_unique_titles len(additional_list) 0\n",
      "in request_more_unique_titles len(additional_list) 0\n",
      "in request_more_unique_titles len(additional_list) 0\n",
      "add list!! 0\n",
      "len(vocabulary_of_all_answers[qid]) < 1000 608\n",
      "len(vocabulary_of_all_answers[qid]) < 1000 733\n",
      "query Is morning or afternoon sun the best for fruit trees?\n",
      "request_more_unique_titles Is morning or afternoon sun the best for fruit trees? 1000 746\n",
      "{'error': {'code': 500, 'message': 'An internal server error occurred. Please try again later.'}}\n",
      "rerequest Is morning or afternoon sun the best for fruit trees?\n",
      "{'error': {'code': 500, 'message': 'An internal server error occurred. Please try again later.'}}\n",
      "rerequest Is morning or afternoon sun the best for fruit trees?\n",
      "{'error': {'code': 500, 'message': 'An internal server error occurred. Please try again later.'}}\n",
      "rerequest Is morning or afternoon sun the best for fruit trees?\n",
      "in request_more_unique_titles len(additional_list) 0\n",
      "in request_more_unique_titles len(additional_list) 0\n",
      "in request_more_unique_titles len(additional_list) 0\n",
      "in request_more_unique_titles len(additional_list) 0\n",
      "in request_more_unique_titles len(additional_list) 0\n",
      "in request_more_unique_titles len(additional_list) 0\n",
      "in request_more_unique_titles len(additional_list) 0\n",
      "in request_more_unique_titles len(additional_list) 0\n",
      "in request_more_unique_titles len(additional_list) 0\n",
      "in request_more_unique_titles len(additional_list) 0\n",
      "add list!! 0\n",
      "len(vocabulary_of_all_answers[qid]) < 1000 746\n",
      "len(vocabulary_of_all_answers[qid]) < 1000 1000\n",
      "query What is better for back pain, chiropractic therapy or physical therapy?\n",
      "request_more_unique_titles What is better for back pain, chiropractic therapy or physical therapy? 1000 755\n",
      "in request_more_unique_titles len(additional_list) 0\n",
      "in request_more_unique_titles len(additional_list) 0\n",
      "in request_more_unique_titles len(additional_list) 0\n",
      "in request_more_unique_titles len(additional_list) 0\n",
      "in request_more_unique_titles len(additional_list) 0\n",
      "in request_more_unique_titles len(additional_list) 0\n",
      "in request_more_unique_titles len(additional_list) 0\n",
      "in request_more_unique_titles len(additional_list) 0\n",
      "in request_more_unique_titles len(additional_list) 0\n",
      "in request_more_unique_titles len(additional_list) 0\n",
      "add list!! 0\n",
      "len(vocabulary_of_all_answers[qid]) < 1000 755\n",
      "len(vocabulary_of_all_answers[qid]) < 1000 1000\n",
      "query Is Kenya or Tanzania better for a safari?\n",
      "request_more_unique_titles Is Kenya or Tanzania better for a safari? 1000 758\n",
      "in request_more_unique_titles len(additional_list) 0\n",
      "in request_more_unique_titles len(additional_list) 0\n",
      "in request_more_unique_titles len(additional_list) 0\n",
      "in request_more_unique_titles len(additional_list) 0\n",
      "in request_more_unique_titles len(additional_list) 0\n",
      "in request_more_unique_titles len(additional_list) 0\n",
      "in request_more_unique_titles len(additional_list) 0\n",
      "in request_more_unique_titles len(additional_list) 0\n",
      "in request_more_unique_titles len(additional_list) 0\n",
      "in request_more_unique_titles len(additional_list) 0\n",
      "add list!! 0\n",
      "len(vocabulary_of_all_answers[qid]) < 1000 758\n",
      "len(vocabulary_of_all_answers[qid]) < 1000 1000\n",
      "query How is a Master's degree different from a Bachelor's degree?\n",
      "request_more_unique_titles How is a Master's degree different from a Bachelor's degree? 1000 875\n",
      "in request_more_unique_titles len(additional_list) 0\n",
      "in request_more_unique_titles len(additional_list) 0\n",
      "in request_more_unique_titles len(additional_list) 0\n",
      "in request_more_unique_titles len(additional_list) 0\n",
      "in request_more_unique_titles len(additional_list) 0\n",
      "in request_more_unique_titles len(additional_list) 0\n",
      "in request_more_unique_titles len(additional_list) 0\n",
      "in request_more_unique_titles len(additional_list) 0\n",
      "in request_more_unique_titles len(additional_list) 0\n",
      "in request_more_unique_titles len(additional_list) 0\n",
      "add list!! 0\n",
      "len(vocabulary_of_all_answers[qid]) < 1000 875\n",
      "len(vocabulary_of_all_answers[qid]) < 1000 1000\n",
      "query Which is better, Family Guy or The Simpsons?\n",
      "request_more_unique_titles Which is better, Family Guy or The Simpsons? 1000 746\n",
      "in request_more_unique_titles len(additional_list) 0\n",
      "in request_more_unique_titles len(additional_list) 0\n",
      "in request_more_unique_titles len(additional_list) 0\n",
      "in request_more_unique_titles len(additional_list) 0\n",
      "in request_more_unique_titles len(additional_list) 0\n",
      "in request_more_unique_titles len(additional_list) 0\n",
      "in request_more_unique_titles len(additional_list) 0\n",
      "in request_more_unique_titles len(additional_list) 0\n",
      "in request_more_unique_titles len(additional_list) 0\n",
      "in request_more_unique_titles len(additional_list) 0\n",
      "add list!! 0\n",
      "len(vocabulary_of_all_answers[qid]) < 1000 746\n",
      "len(vocabulary_of_all_answers[qid]) < 1000 1000\n",
      "query Which is more difficult, skiing or snowboarding?\n",
      "request_more_unique_titles Which is more difficult, skiing or snowboarding? 1000 773\n",
      "in request_more_unique_titles len(additional_list) 0\n",
      "in request_more_unique_titles len(additional_list) 0\n",
      "in request_more_unique_titles len(additional_list) 0\n",
      "in request_more_unique_titles len(additional_list) 0\n",
      "in request_more_unique_titles len(additional_list) 0\n",
      "in request_more_unique_titles len(additional_list) 0\n",
      "in request_more_unique_titles len(additional_list) 0\n",
      "in request_more_unique_titles len(additional_list) 0\n",
      "in request_more_unique_titles len(additional_list) 0\n",
      "in request_more_unique_titles len(additional_list) 0\n",
      "add list!! 0\n",
      "len(vocabulary_of_all_answers[qid]) < 1000 773\n",
      "len(vocabulary_of_all_answers[qid]) < 1000 1000\n",
      "query Why is basketball better than football?\n",
      "request_more_unique_titles Why is basketball better than football? 1000 802\n",
      "in request_more_unique_titles len(additional_list) 0\n",
      "in request_more_unique_titles len(additional_list) 0\n",
      "in request_more_unique_titles len(additional_list) 0\n",
      "in request_more_unique_titles len(additional_list) 0\n",
      "in request_more_unique_titles len(additional_list) 0\n",
      "in request_more_unique_titles len(additional_list) 0\n",
      "in request_more_unique_titles len(additional_list) 0\n",
      "in request_more_unique_titles len(additional_list) 0\n",
      "in request_more_unique_titles len(additional_list) 0\n",
      "in request_more_unique_titles len(additional_list) 0\n",
      "add list!! 0\n",
      "len(vocabulary_of_all_answers[qid]) < 1000 802\n",
      "len(vocabulary_of_all_answers[qid]) < 1000 1000\n",
      "query Who is stronger, Hulk or Superman?\n",
      "request_more_unique_titles Who is stronger, Hulk or Superman? 1000 451\n",
      "in request_more_unique_titles len(additional_list) 0\n",
      "in request_more_unique_titles len(additional_list) 0\n",
      "in request_more_unique_titles len(additional_list) 0\n",
      "in request_more_unique_titles len(additional_list) 0\n",
      "in request_more_unique_titles len(additional_list) 0\n",
      "in request_more_unique_titles len(additional_list) 0\n",
      "in request_more_unique_titles len(additional_list) 0\n",
      "in request_more_unique_titles len(additional_list) 0\n",
      "in request_more_unique_titles len(additional_list) 0\n",
      "in request_more_unique_titles len(additional_list) 0\n",
      "add list!! 0\n",
      "len(vocabulary_of_all_answers[qid]) < 1000 451\n",
      "len(vocabulary_of_all_answers[qid]) < 1000 514\n",
      "query Plastic pots or ceramic pots, which is better in terms of plant health?\n",
      "{'error': {'code': 500, 'message': 'An internal server error occurred. Please try again later.'}}\n",
      "rerequest Plastic pots or ceramic pots, which is better in terms of plant health?\n",
      "{'error': {'code': 500, 'message': 'An internal server error occurred. Please try again later.'}}\n",
      "rerequest Plastic pots or ceramic pots, which is better in terms of plant health?\n",
      "{'error': {'code': 500, 'message': 'An internal server error occurred. Please try again later.'}}\n",
      "rerequest Plastic pots or ceramic pots, which is better in terms of plant health?\n",
      "{'error': {'code': 500, 'message': 'An internal server error occurred. Please try again later.'}}\n",
      "rerequest Plastic pots or ceramic pots, which is better in terms of plant health?\n",
      "{'error': {'code': 500, 'message': 'An internal server error occurred. Please try again later.'}}\n",
      "rerequest Plastic pots or ceramic pots, which is better in terms of plant health?\n",
      "{'error': {'code': 500, 'message': 'An internal server error occurred. Please try again later.'}}\n",
      "rerequest Plastic pots or ceramic pots, which is better in terms of plant health?\n",
      "{'error': {'code': 500, 'message': 'An internal server error occurred. Please try again later.'}}\n",
      "rerequest Plastic pots or ceramic pots, which is better in terms of plant health?\n",
      "{'error': {'code': 500, 'message': 'An internal server error occurred. Please try again later.'}}\n",
      "rerequest Plastic pots or ceramic pots, which is better in terms of plant health?\n",
      "{'error': {'code': 500, 'message': 'An internal server error occurred. Please try again later.'}}\n",
      "rerequest Plastic pots or ceramic pots, which is better in terms of plant health?\n",
      "{'error': {'code': 500, 'message': 'An internal server error occurred. Please try again later.'}}\n",
      "rerequest Plastic pots or ceramic pots, which is better in terms of plant health?\n",
      "{'error': {'code': 500, 'message': 'An internal server error occurred. Please try again later.'}}\n",
      "rerequest Plastic pots or ceramic pots, which is better in terms of plant health?\n",
      "{'error': {'code': 500, 'message': 'An internal server error occurred. Please try again later.'}}\n",
      "rerequest Plastic pots or ceramic pots, which is better in terms of plant health?\n",
      "{'error': {'code': 500, 'message': 'An internal server error occurred. Please try again later.'}}\n",
      "rerequest Plastic pots or ceramic pots, which is better in terms of plant health?\n",
      "{'error': {'code': 500, 'message': 'An internal server error occurred. Please try again later.'}}\n",
      "rerequest Plastic pots or ceramic pots, which is better in terms of plant health?\n",
      "{'error': {'code': 500, 'message': 'An internal server error occurred. Please try again later.'}}\n",
      "rerequest Plastic pots or ceramic pots, which is better in terms of plant health?\n",
      "{'error': {'code': 500, 'message': 'An internal server error occurred. Please try again later.'}}\n",
      "rerequest Plastic pots or ceramic pots, which is better in terms of plant health?\n",
      "{'error': {'code': 500, 'message': 'An internal server error occurred. Please try again later.'}}\n",
      "rerequest Plastic pots or ceramic pots, which is better in terms of plant health?\n",
      "{'error': {'code': 500, 'message': 'An internal server error occurred. Please try again later.'}}\n",
      "rerequest Plastic pots or ceramic pots, which is better in terms of plant health?\n",
      "{'error': {'code': 500, 'message': 'An internal server error occurred. Please try again later.'}}\n",
      "rerequest Plastic pots or ceramic pots, which is better in terms of plant health?\n",
      "{'error': {'code': 500, 'message': 'An internal server error occurred. Please try again later.'}}\n",
      "rerequest Plastic pots or ceramic pots, which is better in terms of plant health?\n",
      "len my responses list 11\n"
     ]
    }
   ],
   "source": [
    "#custom request and preprocessing\n",
    "from help_response import create_list_of_unigue_answers, cleanhtml, clean_punct, read_xml\n",
    "\n",
    "my_response_list = create_list_of_unigue_answers(input_dir = '', input_file = 'topics-task2-51-100.xml')\n",
    "print (\"len my responses list\", len(my_response_list))"
   ]
  },
  {
   "cell_type": "code",
   "execution_count": null,
   "metadata": {},
   "outputs": [],
   "source": [
    "my_response_list1 = create_list_of_unigue_answers(input_dir = '', input_file = 'topics-task2-51-100.xml')\n",
    "print (\"len my responses list\", len(my_response_list))"
   ]
  },
  {
   "cell_type": "code",
   "execution_count": 12,
   "metadata": {},
   "outputs": [],
   "source": [
    "def make_a_search_request(query, size=1000):\n",
    "    # return json\n",
    "    # json will be processed further\n",
    "    params = {\n",
    "            \"apikey\": \"0833a307-97d3-462a-99d9-27db400c70da\",\n",
    "            \"query\": query,\n",
    "            \"index\": [\"cw12\"],\n",
    "            \"size\": size,\n",
    "            \"pretty\": True\n",
    "        }\n",
    "    response = requests.get(url = \"http://www.chatnoir.eu/api/v1/_search\", params = params)\n",
    "    return response"
   ]
  },
  {
   "cell_type": "code",
   "execution_count": null,
   "metadata": {},
   "outputs": [],
   "source": [
    "import requests\n",
    "make_a_search_request('What is better at reducing fever in children, Ibuprofen or Aspirin?').json()"
   ]
  },
  {
   "cell_type": "code",
   "execution_count": null,
   "metadata": {},
   "outputs": [],
   "source": [
    "import html\n",
    "for key in my_response_list.keys():\n",
    "    for elem in my_response_list[key]:\n",
    "        big_dict.update({elem[1]:html.unescape(elem[3])})"
   ]
  },
  {
   "cell_type": "markdown",
   "metadata": {},
   "source": [
    "**Create validation part - fron 90 to 100**"
   ]
  },
  {
   "cell_type": "code",
   "execution_count": 211,
   "metadata": {},
   "outputs": [
    {
     "name": "stdout",
     "output_type": "stream",
     "text": [
      "('91', 'When are random forest classifiers better than decision trees?')\n",
      "('92', 'What are the pros and cons of wood vs. stone mulch?')\n",
      "('93', 'Is rain water better than tap water for plants?')\n",
      "('94', 'Suitcases: hard or soft?')\n",
      "('95', 'Which is more environmentally friendly, a hybrid or a diesel?')\n",
      "('96', 'Which is healthier to wear, boxers or briefs?')\n",
      "('97', 'What is the difference between a blender vs a food processor?')\n",
      "('98', 'Which is better, rock or rap?')\n",
      "('99', 'Do you think imagination is better than knowledge?')\n",
      "('100', 'Should I learn Python or R for data analysis?')\n"
     ]
    }
   ],
   "source": [
    "import csv\n",
    "with open(\"/notebook/ColBERT/collections/touche21_queries_val.tsv\", \"w\") as csv_file:\n",
    "        writer = csv.writer(csv_file, delimiter='\\t')\n",
    "        for line in topics_2021[40:]:\n",
    "            print (line)\n",
    "            #print (type(line[0]))\n",
    "            writer.writerow(line)"
   ]
  },
  {
   "cell_type": "code",
   "execution_count": 157,
   "metadata": {},
   "outputs": [],
   "source": [
    "t2021_dict = {}\n",
    "for elem in topics_2021:\n",
    "    t2021_dict.update({elem[0]:elem[1]})\n",
    "    \n",
    "\n",
    "for elem in topics_2020:\n",
    "    t2021_dict.update({elem[0]:elem[1]})"
   ]
  },
  {
   "cell_type": "code",
   "execution_count": 209,
   "metadata": {},
   "outputs": [
    {
     "name": "stdout",
     "output_type": "stream",
     "text": [
      "4912\n",
      "100\n",
      "1000\n"
     ]
    },
    {
     "data": {
      "text/plain": [
       "49556"
      ]
     },
     "execution_count": 209,
     "metadata": {},
     "output_type": "execute_result"
    }
   ],
   "source": [
    "import html\n",
    "\n",
    "import pickle\n",
    "with open('list_of_un_answ_2021.pcl', 'rb') as f:\n",
    "        my_response_list = pickle.load(f)\n",
    "\n",
    "print (np.sum(np.array([len(my_response_list[key]) for key in my_response_list.keys()])))\n",
    "big_dict = {}\n",
    "for key in my_response_list.keys():\n",
    "    for elem in my_response_list[key]:\n",
    "        big_dict.update({elem[1]:html.unescape(elem[3])})\n",
    "\n",
    "print (len(my_response_list['56']))        \n",
    "        \n",
    "with open('list_of_un_answ_2020.pkl', 'rb') as f:\n",
    "        my_response_list = pickle.load(f)\n",
    "        \n",
    "for key in my_response_list.keys():\n",
    "    for elem in my_response_list[key]:\n",
    "        big_dict.update({elem[1]:html.unescape(elem[3])})\n",
    "        \n",
    "print (len(my_response_list['2'])) \n",
    "        \n",
    "len(big_dict)    "
   ]
  },
  {
   "cell_type": "code",
   "execution_count": 158,
   "metadata": {},
   "outputs": [
    {
     "data": {
      "text/plain": [
       "50"
      ]
     },
     "execution_count": 158,
     "metadata": {},
     "output_type": "execute_result"
    }
   ],
   "source": [
    "fails = 0\n",
    "for elem in topics_2021:\n",
    "    try:\n",
    "        a = big_dict[elem[0]]\n",
    "    except:\n",
    "        fails += 1\n",
    "    \n",
    "fails"
   ]
  },
  {
   "cell_type": "code",
   "execution_count": 169,
   "metadata": {},
   "outputs": [
    {
     "ename": "KeyError",
     "evalue": "'clueweb12-0000tw-14-21168'",
     "output_type": "error",
     "traceback": [
      "\u001b[0;31m\u001b[0m",
      "\u001b[0;31mKeyError\u001b[0mTraceback (most recent call last)",
      "\u001b[0;32m<ipython-input-169-1b483617aab2>\u001b[0m in \u001b[0;36m<module>\u001b[0;34m\u001b[0m\n\u001b[0;32m----> 1\u001b[0;31m \u001b[0mbig_dict\u001b[0m\u001b[0;34m[\u001b[0m\u001b[0;34m'clueweb12-0000tw-14-21168'\u001b[0m\u001b[0;34m]\u001b[0m\u001b[0;34m\u001b[0m\u001b[0;34m\u001b[0m\u001b[0m\n\u001b[0m",
      "\u001b[0;31mKeyError\u001b[0m: 'clueweb12-0000tw-14-21168'"
     ]
    }
   ],
   "source": [
    "big_dict['clueweb12-0000tw-14-21168']"
   ]
  },
  {
   "cell_type": "markdown",
   "metadata": {},
   "source": [
    "## Create a set of all topic ids"
   ]
  },
  {
   "cell_type": "code",
   "execution_count": null,
   "metadata": {},
   "outputs": [],
   "source": [
    "all_topics_set"
   ]
  },
  {
   "cell_type": "code",
   "execution_count": 126,
   "metadata": {},
   "outputs": [],
   "source": [
    "dict_rels = {}\n",
    "\n",
    "for elem in rel_query:\n",
    "    if (int(elem[0]) < 91):\n",
    "        dict_rels[elem[0]] ={}\n",
    "maxx = 0.0\n",
    "fails = 0\n",
    "for elem in rel_query:\n",
    "    if (int(elem[0]) < 91):\n",
    "        try:\n",
    "            dict_rels[elem[0]][elem[2]] = int(elem[3])\n",
    "            if (dict_rels[elem[0]][elem[2]] > maxx):\n",
    "                maxx = dict_rels[elem[0]][elem[2]]\n",
    "        except:\n",
    "            fails+=1\n",
    "            continue"
   ]
  },
  {
   "cell_type": "code",
   "execution_count": 129,
   "metadata": {},
   "outputs": [
    {
     "data": {
      "text/plain": [
       "4"
      ]
     },
     "execution_count": 129,
     "metadata": {},
     "output_type": "execute_result"
    }
   ],
   "source": [
    "maxx"
   ]
  },
  {
   "cell_type": "code",
   "execution_count": 128,
   "metadata": {},
   "outputs": [],
   "source": [
    "maxx = 0.0\n",
    "for elem in qual_query:\n",
    "    if (int(elem[0]) < 91):\n",
    "        try:\n",
    "            dict_rels[elem[0]][elem[2]] += int(elem[3])\n",
    "            if (dict_rels[elem[0]][elem[2]] > maxx):\n",
    "                maxx = dict_rels[elem[0]][elem[2]]\n",
    "        except:\n",
    "            fails+=1\n",
    "            continue"
   ]
  },
  {
   "cell_type": "markdown",
   "metadata": {},
   "source": [
    "## list of documents id"
   ]
  },
  {
   "cell_type": "code",
   "execution_count": 60,
   "metadata": {},
   "outputs": [],
   "source": [
    "thirds = [int(elem[3]) for elem in rel_query]"
   ]
  },
  {
   "cell_type": "code",
   "execution_count": 61,
   "metadata": {},
   "outputs": [
    {
     "data": {
      "text/plain": [
       "2"
      ]
     },
     "execution_count": 61,
     "metadata": {},
     "output_type": "execute_result"
    }
   ],
   "source": [
    "import numpy as np\n",
    "np.max(np.array(thirds))"
   ]
  },
  {
   "cell_type": "markdown",
   "metadata": {},
   "source": [
    "## Add 2020 year topics"
   ]
  },
  {
   "cell_type": "code",
   "execution_count": 35,
   "metadata": {},
   "outputs": [
    {
     "ename": "KeyError",
     "evalue": "'clueweb12-0000tw-14-21168__1'",
     "output_type": "error",
     "traceback": [
      "\u001b[0;31m\u001b[0m",
      "\u001b[0;31mKeyError\u001b[0mTraceback (most recent call last)",
      "\u001b[0;32m<ipython-input-35-45ba4abe99e0>\u001b[0m in \u001b[0;36m<module>\u001b[0;34m\u001b[0m\n\u001b[0;32m----> 1\u001b[0;31m \u001b[0mbig_dict\u001b[0m\u001b[0;34m[\u001b[0m\u001b[0;34m'clueweb12-0000tw-14-21168__1'\u001b[0m\u001b[0;34m]\u001b[0m\u001b[0;34m\u001b[0m\u001b[0;34m\u001b[0m\u001b[0m\n\u001b[0m",
      "\u001b[0;31mKeyError\u001b[0m: 'clueweb12-0000tw-14-21168__1'"
     ]
    }
   ],
   "source": [
    "big_dict['clueweb12-0000tw-14-21168__1']"
   ]
  },
  {
   "cell_type": "code",
   "execution_count": 130,
   "metadata": {},
   "outputs": [],
   "source": [
    "rel_query20 = []\n",
    "with open('touche2020-task2-relevance-withbaseline.qrels', 'r') as fp:\n",
    "    Lines = fp.readlines()\n",
    "    for line in Lines:\n",
    "      # The line below may need to be changed based on the type of data in the qrel file\n",
    "      rel_query20.append(line.split())"
   ]
  },
  {
   "cell_type": "code",
   "execution_count": 166,
   "metadata": {},
   "outputs": [
    {
     "data": {
      "text/plain": [
       "[['54', '0', 'clueweb12-0205wb-64-11095', '0'],\n",
       " ['54', '0', 'clueweb12-0501wb-64-06459', '1'],\n",
       " ['54', '0', 'clueweb12-0207wb-30-15337', '2'],\n",
       " ['54', '0', 'clueweb12-0906wb-38-27123', '2'],\n",
       " ['54', '0', 'clueweb12-0907wb-55-11510', '1'],\n",
       " ['54', '0', 'clueweb12-0207wb-04-07438', '2'],\n",
       " ['54', '0', 'clueweb12-0906wb-38-27122', '1'],\n",
       " ['54', '0', 'clueweb12-0100tw-32-11180', '2'],\n",
       " ['54', '0', 'clueweb12-1104wb-00-11207', '1'],\n",
       " ['54', '0', 'clueweb12-0205wb-64-11110', '2'],\n",
       " ['54', '0', 'clueweb12-0901tw-08-02614', '1'],\n",
       " ['54', '0', 'clueweb12-1900tw-56-19024', '1'],\n",
       " ['54', '0', 'clueweb12-1500wb-27-28366', '1'],\n",
       " ['54', '0', 'clueweb12-0408wb-28-26620', '2'],\n",
       " ['54', '0', 'clueweb12-1614wb-95-19726', '1'],\n",
       " ['54', '0', 'clueweb12-0510wb-61-21259', '2'],\n",
       " ['54', '0', 'clueweb12-0207wb-04-07436', '2'],\n",
       " ['54', '0', 'clueweb12-0704wb-39-05532', '1'],\n",
       " ['54', '0', 'clueweb12-1200tw-35-15476', '2'],\n",
       " ['54', '0', 'clueweb12-0001wb-41-32252', '2']]"
      ]
     },
     "execution_count": 166,
     "metadata": {},
     "output_type": "execute_result"
    }
   ],
   "source": [
    "qual_query[:20]"
   ]
  },
  {
   "cell_type": "code",
   "execution_count": 183,
   "metadata": {},
   "outputs": [],
   "source": [
    "dict_rels = {}\n",
    "\n",
    "maxx = 0\n",
    "fails = 0\n",
    "tries = 0\n",
    "for elem in qual_query:\n",
    "    dict_rels[elem[0]] ={}\n",
    "\n",
    "for elem in qual_query:\n",
    "    if (int(elem[0]) < 91):\n",
    "        try:\n",
    "            tries += 1\n",
    "            a = big_dict[elem[2]]\n",
    "            try:\n",
    "                dict_rels[elem[0]][elem[2]] = int(elem[3])*2\n",
    "                if (dict_rels[elem[0]][elem[2]] > maxx):\n",
    "                    maxx = dict_rels[elem[0]][elem[2]]\n",
    "            except:\n",
    "                continue          \n",
    "        except:\n",
    "            fails += 1"
   ]
  },
  {
   "cell_type": "code",
   "execution_count": 184,
   "metadata": {},
   "outputs": [
    {
     "name": "stdout",
     "output_type": "stream",
     "text": [
      "1632 531\n"
     ]
    }
   ],
   "source": [
    "print (tries, fails)"
   ]
  },
  {
   "cell_type": "code",
   "execution_count": 185,
   "metadata": {},
   "outputs": [],
   "source": [
    "maxx = 0\n",
    "fails = 0\n",
    "tries = 0\n",
    "for elem in rel_query20:\n",
    "    dict_rels[elem[0]] ={}\n",
    "\n",
    "for elem in rel_query20:\n",
    "    if (int(elem[0]) < 91):\n",
    "        try:\n",
    "            tries += 1\n",
    "            a = big_dict[elem[2]]\n",
    "            try:\n",
    "                dict_rels[elem[0]][elem[2]] = int(elem[3])*2\n",
    "                if (dict_rels[elem[0]][elem[2]] > maxx):\n",
    "                    maxx = dict_rels[elem[0]][elem[2]]\n",
    "            except:\n",
    "                continue           \n",
    "        except:\n",
    "            fails += 1"
   ]
  },
  {
   "cell_type": "code",
   "execution_count": 186,
   "metadata": {},
   "outputs": [
    {
     "name": "stdout",
     "output_type": "stream",
     "text": [
      "1783 298\n"
     ]
    }
   ],
   "source": [
    "print (tries, fails)"
   ]
  },
  {
   "cell_type": "code",
   "execution_count": 151,
   "metadata": {},
   "outputs": [
    {
     "data": {
      "text/plain": [
       "1778"
      ]
     },
     "execution_count": 151,
     "metadata": {},
     "output_type": "execute_result"
    }
   ],
   "source": [
    "fails"
   ]
  },
  {
   "cell_type": "code",
   "execution_count": 187,
   "metadata": {},
   "outputs": [],
   "source": [
    "def split_to_rel_unrel(dct, all_topics_set):\n",
    "    relevant = [k for k, v in dct.items() if v >= 2]\n",
    "    unrelevant = [k for k, v in dct.items() if v < 2]\n",
    "    while (len(relevant) > len(unrelevant)):\n",
    "        unrel_cand = all_topics_set.pop()\n",
    "        if (unrel_cand not in dct.keys()):\n",
    "            unrelevant.append(unrel_cand)\n",
    "    while (len(relevant) < len(unrelevant)):\n",
    "        relevant.append(relevant[0])\n",
    "    return relevant, unrelevant\n",
    "        "
   ]
  },
  {
   "cell_type": "code",
   "execution_count": 188,
   "metadata": {},
   "outputs": [
    {
     "data": {
      "text/plain": [
       "(['clueweb12-0602wb-96-07365',\n",
       "  'clueweb12-0607wb-15-00350',\n",
       "  'clueweb12-1714wb-35-25150',\n",
       "  'clueweb12-0713wb-38-13773',\n",
       "  'clueweb12-0100tw-74-09753',\n",
       "  'clueweb12-0509wb-89-02848',\n",
       "  'clueweb12-0602wb-53-07322',\n",
       "  'clueweb12-1717wb-42-20197',\n",
       "  'clueweb12-1306wb-00-08922',\n",
       "  'clueweb12-0111wb-51-26137',\n",
       "  'clueweb12-0201wb-23-01936',\n",
       "  'clueweb12-1100tw-28-16509',\n",
       "  'clueweb12-0602wb-58-24867',\n",
       "  'clueweb12-1020wb-66-06020',\n",
       "  'clueweb12-1717wb-39-02540',\n",
       "  'clueweb12-0011wb-86-27544',\n",
       "  'clueweb12-1306wb-44-27172',\n",
       "  'clueweb12-0200wb-51-13773',\n",
       "  'clueweb12-0204wb-50-08373',\n",
       "  'clueweb12-0406wb-68-15515'],\n",
       " ['clueweb12-0714wb-51-05387',\n",
       "  'clueweb12-0700tw-70-20539',\n",
       "  'clueweb12-0510wb-65-20526',\n",
       "  'clueweb12-0001wb-27-24605',\n",
       "  'clueweb12-1306wb-09-00836',\n",
       "  'clueweb12-0709wb-85-11475',\n",
       "  'clueweb12-0508wb-75-27785',\n",
       "  'clueweb12-1006wb-02-18987',\n",
       "  'clueweb12-1019wb-55-18070',\n",
       "  'clueweb12-0201wb-47-24560',\n",
       "  'clueweb12-0205wb-50-25169',\n",
       "  'clueweb12-0309wb-63-09055',\n",
       "  'clueweb12-0508wb-29-21600',\n",
       "  'clueweb12-0102wb-34-14794',\n",
       "  'clueweb12-1500wb-13-18052',\n",
       "  'clueweb12-0712wb-18-23309',\n",
       "  'clueweb12-0506wb-56-12903',\n",
       "  'clueweb12-0814wb-86-21373',\n",
       "  'clueweb12-0410wb-04-18184',\n",
       "  'clueweb12-1408wb-32-31338'])"
      ]
     },
     "execution_count": 188,
     "metadata": {},
     "output_type": "execute_result"
    }
   ],
   "source": [
    "split_to_rel_unrel(dict_rels['7'], set(big_dict.keys()))"
   ]
  },
  {
   "cell_type": "code",
   "execution_count": 189,
   "metadata": {},
   "outputs": [],
   "source": [
    "list_of_pass = []\n",
    "fails = 0\n",
    "for key in list(dict_rels.keys()):\n",
    "    topic = t2021_dict[key]\n",
    "    try:\n",
    "        relevant, unrelevant = split_to_rel_unrel(dict_rels[key], set(big_dict.keys()))\n",
    "    except:\n",
    "        print (key)\n",
    "    for ind, elem in enumerate(relevant):\n",
    "        try:\n",
    "            list_of_pass.append((topic, big_dict[relevant[ind]], big_dict[unrelevant[ind]]))\n",
    "        except:\n",
    "            fails+=1\n",
    "            continue\n",
    "        "
   ]
  },
  {
   "cell_type": "code",
   "execution_count": 190,
   "metadata": {},
   "outputs": [
    {
     "data": {
      "text/plain": [
       "1860"
      ]
     },
     "execution_count": 190,
     "metadata": {},
     "output_type": "execute_result"
    }
   ],
   "source": [
    "len(list_of_pass)"
   ]
  },
  {
   "cell_type": "code",
   "execution_count": 191,
   "metadata": {},
   "outputs": [
    {
     "data": {
      "text/plain": [
       "[('Is morning or afternoon sun the best for fruit trees?',\n",
       "  'mike: i have a vegetable garden, but not much sun. i get tomatoes and eggplants but the yield is low and late, although herbs do well. can you recommend vegetable or fruit plants that require less light? i get maybe five hours a day in the best spots.',\n",
       "  'this letter is in response to the letter (by barbara bohl) in last week\\'s sun entitled \"ridiculous contract.\" the contract with colorado management associates is probably one of the best contracts that plpoa ever signed. i became treasurer of plpoa in mid december 1998.'),\n",
       " ('Is morning or afternoon sun the best for fruit trees?',\n",
       "  'however, you also want to avoid being near the tallest objects, which serve as lightning rods. getting under a lone tree or small group of trees in an opening is dangerous. being near a single tall tree or group of tall trees in a forest is dangerous.',\n",
       "  \"a big change after sun and heat for weeks! * the best food & restaurants in san pedro belize 2011. * carnaval in san pedro: dancing and lots & lots of paint expat's around the world funny or interesting to me + the friendliest people i've ever met, really: ken... + getting married in belize!\"),\n",
       " ('Is morning or afternoon sun the best for fruit trees?',\n",
       "  'a-type flowers shed pollen in the afternoon, b-type flowers shed pollen in the morning. there are different theories about avocado pollination, but recent research seems to demonstrate that self-pollination is the norm, meaning that only one tree is necessary for fruit production.',\n",
       "  'the circle (like a ring) is a glyph for the sun and was the symbol of ra, the infinite one, the monotheistic deity. other cultures modified the glyph, such as adding a dot or a smaller circle within. the name for the physical sun or celestial orb was kin, often represented as an eight-rayed sun.'),\n",
       " ('Is morning or afternoon sun the best for fruit trees?',\n",
       "  'anomaly watch: nova scotia goes to the polls today update, 14 june, morning and again in the afternoon: the cbc link (first one below) has been updated with early vote count results, which suggest the tories will retain their plurality in the assembly, 23 seats, or a loss of two.',\n",
       "  \"the iphone 4 is apple's thinnest smartphone yet, but offers a much better screen, faster processor, video calling, and many other enhancements.\")]"
      ]
     },
     "execution_count": 191,
     "metadata": {},
     "output_type": "execute_result"
    }
   ],
   "source": [
    "list_of_pass[:4]"
   ]
  },
  {
   "cell_type": "code",
   "execution_count": 199,
   "metadata": {},
   "outputs": [],
   "source": [
    "import csv\n",
    "\n",
    "label_file = \"triples.train.small.tsv\"\n",
    "\n",
    "with open(\"triples.train.small.tsv\", 'w', newline='') as f_output:\n",
    "    tsv_output = csv.writer(f_output, delimiter='\\t')\n",
    "    for elem in list_of_pass:\n",
    "        tsv_output.writerow(elem)"
   ]
  },
  {
   "cell_type": "code",
   "execution_count": 202,
   "metadata": {},
   "outputs": [
    {
     "data": {
      "text/plain": [
       "{'error': {'code': 401, 'message': 'API key has expired'}}"
      ]
     },
     "execution_count": 202,
     "metadata": {},
     "output_type": "execute_result"
    }
   ],
   "source": [
    "import requests\n",
    "pms = {\n",
    "    \"apikey\": \"0833a307-97d3-462a-99d9-27db400c70da\",\n",
    "    \"query\": \"Is morning or afternoon sun the best for fruit trees?\",\n",
    "    \"index\": [\"cw12\"],\n",
    "    \"size\": 1,\n",
    "    \"pretty\": True\n",
    "}\n",
    "\n",
    "response = requests.get(url = \"http://www.chatnoir.eu/api/v1/_search\", params = pms)\n",
    "response.json()"
   ]
  },
  {
   "cell_type": "code",
   "execution_count": null,
   "metadata": {},
   "outputs": [],
   "source": []
  }
 ],
 "metadata": {
  "kernelspec": {
   "display_name": "Python 3",
   "language": "python",
   "name": "python3"
  },
  "language_info": {
   "codemirror_mode": {
    "name": "ipython",
    "version": 3
   },
   "file_extension": ".py",
   "mimetype": "text/x-python",
   "name": "python",
   "nbconvert_exporter": "python",
   "pygments_lexer": "ipython3",
   "version": "3.7.4"
  }
 },
 "nbformat": 4,
 "nbformat_minor": 4
}
